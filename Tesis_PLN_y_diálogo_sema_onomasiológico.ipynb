{
  "nbformat": 4,
  "nbformat_minor": 0,
  "metadata": {
    "colab": {
      "provenance": [],
      "collapsed_sections": [
        "lVQjaS202W5z",
        "11rf42Ox2ayW",
        "E8fXmUFM5OmO",
        "oYnj31Yk5RVA",
        "ebiN9oQs5nUs",
        "WF7UiqgV7EVN",
        "8O7JR-my2gqi",
        "T6QeFJLx-yyi",
        "IJj9ZDWFSf5E",
        "HyZVchx7UPhu"
      ],
      "toc_visible": true
    },
    "kernelspec": {
      "name": "python3",
      "display_name": "Python 3"
    },
    "language_info": {
      "name": "python"
    }
  },
  "cells": [
    {
      "cell_type": "markdown",
      "source": [
        "# Librerías"
      ],
      "metadata": {
        "id": "lVQjaS202W5z"
      }
    },
    {
      "cell_type": "markdown",
      "source": [
        "> *En hombros de gigantes*\n",
        "\n",
        "Las librerías son bibliotecas. Un compendio de muchas líneas de código. Para que el programa funcione sólo se necesitan dos: pandas y spacy. Para que funcione mejor se requiere esta lista:"
      ],
      "metadata": {
        "id": "LAyGJ8qg3pLq"
      }
    },
    {
      "cell_type": "code",
      "source": [
        "# INSTALACIÓN DE LIBRERÍAS\n",
        "\n",
        "# Evitar problemas en Google Colab con spaCy\n",
        "!pip install -U blis\n",
        "# Instalando spaCy en Google Colab\n",
        "!pip install -U pip setuptools wheel\n",
        "!pip install -U spacy\n",
        "# Usar modelo largo en español\n",
        "!python -m spacy download es_core_news_lg"
      ],
      "metadata": {
        "colab": {
          "base_uri": "https://localhost:8080/"
        },
        "id": "AZ5QGz832vy1",
        "outputId": "410aa8e1-7b0f-42b1-ec99-a9bd6f0d45c1"
      },
      "execution_count": null,
      "outputs": [
        {
          "output_type": "stream",
          "name": "stdout",
          "text": [
            "Looking in indexes: https://pypi.org/simple, https://us-python.pkg.dev/colab-wheels/public/simple/\n",
            "Requirement already satisfied: blis in /usr/local/lib/python3.7/dist-packages (0.7.9)\n",
            "Collecting blis\n",
            "  Downloading blis-0.9.1-cp37-cp37m-manylinux_2_17_x86_64.manylinux2014_x86_64.whl (7.8 MB)\n",
            "\u001b[K     |████████████████████████████████| 7.8 MB 4.0 MB/s \n",
            "\u001b[?25hRequirement already satisfied: numpy>=1.15.0 in /usr/local/lib/python3.7/dist-packages (from blis) (1.21.6)\n",
            "Installing collected packages: blis\n",
            "  Attempting uninstall: blis\n",
            "    Found existing installation: blis 0.7.9\n",
            "    Uninstalling blis-0.7.9:\n",
            "      Successfully uninstalled blis-0.7.9\n",
            "\u001b[31mERROR: pip's dependency resolver does not currently take into account all the packages that are installed. This behaviour is the source of the following dependency conflicts.\n",
            "thinc 8.1.5 requires blis<0.8.0,>=0.7.8, but you have blis 0.9.1 which is incompatible.\u001b[0m\n",
            "Successfully installed blis-0.9.1\n",
            "Looking in indexes: https://pypi.org/simple, https://us-python.pkg.dev/colab-wheels/public/simple/\n",
            "Requirement already satisfied: pip in /usr/local/lib/python3.7/dist-packages (21.1.3)\n",
            "Collecting pip\n",
            "  Downloading pip-22.3-py3-none-any.whl (2.1 MB)\n",
            "\u001b[K     |████████████████████████████████| 2.1 MB 4.6 MB/s \n",
            "\u001b[?25hRequirement already satisfied: setuptools in /usr/local/lib/python3.7/dist-packages (57.4.0)\n",
            "Collecting setuptools\n",
            "  Downloading setuptools-65.5.0-py3-none-any.whl (1.2 MB)\n",
            "\u001b[K     |████████████████████████████████| 1.2 MB 43.5 MB/s \n",
            "\u001b[?25hRequirement already satisfied: wheel in /usr/local/lib/python3.7/dist-packages (0.37.1)\n",
            "Installing collected packages: setuptools, pip\n",
            "  Attempting uninstall: setuptools\n",
            "    Found existing installation: setuptools 57.4.0\n",
            "    Uninstalling setuptools-57.4.0:\n",
            "      Successfully uninstalled setuptools-57.4.0\n",
            "  Attempting uninstall: pip\n",
            "    Found existing installation: pip 21.1.3\n",
            "    Uninstalling pip-21.1.3:\n",
            "      Successfully uninstalled pip-21.1.3\n",
            "\u001b[31mERROR: pip's dependency resolver does not currently take into account all the packages that are installed. This behaviour is the source of the following dependency conflicts.\n",
            "ipython 7.9.0 requires jedi>=0.10, which is not installed.\n",
            "thinc 8.1.5 requires blis<0.8.0,>=0.7.8, but you have blis 0.9.1 which is incompatible.\u001b[0m\n",
            "Successfully installed pip-22.3 setuptools-65.5.0\n"
          ]
        },
        {
          "output_type": "display_data",
          "data": {
            "application/vnd.colab-display-data+json": {
              "pip_warning": {
                "packages": [
                  "pkg_resources"
                ]
              }
            }
          },
          "metadata": {}
        },
        {
          "output_type": "stream",
          "name": "stdout",
          "text": [
            "Looking in indexes: https://pypi.org/simple, https://us-python.pkg.dev/colab-wheels/public/simple/\n",
            "Requirement already satisfied: spacy in /usr/local/lib/python3.7/dist-packages (3.4.2)\n",
            "Requirement already satisfied: langcodes<4.0.0,>=3.2.0 in /usr/local/lib/python3.7/dist-packages (from spacy) (3.3.0)\n",
            "Requirement already satisfied: spacy-loggers<2.0.0,>=1.0.0 in /usr/local/lib/python3.7/dist-packages (from spacy) (1.0.3)\n",
            "Requirement already satisfied: typer<0.5.0,>=0.3.0 in /usr/local/lib/python3.7/dist-packages (from spacy) (0.4.2)\n",
            "Requirement already satisfied: catalogue<2.1.0,>=2.0.6 in /usr/local/lib/python3.7/dist-packages (from spacy) (2.0.8)\n",
            "Requirement already satisfied: pydantic!=1.8,!=1.8.1,<1.11.0,>=1.7.4 in /usr/local/lib/python3.7/dist-packages (from spacy) (1.10.2)\n",
            "Requirement already satisfied: cymem<2.1.0,>=2.0.2 in /usr/local/lib/python3.7/dist-packages (from spacy) (2.0.7)\n",
            "Requirement already satisfied: spacy-legacy<3.1.0,>=3.0.10 in /usr/local/lib/python3.7/dist-packages (from spacy) (3.0.10)\n",
            "Requirement already satisfied: wasabi<1.1.0,>=0.9.1 in /usr/local/lib/python3.7/dist-packages (from spacy) (0.10.1)\n",
            "Requirement already satisfied: requests<3.0.0,>=2.13.0 in /usr/local/lib/python3.7/dist-packages (from spacy) (2.23.0)\n",
            "Requirement already satisfied: preshed<3.1.0,>=3.0.2 in /usr/local/lib/python3.7/dist-packages (from spacy) (3.0.8)\n",
            "Requirement already satisfied: jinja2 in /usr/local/lib/python3.7/dist-packages (from spacy) (2.11.3)\n",
            "Requirement already satisfied: murmurhash<1.1.0,>=0.28.0 in /usr/local/lib/python3.7/dist-packages (from spacy) (1.0.9)\n",
            "Requirement already satisfied: thinc<8.2.0,>=8.1.0 in /usr/local/lib/python3.7/dist-packages (from spacy) (8.1.5)\n",
            "Requirement already satisfied: tqdm<5.0.0,>=4.38.0 in /usr/local/lib/python3.7/dist-packages (from spacy) (4.64.1)\n",
            "Requirement already satisfied: packaging>=20.0 in /usr/local/lib/python3.7/dist-packages (from spacy) (21.3)\n",
            "Requirement already satisfied: typing-extensions<4.2.0,>=3.7.4 in /usr/local/lib/python3.7/dist-packages (from spacy) (4.1.1)\n",
            "Requirement already satisfied: srsly<3.0.0,>=2.4.3 in /usr/local/lib/python3.7/dist-packages (from spacy) (2.4.5)\n",
            "Requirement already satisfied: numpy>=1.15.0 in /usr/local/lib/python3.7/dist-packages (from spacy) (1.21.6)\n",
            "Requirement already satisfied: pathy>=0.3.5 in /usr/local/lib/python3.7/dist-packages (from spacy) (0.6.2)\n",
            "Requirement already satisfied: setuptools in /usr/local/lib/python3.7/dist-packages (from spacy) (65.5.0)\n",
            "Requirement already satisfied: zipp>=0.5 in /usr/local/lib/python3.7/dist-packages (from catalogue<2.1.0,>=2.0.6->spacy) (3.9.0)\n",
            "Requirement already satisfied: pyparsing!=3.0.5,>=2.0.2 in /usr/local/lib/python3.7/dist-packages (from packaging>=20.0->spacy) (3.0.9)\n",
            "Requirement already satisfied: smart-open<6.0.0,>=5.2.1 in /usr/local/lib/python3.7/dist-packages (from pathy>=0.3.5->spacy) (5.2.1)\n",
            "Requirement already satisfied: idna<3,>=2.5 in /usr/local/lib/python3.7/dist-packages (from requests<3.0.0,>=2.13.0->spacy) (2.10)\n",
            "Requirement already satisfied: urllib3!=1.25.0,!=1.25.1,<1.26,>=1.21.1 in /usr/local/lib/python3.7/dist-packages (from requests<3.0.0,>=2.13.0->spacy) (1.24.3)\n",
            "Requirement already satisfied: certifi>=2017.4.17 in /usr/local/lib/python3.7/dist-packages (from requests<3.0.0,>=2.13.0->spacy) (2022.9.24)\n",
            "Requirement already satisfied: chardet<4,>=3.0.2 in /usr/local/lib/python3.7/dist-packages (from requests<3.0.0,>=2.13.0->spacy) (3.0.4)\n",
            "Collecting blis<0.8.0,>=0.7.8\n",
            "  Downloading blis-0.7.9-cp37-cp37m-manylinux_2_17_x86_64.manylinux2014_x86_64.whl (10.2 MB)\n",
            "\u001b[2K     \u001b[90m━━━━━━━━━━━━━━━━━━━━━━━━━━━━━━━━━━━━━━━━\u001b[0m \u001b[32m10.2/10.2 MB\u001b[0m \u001b[31m48.7 MB/s\u001b[0m eta \u001b[36m0:00:00\u001b[0m\n",
            "\u001b[?25hRequirement already satisfied: confection<1.0.0,>=0.0.1 in /usr/local/lib/python3.7/dist-packages (from thinc<8.2.0,>=8.1.0->spacy) (0.0.3)\n",
            "Requirement already satisfied: click<9.0.0,>=7.1.1 in /usr/local/lib/python3.7/dist-packages (from typer<0.5.0,>=0.3.0->spacy) (7.1.2)\n",
            "Requirement already satisfied: MarkupSafe>=0.23 in /usr/local/lib/python3.7/dist-packages (from jinja2->spacy) (2.0.1)\n",
            "Installing collected packages: blis\n",
            "  Attempting uninstall: blis\n",
            "    Found existing installation: blis 0.9.1\n",
            "    Uninstalling blis-0.9.1:\n",
            "      Successfully uninstalled blis-0.9.1\n",
            "Successfully installed blis-0.7.9\n",
            "\u001b[33mWARNING: Running pip as the 'root' user can result in broken permissions and conflicting behaviour with the system package manager. It is recommended to use a virtual environment instead: https://pip.pypa.io/warnings/venv\u001b[0m\u001b[33m\n",
            "\u001b[0m2022-10-26 17:09:47.626857: E tensorflow/stream_executor/cuda/cuda_driver.cc:271] failed call to cuInit: CUDA_ERROR_NO_DEVICE: no CUDA-capable device is detected\n",
            "Looking in indexes: https://pypi.org/simple, https://us-python.pkg.dev/colab-wheels/public/simple/\n",
            "Collecting es-core-news-lg==3.4.0\n",
            "  Downloading https://github.com/explosion/spacy-models/releases/download/es_core_news_lg-3.4.0/es_core_news_lg-3.4.0-py3-none-any.whl (568.0 MB)\n",
            "\u001b[2K     \u001b[90m━━━━━━━━━━━━━━━━━━━━━━━━━━━━━━━━━━━━━━━\u001b[0m \u001b[32m568.0/568.0 MB\u001b[0m \u001b[31m2.2 MB/s\u001b[0m eta \u001b[36m0:00:00\u001b[0m\n",
            "\u001b[?25hRequirement already satisfied: spacy<3.5.0,>=3.4.0 in /usr/local/lib/python3.7/dist-packages (from es-core-news-lg==3.4.0) (3.4.2)\n",
            "Requirement already satisfied: typer<0.5.0,>=0.3.0 in /usr/local/lib/python3.7/dist-packages (from spacy<3.5.0,>=3.4.0->es-core-news-lg==3.4.0) (0.4.2)\n",
            "Requirement already satisfied: wasabi<1.1.0,>=0.9.1 in /usr/local/lib/python3.7/dist-packages (from spacy<3.5.0,>=3.4.0->es-core-news-lg==3.4.0) (0.10.1)\n",
            "Requirement already satisfied: setuptools in /usr/local/lib/python3.7/dist-packages (from spacy<3.5.0,>=3.4.0->es-core-news-lg==3.4.0) (65.5.0)\n",
            "Requirement already satisfied: cymem<2.1.0,>=2.0.2 in /usr/local/lib/python3.7/dist-packages (from spacy<3.5.0,>=3.4.0->es-core-news-lg==3.4.0) (2.0.7)\n",
            "Requirement already satisfied: srsly<3.0.0,>=2.4.3 in /usr/local/lib/python3.7/dist-packages (from spacy<3.5.0,>=3.4.0->es-core-news-lg==3.4.0) (2.4.5)\n",
            "Requirement already satisfied: langcodes<4.0.0,>=3.2.0 in /usr/local/lib/python3.7/dist-packages (from spacy<3.5.0,>=3.4.0->es-core-news-lg==3.4.0) (3.3.0)\n",
            "Requirement already satisfied: catalogue<2.1.0,>=2.0.6 in /usr/local/lib/python3.7/dist-packages (from spacy<3.5.0,>=3.4.0->es-core-news-lg==3.4.0) (2.0.8)\n",
            "Requirement already satisfied: packaging>=20.0 in /usr/local/lib/python3.7/dist-packages (from spacy<3.5.0,>=3.4.0->es-core-news-lg==3.4.0) (21.3)\n",
            "Requirement already satisfied: thinc<8.2.0,>=8.1.0 in /usr/local/lib/python3.7/dist-packages (from spacy<3.5.0,>=3.4.0->es-core-news-lg==3.4.0) (8.1.5)\n",
            "Requirement already satisfied: spacy-loggers<2.0.0,>=1.0.0 in /usr/local/lib/python3.7/dist-packages (from spacy<3.5.0,>=3.4.0->es-core-news-lg==3.4.0) (1.0.3)\n",
            "Requirement already satisfied: pydantic!=1.8,!=1.8.1,<1.11.0,>=1.7.4 in /usr/local/lib/python3.7/dist-packages (from spacy<3.5.0,>=3.4.0->es-core-news-lg==3.4.0) (1.10.2)\n",
            "Requirement already satisfied: jinja2 in /usr/local/lib/python3.7/dist-packages (from spacy<3.5.0,>=3.4.0->es-core-news-lg==3.4.0) (2.11.3)\n",
            "Requirement already satisfied: numpy>=1.15.0 in /usr/local/lib/python3.7/dist-packages (from spacy<3.5.0,>=3.4.0->es-core-news-lg==3.4.0) (1.21.6)\n",
            "Requirement already satisfied: murmurhash<1.1.0,>=0.28.0 in /usr/local/lib/python3.7/dist-packages (from spacy<3.5.0,>=3.4.0->es-core-news-lg==3.4.0) (1.0.9)\n",
            "Requirement already satisfied: typing-extensions<4.2.0,>=3.7.4 in /usr/local/lib/python3.7/dist-packages (from spacy<3.5.0,>=3.4.0->es-core-news-lg==3.4.0) (4.1.1)\n",
            "Requirement already satisfied: requests<3.0.0,>=2.13.0 in /usr/local/lib/python3.7/dist-packages (from spacy<3.5.0,>=3.4.0->es-core-news-lg==3.4.0) (2.23.0)\n",
            "Requirement already satisfied: tqdm<5.0.0,>=4.38.0 in /usr/local/lib/python3.7/dist-packages (from spacy<3.5.0,>=3.4.0->es-core-news-lg==3.4.0) (4.64.1)\n",
            "Requirement already satisfied: pathy>=0.3.5 in /usr/local/lib/python3.7/dist-packages (from spacy<3.5.0,>=3.4.0->es-core-news-lg==3.4.0) (0.6.2)\n",
            "Requirement already satisfied: preshed<3.1.0,>=3.0.2 in /usr/local/lib/python3.7/dist-packages (from spacy<3.5.0,>=3.4.0->es-core-news-lg==3.4.0) (3.0.8)\n",
            "Requirement already satisfied: spacy-legacy<3.1.0,>=3.0.10 in /usr/local/lib/python3.7/dist-packages (from spacy<3.5.0,>=3.4.0->es-core-news-lg==3.4.0) (3.0.10)\n",
            "Requirement already satisfied: zipp>=0.5 in /usr/local/lib/python3.7/dist-packages (from catalogue<2.1.0,>=2.0.6->spacy<3.5.0,>=3.4.0->es-core-news-lg==3.4.0) (3.9.0)\n",
            "Requirement already satisfied: pyparsing!=3.0.5,>=2.0.2 in /usr/local/lib/python3.7/dist-packages (from packaging>=20.0->spacy<3.5.0,>=3.4.0->es-core-news-lg==3.4.0) (3.0.9)\n",
            "Requirement already satisfied: smart-open<6.0.0,>=5.2.1 in /usr/local/lib/python3.7/dist-packages (from pathy>=0.3.5->spacy<3.5.0,>=3.4.0->es-core-news-lg==3.4.0) (5.2.1)\n",
            "Requirement already satisfied: chardet<4,>=3.0.2 in /usr/local/lib/python3.7/dist-packages (from requests<3.0.0,>=2.13.0->spacy<3.5.0,>=3.4.0->es-core-news-lg==3.4.0) (3.0.4)\n",
            "Requirement already satisfied: certifi>=2017.4.17 in /usr/local/lib/python3.7/dist-packages (from requests<3.0.0,>=2.13.0->spacy<3.5.0,>=3.4.0->es-core-news-lg==3.4.0) (2022.9.24)\n",
            "Requirement already satisfied: urllib3!=1.25.0,!=1.25.1,<1.26,>=1.21.1 in /usr/local/lib/python3.7/dist-packages (from requests<3.0.0,>=2.13.0->spacy<3.5.0,>=3.4.0->es-core-news-lg==3.4.0) (1.24.3)\n",
            "Requirement already satisfied: idna<3,>=2.5 in /usr/local/lib/python3.7/dist-packages (from requests<3.0.0,>=2.13.0->spacy<3.5.0,>=3.4.0->es-core-news-lg==3.4.0) (2.10)\n",
            "Requirement already satisfied: blis<0.8.0,>=0.7.8 in /usr/local/lib/python3.7/dist-packages (from thinc<8.2.0,>=8.1.0->spacy<3.5.0,>=3.4.0->es-core-news-lg==3.4.0) (0.7.9)\n",
            "Requirement already satisfied: confection<1.0.0,>=0.0.1 in /usr/local/lib/python3.7/dist-packages (from thinc<8.2.0,>=8.1.0->spacy<3.5.0,>=3.4.0->es-core-news-lg==3.4.0) (0.0.3)\n",
            "Requirement already satisfied: click<9.0.0,>=7.1.1 in /usr/local/lib/python3.7/dist-packages (from typer<0.5.0,>=0.3.0->spacy<3.5.0,>=3.4.0->es-core-news-lg==3.4.0) (7.1.2)\n",
            "Requirement already satisfied: MarkupSafe>=0.23 in /usr/local/lib/python3.7/dist-packages (from jinja2->spacy<3.5.0,>=3.4.0->es-core-news-lg==3.4.0) (2.0.1)\n",
            "Installing collected packages: es-core-news-lg\n",
            "Successfully installed es-core-news-lg-3.4.0\n",
            "\u001b[33mWARNING: Running pip as the 'root' user can result in broken permissions and conflicting behaviour with the system package manager. It is recommended to use a virtual environment instead: https://pip.pypa.io/warnings/venv\u001b[0m\u001b[33m\n",
            "\u001b[0m\u001b[38;5;2m✔ Download and installation successful\u001b[0m\n",
            "You can now load the package via spacy.load('es_core_news_lg')\n"
          ]
        }
      ]
    },
    {
      "cell_type": "code",
      "source": [
        "# LLAMAR LIBRERÍAS\n",
        "\n",
        "# Agregar diccionario desde Google Drive\n",
        "# from google.colab import drive, data_table\n",
        "# drive.mount(\"/content/drive\", force_remount=True)\n",
        "# visualizarlo como tabla interactiva\n",
        "from google.colab import data_table\n",
        "# Convertir diccionario, en excel, a una \"tabla\" más veloz\n",
        "import pandas as pd\n",
        "# Procesamiento de Lenguaje Natural (PLN)\n",
        "import spacy\n",
        "# Hacer cálculos matemáticos con vectores de palabras\n",
        "import numpy as np\n",
        "# Evitar conflictos con celdas vacías\n",
        "import sys"
      ],
      "metadata": {
        "colab": {
          "base_uri": "https://localhost:8080/"
        },
        "id": "jGIWeVc62o7O",
        "outputId": "d952888e-2c84-4954-b5cb-c11abd5bcf26"
      },
      "execution_count": null,
      "outputs": [
        {
          "output_type": "stream",
          "name": "stdout",
          "text": [
            "Mounted at /content/drive\n"
          ]
        }
      ]
    },
    {
      "cell_type": "markdown",
      "source": [
        "# Diccionario de la Reforma Protestante"
      ],
      "metadata": {
        "id": "11rf42Ox2ayW"
      }
    },
    {
      "cell_type": "markdown",
      "source": [
        "## Carga"
      ],
      "metadata": {
        "id": "E8fXmUFM5OmO"
      }
    },
    {
      "cell_type": "code",
      "source": [
        "# - Descargando el archivo Excel del diccionario desde Google Drive\n",
        "# - Conversión a Data Frame de la librería pandas\n",
        "diccionario =  pd.read_excel('https://github.com/AlefoElfo/nlp.onomasiology.thesis/blob/main/Definiciones.xlsx?raw=true',\n",
        "                             sheet_name='Definiciones')\n",
        "# Ver una parte del diccionario\n",
        "diccionario.head()"
      ],
      "metadata": {
        "colab": {
          "base_uri": "https://localhost:8080/"
        },
        "id": "WrODOMPc4yrp",
        "outputId": "8a19b2ad-1bb3-4074-851d-b7a2a7323b71"
      },
      "execution_count": null,
      "outputs": [
        {
          "output_type": "stream",
          "name": "stdout",
          "text": [
            "Warning: Total number of columns (21) exceeds max_columns (20). Falling back to pandas display.\n"
          ]
        },
        {
          "output_type": "execute_result",
          "data": {
            "text/plain": [
              "                                         Lexema  \\\n",
              "0  A la nobleza cristiana de la nación alemana.   \n",
              "1                                     Agustino.   \n",
              "2                          Anabaptista, iglesia   \n",
              "3                            Anglicana, Iglesia   \n",
              "4                                    Arminiano.   \n",
              "\n",
              "                                          Etimología Fonología  También:  \\\n",
              "0                                                NaN       NaN  También:   \n",
              "1                                                NaN       NaN       NaN   \n",
              "2  (Gr. Ανα – Contra, βαπτίζω – bautizo. Contrari...       NaN  También:   \n",
              "3                        (Lat. Anglicana – Inglesa);       NaN  También:   \n",
              "4                                                NaN       NaN  También:   \n",
              "\n",
              "                        Acepciones o nombre original Fecha inicio  \\\n",
              "0  An den christlichen Adel deutscher Nation von ...     1520/06;   \n",
              "1                                                NaN          NaN   \n",
              "2                                       Anabautista;  1525/01/21;   \n",
              "3                                Episcopal, Iglesia;         1532   \n",
              "4                                         Wesleyano;         1610   \n",
              "\n",
              "     Inf. Extra de Fecha Inicio Fecha de término  Inf. Extra de Fecha término  \\\n",
              "0                           NaN              NaN                          NaN   \n",
              "1                           NaN              NaN                          NaN   \n",
              "2     (Primeros re-bautizados);              NaN                          NaN   \n",
              "3                       y 1536;              NaN                          NaN   \n",
              "4   (como movimiento definido);              NaN                          NaN   \n",
              "\n",
              "  Abreviatura  ... Inf. Denominacional Inf. Técnica-temática  \\\n",
              "0         NaN  ...               Lut.;                Dctr.;   \n",
              "1         NaN  ...                 NaN                   NaN   \n",
              "2         NaN  ...              Anbt.;                   NaN   \n",
              "3         NaN  ...               Ang.;                   NaN   \n",
              "4         NaN  ...               Arm.;              Doctrina   \n",
              "\n",
              "  Inf. Técnica-temática2         Campo semántico       Campo semántico 2  \\\n",
              "0                    NaN    Literatura reformada                     NaN   \n",
              "1                    NaN       Órdenes católicas                     NaN   \n",
              "2                    NaN     Iglesia anabaptista  Interpretación bíblica   \n",
              "3                    NaN       Iglesia anglicana                     NaN   \n",
              "4                    NaN  Interpretación bíblica                     NaN   \n",
              "\n",
              "                                          Definición  \\\n",
              "0  Manifiesto de Lutero contra la ICAR, donde inv...   \n",
              "1               Miembro de la Orden de  San Agustín.   \n",
              "2  Movimiento reformado que pugnó por un bautizo ...   \n",
              "3  Movimiento reformado de Inglaterra con matices...   \n",
              "4  Movimiento de la reforma iniciado por Arminio ...   \n",
              "\n",
              "                    Complementación de la definición  \\\n",
              "0  Señala los tres muros del romanismo a derribar...   \n",
              "1                                                NaN   \n",
              "2  Manifestaban un desacuerdo a hacer juramentos,...   \n",
              "3  Primera iglesia protestante estatal, por orden...   \n",
              "4  La doctrina es sintetizada en los Cinco puntos...   \n",
              "\n",
              "         Situación histórica antes y durante la Ref.  \\\n",
              "0  Lutero da 28 propuestas y a lo largo de ellas ...   \n",
              "1                                                NaN   \n",
              "2  Se gesta en tres lugares principales:  Primero...   \n",
              "3  \"Anglicana\" refería sólo a procedencia, hasta ...   \n",
              "4  Despúes del Sínodo de Dort, fueron perseguidos...   \n",
              "\n",
              "                       Relación-aportes a la Reforma  \\\n",
              "0  En la Dieta de Worms se demandó a Lutero retra...   \n",
              "1                                                NaN   \n",
              "2  Ser rebautizado era considerado traición y se ...   \n",
              "3  Mantiene elementos de la ICAR, pero no la depe...   \n",
              "4  Los menonitas aceptan su doctrina. En el siglo...   \n",
              "\n",
              "                                        Bibliografía  \n",
              "0  Historia Del Cristianismo III. El Mundo Modern...  \n",
              "1                                                NaN  \n",
              "2  “Anabaptista” Diccionario De Teología Dogmát...  \n",
              "3  “Anglicano” Diccionario De Teología Dogmátic...  \n",
              "4  “Arminianismo” Ramos, Marcos Antonio. Nuevo Di...  \n",
              "\n",
              "[5 rows x 21 columns]"
            ],
            "text/html": [
              "\n",
              "  <div id=\"df-16a82a54-1b8c-4aeb-bd78-805f60188aaf\">\n",
              "    <div class=\"colab-df-container\">\n",
              "      <div>\n",
              "<style scoped>\n",
              "    .dataframe tbody tr th:only-of-type {\n",
              "        vertical-align: middle;\n",
              "    }\n",
              "\n",
              "    .dataframe tbody tr th {\n",
              "        vertical-align: top;\n",
              "    }\n",
              "\n",
              "    .dataframe thead th {\n",
              "        text-align: right;\n",
              "    }\n",
              "</style>\n",
              "<table border=\"1\" class=\"dataframe\">\n",
              "  <thead>\n",
              "    <tr style=\"text-align: right;\">\n",
              "      <th></th>\n",
              "      <th>Lexema</th>\n",
              "      <th>Etimología</th>\n",
              "      <th>Fonología</th>\n",
              "      <th>También:</th>\n",
              "      <th>Acepciones o nombre original</th>\n",
              "      <th>Fecha inicio</th>\n",
              "      <th>Inf. Extra de Fecha Inicio</th>\n",
              "      <th>Fecha de término</th>\n",
              "      <th>Inf. Extra de Fecha término</th>\n",
              "      <th>Abreviatura</th>\n",
              "      <th>...</th>\n",
              "      <th>Inf. Denominacional</th>\n",
              "      <th>Inf. Técnica-temática</th>\n",
              "      <th>Inf. Técnica-temática2</th>\n",
              "      <th>Campo semántico</th>\n",
              "      <th>Campo semántico 2</th>\n",
              "      <th>Definición</th>\n",
              "      <th>Complementación de la definición</th>\n",
              "      <th>Situación histórica antes y durante la Ref.</th>\n",
              "      <th>Relación-aportes a la Reforma</th>\n",
              "      <th>Bibliografía</th>\n",
              "    </tr>\n",
              "  </thead>\n",
              "  <tbody>\n",
              "    <tr>\n",
              "      <th>0</th>\n",
              "      <td>A la nobleza cristiana de la nación alemana.</td>\n",
              "      <td>NaN</td>\n",
              "      <td>NaN</td>\n",
              "      <td>También:</td>\n",
              "      <td>An den christlichen Adel deutscher Nation von ...</td>\n",
              "      <td>1520/06;</td>\n",
              "      <td>NaN</td>\n",
              "      <td>NaN</td>\n",
              "      <td>NaN</td>\n",
              "      <td>NaN</td>\n",
              "      <td>...</td>\n",
              "      <td>Lut.;</td>\n",
              "      <td>Dctr.;</td>\n",
              "      <td>NaN</td>\n",
              "      <td>Literatura reformada</td>\n",
              "      <td>NaN</td>\n",
              "      <td>Manifiesto de Lutero contra la ICAR, donde inv...</td>\n",
              "      <td>Señala los tres muros del romanismo a derribar...</td>\n",
              "      <td>Lutero da 28 propuestas y a lo largo de ellas ...</td>\n",
              "      <td>En la Dieta de Worms se demandó a Lutero retra...</td>\n",
              "      <td>Historia Del Cristianismo III. El Mundo Modern...</td>\n",
              "    </tr>\n",
              "    <tr>\n",
              "      <th>1</th>\n",
              "      <td>Agustino.</td>\n",
              "      <td>NaN</td>\n",
              "      <td>NaN</td>\n",
              "      <td>NaN</td>\n",
              "      <td>NaN</td>\n",
              "      <td>NaN</td>\n",
              "      <td>NaN</td>\n",
              "      <td>NaN</td>\n",
              "      <td>NaN</td>\n",
              "      <td>NaN</td>\n",
              "      <td>...</td>\n",
              "      <td>NaN</td>\n",
              "      <td>NaN</td>\n",
              "      <td>NaN</td>\n",
              "      <td>Órdenes católicas</td>\n",
              "      <td>NaN</td>\n",
              "      <td>Miembro de la Orden de  San Agustín.</td>\n",
              "      <td>NaN</td>\n",
              "      <td>NaN</td>\n",
              "      <td>NaN</td>\n",
              "      <td>NaN</td>\n",
              "    </tr>\n",
              "    <tr>\n",
              "      <th>2</th>\n",
              "      <td>Anabaptista, iglesia</td>\n",
              "      <td>(Gr. Ανα – Contra, βαπτίζω – bautizo. Contrari...</td>\n",
              "      <td>NaN</td>\n",
              "      <td>También:</td>\n",
              "      <td>Anabautista;</td>\n",
              "      <td>1525/01/21;</td>\n",
              "      <td>(Primeros re-bautizados);</td>\n",
              "      <td>NaN</td>\n",
              "      <td>NaN</td>\n",
              "      <td>NaN</td>\n",
              "      <td>...</td>\n",
              "      <td>Anbt.;</td>\n",
              "      <td>NaN</td>\n",
              "      <td>NaN</td>\n",
              "      <td>Iglesia anabaptista</td>\n",
              "      <td>Interpretación bíblica</td>\n",
              "      <td>Movimiento reformado que pugnó por un bautizo ...</td>\n",
              "      <td>Manifestaban un desacuerdo a hacer juramentos,...</td>\n",
              "      <td>Se gesta en tres lugares principales:  Primero...</td>\n",
              "      <td>Ser rebautizado era considerado traición y se ...</td>\n",
              "      <td>“Anabaptista” Diccionario De Teología Dogmát...</td>\n",
              "    </tr>\n",
              "    <tr>\n",
              "      <th>3</th>\n",
              "      <td>Anglicana, Iglesia</td>\n",
              "      <td>(Lat. Anglicana – Inglesa);</td>\n",
              "      <td>NaN</td>\n",
              "      <td>También:</td>\n",
              "      <td>Episcopal, Iglesia;</td>\n",
              "      <td>1532</td>\n",
              "      <td>y 1536;</td>\n",
              "      <td>NaN</td>\n",
              "      <td>NaN</td>\n",
              "      <td>NaN</td>\n",
              "      <td>...</td>\n",
              "      <td>Ang.;</td>\n",
              "      <td>NaN</td>\n",
              "      <td>NaN</td>\n",
              "      <td>Iglesia anglicana</td>\n",
              "      <td>NaN</td>\n",
              "      <td>Movimiento reformado de Inglaterra con matices...</td>\n",
              "      <td>Primera iglesia protestante estatal, por orden...</td>\n",
              "      <td>\"Anglicana\" refería sólo a procedencia, hasta ...</td>\n",
              "      <td>Mantiene elementos de la ICAR, pero no la depe...</td>\n",
              "      <td>“Anglicano” Diccionario De Teología Dogmátic...</td>\n",
              "    </tr>\n",
              "    <tr>\n",
              "      <th>4</th>\n",
              "      <td>Arminiano.</td>\n",
              "      <td>NaN</td>\n",
              "      <td>NaN</td>\n",
              "      <td>También:</td>\n",
              "      <td>Wesleyano;</td>\n",
              "      <td>1610</td>\n",
              "      <td>(como movimiento definido);</td>\n",
              "      <td>NaN</td>\n",
              "      <td>NaN</td>\n",
              "      <td>NaN</td>\n",
              "      <td>...</td>\n",
              "      <td>Arm.;</td>\n",
              "      <td>Doctrina</td>\n",
              "      <td>NaN</td>\n",
              "      <td>Interpretación bíblica</td>\n",
              "      <td>NaN</td>\n",
              "      <td>Movimiento de la reforma iniciado por Arminio ...</td>\n",
              "      <td>La doctrina es sintetizada en los Cinco puntos...</td>\n",
              "      <td>Despúes del Sínodo de Dort, fueron perseguidos...</td>\n",
              "      <td>Los menonitas aceptan su doctrina. En el siglo...</td>\n",
              "      <td>“Arminianismo” Ramos, Marcos Antonio. Nuevo Di...</td>\n",
              "    </tr>\n",
              "  </tbody>\n",
              "</table>\n",
              "<p>5 rows × 21 columns</p>\n",
              "</div>\n",
              "      <button class=\"colab-df-convert\" onclick=\"convertToInteractive('df-16a82a54-1b8c-4aeb-bd78-805f60188aaf')\"\n",
              "              title=\"Convert this dataframe to an interactive table.\"\n",
              "              style=\"display:none;\">\n",
              "        \n",
              "  <svg xmlns=\"http://www.w3.org/2000/svg\" height=\"24px\"viewBox=\"0 0 24 24\"\n",
              "       width=\"24px\">\n",
              "    <path d=\"M0 0h24v24H0V0z\" fill=\"none\"/>\n",
              "    <path d=\"M18.56 5.44l.94 2.06.94-2.06 2.06-.94-2.06-.94-.94-2.06-.94 2.06-2.06.94zm-11 1L8.5 8.5l.94-2.06 2.06-.94-2.06-.94L8.5 2.5l-.94 2.06-2.06.94zm10 10l.94 2.06.94-2.06 2.06-.94-2.06-.94-.94-2.06-.94 2.06-2.06.94z\"/><path d=\"M17.41 7.96l-1.37-1.37c-.4-.4-.92-.59-1.43-.59-.52 0-1.04.2-1.43.59L10.3 9.45l-7.72 7.72c-.78.78-.78 2.05 0 2.83L4 21.41c.39.39.9.59 1.41.59.51 0 1.02-.2 1.41-.59l7.78-7.78 2.81-2.81c.8-.78.8-2.07 0-2.86zM5.41 20L4 18.59l7.72-7.72 1.47 1.35L5.41 20z\"/>\n",
              "  </svg>\n",
              "      </button>\n",
              "      \n",
              "  <style>\n",
              "    .colab-df-container {\n",
              "      display:flex;\n",
              "      flex-wrap:wrap;\n",
              "      gap: 12px;\n",
              "    }\n",
              "\n",
              "    .colab-df-convert {\n",
              "      background-color: #E8F0FE;\n",
              "      border: none;\n",
              "      border-radius: 50%;\n",
              "      cursor: pointer;\n",
              "      display: none;\n",
              "      fill: #1967D2;\n",
              "      height: 32px;\n",
              "      padding: 0 0 0 0;\n",
              "      width: 32px;\n",
              "    }\n",
              "\n",
              "    .colab-df-convert:hover {\n",
              "      background-color: #E2EBFA;\n",
              "      box-shadow: 0px 1px 2px rgba(60, 64, 67, 0.3), 0px 1px 3px 1px rgba(60, 64, 67, 0.15);\n",
              "      fill: #174EA6;\n",
              "    }\n",
              "\n",
              "    [theme=dark] .colab-df-convert {\n",
              "      background-color: #3B4455;\n",
              "      fill: #D2E3FC;\n",
              "    }\n",
              "\n",
              "    [theme=dark] .colab-df-convert:hover {\n",
              "      background-color: #434B5C;\n",
              "      box-shadow: 0px 1px 3px 1px rgba(0, 0, 0, 0.15);\n",
              "      filter: drop-shadow(0px 1px 2px rgba(0, 0, 0, 0.3));\n",
              "      fill: #FFFFFF;\n",
              "    }\n",
              "  </style>\n",
              "\n",
              "      <script>\n",
              "        const buttonEl =\n",
              "          document.querySelector('#df-16a82a54-1b8c-4aeb-bd78-805f60188aaf button.colab-df-convert');\n",
              "        buttonEl.style.display =\n",
              "          google.colab.kernel.accessAllowed ? 'block' : 'none';\n",
              "\n",
              "        async function convertToInteractive(key) {\n",
              "          const element = document.querySelector('#df-16a82a54-1b8c-4aeb-bd78-805f60188aaf');\n",
              "          const dataTable =\n",
              "            await google.colab.kernel.invokeFunction('convertToInteractive',\n",
              "                                                     [key], {});\n",
              "          if (!dataTable) return;\n",
              "\n",
              "          const docLinkHtml = 'Like what you see? Visit the ' +\n",
              "            '<a target=\"_blank\" href=https://colab.research.google.com/notebooks/data_table.ipynb>data table notebook</a>'\n",
              "            + ' to learn more about interactive tables.';\n",
              "          element.innerHTML = '';\n",
              "          dataTable['output_type'] = 'display_data';\n",
              "          await google.colab.output.renderOutput(dataTable, element);\n",
              "          const docLink = document.createElement('div');\n",
              "          docLink.innerHTML = docLinkHtml;\n",
              "          element.appendChild(docLink);\n",
              "        }\n",
              "      </script>\n",
              "    </div>\n",
              "  </div>\n",
              "  "
            ]
          },
          "metadata": {},
          "execution_count": 206
        }
      ]
    },
    {
      "cell_type": "markdown",
      "source": [
        "## Limpieza"
      ],
      "metadata": {
        "id": "oYnj31Yk5RVA"
      }
    },
    {
      "cell_type": "markdown",
      "source": [
        "Eliminamos las columnas innecesarias"
      ],
      "metadata": {
        "id": "TfT9El8n6TQL"
      }
    },
    {
      "cell_type": "code",
      "source": [
        "# Simplificar diccionario. \n",
        "# Eliminar las columnas: \n",
        "diccionario = diccionario.drop(columns=[\n",
        "    'Fonología',\n",
        "    'También:',\n",
        "    'Fecha inicio',\n",
        "    'Inf. Extra de Fecha Inicio',\n",
        "    'Fecha de término',\n",
        "    'Inf. Extra de Fecha término',\n",
        "    'Abreviatura',\n",
        "    'Bibliografía'])\n",
        "# Ver columnas restantes\n",
        "list(diccionario.columns)"
      ],
      "metadata": {
        "colab": {
          "base_uri": "https://localhost:8080/"
        },
        "id": "7_1WWaXS5VeM",
        "outputId": "ae2c8942-d09c-48c7-a40d-6279ba9a53dd"
      },
      "execution_count": null,
      "outputs": [
        {
          "output_type": "execute_result",
          "data": {
            "text/plain": [
              "['Lexema',\n",
              " 'Etimología',\n",
              " 'Acepciones o nombre original',\n",
              " 'Inf. Geográfica',\n",
              " 'Inf. Denominacional',\n",
              " 'Inf. Técnica-temática',\n",
              " 'Inf. Técnica-temática2',\n",
              " 'Campo semántico',\n",
              " 'Campo semántico 2',\n",
              " 'Definición',\n",
              " 'Complementación de la definición',\n",
              " 'Situación histórica antes y durante la Ref.',\n",
              " 'Relación-aportes a la Reforma']"
            ]
          },
          "metadata": {},
          "execution_count": 207
        }
      ]
    },
    {
      "cell_type": "code",
      "source": [
        "# Eliminar columnas con abreviaturas\n",
        "diccionario = diccionario.drop(columns=[\n",
        "    'Etimología',\n",
        "    'Inf. Geográfica',\n",
        "    'Inf. Denominacional',\n",
        "    'Inf. Técnica-temática',\n",
        "    'Inf. Técnica-temática2'])\n",
        "# Ver columnas restantes y ver celdas con NaN (Not a Number)\n",
        "diccionario.isna().sum()"
      ],
      "metadata": {
        "colab": {
          "base_uri": "https://localhost:8080/"
        },
        "id": "tR62n12v5oTe",
        "outputId": "bdbe82af-d57a-48ec-cd73-b1cd25aae07c"
      },
      "execution_count": null,
      "outputs": [
        {
          "output_type": "execute_result",
          "data": {
            "text/plain": [
              "Lexema                                          0\n",
              "Acepciones o nombre original                   28\n",
              "Campo semántico                                21\n",
              "Campo semántico 2                              56\n",
              "Definición                                      1\n",
              "Complementación de la definición               28\n",
              "Situación histórica antes y durante la Ref.    29\n",
              "Relación-aportes a la Reforma                  37\n",
              "dtype: int64"
            ]
          },
          "metadata": {},
          "execution_count": 208
        }
      ]
    },
    {
      "cell_type": "code",
      "source": [
        "# Remplazar NaN con un punto (.) para que no dé problemas\n",
        "diccionario = diccionario.fillna('.')\n",
        "# Ver diccionario final\n",
        "diccionario.head()"
      ],
      "metadata": {
        "colab": {
          "base_uri": "https://localhost:8080/"
        },
        "id": "PJMKKig95yAl",
        "outputId": "af648f41-3d65-4000-dc79-093e319e5853"
      },
      "execution_count": null,
      "outputs": [
        {
          "output_type": "execute_result",
          "data": {
            "text/plain": [
              "                                         Lexema  \\\n",
              "0  A la nobleza cristiana de la nación alemana.   \n",
              "1                                     Agustino.   \n",
              "2                          Anabaptista, iglesia   \n",
              "3                            Anglicana, Iglesia   \n",
              "4                                    Arminiano.   \n",
              "\n",
              "                        Acepciones o nombre original         Campo semántico  \\\n",
              "0  An den christlichen Adel deutscher Nation von ...    Literatura reformada   \n",
              "1                                                  .       Órdenes católicas   \n",
              "2                                       Anabautista;     Iglesia anabaptista   \n",
              "3                                Episcopal, Iglesia;       Iglesia anglicana   \n",
              "4                                         Wesleyano;  Interpretación bíblica   \n",
              "\n",
              "        Campo semántico 2                                         Definición  \\\n",
              "0                       .  Manifiesto de Lutero contra la ICAR, donde inv...   \n",
              "1                       .               Miembro de la Orden de  San Agustín.   \n",
              "2  Interpretación bíblica  Movimiento reformado que pugnó por un bautizo ...   \n",
              "3                       .  Movimiento reformado de Inglaterra con matices...   \n",
              "4                       .  Movimiento de la reforma iniciado por Arminio ...   \n",
              "\n",
              "                    Complementación de la definición  \\\n",
              "0  Señala los tres muros del romanismo a derribar...   \n",
              "1                                                  .   \n",
              "2  Manifestaban un desacuerdo a hacer juramentos,...   \n",
              "3  Primera iglesia protestante estatal, por orden...   \n",
              "4  La doctrina es sintetizada en los Cinco puntos...   \n",
              "\n",
              "         Situación histórica antes y durante la Ref.  \\\n",
              "0  Lutero da 28 propuestas y a lo largo de ellas ...   \n",
              "1                                                  .   \n",
              "2  Se gesta en tres lugares principales:  Primero...   \n",
              "3  \"Anglicana\" refería sólo a procedencia, hasta ...   \n",
              "4  Despúes del Sínodo de Dort, fueron perseguidos...   \n",
              "\n",
              "                       Relación-aportes a la Reforma  \n",
              "0  En la Dieta de Worms se demandó a Lutero retra...  \n",
              "1                                                  .  \n",
              "2  Ser rebautizado era considerado traición y se ...  \n",
              "3  Mantiene elementos de la ICAR, pero no la depe...  \n",
              "4  Los menonitas aceptan su doctrina. En el siglo...  "
            ],
            "text/html": [
              "\n",
              "  <div id=\"df-56db23bc-1dc8-422e-8010-cb0a9aff6b55\">\n",
              "    <div class=\"colab-df-container\">\n",
              "      <div>\n",
              "<style scoped>\n",
              "    .dataframe tbody tr th:only-of-type {\n",
              "        vertical-align: middle;\n",
              "    }\n",
              "\n",
              "    .dataframe tbody tr th {\n",
              "        vertical-align: top;\n",
              "    }\n",
              "\n",
              "    .dataframe thead th {\n",
              "        text-align: right;\n",
              "    }\n",
              "</style>\n",
              "<table border=\"1\" class=\"dataframe\">\n",
              "  <thead>\n",
              "    <tr style=\"text-align: right;\">\n",
              "      <th></th>\n",
              "      <th>Lexema</th>\n",
              "      <th>Acepciones o nombre original</th>\n",
              "      <th>Campo semántico</th>\n",
              "      <th>Campo semántico 2</th>\n",
              "      <th>Definición</th>\n",
              "      <th>Complementación de la definición</th>\n",
              "      <th>Situación histórica antes y durante la Ref.</th>\n",
              "      <th>Relación-aportes a la Reforma</th>\n",
              "    </tr>\n",
              "  </thead>\n",
              "  <tbody>\n",
              "    <tr>\n",
              "      <th>0</th>\n",
              "      <td>A la nobleza cristiana de la nación alemana.</td>\n",
              "      <td>An den christlichen Adel deutscher Nation von ...</td>\n",
              "      <td>Literatura reformada</td>\n",
              "      <td>.</td>\n",
              "      <td>Manifiesto de Lutero contra la ICAR, donde inv...</td>\n",
              "      <td>Señala los tres muros del romanismo a derribar...</td>\n",
              "      <td>Lutero da 28 propuestas y a lo largo de ellas ...</td>\n",
              "      <td>En la Dieta de Worms se demandó a Lutero retra...</td>\n",
              "    </tr>\n",
              "    <tr>\n",
              "      <th>1</th>\n",
              "      <td>Agustino.</td>\n",
              "      <td>.</td>\n",
              "      <td>Órdenes católicas</td>\n",
              "      <td>.</td>\n",
              "      <td>Miembro de la Orden de  San Agustín.</td>\n",
              "      <td>.</td>\n",
              "      <td>.</td>\n",
              "      <td>.</td>\n",
              "    </tr>\n",
              "    <tr>\n",
              "      <th>2</th>\n",
              "      <td>Anabaptista, iglesia</td>\n",
              "      <td>Anabautista;</td>\n",
              "      <td>Iglesia anabaptista</td>\n",
              "      <td>Interpretación bíblica</td>\n",
              "      <td>Movimiento reformado que pugnó por un bautizo ...</td>\n",
              "      <td>Manifestaban un desacuerdo a hacer juramentos,...</td>\n",
              "      <td>Se gesta en tres lugares principales:  Primero...</td>\n",
              "      <td>Ser rebautizado era considerado traición y se ...</td>\n",
              "    </tr>\n",
              "    <tr>\n",
              "      <th>3</th>\n",
              "      <td>Anglicana, Iglesia</td>\n",
              "      <td>Episcopal, Iglesia;</td>\n",
              "      <td>Iglesia anglicana</td>\n",
              "      <td>.</td>\n",
              "      <td>Movimiento reformado de Inglaterra con matices...</td>\n",
              "      <td>Primera iglesia protestante estatal, por orden...</td>\n",
              "      <td>\"Anglicana\" refería sólo a procedencia, hasta ...</td>\n",
              "      <td>Mantiene elementos de la ICAR, pero no la depe...</td>\n",
              "    </tr>\n",
              "    <tr>\n",
              "      <th>4</th>\n",
              "      <td>Arminiano.</td>\n",
              "      <td>Wesleyano;</td>\n",
              "      <td>Interpretación bíblica</td>\n",
              "      <td>.</td>\n",
              "      <td>Movimiento de la reforma iniciado por Arminio ...</td>\n",
              "      <td>La doctrina es sintetizada en los Cinco puntos...</td>\n",
              "      <td>Despúes del Sínodo de Dort, fueron perseguidos...</td>\n",
              "      <td>Los menonitas aceptan su doctrina. En el siglo...</td>\n",
              "    </tr>\n",
              "  </tbody>\n",
              "</table>\n",
              "</div>\n",
              "      <button class=\"colab-df-convert\" onclick=\"convertToInteractive('df-56db23bc-1dc8-422e-8010-cb0a9aff6b55')\"\n",
              "              title=\"Convert this dataframe to an interactive table.\"\n",
              "              style=\"display:none;\">\n",
              "        \n",
              "  <svg xmlns=\"http://www.w3.org/2000/svg\" height=\"24px\"viewBox=\"0 0 24 24\"\n",
              "       width=\"24px\">\n",
              "    <path d=\"M0 0h24v24H0V0z\" fill=\"none\"/>\n",
              "    <path d=\"M18.56 5.44l.94 2.06.94-2.06 2.06-.94-2.06-.94-.94-2.06-.94 2.06-2.06.94zm-11 1L8.5 8.5l.94-2.06 2.06-.94-2.06-.94L8.5 2.5l-.94 2.06-2.06.94zm10 10l.94 2.06.94-2.06 2.06-.94-2.06-.94-.94-2.06-.94 2.06-2.06.94z\"/><path d=\"M17.41 7.96l-1.37-1.37c-.4-.4-.92-.59-1.43-.59-.52 0-1.04.2-1.43.59L10.3 9.45l-7.72 7.72c-.78.78-.78 2.05 0 2.83L4 21.41c.39.39.9.59 1.41.59.51 0 1.02-.2 1.41-.59l7.78-7.78 2.81-2.81c.8-.78.8-2.07 0-2.86zM5.41 20L4 18.59l7.72-7.72 1.47 1.35L5.41 20z\"/>\n",
              "  </svg>\n",
              "      </button>\n",
              "      \n",
              "  <style>\n",
              "    .colab-df-container {\n",
              "      display:flex;\n",
              "      flex-wrap:wrap;\n",
              "      gap: 12px;\n",
              "    }\n",
              "\n",
              "    .colab-df-convert {\n",
              "      background-color: #E8F0FE;\n",
              "      border: none;\n",
              "      border-radius: 50%;\n",
              "      cursor: pointer;\n",
              "      display: none;\n",
              "      fill: #1967D2;\n",
              "      height: 32px;\n",
              "      padding: 0 0 0 0;\n",
              "      width: 32px;\n",
              "    }\n",
              "\n",
              "    .colab-df-convert:hover {\n",
              "      background-color: #E2EBFA;\n",
              "      box-shadow: 0px 1px 2px rgba(60, 64, 67, 0.3), 0px 1px 3px 1px rgba(60, 64, 67, 0.15);\n",
              "      fill: #174EA6;\n",
              "    }\n",
              "\n",
              "    [theme=dark] .colab-df-convert {\n",
              "      background-color: #3B4455;\n",
              "      fill: #D2E3FC;\n",
              "    }\n",
              "\n",
              "    [theme=dark] .colab-df-convert:hover {\n",
              "      background-color: #434B5C;\n",
              "      box-shadow: 0px 1px 3px 1px rgba(0, 0, 0, 0.15);\n",
              "      filter: drop-shadow(0px 1px 2px rgba(0, 0, 0, 0.3));\n",
              "      fill: #FFFFFF;\n",
              "    }\n",
              "  </style>\n",
              "\n",
              "      <script>\n",
              "        const buttonEl =\n",
              "          document.querySelector('#df-56db23bc-1dc8-422e-8010-cb0a9aff6b55 button.colab-df-convert');\n",
              "        buttonEl.style.display =\n",
              "          google.colab.kernel.accessAllowed ? 'block' : 'none';\n",
              "\n",
              "        async function convertToInteractive(key) {\n",
              "          const element = document.querySelector('#df-56db23bc-1dc8-422e-8010-cb0a9aff6b55');\n",
              "          const dataTable =\n",
              "            await google.colab.kernel.invokeFunction('convertToInteractive',\n",
              "                                                     [key], {});\n",
              "          if (!dataTable) return;\n",
              "\n",
              "          const docLinkHtml = 'Like what you see? Visit the ' +\n",
              "            '<a target=\"_blank\" href=https://colab.research.google.com/notebooks/data_table.ipynb>data table notebook</a>'\n",
              "            + ' to learn more about interactive tables.';\n",
              "          element.innerHTML = '';\n",
              "          dataTable['output_type'] = 'display_data';\n",
              "          await google.colab.output.renderOutput(dataTable, element);\n",
              "          const docLink = document.createElement('div');\n",
              "          docLink.innerHTML = docLinkHtml;\n",
              "          element.appendChild(docLink);\n",
              "        }\n",
              "      </script>\n",
              "    </div>\n",
              "  </div>\n",
              "  "
            ],
            "application/vnd.google.colaboratory.module+javascript": "\n      import \"https://ssl.gstatic.com/colaboratory/data_table/a8bd4d5e58f96183/data_table.js\";\n\n      window.createDataTable({\n        data: [[{\n            'v': 0,\n            'f': \"0\",\n        },\n\"A la nobleza cristiana de la naci\\u00f3n alemana.\",\n\"An den christlichen Adel deutscher Nation von des christlichen Standes Besserung;\",\n\"Literatura reformada\",\n\".\",\n\"Manifiesto de Lutero contra la ICAR, donde invita a Carlos V y a los principales de Alemania a reformar la Iglesia. |\",\n\"Se\\u00f1ala los tres muros del romanismo a derribar: supremac\\u00eda del clero, monopolio interpretativo de las Escrituras, y supremac\\u00eda del Papa para convocar concilios. Critica el lujo excesivo romano. Denuncia los m\\u00e9todos para el abuso financiero, arrendatario y tambi\\u00e9n al Derecho Can\\u00f3nico. | \",\n\"Lutero da 28 propuestas y a lo largo de ellas y en todo el escrito, presenta una pre-separaci\\u00f3n de iglesia y estado y una pre-desamortizaci\\u00f3n de bienes eclesi\\u00e1sticos en Alemania. Tambi\\u00e9n frenar los impuestos y poderes a Roma, reducir asalariados , los lujos en Roma, juramentos, ceremonias, liturgias, regular las peregrinaciones, los conventos, votos y celibato, sacerdotes, misas, penas y el Derecho Can\\u00f3nico, fiestas y domingos, v\\u00ednculos de parentesco, canonizaci\\u00f3n, ventas de documentos eclesiales, mendicidad, relaci\\u00f3n con los bohemios, la did\\u00e1ctica y literatura en universidades, gobierno alem\\u00e1n, pr\\u00e9stamo, comercio y prost\\u00edbulos. | \",\n\"En la Dieta de Worms se demand\\u00f3 a Lutero retractarse de este escrito. Parte de la respuesta alemana fue la Confesi\\u00f3n de Augsburgo, presentada a Carlos V en 1530.\"],\n [{\n            'v': 1,\n            'f': \"1\",\n        },\n\"Agustino.\",\n\".\",\n\"\\u00d3rdenes cat\\u00f3licas\",\n\".\",\n\"Miembro de la Orden de  San Agust\\u00edn.\",\n\".\",\n\".\",\n\".\"],\n [{\n            'v': 2,\n            'f': \"2\",\n        },\n\"Anabaptista, iglesia\",\n\"Anabautista;\",\n\"Iglesia anabaptista\",\n\"Interpretaci\\u00f3n b\\u00edblica\",\n\"Movimiento reformado que pugn\\u00f3 por un bautizo con una fe consciente, contrario al bautismo infantil.\",\n\"Manifestaban un desacuerdo a hacer juramentos, la pena capital y el ejercicio magisterial. Tambi\\u00e9n profesaban s\\u00f3lidamente la John of Leiden Sola Scriptura. Rechazan la justificaci\\u00f3n s\\u00f3lo por fe. Desde el siglo XI-XII ya estaba en controversia la doctrina con Pedro de Bruys, Enrique de Lausana, Pedro de Valdo, los albigenses y los hermanos de bohemia. De esta corriente nacen los menonitas, huteritas, Sociedad Religiosa de los Amigos, bautistas, amish, entre otros. |\",\n\"Se gesta en tres lugares principales:  Primero en Suiza, con ex-disc\\u00edpulos de Zwinglio, Conrado Grebel, F\\u00e9lix Manz, Jorge Blaurock, y otros, son los primeron en rebautizarse, figuran tambi\\u00e9n  Juan Denk, Baltazar Hubmaier, entre otros;  Sajonia y Turingia, con Nicol\\u00e1s Storch, Tom\\u00e1s M\\u00fcntzer y los Profetas de Zwickau; en M\\u00fcnster, con Melchor Hoffman y sus disc\\u00edpulos. |\",\n\"Ser rebautizado era considerado traici\\u00f3n y se castigaba con fuertes penas de muerte. Fueron martirizados por cat\\u00f3licos y protestantes.\"],\n [{\n            'v': 3,\n            'f': \"3\",\n        },\n\"Anglicana, Iglesia\",\n\"Episcopal, Iglesia;\",\n\"Iglesia anglicana\",\n\".\",\n\"Movimiento reformado de Inglaterra con matices cat\\u00f3licos, basado en el Libro de Oraci\\u00f3n Com\\u00fan.\",\n\"Primera iglesia protestante estatal, por orden de Enrique VIII, quien acepta la doctrina de Tom\\u00e1s Cranmer por razones personales y gubernamentales m\\u00e1s que religiosas. |\",\n\"\\\"Anglicana\\\" refer\\u00eda s\\u00f3lo a procedencia, hasta el siglo XVIII, que adquiere un significado de teolog\\u00eda. El desarrollo de la iglesia es dif\\u00edcil, con reyes y reinas que reprim\\u00edan la Reforma Protestante, como el mismo Enrique VIII, y otros que la fomentaban, como Isabel I. |\",\n\"Mantiene elementos de la ICAR, pero no la dependencia.\"],\n [{\n            'v': 4,\n            'f': \"4\",\n        },\n\"Arminiano.\",\n\"Wesleyano;\",\n\"Interpretaci\\u00f3n b\\u00edblica\",\n\".\",\n\"Movimiento de la reforma iniciado por Arminio como contra-respuesta al calvinista Gomarus.\",\n\"La doctrina es sintetizada en los Cinco puntos del armnianismo, hecha por los Remonstrantes, quienes iniciaron en s\\u00ed, el movimiento, y la cual es un punto medio entre el hiper calvinismo gomarista y el pelagianismo. |\",\n\"Desp\\u00faes del S\\u00ednodo de Dort, fueron perseguidos, pero en 1630 fueron tolerados legalmente. |\",\n\"Los menonitas aceptan su doctrina. En el siglo XVIII, Juan Weasley tomar\\u00eda la doctrina arminiana en la iglesia que se llamar\\u00eda metodista.\"]],\n        columns: [[\"number\", \"index\"], [\"string\", \"Lexema\"], [\"string\", \"Acepciones o nombre original\"], [\"string\", \"Campo sem\\u00e1ntico\"], [\"string\", \"Campo sem\\u00e1ntico 2\"], [\"string\", \"Definici\\u00f3n\"], [\"string\", \"Complementaci\\u00f3n de la definici\\u00f3n\"], [\"string\", \"Situaci\\u00f3n hist\\u00f3rica antes y durante la Ref.\"], [\"string\", \"Relaci\\u00f3n-aportes a la Reforma\"]],\n        columnOptions: [{\"width\": \"1px\", \"className\": \"index_column\"}],\n        rowsPerPage: 25,\n        helpUrl: \"https://colab.research.google.com/notebooks/data_table.ipynb\",\n        suppressOutputScrolling: true,\n        minimumWidth: undefined,\n      });\n    "
          },
          "metadata": {},
          "execution_count": 209
        }
      ]
    },
    {
      "cell_type": "markdown",
      "source": [
        "## Preparar para PLN"
      ],
      "metadata": {
        "id": "ebiN9oQs5nUs"
      }
    },
    {
      "cell_type": "code",
      "source": [
        "# Ver columnas\n",
        "diccionario.columns"
      ],
      "metadata": {
        "colab": {
          "base_uri": "https://localhost:8080/"
        },
        "id": "sqzqcKG56eGY",
        "outputId": "abcde2da-327c-409d-cb79-7d4af0512434"
      },
      "execution_count": null,
      "outputs": [
        {
          "output_type": "execute_result",
          "data": {
            "text/plain": [
              "Index(['Lexema', 'Acepciones o nombre original', 'Campo semántico',\n",
              "       'Campo semántico 2', 'Definición', 'Complementación de la definición',\n",
              "       'Situación histórica antes y durante la Ref.',\n",
              "       'Relación-aportes a la Reforma'],\n",
              "      dtype='object')"
            ]
          },
          "metadata": {},
          "execution_count": 210
        }
      ]
    },
    {
      "cell_type": "code",
      "source": [
        "# Nuevo diccionarioPLN con sólo tres columnas: \n",
        "#   - Lexema\n",
        "#   - Definición\n",
        "#   - Información extra\n",
        "diccionarioPLN = pd.DataFrame({\n",
        "      'lexema': diccionario['Lexema'],\n",
        "      'definición': diccionario['Definición'],\n",
        "      'extra': diccionario[['Acepciones o nombre original',\n",
        "                                  'Campo semántico',\n",
        "                                  'Campo semántico 2', \n",
        "                                  'Complementación de la definición',\n",
        "                                  'Situación histórica antes y durante la Ref.',\n",
        "                                  'Relación-aportes a la Reforma']]\\\n",
        "                                  .apply(' '.join, axis=1)\n",
        "                              })\n",
        "list(diccionarioPLN.columns)"
      ],
      "metadata": {
        "colab": {
          "base_uri": "https://localhost:8080/"
        },
        "id": "Ag5vWeiy6mQ6",
        "outputId": "e01df2b9-7560-41c5-aa6e-93d27bcad0ff"
      },
      "execution_count": null,
      "outputs": [
        {
          "output_type": "execute_result",
          "data": {
            "text/plain": [
              "['lexema', 'definición', 'extra']"
            ]
          },
          "metadata": {},
          "execution_count": 211
        }
      ]
    },
    {
      "cell_type": "markdown",
      "source": [
        "## PLN"
      ],
      "metadata": {
        "id": "WF7UiqgV7EVN"
      }
    },
    {
      "cell_type": "markdown",
      "source": [
        "Procesamiento de Lenguaje Natural, o *Natural Language Processing* (NLP)"
      ],
      "metadata": {
        "id": "TB-tc6M87Wkt"
      }
    },
    {
      "cell_type": "code",
      "source": [
        "# Usar modelo PLN en español\n",
        "nlp = spacy.load('es_core_news_lg')"
      ],
      "metadata": {
        "id": "thWkItM37Kw9"
      },
      "execution_count": null,
      "outputs": []
    },
    {
      "cell_type": "code",
      "source": [
        "# Leer diccionario con modelo \n",
        "for i in diccionarioPLN:\n",
        "  diccionarioPLN[i] = diccionarioPLN[i].apply(lambda x: nlp(x))"
      ],
      "metadata": {
        "id": "jTiCLhdX7PWi"
      },
      "execution_count": null,
      "outputs": []
    },
    {
      "cell_type": "code",
      "source": [
        "# Visualizar diccionario ya leído\n",
        "diccionarioPLN.head()"
      ],
      "metadata": {
        "colab": {
          "base_uri": "https://localhost:8080/"
        },
        "id": "dNzfyze_7nfV",
        "outputId": "7a6b055b-2436-4b21-bdd8-b7d6cf1ab3a0"
      },
      "execution_count": null,
      "outputs": [
        {
          "output_type": "execute_result",
          "data": {
            "text/plain": [
              "                                              lexema  \\\n",
              "0  (A, la, nobleza, cristiana, de, la, nación, al...   \n",
              "1                                      (Agustino, .)   \n",
              "2                          (Anabaptista, ,, iglesia)   \n",
              "3                            (Anglicana, ,, Iglesia)   \n",
              "4                                     (Arminiano, .)   \n",
              "\n",
              "                                          definición  \\\n",
              "0  (Manifiesto, de, Lutero, contra, la, ICAR, ,, ...   \n",
              "1   (Miembro, de, la, Orden, de,  , San, Agustín, .)   \n",
              "2  (Movimiento, reformado, que, pugnó, por, un, b...   \n",
              "3  (Movimiento, reformado, de, Inglaterra, con, m...   \n",
              "4  (Movimiento, de, la, reforma, iniciado, por, A...   \n",
              "\n",
              "                                               extra  \n",
              "0  (An, den, christlichen, Adel, deutscher, Natio...  \n",
              "1                (., Órdenes, católicas, ., ., ., .)  \n",
              "2  (Anabautista, ;, Iglesia, anabaptista, Interpr...  \n",
              "3  (Episcopal, ,, Iglesia, ;, Iglesia, anglicana,...  \n",
              "4  (Wesleyano, ;, Interpretación, bíblica, ., La,...  "
            ],
            "text/html": [
              "\n",
              "  <div id=\"df-0e90ca6f-965c-4acc-9cf1-0a5bd4afabc1\">\n",
              "    <div class=\"colab-df-container\">\n",
              "      <div>\n",
              "<style scoped>\n",
              "    .dataframe tbody tr th:only-of-type {\n",
              "        vertical-align: middle;\n",
              "    }\n",
              "\n",
              "    .dataframe tbody tr th {\n",
              "        vertical-align: top;\n",
              "    }\n",
              "\n",
              "    .dataframe thead th {\n",
              "        text-align: right;\n",
              "    }\n",
              "</style>\n",
              "<table border=\"1\" class=\"dataframe\">\n",
              "  <thead>\n",
              "    <tr style=\"text-align: right;\">\n",
              "      <th></th>\n",
              "      <th>lexema</th>\n",
              "      <th>definición</th>\n",
              "      <th>extra</th>\n",
              "    </tr>\n",
              "  </thead>\n",
              "  <tbody>\n",
              "    <tr>\n",
              "      <th>0</th>\n",
              "      <td>(A, la, nobleza, cristiana, de, la, nación, al...</td>\n",
              "      <td>(Manifiesto, de, Lutero, contra, la, ICAR, ,, ...</td>\n",
              "      <td>(An, den, christlichen, Adel, deutscher, Natio...</td>\n",
              "    </tr>\n",
              "    <tr>\n",
              "      <th>1</th>\n",
              "      <td>(Agustino, .)</td>\n",
              "      <td>(Miembro, de, la, Orden, de,  , San, Agustín, .)</td>\n",
              "      <td>(., Órdenes, católicas, ., ., ., .)</td>\n",
              "    </tr>\n",
              "    <tr>\n",
              "      <th>2</th>\n",
              "      <td>(Anabaptista, ,, iglesia)</td>\n",
              "      <td>(Movimiento, reformado, que, pugnó, por, un, b...</td>\n",
              "      <td>(Anabautista, ;, Iglesia, anabaptista, Interpr...</td>\n",
              "    </tr>\n",
              "    <tr>\n",
              "      <th>3</th>\n",
              "      <td>(Anglicana, ,, Iglesia)</td>\n",
              "      <td>(Movimiento, reformado, de, Inglaterra, con, m...</td>\n",
              "      <td>(Episcopal, ,, Iglesia, ;, Iglesia, anglicana,...</td>\n",
              "    </tr>\n",
              "    <tr>\n",
              "      <th>4</th>\n",
              "      <td>(Arminiano, .)</td>\n",
              "      <td>(Movimiento, de, la, reforma, iniciado, por, A...</td>\n",
              "      <td>(Wesleyano, ;, Interpretación, bíblica, ., La,...</td>\n",
              "    </tr>\n",
              "  </tbody>\n",
              "</table>\n",
              "</div>\n",
              "      <button class=\"colab-df-convert\" onclick=\"convertToInteractive('df-0e90ca6f-965c-4acc-9cf1-0a5bd4afabc1')\"\n",
              "              title=\"Convert this dataframe to an interactive table.\"\n",
              "              style=\"display:none;\">\n",
              "        \n",
              "  <svg xmlns=\"http://www.w3.org/2000/svg\" height=\"24px\"viewBox=\"0 0 24 24\"\n",
              "       width=\"24px\">\n",
              "    <path d=\"M0 0h24v24H0V0z\" fill=\"none\"/>\n",
              "    <path d=\"M18.56 5.44l.94 2.06.94-2.06 2.06-.94-2.06-.94-.94-2.06-.94 2.06-2.06.94zm-11 1L8.5 8.5l.94-2.06 2.06-.94-2.06-.94L8.5 2.5l-.94 2.06-2.06.94zm10 10l.94 2.06.94-2.06 2.06-.94-2.06-.94-.94-2.06-.94 2.06-2.06.94z\"/><path d=\"M17.41 7.96l-1.37-1.37c-.4-.4-.92-.59-1.43-.59-.52 0-1.04.2-1.43.59L10.3 9.45l-7.72 7.72c-.78.78-.78 2.05 0 2.83L4 21.41c.39.39.9.59 1.41.59.51 0 1.02-.2 1.41-.59l7.78-7.78 2.81-2.81c.8-.78.8-2.07 0-2.86zM5.41 20L4 18.59l7.72-7.72 1.47 1.35L5.41 20z\"/>\n",
              "  </svg>\n",
              "      </button>\n",
              "      \n",
              "  <style>\n",
              "    .colab-df-container {\n",
              "      display:flex;\n",
              "      flex-wrap:wrap;\n",
              "      gap: 12px;\n",
              "    }\n",
              "\n",
              "    .colab-df-convert {\n",
              "      background-color: #E8F0FE;\n",
              "      border: none;\n",
              "      border-radius: 50%;\n",
              "      cursor: pointer;\n",
              "      display: none;\n",
              "      fill: #1967D2;\n",
              "      height: 32px;\n",
              "      padding: 0 0 0 0;\n",
              "      width: 32px;\n",
              "    }\n",
              "\n",
              "    .colab-df-convert:hover {\n",
              "      background-color: #E2EBFA;\n",
              "      box-shadow: 0px 1px 2px rgba(60, 64, 67, 0.3), 0px 1px 3px 1px rgba(60, 64, 67, 0.15);\n",
              "      fill: #174EA6;\n",
              "    }\n",
              "\n",
              "    [theme=dark] .colab-df-convert {\n",
              "      background-color: #3B4455;\n",
              "      fill: #D2E3FC;\n",
              "    }\n",
              "\n",
              "    [theme=dark] .colab-df-convert:hover {\n",
              "      background-color: #434B5C;\n",
              "      box-shadow: 0px 1px 3px 1px rgba(0, 0, 0, 0.15);\n",
              "      filter: drop-shadow(0px 1px 2px rgba(0, 0, 0, 0.3));\n",
              "      fill: #FFFFFF;\n",
              "    }\n",
              "  </style>\n",
              "\n",
              "      <script>\n",
              "        const buttonEl =\n",
              "          document.querySelector('#df-0e90ca6f-965c-4acc-9cf1-0a5bd4afabc1 button.colab-df-convert');\n",
              "        buttonEl.style.display =\n",
              "          google.colab.kernel.accessAllowed ? 'block' : 'none';\n",
              "\n",
              "        async function convertToInteractive(key) {\n",
              "          const element = document.querySelector('#df-0e90ca6f-965c-4acc-9cf1-0a5bd4afabc1');\n",
              "          const dataTable =\n",
              "            await google.colab.kernel.invokeFunction('convertToInteractive',\n",
              "                                                     [key], {});\n",
              "          if (!dataTable) return;\n",
              "\n",
              "          const docLinkHtml = 'Like what you see? Visit the ' +\n",
              "            '<a target=\"_blank\" href=https://colab.research.google.com/notebooks/data_table.ipynb>data table notebook</a>'\n",
              "            + ' to learn more about interactive tables.';\n",
              "          element.innerHTML = '';\n",
              "          dataTable['output_type'] = 'display_data';\n",
              "          await google.colab.output.renderOutput(dataTable, element);\n",
              "          const docLink = document.createElement('div');\n",
              "          docLink.innerHTML = docLinkHtml;\n",
              "          element.appendChild(docLink);\n",
              "        }\n",
              "      </script>\n",
              "    </div>\n",
              "  </div>\n",
              "  "
            ],
            "application/vnd.google.colaboratory.module+javascript": "\n      import \"https://ssl.gstatic.com/colaboratory/data_table/a8bd4d5e58f96183/data_table.js\";\n\n      window.createDataTable({\n        data: [[{\n            'v': 0,\n            'f': \"0\",\n        },\n\"A la nobleza cristiana de la naci\\u00f3n alemana.\",\n\"Manifiesto de Lutero contra la ICAR, donde invita a Carlos V y a los principales de Alemania a reformar la Iglesia. |\",\n\"An den christlichen Adel deutscher Nation von des christlichen Standes Besserung; Literatura reformada . Se\\u00f1ala los tres muros del romanismo a derribar: supremac\\u00eda del clero, monopolio interpretativo de las Escrituras, y supremac\\u00eda del Papa para convocar concilios. Critica el lujo excesivo romano. Denuncia los m\\u00e9todos para el abuso financiero, arrendatario y tambi\\u00e9n al Derecho Can\\u00f3nico. |  Lutero da 28 propuestas y a lo largo de ellas y en todo el escrito, presenta una pre-separaci\\u00f3n de iglesia y estado y una pre-desamortizaci\\u00f3n de bienes eclesi\\u00e1sticos en Alemania. Tambi\\u00e9n frenar los impuestos y poderes a Roma, reducir asalariados , los lujos en Roma, juramentos, ceremonias, liturgias, regular las peregrinaciones, los conventos, votos y celibato, sacerdotes, misas, penas y el Derecho Can\\u00f3nico, fiestas y domingos, v\\u00ednculos de parentesco, canonizaci\\u00f3n, ventas de documentos eclesiales, mendicidad, relaci\\u00f3n con los bohemios, la did\\u00e1ctica y literatura en universidades, gobierno alem\\u00e1n, pr\\u00e9stamo, comercio y prost\\u00edbulos. |  En la Dieta de Worms se demand\\u00f3 a Lutero retractarse de este escrito. Parte de la respuesta alemana fue la Confesi\\u00f3n de Augsburgo, presentada a Carlos V en 1530.\"],\n [{\n            'v': 1,\n            'f': \"1\",\n        },\n\"Agustino.\",\n\"Miembro de la Orden de  San Agust\\u00edn.\",\n\". \\u00d3rdenes cat\\u00f3licas . . . .\"],\n [{\n            'v': 2,\n            'f': \"2\",\n        },\n\"Anabaptista, iglesia\",\n\"Movimiento reformado que pugn\\u00f3 por un bautizo con una fe consciente, contrario al bautismo infantil.\",\n\"Anabautista; Iglesia anabaptista Interpretaci\\u00f3n b\\u00edblica Manifestaban un desacuerdo a hacer juramentos, la pena capital y el ejercicio magisterial. Tambi\\u00e9n profesaban s\\u00f3lidamente la John of Leiden Sola Scriptura. Rechazan la justificaci\\u00f3n s\\u00f3lo por fe. Desde el siglo XI-XII ya estaba en controversia la doctrina con Pedro de Bruys, Enrique de Lausana, Pedro de Valdo, los albigenses y los hermanos de bohemia. De esta corriente nacen los menonitas, huteritas, Sociedad Religiosa de los Amigos, bautistas, amish, entre otros. | Se gesta en tres lugares principales:  Primero en Suiza, con ex-disc\\u00edpulos de Zwinglio, Conrado Grebel, F\\u00e9lix Manz, Jorge Blaurock, y otros, son los primeron en rebautizarse, figuran tambi\\u00e9n  Juan Denk, Baltazar Hubmaier, entre otros;  Sajonia y Turingia, con Nicol\\u00e1s Storch, Tom\\u00e1s M\\u00fcntzer y los Profetas de Zwickau; en M\\u00fcnster, con Melchor Hoffman y sus disc\\u00edpulos. | Ser rebautizado era considerado traici\\u00f3n y se castigaba con fuertes penas de muerte. Fueron martirizados por cat\\u00f3licos y protestantes.\"],\n [{\n            'v': 3,\n            'f': \"3\",\n        },\n\"Anglicana, Iglesia\",\n\"Movimiento reformado de Inglaterra con matices cat\\u00f3licos, basado en el Libro de Oraci\\u00f3n Com\\u00fan.\",\n\"Episcopal, Iglesia; Iglesia anglicana . Primera iglesia protestante estatal, por orden de Enrique VIII, quien acepta la doctrina de Tom\\u00e1s Cranmer por razones personales y gubernamentales m\\u00e1s que religiosas. | \\\"Anglicana\\\" refer\\u00eda s\\u00f3lo a procedencia, hasta el siglo XVIII, que adquiere un significado de teolog\\u00eda. El desarrollo de la iglesia es dif\\u00edcil, con reyes y reinas que reprim\\u00edan la Reforma Protestante, como el mismo Enrique VIII, y otros que la fomentaban, como Isabel I. | Mantiene elementos de la ICAR, pero no la dependencia.\"],\n [{\n            'v': 4,\n            'f': \"4\",\n        },\n\"Arminiano.\",\n\"Movimiento de la reforma iniciado por Arminio como contra-respuesta al calvinista Gomarus.\",\n\"Wesleyano; Interpretaci\\u00f3n b\\u00edblica . La doctrina es sintetizada en los Cinco puntos del armnianismo, hecha por los Remonstrantes, quienes iniciaron en s\\u00ed, el movimiento, y la cual es un punto medio entre el hiper calvinismo gomarista y el pelagianismo. | Desp\\u00faes del S\\u00ednodo de Dort, fueron perseguidos, pero en 1630 fueron tolerados legalmente. | Los menonitas aceptan su doctrina. En el siglo XVIII, Juan Weasley tomar\\u00eda la doctrina arminiana en la iglesia que se llamar\\u00eda metodista.\"]],\n        columns: [[\"number\", \"index\"], [\"string\", \"lexema\"], [\"string\", \"definici\\u00f3n\"], [\"string\", \"extra\"]],\n        columnOptions: [{\"width\": \"1px\", \"className\": \"index_column\"}],\n        rowsPerPage: 25,\n        helpUrl: \"https://colab.research.google.com/notebooks/data_table.ipynb\",\n        suppressOutputScrolling: true,\n        minimumWidth: undefined,\n      });\n    "
          },
          "metadata": {},
          "execution_count": 214
        }
      ]
    },
    {
      "cell_type": "markdown",
      "source": [
        "Las palabras, separadas por comas, están encerradas entre paréntesis. Significa que el `diccionarioPLN` ya fue leído por el modelo en español"
      ],
      "metadata": {
        "id": "kzejazAS7O7u"
      }
    },
    {
      "cell_type": "markdown",
      "source": [
        "## Acceder al diccionario"
      ],
      "metadata": {
        "id": "sdBrMM4a8AJl"
      }
    },
    {
      "cell_type": "code",
      "source": [
        "# Ver lexemas con índice\n",
        "def verlexemas():\n",
        "  data_table.enable_dataframe_formatter()\n",
        "  return data_table.DataTable(diccionarioPLN[['lexema']], include_index=True, num_rows_per_page=20)\n",
        "  data_table.disable_dataframe_formatter()"
      ],
      "metadata": {
        "id": "gYWNE4rS8MQp"
      },
      "execution_count": null,
      "outputs": []
    },
    {
      "cell_type": "code",
      "source": [
        "verlexemas()"
      ],
      "metadata": {
        "colab": {
          "base_uri": "https://localhost:8080/",
          "height": 529
        },
        "id": "lgRcQG7HDZz9",
        "outputId": "3608a250-e7fe-4345-8539-dd9f2a4642d4"
      },
      "execution_count": null,
      "outputs": [
        {
          "output_type": "execute_result",
          "data": {
            "text/html": [
              "<div>\n",
              "<style scoped>\n",
              "    .dataframe tbody tr th:only-of-type {\n",
              "        vertical-align: middle;\n",
              "    }\n",
              "\n",
              "    .dataframe tbody tr th {\n",
              "        vertical-align: top;\n",
              "    }\n",
              "\n",
              "    .dataframe thead th {\n",
              "        text-align: right;\n",
              "    }\n",
              "</style>\n",
              "<table border=\"1\" class=\"dataframe\">\n",
              "  <thead>\n",
              "    <tr style=\"text-align: right;\">\n",
              "      <th></th>\n",
              "      <th>lexema</th>\n",
              "    </tr>\n",
              "  </thead>\n",
              "  <tbody>\n",
              "    <tr>\n",
              "      <th>0</th>\n",
              "      <td>(A, la, nobleza, cristiana, de, la, nación, al...</td>\n",
              "    </tr>\n",
              "    <tr>\n",
              "      <th>1</th>\n",
              "      <td>(Agustino, .)</td>\n",
              "    </tr>\n",
              "    <tr>\n",
              "      <th>2</th>\n",
              "      <td>(Anabaptista, ,, iglesia)</td>\n",
              "    </tr>\n",
              "    <tr>\n",
              "      <th>3</th>\n",
              "      <td>(Anglicana, ,, Iglesia)</td>\n",
              "    </tr>\n",
              "    <tr>\n",
              "      <th>4</th>\n",
              "      <td>(Arminiano, .)</td>\n",
              "    </tr>\n",
              "    <tr>\n",
              "      <th>...</th>\n",
              "      <td>...</td>\n",
              "    </tr>\n",
              "    <tr>\n",
              "      <th>65</th>\n",
              "      <td>(Sacramento)</td>\n",
              "    </tr>\n",
              "    <tr>\n",
              "      <th>66</th>\n",
              "      <td>(Salterio, de, Ginebra, .)</td>\n",
              "    </tr>\n",
              "    <tr>\n",
              "      <th>67</th>\n",
              "      <td>(Sínodo, de, Dort, .)</td>\n",
              "    </tr>\n",
              "    <tr>\n",
              "      <th>68</th>\n",
              "      <td>(Sínodo, .)</td>\n",
              "    </tr>\n",
              "    <tr>\n",
              "      <th>69</th>\n",
              "      <td>(Valdense, ,, grupo, .)</td>\n",
              "    </tr>\n",
              "  </tbody>\n",
              "</table>\n",
              "<p>70 rows × 1 columns</p>\n",
              "</div>"
            ],
            "application/vnd.google.colaboratory.module+javascript": "\n      import \"https://ssl.gstatic.com/colaboratory/data_table/a8bd4d5e58f96183/data_table.js\";\n\n      window.createDataTable({\n        data: [[{\n            'v': 0,\n            'f': \"0\",\n        },\n\"A la nobleza cristiana de la naci\\u00f3n alemana.\"],\n [{\n            'v': 1,\n            'f': \"1\",\n        },\n\"Agustino.\"],\n [{\n            'v': 2,\n            'f': \"2\",\n        },\n\"Anabaptista, iglesia\"],\n [{\n            'v': 3,\n            'f': \"3\",\n        },\n\"Anglicana, Iglesia\"],\n [{\n            'v': 4,\n            'f': \"4\",\n        },\n\"Arminiano.\"],\n [{\n            'v': 5,\n            'f': \"5\",\n        },\n\"Barba.\"],\n [{\n            'v': 6,\n            'f': \"6\",\n        },\n\"Bula.\"],\n [{\n            'v': 7,\n            'f': \"7\",\n        },\n\"Calvinismo.\"],\n [{\n            'v': 8,\n            'f': \"8\",\n        },\n\"Canon.\"],\n [{\n            'v': 9,\n            'f': \"9\",\n        },\n\"Canon. Canon b\\u00edblico.\"],\n [{\n            'v': 10,\n            'f': \"10\",\n        },\n\"Castillo fuerte es nuestro Dios.\"],\n [{\n            'v': 11,\n            'f': \"11\",\n        },\n\"Cautividad babil\\u00f3nica de la Iglesia, La\"],\n [{\n            'v': 12,\n            'f': \"12\",\n        },\n\"Cinco puntos calvinistas.\"],\n [{\n            'v': 13,\n            'f': \"13\",\n        },\n\"Cinco puntos calvinistas. 1. Totalidad depravada.\"],\n [{\n            'v': 14,\n            'f': \"14\",\n        },\n\"Cinco puntos calvinistas. 2. Una elecci\\u00f3n incondicional.\"],\n [{\n            'v': 15,\n            'f': \"15\",\n        },\n\"Cinco puntos calvinistas. 3. Limitada expiaci\\u00f3n.\"],\n [{\n            'v': 16,\n            'f': \"16\",\n        },\n\"Cinco puntos calvinistas. 4. Irresistible gracia.\"],\n [{\n            'v': 17,\n            'f': \"17\",\n        },\n\"Cinco puntos calvinistas. 5. Perseverancia de los Santos.\"],\n [{\n            'v': 18,\n            'f': \"18\",\n        },\n\"Cinco Solas.\"],\n [{\n            'v': 19,\n            'f': \"19\",\n        },\n\"Cinco solas. Sola fide.\"],\n [{\n            'v': 20,\n            'f': \"20\",\n        },\n\"Cinco solas. Sola gratia.\"],\n [{\n            'v': 21,\n            'f': \"21\",\n        },\n\"Cinco solas. Sola Scriptura.\"],\n [{\n            'v': 22,\n            'f': \"22\",\n        },\n\"Cinco solas. Soli Deo Gloria.\"],\n [{\n            'v': 23,\n            'f': \"23\",\n        },\n\"Cinco solas. Solus Christus.\"],\n [{\n            'v': 24,\n            'f': \"24\",\n        },\n\"Cisma.\"],\n [{\n            'v': 25,\n            'f': \"25\",\n        },\n\"Concilio.\"],\n [{\n            'v': 26,\n            'f': \"26\",\n        },\n\"Concilio. Concilio de Trento.\"],\n [{\n            'v': 27,\n            'f': \"27\",\n        },\n\"Consenso Tigurinus.\"],\n [{\n            'v': 28,\n            'f': \"28\",\n        },\n\"Coral.\"],\n [{\n            'v': 29,\n            'f': \"29\",\n        },\n\"De la libertad del cristiano.\"],\n [{\n            'v': 30,\n            'f': \"30\",\n        },\n\"Decet romanum pontificem.\"],\n [{\n            'v': 31,\n            'f': \"31\",\n        },\n\"Dieta.\"],\n [{\n            'v': 32,\n            'f': \"32\",\n        },\n\"Dieta. Dieta de Augsburgo.\"],\n [{\n            'v': 33,\n            'f': \"33\",\n        },\n\"Dieta. Dieta de Worms.\"],\n [{\n            'v': 34,\n            'f': \"34\",\n        },\n\"Disputa de Leipzig.\"],\n [{\n            'v': 35,\n            'f': \"35\",\n        },\n\"Edicto de Nantes.\"],\n [{\n            'v': 36,\n            'f': \"36\",\n        },\n\"Eucarist\\u00eda.\"],\n [{\n            'v': 37,\n            'f': \"37\",\n        },\n\"Eucarist\\u00eda. Anamnesis.\"],\n [{\n            'v': 38,\n            'f': \"38\",\n        },\n\"Eucarist\\u00eda. Consubstanciaci\\u00f3n.\"],\n [{\n            'v': 39,\n            'f': \"39\",\n        },\n\"Eucarist\\u00eda. Espiritualizaci\\u00f3n.\"],\n [{\n            'v': 40,\n            'f': \"40\",\n        },\n\"Eucarist\\u00eda. Transubstanciaci\\u00f3n.\"],\n [{\n            'v': 41,\n            'f': \"41\",\n        },\n\"Excomuni\\u00f3n.\"],\n [{\n            'v': 42,\n            'f': \"42\",\n        },\n\"Exsurge Domine.\"],\n [{\n            'v': 43,\n            'f': \"43\",\n        },\n\"Gomarista.\"],\n [{\n            'v': 44,\n            'f': \"44\",\n        },\n\"Guerra de Esmalcalda.\"],\n [{\n            'v': 45,\n            'f': \"45\",\n        },\n\"Guerra de los ochenta a\\u00f1os.\"],\n [{\n            'v': 46,\n            'f': \"46\",\n        },\n\"Hugonote, grupo.\"],\n [{\n            'v': 47,\n            'f': \"47\",\n        },\n\"Husita, grupo.\"],\n [{\n            'v': 48,\n            'f': \"48\",\n        },\n\"Huterita, grupo.\"],\n [{\n            'v': 49,\n            'f': \"49\",\n        },\n\"Indulgencia.\"],\n [{\n            'v': 50,\n            'f': \"50\",\n        },\n\"Instituci\\u00f3n de la Religi\\u00f3n Cristiana.\"],\n [{\n            'v': 51,\n            'f': \"51\",\n        },\n\"Libre examen.\"],\n [{\n            'v': 52,\n            'f': \"52\",\n        },\n\"Libro de la Concordia.\"],\n [{\n            'v': 53,\n            'f': \"53\",\n        },\n\"Libro de oraci\\u00f3n com\\u00fan.\"],\n [{\n            'v': 54,\n            'f': \"54\",\n        },\n\"Lolarda, grupo.\"],\n [{\n            'v': 55,\n            'f': \"55\",\n        },\n\"Luteranismo.\"],\n [{\n            'v': 56,\n            'f': \"56\",\n        },\n\"Matanza de San Bartolom\\u00e9.\"],\n [{\n            'v': 57,\n            'f': \"57\",\n        },\n\"Noventa y cinco tesis.\"],\n [{\n            'v': 58,\n            'f': \"58\",\n        },\n\"Orden de San Agust\\u00edn.\"],\n [{\n            'v': 59,\n            'f': \"59\",\n        },\n\"Paz de Augsburgo.\"],\n [{\n            'v': 60,\n            'f': \"60\",\n        },\n\"Penitencia.\"],\n [{\n            'v': 61,\n            'f': \"61\",\n        },\n\"Presbiterianismo.\"],\n [{\n            'v': 62,\n            'f': \"62\",\n        },\n\"Protesta de Espira\"],\n [{\n            'v': 63,\n            'f': \"63\",\n        },\n\"Reforma Protestante.\"],\n [{\n            'v': 64,\n            'f': \"64\",\n        },\n\"Remonstrante.\"],\n [{\n            'v': 65,\n            'f': \"65\",\n        },\n\"Sacramento\"],\n [{\n            'v': 66,\n            'f': \"66\",\n        },\n\"Salterio de Ginebra.\"],\n [{\n            'v': 67,\n            'f': \"67\",\n        },\n\"S\\u00ednodo de Dort.\"],\n [{\n            'v': 68,\n            'f': \"68\",\n        },\n\"S\\u00ednodo.\"],\n [{\n            'v': 69,\n            'f': \"69\",\n        },\n\"Valdense, grupo.\"]],\n        columns: [[\"number\", \"index\"], [\"string\", \"lexema\"]],\n        columnOptions: [{\"width\": \"1px\", \"className\": \"index_column\"}],\n        rowsPerPage: 20,\n        helpUrl: \"https://colab.research.google.com/notebooks/data_table.ipynb\",\n        suppressOutputScrolling: true,\n        minimumWidth: undefined,\n      });\n    ",
            "text/plain": [
              "<google.colab.data_table.DataTable object>"
            ]
          },
          "metadata": {},
          "execution_count": 216
        }
      ]
    },
    {
      "cell_type": "code",
      "source": [
        "# FUNCIÓN\n",
        "# Consulta: 1 = 'lexema', 2 = 'definición'; 3 ='extra'\n",
        "# Columna: Número de columna en index\n",
        "\n",
        "def diccionario (consulta, columna):\n",
        "  if consulta == 1:\n",
        "    consulta = 'lexema'\n",
        "  elif consulta == 2:\n",
        "    consulta = 'definición'\n",
        "  elif consulta == 3:\n",
        "    consulta = 'extra'\n",
        "  return diccionarioPLN[consulta][columna]"
      ],
      "metadata": {
        "id": "tb7JThfS8EUs"
      },
      "execution_count": null,
      "outputs": []
    },
    {
      "cell_type": "code",
      "source": [
        "# Primer lexema\n",
        "diccionario(consulta = 1, columna = 0)"
      ],
      "metadata": {
        "colab": {
          "base_uri": "https://localhost:8080/"
        },
        "id": "0MqV9nnW8klq",
        "outputId": "56bba223-7778-42fe-f146-47bb7d27ba6b"
      },
      "execution_count": null,
      "outputs": [
        {
          "output_type": "execute_result",
          "data": {
            "text/plain": [
              "A la nobleza cristiana de la nación alemana."
            ]
          },
          "metadata": {},
          "execution_count": 218
        }
      ]
    },
    {
      "cell_type": "code",
      "source": [
        "# Definición del primer lexema\n",
        "diccionario(2,0)"
      ],
      "metadata": {
        "colab": {
          "base_uri": "https://localhost:8080/"
        },
        "id": "4c4jLvfI8qRH",
        "outputId": "36c20e70-e7b3-48c2-a71d-34b4eec2870f"
      },
      "execution_count": null,
      "outputs": [
        {
          "output_type": "execute_result",
          "data": {
            "text/plain": [
              "Manifiesto de Lutero contra la ICAR, donde invita a Carlos V y a los principales de Alemania a reformar la Iglesia. |"
            ]
          },
          "metadata": {},
          "execution_count": 219
        }
      ]
    },
    {
      "cell_type": "code",
      "source": [
        "# Información extra del primer lexema\n",
        "diccionario(3,0)"
      ],
      "metadata": {
        "colab": {
          "base_uri": "https://localhost:8080/"
        },
        "id": "qjDBg02U8uBo",
        "outputId": "c398bf40-0fa9-4860-e9c2-5a1cd9595927"
      },
      "execution_count": null,
      "outputs": [
        {
          "output_type": "execute_result",
          "data": {
            "text/plain": [
              "An den christlichen Adel deutscher Nation von des christlichen Standes Besserung; Literatura reformada . Señala los tres muros del romanismo a derribar: supremacía del clero, monopolio interpretativo de las Escrituras, y supremacía del Papa para convocar concilios. Critica el lujo excesivo romano. Denuncia los métodos para el abuso financiero, arrendatario y también al Derecho Canónico. |  Lutero da 28 propuestas y a lo largo de ellas y en todo el escrito, presenta una pre-separación de iglesia y estado y una pre-desamortización de bienes eclesiásticos en Alemania. También frenar los impuestos y poderes a Roma, reducir asalariados , los lujos en Roma, juramentos, ceremonias, liturgias, regular las peregrinaciones, los conventos, votos y celibato, sacerdotes, misas, penas y el Derecho Canónico, fiestas y domingos, vínculos de parentesco, canonización, ventas de documentos eclesiales, mendicidad, relación con los bohemios, la didáctica y literatura en universidades, gobierno alemán, préstamo, comercio y prostíbulos. |  En la Dieta de Worms se demandó a Lutero retractarse de este escrito. Parte de la respuesta alemana fue la Confesión de Augsburgo, presentada a Carlos V en 1530."
            ]
          },
          "metadata": {},
          "execution_count": 220
        }
      ]
    },
    {
      "cell_type": "code",
      "source": [
        "# Función para ver todo un lexema completo\n",
        "def verunlexema (lexema):\n",
        "  entrada = pd.DataFrame.transpose(pd.DataFrame(columns=[diccionario(1,lexema), diccionario(2,lexema), diccionario(3,lexema)])).reset_index()\n",
        "  entrada = entrada.rename(columns={'level_0':'index', 'index': 'diccionario'}, index={0:'Lexema', 1:'Definición', 2:'Extra'})\n",
        "  return entrada"
      ],
      "metadata": {
        "id": "uUEFzeO9jx9e"
      },
      "execution_count": 336,
      "outputs": []
    },
    {
      "cell_type": "code",
      "source": [
        "verunlexema(0)"
      ],
      "metadata": {
        "colab": {
          "base_uri": "https://localhost:8080/",
          "height": 252
        },
        "id": "LxX_AbVv9PSQ",
        "outputId": "1280e16c-135e-4c37-be59-23836e0f4424"
      },
      "execution_count": 337,
      "outputs": [
        {
          "output_type": "execute_result",
          "data": {
            "text/plain": [
              "                                                  diccionario\n",
              "Lexema      (A, la, nobleza, cristiana, de, la, nación, al...\n",
              "Definición  (Manifiesto, de, Lutero, contra, la, ICAR, ,, ...\n",
              "Extra       (An, den, christlichen, Adel, deutscher, Natio..."
            ],
            "text/html": [
              "\n",
              "  <div id=\"df-a570286a-68bf-41d3-9d5a-466ec7a13190\">\n",
              "    <div class=\"colab-df-container\">\n",
              "      <div>\n",
              "<style scoped>\n",
              "    .dataframe tbody tr th:only-of-type {\n",
              "        vertical-align: middle;\n",
              "    }\n",
              "\n",
              "    .dataframe tbody tr th {\n",
              "        vertical-align: top;\n",
              "    }\n",
              "\n",
              "    .dataframe thead th {\n",
              "        text-align: right;\n",
              "    }\n",
              "</style>\n",
              "<table border=\"1\" class=\"dataframe\">\n",
              "  <thead>\n",
              "    <tr style=\"text-align: right;\">\n",
              "      <th></th>\n",
              "      <th>diccionario</th>\n",
              "    </tr>\n",
              "  </thead>\n",
              "  <tbody>\n",
              "    <tr>\n",
              "      <th>Lexema</th>\n",
              "      <td>(A, la, nobleza, cristiana, de, la, nación, al...</td>\n",
              "    </tr>\n",
              "    <tr>\n",
              "      <th>Definición</th>\n",
              "      <td>(Manifiesto, de, Lutero, contra, la, ICAR, ,, ...</td>\n",
              "    </tr>\n",
              "    <tr>\n",
              "      <th>Extra</th>\n",
              "      <td>(An, den, christlichen, Adel, deutscher, Natio...</td>\n",
              "    </tr>\n",
              "  </tbody>\n",
              "</table>\n",
              "</div>\n",
              "      <button class=\"colab-df-convert\" onclick=\"convertToInteractive('df-a570286a-68bf-41d3-9d5a-466ec7a13190')\"\n",
              "              title=\"Convert this dataframe to an interactive table.\"\n",
              "              style=\"display:none;\">\n",
              "        \n",
              "  <svg xmlns=\"http://www.w3.org/2000/svg\" height=\"24px\"viewBox=\"0 0 24 24\"\n",
              "       width=\"24px\">\n",
              "    <path d=\"M0 0h24v24H0V0z\" fill=\"none\"/>\n",
              "    <path d=\"M18.56 5.44l.94 2.06.94-2.06 2.06-.94-2.06-.94-.94-2.06-.94 2.06-2.06.94zm-11 1L8.5 8.5l.94-2.06 2.06-.94-2.06-.94L8.5 2.5l-.94 2.06-2.06.94zm10 10l.94 2.06.94-2.06 2.06-.94-2.06-.94-.94-2.06-.94 2.06-2.06.94z\"/><path d=\"M17.41 7.96l-1.37-1.37c-.4-.4-.92-.59-1.43-.59-.52 0-1.04.2-1.43.59L10.3 9.45l-7.72 7.72c-.78.78-.78 2.05 0 2.83L4 21.41c.39.39.9.59 1.41.59.51 0 1.02-.2 1.41-.59l7.78-7.78 2.81-2.81c.8-.78.8-2.07 0-2.86zM5.41 20L4 18.59l7.72-7.72 1.47 1.35L5.41 20z\"/>\n",
              "  </svg>\n",
              "      </button>\n",
              "      \n",
              "  <style>\n",
              "    .colab-df-container {\n",
              "      display:flex;\n",
              "      flex-wrap:wrap;\n",
              "      gap: 12px;\n",
              "    }\n",
              "\n",
              "    .colab-df-convert {\n",
              "      background-color: #E8F0FE;\n",
              "      border: none;\n",
              "      border-radius: 50%;\n",
              "      cursor: pointer;\n",
              "      display: none;\n",
              "      fill: #1967D2;\n",
              "      height: 32px;\n",
              "      padding: 0 0 0 0;\n",
              "      width: 32px;\n",
              "    }\n",
              "\n",
              "    .colab-df-convert:hover {\n",
              "      background-color: #E2EBFA;\n",
              "      box-shadow: 0px 1px 2px rgba(60, 64, 67, 0.3), 0px 1px 3px 1px rgba(60, 64, 67, 0.15);\n",
              "      fill: #174EA6;\n",
              "    }\n",
              "\n",
              "    [theme=dark] .colab-df-convert {\n",
              "      background-color: #3B4455;\n",
              "      fill: #D2E3FC;\n",
              "    }\n",
              "\n",
              "    [theme=dark] .colab-df-convert:hover {\n",
              "      background-color: #434B5C;\n",
              "      box-shadow: 0px 1px 3px 1px rgba(0, 0, 0, 0.15);\n",
              "      filter: drop-shadow(0px 1px 2px rgba(0, 0, 0, 0.3));\n",
              "      fill: #FFFFFF;\n",
              "    }\n",
              "  </style>\n",
              "\n",
              "      <script>\n",
              "        const buttonEl =\n",
              "          document.querySelector('#df-a570286a-68bf-41d3-9d5a-466ec7a13190 button.colab-df-convert');\n",
              "        buttonEl.style.display =\n",
              "          google.colab.kernel.accessAllowed ? 'block' : 'none';\n",
              "\n",
              "        async function convertToInteractive(key) {\n",
              "          const element = document.querySelector('#df-a570286a-68bf-41d3-9d5a-466ec7a13190');\n",
              "          const dataTable =\n",
              "            await google.colab.kernel.invokeFunction('convertToInteractive',\n",
              "                                                     [key], {});\n",
              "          if (!dataTable) return;\n",
              "\n",
              "          const docLinkHtml = 'Like what you see? Visit the ' +\n",
              "            '<a target=\"_blank\" href=https://colab.research.google.com/notebooks/data_table.ipynb>data table notebook</a>'\n",
              "            + ' to learn more about interactive tables.';\n",
              "          element.innerHTML = '';\n",
              "          dataTable['output_type'] = 'display_data';\n",
              "          await google.colab.output.renderOutput(dataTable, element);\n",
              "          const docLink = document.createElement('div');\n",
              "          docLink.innerHTML = docLinkHtml;\n",
              "          element.appendChild(docLink);\n",
              "        }\n",
              "      </script>\n",
              "    </div>\n",
              "  </div>\n",
              "  "
            ],
            "application/vnd.google.colaboratory.module+javascript": "\n      import \"https://ssl.gstatic.com/colaboratory/data_table/a8bd4d5e58f96183/data_table.js\";\n\n      window.createDataTable({\n        data: [[\"Lexema\",\n\"A la nobleza cristiana de la naci\\u00f3n alemana.\"],\n [\"Definici\\u00f3n\",\n\"Manifiesto de Lutero contra la ICAR, donde invita a Carlos V y a los principales de Alemania a reformar la Iglesia. |\"],\n [\"Extra\",\n\"An den christlichen Adel deutscher Nation von des christlichen Standes Besserung; Literatura reformada . Se\\u00f1ala los tres muros del romanismo a derribar: supremac\\u00eda del clero, monopolio interpretativo de las Escrituras, y supremac\\u00eda del Papa para convocar concilios. Critica el lujo excesivo romano. Denuncia los m\\u00e9todos para el abuso financiero, arrendatario y tambi\\u00e9n al Derecho Can\\u00f3nico. |  Lutero da 28 propuestas y a lo largo de ellas y en todo el escrito, presenta una pre-separaci\\u00f3n de iglesia y estado y una pre-desamortizaci\\u00f3n de bienes eclesi\\u00e1sticos en Alemania. Tambi\\u00e9n frenar los impuestos y poderes a Roma, reducir asalariados , los lujos en Roma, juramentos, ceremonias, liturgias, regular las peregrinaciones, los conventos, votos y celibato, sacerdotes, misas, penas y el Derecho Can\\u00f3nico, fiestas y domingos, v\\u00ednculos de parentesco, canonizaci\\u00f3n, ventas de documentos eclesiales, mendicidad, relaci\\u00f3n con los bohemios, la did\\u00e1ctica y literatura en universidades, gobierno alem\\u00e1n, pr\\u00e9stamo, comercio y prost\\u00edbulos. |  En la Dieta de Worms se demand\\u00f3 a Lutero retractarse de este escrito. Parte de la respuesta alemana fue la Confesi\\u00f3n de Augsburgo, presentada a Carlos V en 1530.\"]],\n        columns: [[\"string\", \"index\"], [\"string\", \"diccionario\"]],\n        columnOptions: [{\"width\": \"1px\", \"className\": \"index_column\"}],\n        rowsPerPage: 25,\n        helpUrl: \"https://colab.research.google.com/notebooks/data_table.ipynb\",\n        suppressOutputScrolling: true,\n        minimumWidth: undefined,\n      });\n    "
          },
          "metadata": {},
          "execution_count": 337
        }
      ]
    },
    {
      "cell_type": "markdown",
      "source": [
        "## Ver vectorización"
      ],
      "metadata": {
        "id": "vTcx_ek99ZZO"
      }
    },
    {
      "cell_type": "markdown",
      "source": [
        "De acuerdo con la [documentación](https://spacy.io/models/es) en spaCy, estos vectores se forman en un proceso semántico que implicó 300 dimensiones."
      ],
      "metadata": {
        "id": "mC2zpMTv9klO"
      }
    },
    {
      "cell_type": "code",
      "source": [
        "diccionario(1,10).vector"
      ],
      "metadata": {
        "colab": {
          "base_uri": "https://localhost:8080/"
        },
        "id": "o-2DzHBA9YTL",
        "outputId": "a286c872-d24b-4806-801a-83824456ba5b"
      },
      "execution_count": null,
      "outputs": [
        {
          "output_type": "execute_result",
          "data": {
            "text/plain": [
              "array([-0.41945648,  0.6943    , -2.6311617 ,  0.17101835, -0.19501166,\n",
              "       -2.2149951 ,  0.0346    ,  2.9261951 ,  0.22321832, -1.3064076 ,\n",
              "       -0.63523996,  0.62290335,  0.06053168,  0.46940494, -0.45168665,\n",
              "       -0.51289004,  1.6176237 ,  2.4277334 ,  0.13695832,  1.2706839 ,\n",
              "       -0.08933838, -0.21290831, -0.919995  ,  0.31322166, -1.4326111 ,\n",
              "       -1.0549166 ,  3.0710833 , -2.0453682 , -0.82245827, -0.569535  ,\n",
              "        0.7332502 ,  1.068265  ,  0.8708187 ,  1.5303365 , -1.6829637 ,\n",
              "       -0.77058953, -0.07880839,  2.4785936 , -1.2709919 , -1.1106117 ,\n",
              "        0.16749   , -0.45886168, -0.272305  , -0.63645035, -2.1675549 ,\n",
              "       -0.3997883 , -0.25131497, -3.2358    ,  0.34230837,  0.7768667 ,\n",
              "        2.1007168 , -1.0968562 , -1.1701568 ,  0.3977584 ,  0.59559935,\n",
              "        1.0687784 ,  0.34306172, -1.2061616 , -1.6674519 , -0.2451588 ,\n",
              "       -0.55529207, -0.6286667 ,  0.16287005, -0.64427835, -0.42882332,\n",
              "        1.7884833 , -2.1311448 , -0.03818838,  0.45687422,  0.01151001,\n",
              "        0.085875  ,  0.63822836, -0.6831309 ,  0.74643666, -0.6417983 ,\n",
              "       -0.14523332,  0.62128997,  0.79115003,  0.03437333, -0.7976983 ,\n",
              "       -1.808585  , -1.1151167 , -1.4049598 , -1.5970634 ,  0.7905383 ,\n",
              "        1.632165  ,  0.30478835, -0.5154334 , -1.0036439 , -0.2629942 ,\n",
              "       -2.79239   ,  2.4637933 , -2.3364334 , -0.6641733 , -1.1724933 ,\n",
              "        1.4096384 , -1.56045   , -0.01112914, -0.5420883 , -2.5997617 ,\n",
              "        1.1447917 ,  1.76708   , -1.04339   , -0.43704   ,  1.3334886 ,\n",
              "        0.8743017 , -0.4335227 , -1.300795  , -0.8290117 ,  0.85349673,\n",
              "        0.55415994,  0.8408434 ,  2.081147  , -2.3731282 ,  3.69645   ,\n",
              "        0.51774335, -0.59468997,  1.576445  , -2.1151502 ,  2.3901033 ,\n",
              "        0.99058324, -0.36993   , -0.12569003, -0.41635168,  0.9120083 ,\n",
              "        0.8165066 ,  0.6140783 ,  1.3656378 ,  1.60569   , -0.83229333,\n",
              "       -0.24193831, -0.6876917 , -1.1323756 , -0.6250834 ,  1.4843165 ,\n",
              "       -0.22089334,  1.2048184 ,  1.1305882 ,  1.7475    ,  0.8950917 ,\n",
              "       -0.05398335,  0.56316   , -1.5815719 ,  0.44279578, -0.6055016 ,\n",
              "        0.8557517 , -0.81851166, -0.7778683 , -0.34160617,  0.22898333,\n",
              "       -0.96672505, -1.0483084 ,  0.6315433 ,  1.7466732 ,  3.2673798 ,\n",
              "        0.69848984,  1.6915998 ,  0.9248883 ,  0.8657934 , -0.2504068 ,\n",
              "        0.9565564 , -0.336565  ,  0.66847986,  2.034197  ,  1.4874667 ,\n",
              "        0.75951666,  0.16724007, -1.0048499 ,  1.4498634 , -0.9771004 ,\n",
              "       -0.64833164,  2.5500834 ,  0.58934   , -0.8631528 ,  0.9804046 ,\n",
              "        0.8002427 ,  0.143455  ,  2.9387252 ,  0.58458   , -0.22530918,\n",
              "        1.6925068 ,  1.2365199 , -0.577995  , -0.67060834, -1.6971599 ,\n",
              "       -1.0688517 , -1.6598983 ,  0.18607499, -0.3345633 ,  0.74341327,\n",
              "        2.7151067 ,  1.0577139 , -2.355975  ,  0.50263506, -0.28707   ,\n",
              "       -1.6854035 ,  0.9371967 ,  0.85913664,  0.388005  , -0.34865332,\n",
              "        1.5879632 ,  1.3092833 ,  0.79384035, -0.8255396 , -0.03458998,\n",
              "        0.41065   , -0.75822   ,  1.1658733 ,  1.6366283 ,  0.03169997,\n",
              "        0.60920507,  1.1882566 ,  1.1849183 , -0.5396353 , -1.2436409 ,\n",
              "        1.0945541 ,  2.89165   ,  0.41860497, -2.5250332 ,  1.8222432 ,\n",
              "       -0.12959503, -0.48247996, -0.5975137 ,  0.48452333,  1.1964537 ,\n",
              "       -1.394155  ,  1.03382   ,  0.5532669 , -1.6994673 ,  0.04552996,\n",
              "        1.6343349 , -2.5106933 , -0.35549667,  1.6691717 , -0.95761496,\n",
              "       -1.4176787 ,  0.46807337, -0.5848332 ,  0.6409717 , -1.0353917 ,\n",
              "        0.31972   , -0.0611467 , -1.4181132 , -0.55559677, -0.62592053,\n",
              "        0.66207004, -0.07078997, -0.10574003, -1.1614746 ,  2.3819268 ,\n",
              "        0.2011317 ,  0.45052835, -0.1487907 ,  2.0765517 ,  2.7711535 ,\n",
              "        0.33811668, -1.3612255 , -0.35208476,  3.1783016 ,  1.395415  ,\n",
              "       -0.4326283 ,  1.1346633 ,  1.7879133 , -1.8505267 ,  1.3454313 ,\n",
              "       -0.6111717 , -0.15928334, -0.2897195 , -0.754005  ,  1.0617733 ,\n",
              "        2.2162833 ,  0.64329493,  0.7165701 ,  1.2843016 , -0.3341    ,\n",
              "        0.99159986,  1.5019323 ,  1.3624783 ,  0.20075333, -0.86287165,\n",
              "        1.7510982 , -1.4844984 ,  0.41160333,  1.8676449 ,  1.9759415 ,\n",
              "        0.8890219 , -0.23039998,  1.0365217 ,  1.0356479 ,  0.48600838,\n",
              "       -0.791745  , -0.836463  , -1.2638899 ,  0.35737333,  1.143865  ,\n",
              "       -0.64483666, -0.6531633 , -0.450835  , -0.05280334, -1.5376368 ],\n",
              "      dtype=float32)"
            ]
          },
          "metadata": {},
          "execution_count": 222
        }
      ]
    },
    {
      "cell_type": "markdown",
      "source": [
        "# Pregunta natural"
      ],
      "metadata": {
        "id": "8O7JR-my2gqi"
      }
    },
    {
      "cell_type": "code",
      "source": [
        "# Función para recibir pregunta del usuario\n",
        "def pregunta():\n",
        "  global preguntaPLN\n",
        "  preguntaPLN = nlp(input('''Si no recuerdas el término, pregúntame, o trata de escribir lo que recuerdes:\n",
        "(Nota: El diccionario cuenta con 70 términos. Trabajamos para que crezca)\n",
        "→ '''))"
      ],
      "metadata": {
        "id": "3bXO1XTL97S7"
      },
      "execution_count": null,
      "outputs": []
    },
    {
      "cell_type": "code",
      "source": [
        "# Preguntar: Documento que quemó Martín Lutero\n",
        "pregunta()"
      ],
      "metadata": {
        "colab": {
          "base_uri": "https://localhost:8080/"
        },
        "id": "Wkl8bjyp-khP",
        "outputId": "9bcd5f16-1fe3-41f7-ac49-46680c8e7760"
      },
      "execution_count": null,
      "outputs": [
        {
          "name": "stdout",
          "output_type": "stream",
          "text": [
            "Si no recuerdas el término, pregúntame, o trata de escribir lo que recuerdes:\n",
            "(Nota: El diccionario cuenta con 70 términos. Trabajamos para que crezca)\n",
            "→ Documento que quemó Martín Lutero\n"
          ]
        }
      ]
    },
    {
      "cell_type": "markdown",
      "source": [
        "La respuesta queda guardada como `preguntaPLN`"
      ],
      "metadata": {
        "id": "r2Gi6tQd-fx7"
      }
    },
    {
      "cell_type": "markdown",
      "source": [
        "# Respuesta al usuario"
      ],
      "metadata": {
        "id": "AsDszhmW2kzC"
      }
    },
    {
      "cell_type": "markdown",
      "source": [
        "## Vectores\n",
        "Cuando se vectorizan las palabras pueden compararse sus listas de vectores para encontrar la mayor coincidencia semántica, donde semántica se refiere a que aparecen en los mismos contextos.\n",
        "En este modelo se utilizará el módulo [`es_core_news_lg`](https://spacy.io/models/es). Es un modelo muy preciso; la desventaja es su tamaño en comparación con `es_core_news_md`, que es mucho más pequeño."
      ],
      "metadata": {
        "id": "T6QeFJLx-yyi"
      }
    },
    {
      "cell_type": "code",
      "source": [
        "# Ver similitud por vectores\n",
        "print(f'''Comparación\n",
        "\"Martín Lutero lee la Biblia\" vs \"Martín Lutero lee las Sagradas Escrituras\"\n",
        "Porcentaje de semejanza\n",
        "{round(nlp(\"Martín Lutero lee la Biblia\").similarity(nlp(\"Anita lava la bañera\"))*100, 2)} %\n",
        "Comparación\n",
        "\"Martín Lutero lee la Biblia\" vs \"Martín Lutero lee las 95 tesis\"\n",
        "Porcentaje de semejanza\n",
        "{round(nlp(\"Martín Lutero lee la Biblia\").similarity(nlp(\"Martín Lutero lee las 95 tesis\"))*100, 2)} %\n",
        "Comparación\n",
        "\"Martín Lutero lee la Biblia\" vs \"Martín Lutero escribe un himno\"\n",
        "Porcentaje de semejanza\n",
        "{round(nlp(\"Martín Lutero lee la Biblia\").similarity(nlp(\"Martín Lutero escribe un himno\"))*100, 2)} %\n",
        "Comparación\n",
        "\"Martín Lutero lee la Biblia\" vs \"Martín Lutero es un hereje\"\n",
        "Porcentaje de semejanza\n",
        "{round(nlp(\"Martín Lutero lee la Biblia\").similarity(nlp(\"Martín Lutero es un hereje\"))*100, 2)} %''')"
      ],
      "metadata": {
        "colab": {
          "base_uri": "https://localhost:8080/"
        },
        "id": "hOHrlGoH-sLC",
        "outputId": "0f4edc20-4643-48c3-b872-0225d15b1cf5"
      },
      "execution_count": null,
      "outputs": [
        {
          "output_type": "stream",
          "name": "stdout",
          "text": [
            "Comparación\n",
            "\"Martín Lutero lee la Biblia\" vs \"Martín Lutero lee las Sagradas Escrituras\"\n",
            "Porcentaje de semejanza\n",
            "59.89 %\n",
            "Comparación\n",
            "\"Martín Lutero lee la Biblia\" vs \"Martín Lutero lee las 95 tesis\"\n",
            "Porcentaje de semejanza\n",
            "42.63 %\n",
            "Comparación\n",
            "\"Martín Lutero lee la Biblia\" vs \"Martín Lutero escribe un himno\"\n",
            "Porcentaje de semejanza\n",
            "26.19 %\n",
            "Comparación\n",
            "\"Martín Lutero lee la Biblia\" vs \"Martín Lutero es un hereje\"\n",
            "Porcentaje de semejanza\n",
            "20.94 %\n"
          ]
        }
      ]
    },
    {
      "cell_type": "markdown",
      "source": [
        "## Comparar preguntaPLN vs diccionarioPLN"
      ],
      "metadata": {
        "id": "1vntPK-fAZI9"
      }
    },
    {
      "cell_type": "code",
      "source": [
        "# Función para comparar pregunta con el diccionario\n",
        "def compara():\n",
        "  global diccionarioPLN\n",
        "  global preguntaPLN\n",
        "  for i in diccionarioPLN: \n",
        "    diccionarioPLN['similitudLexema'] = diccionarioPLN['lexema'].apply(lambda x: x.similarity(preguntaPLN))\n",
        "  for i in diccionarioPLN:\n",
        "    diccionarioPLN['similitudDefinición'] = diccionarioPLN['definición'].apply(lambda x: x.similarity(preguntaPLN))\n",
        "  for i in diccionarioPLN:\n",
        "    diccionarioPLN['similitudExtra'] = diccionarioPLN['extra'].apply(lambda x: x.similarity(preguntaPLN))"
      ],
      "metadata": {
        "id": "DBe-kfCSAfHE"
      },
      "execution_count": null,
      "outputs": []
    },
    {
      "cell_type": "code",
      "source": [
        "# Comparar\n",
        "compara()\n",
        "# Ver resultados\n",
        "diccionarioPLN.head()"
      ],
      "metadata": {
        "colab": {
          "base_uri": "https://localhost:8080/",
          "height": 808
        },
        "id": "rcvCHW0aAhFu",
        "outputId": "34d9c1a0-5084-4b1f-e2da-a02034eb5ab9"
      },
      "execution_count": null,
      "outputs": [
        {
          "output_type": "execute_result",
          "data": {
            "text/plain": [
              "                                              lexema  \\\n",
              "0  (A, la, nobleza, cristiana, de, la, nación, al...   \n",
              "1                                      (Agustino, .)   \n",
              "2                          (Anabaptista, ,, iglesia)   \n",
              "3                            (Anglicana, ,, Iglesia)   \n",
              "4                                     (Arminiano, .)   \n",
              "\n",
              "                                          definición  \\\n",
              "0  (Manifiesto, de, Lutero, contra, la, ICAR, ,, ...   \n",
              "1   (Miembro, de, la, Orden, de,  , San, Agustín, .)   \n",
              "2  (Movimiento, reformado, que, pugnó, por, un, b...   \n",
              "3  (Movimiento, reformado, de, Inglaterra, con, m...   \n",
              "4  (Movimiento, de, la, reforma, iniciado, por, A...   \n",
              "\n",
              "                                               extra  similitudLexema  \\\n",
              "0  (An, den, christlichen, Adel, deutscher, Natio...         0.172685   \n",
              "1                (., Órdenes, católicas, ., ., ., .)         0.040489   \n",
              "2  (Anabautista, ;, Iglesia, anabaptista, Interpr...         0.319493   \n",
              "3  (Episcopal, ,, Iglesia, ;, Iglesia, anglicana,...         0.302047   \n",
              "4  (Wesleyano, ;, Interpretación, bíblica, ., La,...        -0.021928   \n",
              "\n",
              "   similitudDefinición  similitudExtra  \n",
              "0             0.250535        0.438220  \n",
              "1             0.030185        0.020325  \n",
              "2             0.697663        0.345578  \n",
              "3             0.326528        0.461949  \n",
              "4             0.452844        0.492200  "
            ],
            "text/html": [
              "\n",
              "  <div id=\"df-bfa19615-e062-4dba-8c89-372eea7f5212\">\n",
              "    <div class=\"colab-df-container\">\n",
              "      <div>\n",
              "<style scoped>\n",
              "    .dataframe tbody tr th:only-of-type {\n",
              "        vertical-align: middle;\n",
              "    }\n",
              "\n",
              "    .dataframe tbody tr th {\n",
              "        vertical-align: top;\n",
              "    }\n",
              "\n",
              "    .dataframe thead th {\n",
              "        text-align: right;\n",
              "    }\n",
              "</style>\n",
              "<table border=\"1\" class=\"dataframe\">\n",
              "  <thead>\n",
              "    <tr style=\"text-align: right;\">\n",
              "      <th></th>\n",
              "      <th>lexema</th>\n",
              "      <th>definición</th>\n",
              "      <th>extra</th>\n",
              "      <th>similitudLexema</th>\n",
              "      <th>similitudDefinición</th>\n",
              "      <th>similitudExtra</th>\n",
              "    </tr>\n",
              "  </thead>\n",
              "  <tbody>\n",
              "    <tr>\n",
              "      <th>0</th>\n",
              "      <td>(A, la, nobleza, cristiana, de, la, nación, al...</td>\n",
              "      <td>(Manifiesto, de, Lutero, contra, la, ICAR, ,, ...</td>\n",
              "      <td>(An, den, christlichen, Adel, deutscher, Natio...</td>\n",
              "      <td>0.172685</td>\n",
              "      <td>0.250535</td>\n",
              "      <td>0.438220</td>\n",
              "    </tr>\n",
              "    <tr>\n",
              "      <th>1</th>\n",
              "      <td>(Agustino, .)</td>\n",
              "      <td>(Miembro, de, la, Orden, de,  , San, Agustín, .)</td>\n",
              "      <td>(., Órdenes, católicas, ., ., ., .)</td>\n",
              "      <td>0.040489</td>\n",
              "      <td>0.030185</td>\n",
              "      <td>0.020325</td>\n",
              "    </tr>\n",
              "    <tr>\n",
              "      <th>2</th>\n",
              "      <td>(Anabaptista, ,, iglesia)</td>\n",
              "      <td>(Movimiento, reformado, que, pugnó, por, un, b...</td>\n",
              "      <td>(Anabautista, ;, Iglesia, anabaptista, Interpr...</td>\n",
              "      <td>0.319493</td>\n",
              "      <td>0.697663</td>\n",
              "      <td>0.345578</td>\n",
              "    </tr>\n",
              "    <tr>\n",
              "      <th>3</th>\n",
              "      <td>(Anglicana, ,, Iglesia)</td>\n",
              "      <td>(Movimiento, reformado, de, Inglaterra, con, m...</td>\n",
              "      <td>(Episcopal, ,, Iglesia, ;, Iglesia, anglicana,...</td>\n",
              "      <td>0.302047</td>\n",
              "      <td>0.326528</td>\n",
              "      <td>0.461949</td>\n",
              "    </tr>\n",
              "    <tr>\n",
              "      <th>4</th>\n",
              "      <td>(Arminiano, .)</td>\n",
              "      <td>(Movimiento, de, la, reforma, iniciado, por, A...</td>\n",
              "      <td>(Wesleyano, ;, Interpretación, bíblica, ., La,...</td>\n",
              "      <td>-0.021928</td>\n",
              "      <td>0.452844</td>\n",
              "      <td>0.492200</td>\n",
              "    </tr>\n",
              "  </tbody>\n",
              "</table>\n",
              "</div>\n",
              "      <button class=\"colab-df-convert\" onclick=\"convertToInteractive('df-bfa19615-e062-4dba-8c89-372eea7f5212')\"\n",
              "              title=\"Convert this dataframe to an interactive table.\"\n",
              "              style=\"display:none;\">\n",
              "        \n",
              "  <svg xmlns=\"http://www.w3.org/2000/svg\" height=\"24px\"viewBox=\"0 0 24 24\"\n",
              "       width=\"24px\">\n",
              "    <path d=\"M0 0h24v24H0V0z\" fill=\"none\"/>\n",
              "    <path d=\"M18.56 5.44l.94 2.06.94-2.06 2.06-.94-2.06-.94-.94-2.06-.94 2.06-2.06.94zm-11 1L8.5 8.5l.94-2.06 2.06-.94-2.06-.94L8.5 2.5l-.94 2.06-2.06.94zm10 10l.94 2.06.94-2.06 2.06-.94-2.06-.94-.94-2.06-.94 2.06-2.06.94z\"/><path d=\"M17.41 7.96l-1.37-1.37c-.4-.4-.92-.59-1.43-.59-.52 0-1.04.2-1.43.59L10.3 9.45l-7.72 7.72c-.78.78-.78 2.05 0 2.83L4 21.41c.39.39.9.59 1.41.59.51 0 1.02-.2 1.41-.59l7.78-7.78 2.81-2.81c.8-.78.8-2.07 0-2.86zM5.41 20L4 18.59l7.72-7.72 1.47 1.35L5.41 20z\"/>\n",
              "  </svg>\n",
              "      </button>\n",
              "      \n",
              "  <style>\n",
              "    .colab-df-container {\n",
              "      display:flex;\n",
              "      flex-wrap:wrap;\n",
              "      gap: 12px;\n",
              "    }\n",
              "\n",
              "    .colab-df-convert {\n",
              "      background-color: #E8F0FE;\n",
              "      border: none;\n",
              "      border-radius: 50%;\n",
              "      cursor: pointer;\n",
              "      display: none;\n",
              "      fill: #1967D2;\n",
              "      height: 32px;\n",
              "      padding: 0 0 0 0;\n",
              "      width: 32px;\n",
              "    }\n",
              "\n",
              "    .colab-df-convert:hover {\n",
              "      background-color: #E2EBFA;\n",
              "      box-shadow: 0px 1px 2px rgba(60, 64, 67, 0.3), 0px 1px 3px 1px rgba(60, 64, 67, 0.15);\n",
              "      fill: #174EA6;\n",
              "    }\n",
              "\n",
              "    [theme=dark] .colab-df-convert {\n",
              "      background-color: #3B4455;\n",
              "      fill: #D2E3FC;\n",
              "    }\n",
              "\n",
              "    [theme=dark] .colab-df-convert:hover {\n",
              "      background-color: #434B5C;\n",
              "      box-shadow: 0px 1px 3px 1px rgba(0, 0, 0, 0.15);\n",
              "      filter: drop-shadow(0px 1px 2px rgba(0, 0, 0, 0.3));\n",
              "      fill: #FFFFFF;\n",
              "    }\n",
              "  </style>\n",
              "\n",
              "      <script>\n",
              "        const buttonEl =\n",
              "          document.querySelector('#df-bfa19615-e062-4dba-8c89-372eea7f5212 button.colab-df-convert');\n",
              "        buttonEl.style.display =\n",
              "          google.colab.kernel.accessAllowed ? 'block' : 'none';\n",
              "\n",
              "        async function convertToInteractive(key) {\n",
              "          const element = document.querySelector('#df-bfa19615-e062-4dba-8c89-372eea7f5212');\n",
              "          const dataTable =\n",
              "            await google.colab.kernel.invokeFunction('convertToInteractive',\n",
              "                                                     [key], {});\n",
              "          if (!dataTable) return;\n",
              "\n",
              "          const docLinkHtml = 'Like what you see? Visit the ' +\n",
              "            '<a target=\"_blank\" href=https://colab.research.google.com/notebooks/data_table.ipynb>data table notebook</a>'\n",
              "            + ' to learn more about interactive tables.';\n",
              "          element.innerHTML = '';\n",
              "          dataTable['output_type'] = 'display_data';\n",
              "          await google.colab.output.renderOutput(dataTable, element);\n",
              "          const docLink = document.createElement('div');\n",
              "          docLink.innerHTML = docLinkHtml;\n",
              "          element.appendChild(docLink);\n",
              "        }\n",
              "      </script>\n",
              "    </div>\n",
              "  </div>\n",
              "  "
            ],
            "application/vnd.google.colaboratory.module+javascript": "\n      import \"https://ssl.gstatic.com/colaboratory/data_table/a8bd4d5e58f96183/data_table.js\";\n\n      window.createDataTable({\n        data: [[{\n            'v': 0,\n            'f': \"0\",\n        },\n\"A la nobleza cristiana de la naci\\u00f3n alemana.\",\n\"Manifiesto de Lutero contra la ICAR, donde invita a Carlos V y a los principales de Alemania a reformar la Iglesia. |\",\n\"An den christlichen Adel deutscher Nation von des christlichen Standes Besserung; Literatura reformada . Se\\u00f1ala los tres muros del romanismo a derribar: supremac\\u00eda del clero, monopolio interpretativo de las Escrituras, y supremac\\u00eda del Papa para convocar concilios. Critica el lujo excesivo romano. Denuncia los m\\u00e9todos para el abuso financiero, arrendatario y tambi\\u00e9n al Derecho Can\\u00f3nico. |  Lutero da 28 propuestas y a lo largo de ellas y en todo el escrito, presenta una pre-separaci\\u00f3n de iglesia y estado y una pre-desamortizaci\\u00f3n de bienes eclesi\\u00e1sticos en Alemania. Tambi\\u00e9n frenar los impuestos y poderes a Roma, reducir asalariados , los lujos en Roma, juramentos, ceremonias, liturgias, regular las peregrinaciones, los conventos, votos y celibato, sacerdotes, misas, penas y el Derecho Can\\u00f3nico, fiestas y domingos, v\\u00ednculos de parentesco, canonizaci\\u00f3n, ventas de documentos eclesiales, mendicidad, relaci\\u00f3n con los bohemios, la did\\u00e1ctica y literatura en universidades, gobierno alem\\u00e1n, pr\\u00e9stamo, comercio y prost\\u00edbulos. |  En la Dieta de Worms se demand\\u00f3 a Lutero retractarse de este escrito. Parte de la respuesta alemana fue la Confesi\\u00f3n de Augsburgo, presentada a Carlos V en 1530.\",\n{\n            'v': 0.17268524611406097,\n            'f': \"0.17268524611406097\",\n        },\n{\n            'v': 0.2505351698376587,\n            'f': \"0.2505351698376587\",\n        },\n{\n            'v': 0.43821962468787107,\n            'f': \"0.43821962468787107\",\n        }],\n [{\n            'v': 1,\n            'f': \"1\",\n        },\n\"Agustino.\",\n\"Miembro de la Orden de  San Agust\\u00edn.\",\n\". \\u00d3rdenes cat\\u00f3licas . . . .\",\n{\n            'v': 0.04048942310604305,\n            'f': \"0.04048942310604305\",\n        },\n{\n            'v': 0.03018542184945831,\n            'f': \"0.03018542184945831\",\n        },\n{\n            'v': 0.02032504819374367,\n            'f': \"0.02032504819374367\",\n        }],\n [{\n            'v': 2,\n            'f': \"2\",\n        },\n\"Anabaptista, iglesia\",\n\"Movimiento reformado que pugn\\u00f3 por un bautizo con una fe consciente, contrario al bautismo infantil.\",\n\"Anabautista; Iglesia anabaptista Interpretaci\\u00f3n b\\u00edblica Manifestaban un desacuerdo a hacer juramentos, la pena capital y el ejercicio magisterial. Tambi\\u00e9n profesaban s\\u00f3lidamente la John of Leiden Sola Scriptura. Rechazan la justificaci\\u00f3n s\\u00f3lo por fe. Desde el siglo XI-XII ya estaba en controversia la doctrina con Pedro de Bruys, Enrique de Lausana, Pedro de Valdo, los albigenses y los hermanos de bohemia. De esta corriente nacen los menonitas, huteritas, Sociedad Religiosa de los Amigos, bautistas, amish, entre otros. | Se gesta en tres lugares principales:  Primero en Suiza, con ex-disc\\u00edpulos de Zwinglio, Conrado Grebel, F\\u00e9lix Manz, Jorge Blaurock, y otros, son los primeron en rebautizarse, figuran tambi\\u00e9n  Juan Denk, Baltazar Hubmaier, entre otros;  Sajonia y Turingia, con Nicol\\u00e1s Storch, Tom\\u00e1s M\\u00fcntzer y los Profetas de Zwickau; en M\\u00fcnster, con Melchor Hoffman y sus disc\\u00edpulos. | Ser rebautizado era considerado traici\\u00f3n y se castigaba con fuertes penas de muerte. Fueron martirizados por cat\\u00f3licos y protestantes.\",\n{\n            'v': 0.3194934034271435,\n            'f': \"0.3194934034271435\",\n        },\n{\n            'v': 0.6976633850926127,\n            'f': \"0.6976633850926127\",\n        },\n{\n            'v': 0.3455781834142983,\n            'f': \"0.3455781834142983\",\n        }],\n [{\n            'v': 3,\n            'f': \"3\",\n        },\n\"Anglicana, Iglesia\",\n\"Movimiento reformado de Inglaterra con matices cat\\u00f3licos, basado en el Libro de Oraci\\u00f3n Com\\u00fan.\",\n\"Episcopal, Iglesia; Iglesia anglicana . Primera iglesia protestante estatal, por orden de Enrique VIII, quien acepta la doctrina de Tom\\u00e1s Cranmer por razones personales y gubernamentales m\\u00e1s que religiosas. | \\\"Anglicana\\\" refer\\u00eda s\\u00f3lo a procedencia, hasta el siglo XVIII, que adquiere un significado de teolog\\u00eda. El desarrollo de la iglesia es dif\\u00edcil, con reyes y reinas que reprim\\u00edan la Reforma Protestante, como el mismo Enrique VIII, y otros que la fomentaban, como Isabel I. | Mantiene elementos de la ICAR, pero no la dependencia.\",\n{\n            'v': 0.3020473926054003,\n            'f': \"0.3020473926054003\",\n        },\n{\n            'v': 0.32652768609687505,\n            'f': \"0.32652768609687505\",\n        },\n{\n            'v': 0.46194879614005613,\n            'f': \"0.46194879614005613\",\n        }],\n [{\n            'v': 4,\n            'f': \"4\",\n        },\n\"Arminiano.\",\n\"Movimiento de la reforma iniciado por Arminio como contra-respuesta al calvinista Gomarus.\",\n\"Wesleyano; Interpretaci\\u00f3n b\\u00edblica . La doctrina es sintetizada en los Cinco puntos del armnianismo, hecha por los Remonstrantes, quienes iniciaron en s\\u00ed, el movimiento, y la cual es un punto medio entre el hiper calvinismo gomarista y el pelagianismo. | Desp\\u00faes del S\\u00ednodo de Dort, fueron perseguidos, pero en 1630 fueron tolerados legalmente. | Los menonitas aceptan su doctrina. En el siglo XVIII, Juan Weasley tomar\\u00eda la doctrina arminiana en la iglesia que se llamar\\u00eda metodista.\",\n{\n            'v': -0.02192779257769548,\n            'f': \"-0.02192779257769548\",\n        },\n{\n            'v': 0.4528442804351034,\n            'f': \"0.4528442804351034\",\n        },\n{\n            'v': 0.4921997689984905,\n            'f': \"0.4921997689984905\",\n        }]],\n        columns: [[\"number\", \"index\"], [\"string\", \"lexema\"], [\"string\", \"definici\\u00f3n\"], [\"string\", \"extra\"], [\"number\", \"similitudLexema\"], [\"number\", \"similitudDefinici\\u00f3n\"], [\"number\", \"similitudExtra\"]],\n        columnOptions: [{\"width\": \"1px\", \"className\": \"index_column\"}],\n        rowsPerPage: 25,\n        helpUrl: \"https://colab.research.google.com/notebooks/data_table.ipynb\",\n        suppressOutputScrolling: true,\n        minimumWidth: undefined,\n      });\n    "
          },
          "metadata": {},
          "execution_count": 226
        }
      ]
    },
    {
      "cell_type": "markdown",
      "source": [
        "## Resultados al usuario"
      ],
      "metadata": {
        "id": "RmhAeC9DAuP_"
      }
    },
    {
      "cell_type": "code",
      "source": [
        "def resultados():\n",
        "  lexema = diccionarioPLN.sort_values(by='similitudLexema', ascending=False).reset_index().drop(columns='index')\n",
        "  definir = diccionarioPLN.sort_values(by='similitudDefinición', ascending=False).reset_index().drop(columns='index')\n",
        "  extra = diccionarioPLN.sort_values(by='similitudExtra', ascending=False).reset_index().drop(columns='index')\n",
        "\n",
        "  # Lexema\n",
        "  print('\\nBúsqueda en lista de lexemas. 10 coincidencias más cercanas:\\n')\n",
        "  for l in range(0,10):\n",
        "    l += 0\n",
        "    print(f'''{l+1}. {lexema.loc[l, 'lexema']}:   {round(lexema.loc[l, 'similitudLexema']*100, 2)} % de similitud''')\n",
        "\n",
        "  # Definiciones\n",
        "  print('\\nBúsqueda en lista de definiciones. 10 coincidencias más cercanas:\\n')\n",
        "  for d in range(0,9):\n",
        "    d += 0\n",
        "    print(f'''{d+1}. {definir.loc[d, 'lexema']}:  {round(definir.loc[d, 'similitudDefinición']*100, 2)} % de similitud''')\n",
        "  \n",
        "  # Extra\n",
        "  print('\\n\\nBúsqueda en lista de información extra. 10 coincidencias más cercanas:\\n')\n",
        "  for e in range(0,9):\n",
        "    e += 0\n",
        "    print(f'''{e+1}. {extra.loc[e, 'lexema']}:   {round(extra.loc[e, 'similitudExtra']*100, 2)} % de similitud''')\n",
        "  print('\\n')"
      ],
      "metadata": {
        "id": "9jHfPbEvAxKj"
      },
      "execution_count": null,
      "outputs": []
    },
    {
      "cell_type": "code",
      "source": [
        "resultados()"
      ],
      "metadata": {
        "colab": {
          "base_uri": "https://localhost:8080/"
        },
        "id": "lTc6YR6HBoo2",
        "outputId": "60566332-0884-4e77-a99d-965440daccef"
      },
      "execution_count": null,
      "outputs": [
        {
          "output_type": "stream",
          "name": "stdout",
          "text": [
            "\n",
            "Búsqueda en lista de lexemas. 10 coincidencias más cercanas:\n",
            "\n",
            "1. Sacramento:   32.62 % de similitud\n",
            "2. Anabaptista, iglesia:   31.95 % de similitud\n",
            "3. Anglicana, Iglesia:   30.2 % de similitud\n",
            "4. Castillo fuerte es nuestro Dios.:   27.8 % de similitud\n",
            "5. De la libertad del cristiano.:   20.64 % de similitud\n",
            "6. Noventa y cinco tesis.:   18.03 % de similitud\n",
            "7. A la nobleza cristiana de la nación alemana.:   17.27 % de similitud\n",
            "8. Valdense, grupo.:   15.87 % de similitud\n",
            "9. Reforma Protestante.:   15.53 % de similitud\n",
            "10. Calvinismo.:   15.51 % de similitud\n",
            "\n",
            "Búsqueda en lista de definiciones. 10 coincidencias más cercanas:\n",
            "\n",
            "1. Sacramento:  72.24 % de similitud\n",
            "2. Cinco puntos calvinistas. 1. Totalidad depravada.:  71.48 % de similitud\n",
            "3. Anabaptista, iglesia:  69.77 % de similitud\n",
            "4. Cinco solas. Sola fide.:  65.93 % de similitud\n",
            "5. Paz de Augsburgo.:  61.04 % de similitud\n",
            "6. Indulgencia.:  57.88 % de similitud\n",
            "7. Valdense, grupo.:  55.63 % de similitud\n",
            "8. Exsurge Domine.:  53.87 % de similitud\n",
            "9. Eucaristía. Transubstanciación.:  50.83 % de similitud\n",
            "\n",
            "\n",
            "Búsqueda en lista de información extra. 10 coincidencias más cercanas:\n",
            "\n",
            "1. Cautividad babilónica de la Iglesia, La:   65.62 % de similitud\n",
            "2. Cinco solas. Soli Deo Gloria.:   60.66 % de similitud\n",
            "3. Coral.:   58.79 % de similitud\n",
            "4. Cinco puntos calvinistas. 1. Totalidad depravada.:   56.59 % de similitud\n",
            "5. Disputa de Leipzig.:   56.11 % de similitud\n",
            "6. Eucaristía.:   55.82 % de similitud\n",
            "7. Noventa y cinco tesis.:   54.84 % de similitud\n",
            "8. Decet romanum pontificem.:   54.18 % de similitud\n",
            "9. Cinco puntos calvinistas. 5. Perseverancia de los Santos.:   53.51 % de similitud\n",
            "\n",
            "\n"
          ]
        }
      ]
    },
    {
      "cell_type": "markdown",
      "source": [
        "El \"Documento que quemó Martín Lutero\" que yo tenía en mente era la bula *Exsurge Domine*:\n",
        " - En **lexemas** no aparece\n",
        " - En **definiciones** sí aparece \n",
        "  - 6o lugar\n",
        "  - 47.09 % de similitud\n",
        " - En **información extra** sí aparece\n",
        "  - 7o lugar\n",
        "  - 46.22 % de similitud"
      ],
      "metadata": {
        "id": "WZFhPpE0CZOC"
      }
    },
    {
      "cell_type": "code",
      "source": [
        "verlexemas()"
      ],
      "metadata": {
        "colab": {
          "base_uri": "https://localhost:8080/",
          "height": 529
        },
        "id": "9CUuTEJLDFgn",
        "outputId": "e4ed4565-3b06-4f8e-f974-feeb1c0c4f02"
      },
      "execution_count": null,
      "outputs": [
        {
          "output_type": "execute_result",
          "data": {
            "text/html": [
              "<div>\n",
              "<style scoped>\n",
              "    .dataframe tbody tr th:only-of-type {\n",
              "        vertical-align: middle;\n",
              "    }\n",
              "\n",
              "    .dataframe tbody tr th {\n",
              "        vertical-align: top;\n",
              "    }\n",
              "\n",
              "    .dataframe thead th {\n",
              "        text-align: right;\n",
              "    }\n",
              "</style>\n",
              "<table border=\"1\" class=\"dataframe\">\n",
              "  <thead>\n",
              "    <tr style=\"text-align: right;\">\n",
              "      <th></th>\n",
              "      <th>lexema</th>\n",
              "    </tr>\n",
              "  </thead>\n",
              "  <tbody>\n",
              "    <tr>\n",
              "      <th>0</th>\n",
              "      <td>(A, la, nobleza, cristiana, de, la, nación, al...</td>\n",
              "    </tr>\n",
              "    <tr>\n",
              "      <th>1</th>\n",
              "      <td>(Agustino, .)</td>\n",
              "    </tr>\n",
              "    <tr>\n",
              "      <th>2</th>\n",
              "      <td>(Anabaptista, ,, iglesia)</td>\n",
              "    </tr>\n",
              "    <tr>\n",
              "      <th>3</th>\n",
              "      <td>(Anglicana, ,, Iglesia)</td>\n",
              "    </tr>\n",
              "    <tr>\n",
              "      <th>4</th>\n",
              "      <td>(Arminiano, .)</td>\n",
              "    </tr>\n",
              "    <tr>\n",
              "      <th>...</th>\n",
              "      <td>...</td>\n",
              "    </tr>\n",
              "    <tr>\n",
              "      <th>65</th>\n",
              "      <td>(Sacramento)</td>\n",
              "    </tr>\n",
              "    <tr>\n",
              "      <th>66</th>\n",
              "      <td>(Salterio, de, Ginebra, .)</td>\n",
              "    </tr>\n",
              "    <tr>\n",
              "      <th>67</th>\n",
              "      <td>(Sínodo, de, Dort, .)</td>\n",
              "    </tr>\n",
              "    <tr>\n",
              "      <th>68</th>\n",
              "      <td>(Sínodo, .)</td>\n",
              "    </tr>\n",
              "    <tr>\n",
              "      <th>69</th>\n",
              "      <td>(Valdense, ,, grupo, .)</td>\n",
              "    </tr>\n",
              "  </tbody>\n",
              "</table>\n",
              "<p>70 rows × 1 columns</p>\n",
              "</div>"
            ],
            "application/vnd.google.colaboratory.module+javascript": "\n      import \"https://ssl.gstatic.com/colaboratory/data_table/a8bd4d5e58f96183/data_table.js\";\n\n      window.createDataTable({\n        data: [[{\n            'v': 0,\n            'f': \"0\",\n        },\n\"A la nobleza cristiana de la naci\\u00f3n alemana.\"],\n [{\n            'v': 1,\n            'f': \"1\",\n        },\n\"Agustino.\"],\n [{\n            'v': 2,\n            'f': \"2\",\n        },\n\"Anabaptista, iglesia\"],\n [{\n            'v': 3,\n            'f': \"3\",\n        },\n\"Anglicana, Iglesia\"],\n [{\n            'v': 4,\n            'f': \"4\",\n        },\n\"Arminiano.\"],\n [{\n            'v': 5,\n            'f': \"5\",\n        },\n\"Barba.\"],\n [{\n            'v': 6,\n            'f': \"6\",\n        },\n\"Bula.\"],\n [{\n            'v': 7,\n            'f': \"7\",\n        },\n\"Calvinismo.\"],\n [{\n            'v': 8,\n            'f': \"8\",\n        },\n\"Canon.\"],\n [{\n            'v': 9,\n            'f': \"9\",\n        },\n\"Canon. Canon b\\u00edblico.\"],\n [{\n            'v': 10,\n            'f': \"10\",\n        },\n\"Castillo fuerte es nuestro Dios.\"],\n [{\n            'v': 11,\n            'f': \"11\",\n        },\n\"Cautividad babil\\u00f3nica de la Iglesia, La\"],\n [{\n            'v': 12,\n            'f': \"12\",\n        },\n\"Cinco puntos calvinistas.\"],\n [{\n            'v': 13,\n            'f': \"13\",\n        },\n\"Cinco puntos calvinistas. 1. Totalidad depravada.\"],\n [{\n            'v': 14,\n            'f': \"14\",\n        },\n\"Cinco puntos calvinistas. 2. Una elecci\\u00f3n incondicional.\"],\n [{\n            'v': 15,\n            'f': \"15\",\n        },\n\"Cinco puntos calvinistas. 3. Limitada expiaci\\u00f3n.\"],\n [{\n            'v': 16,\n            'f': \"16\",\n        },\n\"Cinco puntos calvinistas. 4. Irresistible gracia.\"],\n [{\n            'v': 17,\n            'f': \"17\",\n        },\n\"Cinco puntos calvinistas. 5. Perseverancia de los Santos.\"],\n [{\n            'v': 18,\n            'f': \"18\",\n        },\n\"Cinco Solas.\"],\n [{\n            'v': 19,\n            'f': \"19\",\n        },\n\"Cinco solas. Sola fide.\"],\n [{\n            'v': 20,\n            'f': \"20\",\n        },\n\"Cinco solas. Sola gratia.\"],\n [{\n            'v': 21,\n            'f': \"21\",\n        },\n\"Cinco solas. Sola Scriptura.\"],\n [{\n            'v': 22,\n            'f': \"22\",\n        },\n\"Cinco solas. Soli Deo Gloria.\"],\n [{\n            'v': 23,\n            'f': \"23\",\n        },\n\"Cinco solas. Solus Christus.\"],\n [{\n            'v': 24,\n            'f': \"24\",\n        },\n\"Cisma.\"],\n [{\n            'v': 25,\n            'f': \"25\",\n        },\n\"Concilio.\"],\n [{\n            'v': 26,\n            'f': \"26\",\n        },\n\"Concilio. Concilio de Trento.\"],\n [{\n            'v': 27,\n            'f': \"27\",\n        },\n\"Consenso Tigurinus.\"],\n [{\n            'v': 28,\n            'f': \"28\",\n        },\n\"Coral.\"],\n [{\n            'v': 29,\n            'f': \"29\",\n        },\n\"De la libertad del cristiano.\"],\n [{\n            'v': 30,\n            'f': \"30\",\n        },\n\"Decet romanum pontificem.\"],\n [{\n            'v': 31,\n            'f': \"31\",\n        },\n\"Dieta.\"],\n [{\n            'v': 32,\n            'f': \"32\",\n        },\n\"Dieta. Dieta de Augsburgo.\"],\n [{\n            'v': 33,\n            'f': \"33\",\n        },\n\"Dieta. Dieta de Worms.\"],\n [{\n            'v': 34,\n            'f': \"34\",\n        },\n\"Disputa de Leipzig.\"],\n [{\n            'v': 35,\n            'f': \"35\",\n        },\n\"Edicto de Nantes.\"],\n [{\n            'v': 36,\n            'f': \"36\",\n        },\n\"Eucarist\\u00eda.\"],\n [{\n            'v': 37,\n            'f': \"37\",\n        },\n\"Eucarist\\u00eda. Anamnesis.\"],\n [{\n            'v': 38,\n            'f': \"38\",\n        },\n\"Eucarist\\u00eda. Consubstanciaci\\u00f3n.\"],\n [{\n            'v': 39,\n            'f': \"39\",\n        },\n\"Eucarist\\u00eda. Espiritualizaci\\u00f3n.\"],\n [{\n            'v': 40,\n            'f': \"40\",\n        },\n\"Eucarist\\u00eda. Transubstanciaci\\u00f3n.\"],\n [{\n            'v': 41,\n            'f': \"41\",\n        },\n\"Excomuni\\u00f3n.\"],\n [{\n            'v': 42,\n            'f': \"42\",\n        },\n\"Exsurge Domine.\"],\n [{\n            'v': 43,\n            'f': \"43\",\n        },\n\"Gomarista.\"],\n [{\n            'v': 44,\n            'f': \"44\",\n        },\n\"Guerra de Esmalcalda.\"],\n [{\n            'v': 45,\n            'f': \"45\",\n        },\n\"Guerra de los ochenta a\\u00f1os.\"],\n [{\n            'v': 46,\n            'f': \"46\",\n        },\n\"Hugonote, grupo.\"],\n [{\n            'v': 47,\n            'f': \"47\",\n        },\n\"Husita, grupo.\"],\n [{\n            'v': 48,\n            'f': \"48\",\n        },\n\"Huterita, grupo.\"],\n [{\n            'v': 49,\n            'f': \"49\",\n        },\n\"Indulgencia.\"],\n [{\n            'v': 50,\n            'f': \"50\",\n        },\n\"Instituci\\u00f3n de la Religi\\u00f3n Cristiana.\"],\n [{\n            'v': 51,\n            'f': \"51\",\n        },\n\"Libre examen.\"],\n [{\n            'v': 52,\n            'f': \"52\",\n        },\n\"Libro de la Concordia.\"],\n [{\n            'v': 53,\n            'f': \"53\",\n        },\n\"Libro de oraci\\u00f3n com\\u00fan.\"],\n [{\n            'v': 54,\n            'f': \"54\",\n        },\n\"Lolarda, grupo.\"],\n [{\n            'v': 55,\n            'f': \"55\",\n        },\n\"Luteranismo.\"],\n [{\n            'v': 56,\n            'f': \"56\",\n        },\n\"Matanza de San Bartolom\\u00e9.\"],\n [{\n            'v': 57,\n            'f': \"57\",\n        },\n\"Noventa y cinco tesis.\"],\n [{\n            'v': 58,\n            'f': \"58\",\n        },\n\"Orden de San Agust\\u00edn.\"],\n [{\n            'v': 59,\n            'f': \"59\",\n        },\n\"Paz de Augsburgo.\"],\n [{\n            'v': 60,\n            'f': \"60\",\n        },\n\"Penitencia.\"],\n [{\n            'v': 61,\n            'f': \"61\",\n        },\n\"Presbiterianismo.\"],\n [{\n            'v': 62,\n            'f': \"62\",\n        },\n\"Protesta de Espira\"],\n [{\n            'v': 63,\n            'f': \"63\",\n        },\n\"Reforma Protestante.\"],\n [{\n            'v': 64,\n            'f': \"64\",\n        },\n\"Remonstrante.\"],\n [{\n            'v': 65,\n            'f': \"65\",\n        },\n\"Sacramento\"],\n [{\n            'v': 66,\n            'f': \"66\",\n        },\n\"Salterio de Ginebra.\"],\n [{\n            'v': 67,\n            'f': \"67\",\n        },\n\"S\\u00ednodo de Dort.\"],\n [{\n            'v': 68,\n            'f': \"68\",\n        },\n\"S\\u00ednodo.\"],\n [{\n            'v': 69,\n            'f': \"69\",\n        },\n\"Valdense, grupo.\"]],\n        columns: [[\"number\", \"index\"], [\"string\", \"lexema\"]],\n        columnOptions: [{\"width\": \"1px\", \"className\": \"index_column\"}],\n        rowsPerPage: 20,\n        helpUrl: \"https://colab.research.google.com/notebooks/data_table.ipynb\",\n        suppressOutputScrolling: true,\n        minimumWidth: undefined,\n      });\n    ",
            "text/plain": [
              "<google.colab.data_table.DataTable object>"
            ]
          },
          "metadata": {},
          "execution_count": 229
        }
      ]
    },
    {
      "cell_type": "code",
      "source": [
        "verunlexema(42)"
      ],
      "metadata": {
        "colab": {
          "base_uri": "https://localhost:8080/",
          "height": 252
        },
        "id": "M7an4r2QEHgh",
        "outputId": "53a8f568-bbd5-4a99-a300-d87d75ebd212"
      },
      "execution_count": 338,
      "outputs": [
        {
          "output_type": "execute_result",
          "data": {
            "text/plain": [
              "                                                  diccionario\n",
              "Lexema                                   (Exsurge, Domine, .)\n",
              "Definición  (Bula, disciplinaria, dirigida, a, Martín, Lut...\n",
              "Extra       (Bula, contra, los, errores, de, Martín, Luter..."
            ],
            "text/html": [
              "\n",
              "  <div id=\"df-42659693-f718-40c5-ae10-4f82a36af55e\">\n",
              "    <div class=\"colab-df-container\">\n",
              "      <div>\n",
              "<style scoped>\n",
              "    .dataframe tbody tr th:only-of-type {\n",
              "        vertical-align: middle;\n",
              "    }\n",
              "\n",
              "    .dataframe tbody tr th {\n",
              "        vertical-align: top;\n",
              "    }\n",
              "\n",
              "    .dataframe thead th {\n",
              "        text-align: right;\n",
              "    }\n",
              "</style>\n",
              "<table border=\"1\" class=\"dataframe\">\n",
              "  <thead>\n",
              "    <tr style=\"text-align: right;\">\n",
              "      <th></th>\n",
              "      <th>diccionario</th>\n",
              "    </tr>\n",
              "  </thead>\n",
              "  <tbody>\n",
              "    <tr>\n",
              "      <th>Lexema</th>\n",
              "      <td>(Exsurge, Domine, .)</td>\n",
              "    </tr>\n",
              "    <tr>\n",
              "      <th>Definición</th>\n",
              "      <td>(Bula, disciplinaria, dirigida, a, Martín, Lut...</td>\n",
              "    </tr>\n",
              "    <tr>\n",
              "      <th>Extra</th>\n",
              "      <td>(Bula, contra, los, errores, de, Martín, Luter...</td>\n",
              "    </tr>\n",
              "  </tbody>\n",
              "</table>\n",
              "</div>\n",
              "      <button class=\"colab-df-convert\" onclick=\"convertToInteractive('df-42659693-f718-40c5-ae10-4f82a36af55e')\"\n",
              "              title=\"Convert this dataframe to an interactive table.\"\n",
              "              style=\"display:none;\">\n",
              "        \n",
              "  <svg xmlns=\"http://www.w3.org/2000/svg\" height=\"24px\"viewBox=\"0 0 24 24\"\n",
              "       width=\"24px\">\n",
              "    <path d=\"M0 0h24v24H0V0z\" fill=\"none\"/>\n",
              "    <path d=\"M18.56 5.44l.94 2.06.94-2.06 2.06-.94-2.06-.94-.94-2.06-.94 2.06-2.06.94zm-11 1L8.5 8.5l.94-2.06 2.06-.94-2.06-.94L8.5 2.5l-.94 2.06-2.06.94zm10 10l.94 2.06.94-2.06 2.06-.94-2.06-.94-.94-2.06-.94 2.06-2.06.94z\"/><path d=\"M17.41 7.96l-1.37-1.37c-.4-.4-.92-.59-1.43-.59-.52 0-1.04.2-1.43.59L10.3 9.45l-7.72 7.72c-.78.78-.78 2.05 0 2.83L4 21.41c.39.39.9.59 1.41.59.51 0 1.02-.2 1.41-.59l7.78-7.78 2.81-2.81c.8-.78.8-2.07 0-2.86zM5.41 20L4 18.59l7.72-7.72 1.47 1.35L5.41 20z\"/>\n",
              "  </svg>\n",
              "      </button>\n",
              "      \n",
              "  <style>\n",
              "    .colab-df-container {\n",
              "      display:flex;\n",
              "      flex-wrap:wrap;\n",
              "      gap: 12px;\n",
              "    }\n",
              "\n",
              "    .colab-df-convert {\n",
              "      background-color: #E8F0FE;\n",
              "      border: none;\n",
              "      border-radius: 50%;\n",
              "      cursor: pointer;\n",
              "      display: none;\n",
              "      fill: #1967D2;\n",
              "      height: 32px;\n",
              "      padding: 0 0 0 0;\n",
              "      width: 32px;\n",
              "    }\n",
              "\n",
              "    .colab-df-convert:hover {\n",
              "      background-color: #E2EBFA;\n",
              "      box-shadow: 0px 1px 2px rgba(60, 64, 67, 0.3), 0px 1px 3px 1px rgba(60, 64, 67, 0.15);\n",
              "      fill: #174EA6;\n",
              "    }\n",
              "\n",
              "    [theme=dark] .colab-df-convert {\n",
              "      background-color: #3B4455;\n",
              "      fill: #D2E3FC;\n",
              "    }\n",
              "\n",
              "    [theme=dark] .colab-df-convert:hover {\n",
              "      background-color: #434B5C;\n",
              "      box-shadow: 0px 1px 3px 1px rgba(0, 0, 0, 0.15);\n",
              "      filter: drop-shadow(0px 1px 2px rgba(0, 0, 0, 0.3));\n",
              "      fill: #FFFFFF;\n",
              "    }\n",
              "  </style>\n",
              "\n",
              "      <script>\n",
              "        const buttonEl =\n",
              "          document.querySelector('#df-42659693-f718-40c5-ae10-4f82a36af55e button.colab-df-convert');\n",
              "        buttonEl.style.display =\n",
              "          google.colab.kernel.accessAllowed ? 'block' : 'none';\n",
              "\n",
              "        async function convertToInteractive(key) {\n",
              "          const element = document.querySelector('#df-42659693-f718-40c5-ae10-4f82a36af55e');\n",
              "          const dataTable =\n",
              "            await google.colab.kernel.invokeFunction('convertToInteractive',\n",
              "                                                     [key], {});\n",
              "          if (!dataTable) return;\n",
              "\n",
              "          const docLinkHtml = 'Like what you see? Visit the ' +\n",
              "            '<a target=\"_blank\" href=https://colab.research.google.com/notebooks/data_table.ipynb>data table notebook</a>'\n",
              "            + ' to learn more about interactive tables.';\n",
              "          element.innerHTML = '';\n",
              "          dataTable['output_type'] = 'display_data';\n",
              "          await google.colab.output.renderOutput(dataTable, element);\n",
              "          const docLink = document.createElement('div');\n",
              "          docLink.innerHTML = docLinkHtml;\n",
              "          element.appendChild(docLink);\n",
              "        }\n",
              "      </script>\n",
              "    </div>\n",
              "  </div>\n",
              "  "
            ],
            "application/vnd.google.colaboratory.module+javascript": "\n      import \"https://ssl.gstatic.com/colaboratory/data_table/a8bd4d5e58f96183/data_table.js\";\n\n      window.createDataTable({\n        data: [[\"Lexema\",\n\"Exsurge Domine.\"],\n [\"Definici\\u00f3n\",\n\"Bula disciplinaria dirigida a Mart\\u00edn Lutero y adherentes que se\\u00f1ala y condena su doctrina y se le fija un plazo de 60 d\\u00edas para retractarla, dejar de predicarla y quemar los escritos so amenaza de excomuni\\u00f3n. |\"],\n [\"Extra\",\n\"Bula contra los errores de Mart\\u00edn Lutero y secuaces (Bulla contra errores Martini Lutheri [et] sequacium), Literatura cat\\u00f3lica . Redactada con mucho cuidado  y escrutinio por Le\\u00f3n X con Juan Eck, Benedetto Accolti, Julio de M\\u00e9dici (\\u00e9ste \\u00faltimo ser\\u00eda Clemente VII) y la curia romana, esgrim\\u00eda 41 puntos err\\u00e1ticos de Lutero sobre las indulgencias, jerarqu\\u00eda eclesi\\u00e1stica, pecado, penitencia, purgatorio, sacramentos, entre otros. El texto comienza: \\u201cLev\\u00e1ntate, oh Dios, y juzga tu propia causa\\u201d, aludiendo a las bulas de excomuni\\u00f3n anteriores. Apela a Dios, luego a Pedro, Pablo, la Iglesia y, en \\u00faltima instancia, a la naci\\u00f3n alemana. | Al momento de su publicaci\\u00f3n, era muy evidente la separaci\\u00f3n de Lutero. La bula atestigua una citaci\\u00f3n anterior que Lutero rechaz\\u00f3, nomin\\u00e1ndolo \\u201ccontumaz\\u201d y comunica su negativa a creer en los concilios. A pesar de esto, se le anima a regresar a la iglesia y se le promete una c\\u00e1lida bienvenida en su calidad de hijo pr\\u00f3digo. | Lutero confirma y comunica sus decisiones simb\\u00f3licamente al quemar un ejemplar de la bula el 10 de diciembre de 1520, en Wittemberg.\"]],\n        columns: [[\"string\", \"index\"], [\"string\", \"diccionario\"]],\n        columnOptions: [{\"width\": \"1px\", \"className\": \"index_column\"}],\n        rowsPerPage: 25,\n        helpUrl: \"https://colab.research.google.com/notebooks/data_table.ipynb\",\n        suppressOutputScrolling: true,\n        minimumWidth: undefined,\n      });\n    "
          },
          "metadata": {},
          "execution_count": 338
        }
      ]
    },
    {
      "cell_type": "markdown",
      "source": [
        "# Primera evaluación del modelo"
      ],
      "metadata": {
        "id": "AKrRYsQYCT1K"
      }
    },
    {
      "cell_type": "markdown",
      "source": [
        "Se harán algunas preguntas para ver el comportamiento del modelo.\n",
        "\n",
        "El lexema, la definición y la información extra arrojan resultados diferentes porque contienen información diferente."
      ],
      "metadata": {
        "id": "nEPKAn0-F0gK"
      }
    },
    {
      "cell_type": "code",
      "source": [
        "# Función pregunta-respuesta\n",
        "def diccionarioresponde():\n",
        "  pregunta()\n",
        "  compara()\n",
        "  resultados()\n"
      ],
      "metadata": {
        "id": "kQBnQFemGN0U"
      },
      "execution_count": null,
      "outputs": []
    },
    {
      "cell_type": "markdown",
      "source": [
        "## Preguntas con contenido ajeno al diccionario"
      ],
      "metadata": {
        "id": "_jL0uSMnF9Ez"
      }
    },
    {
      "cell_type": "markdown",
      "source": [
        "### La pizza más rica del mundo"
      ],
      "metadata": {
        "id": "v-zUff3LVfQs"
      }
    },
    {
      "cell_type": "code",
      "source": [
        "# La pizza más rica del mundo\n",
        "diccionarioresponde()"
      ],
      "metadata": {
        "colab": {
          "base_uri": "https://localhost:8080/"
        },
        "id": "fwazq7adFz6w",
        "outputId": "56eb8d7d-bce1-4de3-caac-1d2d82248013"
      },
      "execution_count": null,
      "outputs": [
        {
          "output_type": "stream",
          "name": "stdout",
          "text": [
            "Si no recuerdas el término, pregúntame, o trata de escribir lo que recuerdes:\n",
            "(Nota: El diccionario cuenta con 70 términos. Trabajamos para que crezca)\n",
            "→ La pizza más rica del mundo\n",
            "\n",
            "Búsqueda en lista de lexemas. 10 coincidencias más cercanas:\n",
            "\n",
            "1. Cautividad babilónica de la Iglesia, La:   75.26 % de similitud\n",
            "2. A la nobleza cristiana de la nación alemana.:   65.19 % de similitud\n",
            "3. Libro de la Concordia.:   62.12 % de similitud\n",
            "4. Institución de la Religión Cristiana.:   60.84 % de similitud\n",
            "5. De la libertad del cristiano.:   57.43 % de similitud\n",
            "6. Salterio de Ginebra.:   44.73 % de similitud\n",
            "7. Protesta de Espira:   44.41 % de similitud\n",
            "8. Libro de oración común.:   44.35 % de similitud\n",
            "9. Disputa de Leipzig.:   41.9 % de similitud\n",
            "10. Dieta. Dieta de Augsburgo.:   40.64 % de similitud\n",
            "\n",
            "Búsqueda en lista de definiciones. 10 coincidencias más cercanas:\n",
            "\n",
            "1. Eucaristía. Consubstanciación.:  63.07 % de similitud\n",
            "2. Consenso Tigurinus.:  59.7 % de similitud\n",
            "3. Cinco solas. Soli Deo Gloria.:  59.23 % de similitud\n",
            "4. Institución de la Religión Cristiana.:  56.72 % de similitud\n",
            "5. Eucaristía. Espiritualización.:  56.16 % de similitud\n",
            "6. Luteranismo.:  56.1 % de similitud\n",
            "7. Concilio. Concilio de Trento.:  54.5 % de similitud\n",
            "8. Reforma Protestante.:  54.23 % de similitud\n",
            "9. Libro de la Concordia.:  54.1 % de similitud\n",
            "\n",
            "\n",
            "Búsqueda en lista de información extra. 10 coincidencias más cercanas:\n",
            "\n",
            "1. Cisma.:   63.0 % de similitud\n",
            "2. Cinco solas. Sola Scriptura.:   62.45 % de similitud\n",
            "3. Canon.:   61.71 % de similitud\n",
            "4. Remonstrante.:   60.37 % de similitud\n",
            "5. Eucaristía. Consubstanciación.:   58.23 % de similitud\n",
            "6. Castillo fuerte es nuestro Dios.:   57.68 % de similitud\n",
            "7. Calvinismo.:   57.46 % de similitud\n",
            "8. Eucaristía. Espiritualización.:   55.6 % de similitud\n",
            "9. Cinco solas. Sola gratia.:   55.6 % de similitud\n",
            "\n",
            "\n"
          ]
        }
      ]
    },
    {
      "cell_type": "markdown",
      "source": [
        "### Qué marca de auto es \"Mi rebelde\"?"
      ],
      "metadata": {
        "id": "hPfucI_1VifN"
      }
    },
    {
      "cell_type": "code",
      "source": [
        "# Qué marca de auto es \"Mi rebelde\"?\n",
        "diccionarioresponde()"
      ],
      "metadata": {
        "colab": {
          "base_uri": "https://localhost:8080/"
        },
        "id": "iHd6vJ7EL1kq",
        "outputId": "7fe383d1-150e-4909-9aa6-33f77a252fc8"
      },
      "execution_count": null,
      "outputs": [
        {
          "output_type": "stream",
          "name": "stdout",
          "text": [
            "Si no recuerdas el término, pregúntame, o trata de escribir lo que recuerdes:\n",
            "(Nota: El diccionario cuenta con 70 términos. Trabajamos para que crezca)\n",
            "→ Qué marca de auto es \"Mi rebelde\"?\n",
            "\n",
            "Búsqueda en lista de lexemas. 10 coincidencias más cercanas:\n",
            "\n",
            "1. Castillo fuerte es nuestro Dios.:   50.72 % de similitud\n",
            "2. Exsurge Domine.:   35.63 % de similitud\n",
            "3. De la libertad del cristiano.:   34.72 % de similitud\n",
            "4. Canon. Canon bíblico.:   31.98 % de similitud\n",
            "5. Barba.:   31.24 % de similitud\n",
            "6. Calvinismo.:   30.8 % de similitud\n",
            "7. Dieta. Dieta de Worms.:   29.97 % de similitud\n",
            "8. Canon.:   29.52 % de similitud\n",
            "9. Eucaristía. Anamnesis.:   28.81 % de similitud\n",
            "10. Dieta. Dieta de Augsburgo.:   28.42 % de similitud\n",
            "\n",
            "Búsqueda en lista de definiciones. 10 coincidencias más cercanas:\n",
            "\n",
            "1. Cinco solas. Sola gratia.:  33.74 % de similitud\n",
            "2. Cinco solas. Solus Christus.:  31.38 % de similitud\n",
            "3. Cinco puntos calvinistas. 4. Irresistible gracia.:  29.27 % de similitud\n",
            "4. Dieta. Dieta de Augsburgo.:  28.14 % de similitud\n",
            "5. Cinco puntos calvinistas.:  25.99 % de similitud\n",
            "6. Remonstrante.:  24.96 % de similitud\n",
            "7. Barba.:  24.36 % de similitud\n",
            "8. Sínodo.:  23.95 % de similitud\n",
            "9. Cisma.:  23.24 % de similitud\n",
            "\n",
            "\n",
            "Búsqueda en lista de información extra. 10 coincidencias más cercanas:\n",
            "\n",
            "1. Eucaristía. Transubstanciación.:   43.8 % de similitud\n",
            "2. Eucaristía. Consubstanciación.:   43.01 % de similitud\n",
            "3. Cinco solas. Solus Christus.:   34.47 % de similitud\n",
            "4. Eucaristía. Espiritualización.:   33.53 % de similitud\n",
            "5. Cinco puntos calvinistas. 4. Irresistible gracia.:   30.62 % de similitud\n",
            "6. Libre examen.:   30.47 % de similitud\n",
            "7. Protesta de Espira:   30.31 % de similitud\n",
            "8. Consenso Tigurinus.:   30.3 % de similitud\n",
            "9. Remonstrante.:   29.86 % de similitud\n",
            "\n",
            "\n"
          ]
        }
      ]
    },
    {
      "cell_type": "markdown",
      "source": [
        "## Preguntas con contenido relacionado, pero sin el lexema al que se alude"
      ],
      "metadata": {
        "id": "hWK8d1kCGChL"
      }
    },
    {
      "cell_type": "markdown",
      "source": [
        "### Biblia traducida por los Países Bajos"
      ],
      "metadata": {
        "id": "mbY-xkntVnte"
      }
    },
    {
      "cell_type": "code",
      "source": [
        "# Biblia traducida por los Países Bajos\n",
        "# Se busca \"Statenvertaling\", que aún no está en el diccionario\n",
        "diccionarioresponde()"
      ],
      "metadata": {
        "colab": {
          "base_uri": "https://localhost:8080/"
        },
        "id": "KwcAzUgFL3V_",
        "outputId": "787c5c94-32db-4b92-8b5a-c38e01fad491"
      },
      "execution_count": null,
      "outputs": [
        {
          "output_type": "stream",
          "name": "stdout",
          "text": [
            "Si no recuerdas el término, pregúntame, o trata de escribir lo que recuerdes:\n",
            "(Nota: El diccionario cuenta con 70 términos. Trabajamos para que crezca)\n",
            "→ Biblia traducida por los Países Bajos\n",
            "\n",
            "Búsqueda en lista de lexemas. 10 coincidencias más cercanas:\n",
            "\n",
            "1. Guerra de los ochenta años.:   54.19 % de similitud\n",
            "2. Anglicana, Iglesia:   49.52 % de similitud\n",
            "3. Anabaptista, iglesia:   43.24 % de similitud\n",
            "4. Noventa y cinco tesis.:   42.79 % de similitud\n",
            "5. Cinco puntos calvinistas. 5. Perseverancia de los Santos.:   41.97 % de similitud\n",
            "6. Cinco puntos calvinistas.:   40.95 % de similitud\n",
            "7. Libro de oración común.:   40.45 % de similitud\n",
            "8. Edicto de Nantes.:   38.38 % de similitud\n",
            "9. Institución de la Religión Cristiana.:   34.98 % de similitud\n",
            "10. Salterio de Ginebra.:   34.67 % de similitud\n",
            "\n",
            "Búsqueda en lista de definiciones. 10 coincidencias más cercanas:\n",
            "\n",
            "1. Dieta. Dieta de Worms.:  65.42 % de similitud\n",
            "2. Libre examen.:  62.71 % de similitud\n",
            "3. Guerra de los ochenta años.:  61.9 % de similitud\n",
            "4. Edicto de Nantes.:  61.18 % de similitud\n",
            "5. Valdense, grupo.:  58.09 % de similitud\n",
            "6. Hugonote, grupo.:  57.86 % de similitud\n",
            "7. Guerra de Esmalcalda.:  57.74 % de similitud\n",
            "8. Salterio de Ginebra.:  56.72 % de similitud\n",
            "9. Cautividad babilónica de la Iglesia, La:  55.21 % de similitud\n",
            "\n",
            "\n",
            "Búsqueda en lista de información extra. 10 coincidencias más cercanas:\n",
            "\n",
            "1. Sínodo de Dort.:   59.85 % de similitud\n",
            "2. Anabaptista, iglesia:   58.95 % de similitud\n",
            "3. Orden de San Agustín.:   56.81 % de similitud\n",
            "4. Cinco puntos calvinistas.:   55.78 % de similitud\n",
            "5. A la nobleza cristiana de la nación alemana.:   54.95 % de similitud\n",
            "6. Cinco Solas.:   51.46 % de similitud\n",
            "7. Valdense, grupo.:   50.68 % de similitud\n",
            "8. Dieta. Dieta de Worms.:   50.38 % de similitud\n",
            "9. Calvinismo.:   49.44 % de similitud\n",
            "\n",
            "\n"
          ]
        }
      ]
    },
    {
      "cell_type": "markdown",
      "source": [
        "### El padre de la reforma protestante"
      ],
      "metadata": {
        "id": "3R1CFQ2YVs9q"
      }
    },
    {
      "cell_type": "code",
      "source": [
        "# El padre de la reforma protestante\n",
        "# Se busca \"Martín Lutero\", que aún no está en el diccionario\n",
        "diccionarioresponde()"
      ],
      "metadata": {
        "colab": {
          "base_uri": "https://localhost:8080/"
        },
        "id": "9-slYjdGOZ6z",
        "outputId": "99667e76-3e5f-4055-8adc-28a7114c6b90"
      },
      "execution_count": null,
      "outputs": [
        {
          "output_type": "stream",
          "name": "stdout",
          "text": [
            "Si no recuerdas el término, pregúntame, o trata de escribir lo que recuerdes:\n",
            "(Nota: El diccionario cuenta con 70 términos. Trabajamos para que crezca)\n",
            "→ El padre de la reforma protestante\n",
            "\n",
            "Búsqueda en lista de lexemas. 10 coincidencias más cercanas:\n",
            "\n",
            "1. Cautividad babilónica de la Iglesia, La:   75.82 % de similitud\n",
            "2. De la libertad del cristiano.:   73.76 % de similitud\n",
            "3. Institución de la Religión Cristiana.:   71.92 % de similitud\n",
            "4. Libro de la Concordia.:   70.02 % de similitud\n",
            "5. A la nobleza cristiana de la nación alemana.:   69.35 % de similitud\n",
            "6. Protesta de Espira:   67.23 % de similitud\n",
            "7. Salterio de Ginebra.:   60.77 % de similitud\n",
            "8. Guerra de Esmalcalda.:   57.69 % de similitud\n",
            "9. Sínodo de Dort.:   57.37 % de similitud\n",
            "10. Paz de Augsburgo.:   57.13 % de similitud\n",
            "\n",
            "Búsqueda en lista de definiciones. 10 coincidencias más cercanas:\n",
            "\n",
            "1. Luteranismo.:  82.01 % de similitud\n",
            "2. Castillo fuerte es nuestro Dios.:  76.3 % de similitud\n",
            "3. Eucaristía. Consubstanciación.:  76.2 % de similitud\n",
            "4. Arminiano.:  75.81 % de similitud\n",
            "5. Eucaristía. Transubstanciación.:  75.3 % de similitud\n",
            "6. Libro de oración común.:  73.16 % de similitud\n",
            "7. Concilio. Concilio de Trento.:  72.66 % de similitud\n",
            "8. Institución de la Religión Cristiana.:  72.63 % de similitud\n",
            "9. Indulgencia.:  72.61 % de similitud\n",
            "\n",
            "\n",
            "Búsqueda en lista de información extra. 10 coincidencias más cercanas:\n",
            "\n",
            "1. Cisma.:   82.94 % de similitud\n",
            "2. Cinco solas. Sola Scriptura.:   79.68 % de similitud\n",
            "3. Disputa de Leipzig.:   78.76 % de similitud\n",
            "4. Canon. Canon bíblico.:   78.18 % de similitud\n",
            "5. Bula.:   76.35 % de similitud\n",
            "6. Eucaristía.:   76.09 % de similitud\n",
            "7. Calvinismo.:   74.47 % de similitud\n",
            "8. Castillo fuerte es nuestro Dios.:   73.95 % de similitud\n",
            "9. Arminiano.:   73.45 % de similitud\n",
            "\n",
            "\n"
          ]
        }
      ]
    },
    {
      "cell_type": "markdown",
      "source": [
        "## Preguntas con el lexema aludido dentro del diccionario"
      ],
      "metadata": {
        "id": "1CSFe47BGHav"
      }
    },
    {
      "cell_type": "markdown",
      "source": [
        "### Batallas entre católicos y protestantes"
      ],
      "metadata": {
        "id": "H6sOBx4hVw_O"
      }
    },
    {
      "cell_type": "code",
      "source": [
        "# Batallas entre católicos y protestantes\n",
        "diccionarioresponde()"
      ],
      "metadata": {
        "colab": {
          "base_uri": "https://localhost:8080/"
        },
        "id": "VyZ7AIoNOy-l",
        "outputId": "bcdf81d5-7194-40b3-ae35-6d11ae966b79"
      },
      "execution_count": null,
      "outputs": [
        {
          "output_type": "stream",
          "name": "stdout",
          "text": [
            "Si no recuerdas el término, pregúntame, o trata de escribir lo que recuerdes:\n",
            "(Nota: El diccionario cuenta con 70 términos. Trabajamos para que crezca)\n",
            "→ Batallas entre católicos y protestantes\n",
            "\n",
            "Búsqueda en lista de lexemas. 10 coincidencias más cercanas:\n",
            "\n",
            "1. Noventa y cinco tesis.:   66.34 % de similitud\n",
            "2. Anglicana, Iglesia:   64.24 % de similitud\n",
            "3. Guerra de los ochenta años.:   64.16 % de similitud\n",
            "4. Cinco puntos calvinistas.:   63.01 % de similitud\n",
            "5. Anabaptista, iglesia:   60.29 % de similitud\n",
            "6. Cinco puntos calvinistas. 5. Perseverancia de los Santos.:   59.2 % de similitud\n",
            "7. Edicto de Nantes.:   58.97 % de similitud\n",
            "8. Lolarda, grupo.:   57.61 % de similitud\n",
            "9. Huterita, grupo.:   57.61 % de similitud\n",
            "10. Husita, grupo.:   57.61 % de similitud\n",
            "\n",
            "Búsqueda en lista de definiciones. 10 coincidencias más cercanas:\n",
            "\n",
            "1. Decet romanum pontificem.:  78.53 % de similitud\n",
            "2. Calvinismo.:  76.03 % de similitud\n",
            "3. Libre examen.:  75.55 % de similitud\n",
            "4. Dieta. Dieta de Worms.:  74.65 % de similitud\n",
            "5. Guerra de los ochenta años.:  73.64 % de similitud\n",
            "6. Reforma Protestante.:  72.65 % de similitud\n",
            "7. Sínodo de Dort.:  72.55 % de similitud\n",
            "8. Cautividad babilónica de la Iglesia, La:  72.41 % de similitud\n",
            "9. Salterio de Ginebra.:  72.3 % de similitud\n",
            "\n",
            "\n",
            "Búsqueda en lista de información extra. 10 coincidencias más cercanas:\n",
            "\n",
            "1. Anabaptista, iglesia:   79.99 % de similitud\n",
            "2. A la nobleza cristiana de la nación alemana.:   78.73 % de similitud\n",
            "3. Sínodo de Dort.:   77.42 % de similitud\n",
            "4. Orden de San Agustín.:   75.55 % de similitud\n",
            "5. Lolarda, grupo.:   73.85 % de similitud\n",
            "6. Barba.:   72.5 % de similitud\n",
            "7. Dieta.:   71.44 % de similitud\n",
            "8. Concilio.:   71.15 % de similitud\n",
            "9. Concilio. Concilio de Trento.:   70.35 % de similitud\n",
            "\n",
            "\n"
          ]
        }
      ]
    },
    {
      "cell_type": "code",
      "source": [
        "# ¿Dónde se enfrentó Lutero a Carlos quinto?\n",
        "diccionarioresponde()"
      ],
      "metadata": {
        "colab": {
          "base_uri": "https://localhost:8080/"
        },
        "id": "KAJBJkRPPLzd",
        "outputId": "0fa642d9-d4e5-465f-dfb4-b031b039e61c"
      },
      "execution_count": null,
      "outputs": [
        {
          "output_type": "stream",
          "name": "stdout",
          "text": [
            "Si no recuerdas el término, pregúntame, o trata de escribir lo que recuerdes:\n",
            "(Nota: El diccionario cuenta con 70 términos. Trabajamos para que crezca)\n",
            "→ ¿Dónde se enfrentó Lutero a Carlos quinto?\n",
            "\n",
            "Búsqueda en lista de lexemas. 10 coincidencias más cercanas:\n",
            "\n",
            "1. A la nobleza cristiana de la nación alemana.:   18.62 % de similitud\n",
            "2. Sacramento:   15.03 % de similitud\n",
            "3. Anglicana, Iglesia:   14.41 % de similitud\n",
            "4. Calvinismo.:   13.72 % de similitud\n",
            "5. Luteranismo.:   13.51 % de similitud\n",
            "6. De la libertad del cristiano.:   12.97 % de similitud\n",
            "7. Anabaptista, iglesia:   12.49 % de similitud\n",
            "8. Cisma.:   12.4 % de similitud\n",
            "9. Reforma Protestante.:   10.54 % de similitud\n",
            "10. Noventa y cinco tesis.:   10.42 % de similitud\n",
            "\n",
            "Búsqueda en lista de definiciones. 10 coincidencias más cercanas:\n",
            "\n",
            "1. Valdense, grupo.:  37.48 % de similitud\n",
            "2. Cinco puntos calvinistas. 1. Totalidad depravada.:  37.02 % de similitud\n",
            "3. Exsurge Domine.:  36.01 % de similitud\n",
            "4. Husita, grupo.:  33.4 % de similitud\n",
            "5. De la libertad del cristiano.:  33.25 % de similitud\n",
            "6. Eucaristía.:  32.63 % de similitud\n",
            "7. Cinco solas. Sola fide.:  32.48 % de similitud\n",
            "8. A la nobleza cristiana de la nación alemana.:  32.17 % de similitud\n",
            "9. Libre examen.:  31.1 % de similitud\n",
            "\n",
            "\n",
            "Búsqueda en lista de información extra. 10 coincidencias más cercanas:\n",
            "\n",
            "1. Cautividad babilónica de la Iglesia, La:   35.45 % de similitud\n",
            "2. Dieta. Dieta de Worms.:   32.52 % de similitud\n",
            "3. Cinco solas. Soli Deo Gloria.:   32.16 % de similitud\n",
            "4. Decet romanum pontificem.:   30.41 % de similitud\n",
            "5. Cinco puntos calvinistas. 5. Perseverancia de los Santos.:   29.63 % de similitud\n",
            "6. Exsurge Domine.:   29.38 % de similitud\n",
            "7. Concilio. Concilio de Trento.:   29.11 % de similitud\n",
            "8. Orden de San Agustín.:   28.76 % de similitud\n",
            "9. Noventa y cinco tesis.:   28.15 % de similitud\n",
            "\n",
            "\n"
          ]
        }
      ]
    },
    {
      "cell_type": "markdown",
      "source": [
        "## ¿Siempre aparecere en los primeros 5 resultados?"
      ],
      "metadata": {
        "id": "Lkrq2_DZPn-X"
      }
    },
    {
      "cell_type": "markdown",
      "source": [
        "Parece que no es necesario arrojar 10 resultados. Se comprobará a continuación"
      ],
      "metadata": {
        "id": "ianRTeu7CuZ-"
      }
    },
    {
      "cell_type": "markdown",
      "source": [
        "### Escrito de martín lutero a los principales alemanes"
      ],
      "metadata": {
        "id": "yWb_JRLuV2O4"
      }
    },
    {
      "cell_type": "code",
      "source": [
        "# Escrito de martín lutero a los principales alemanes\n",
        "diccionarioresponde()"
      ],
      "metadata": {
        "colab": {
          "base_uri": "https://localhost:8080/"
        },
        "id": "3Pc_kVvCPfJf",
        "outputId": "17b7e28d-b5a6-4aad-afd8-fac9d624f1ac"
      },
      "execution_count": null,
      "outputs": [
        {
          "output_type": "stream",
          "name": "stdout",
          "text": [
            "Si no recuerdas el término, pregúntame, o trata de escribir lo que recuerdes:\n",
            "(Nota: El diccionario cuenta con 70 términos. Trabajamos para que crezca)\n",
            "→ Escrito de martín lutero a los principales alemanes\n",
            "\n",
            "Búsqueda en lista de lexemas. 10 coincidencias más cercanas:\n",
            "\n",
            "1. Guerra de los ochenta años.:   67.86 % de similitud\n",
            "2. Edicto de Nantes.:   59.54 % de similitud\n",
            "3. Protesta de Espira:   59.04 % de similitud\n",
            "4. A la nobleza cristiana de la nación alemana.:   57.71 % de similitud\n",
            "5. Libro de oración común.:   56.99 % de similitud\n",
            "6. Cinco puntos calvinistas. 5. Perseverancia de los Santos.:   56.69 % de similitud\n",
            "7. Salterio de Ginebra.:   55.9 % de similitud\n",
            "8. Guerra de Esmalcalda.:   55.72 % de similitud\n",
            "9. Institución de la Religión Cristiana.:   54.88 % de similitud\n",
            "10. Sínodo de Dort.:   53.98 % de similitud\n",
            "\n",
            "Búsqueda en lista de definiciones. 10 coincidencias más cercanas:\n",
            "\n",
            "1. A la nobleza cristiana de la nación alemana.:  84.38 % de similitud\n",
            "2. Matanza de San Bartolomé.:  81.79 % de similitud\n",
            "3. Decet romanum pontificem.:  79.8 % de similitud\n",
            "4. Libre examen.:  79.15 % de similitud\n",
            "5. Cinco puntos calvinistas. 3. Limitada expiación.:  77.4 % de similitud\n",
            "6. Cautividad babilónica de la Iglesia, La:  75.98 % de similitud\n",
            "7. Dieta. Dieta de Worms.:  75.95 % de similitud\n",
            "8. Guerra de los ochenta años.:  75.36 % de similitud\n",
            "9. Noventa y cinco tesis.:  74.28 % de similitud\n",
            "\n",
            "\n",
            "Búsqueda en lista de información extra. 10 coincidencias más cercanas:\n",
            "\n",
            "1. Sínodo de Dort.:   78.01 % de similitud\n",
            "2. Cinco puntos calvinistas.:   76.17 % de similitud\n",
            "3. Barba.:   74.37 % de similitud\n",
            "4. Orden de San Agustín.:   74.13 % de similitud\n",
            "5. A la nobleza cristiana de la nación alemana.:   73.62 % de similitud\n",
            "6. Decet romanum pontificem.:   73.19 % de similitud\n",
            "7. Dieta. Dieta de Worms.:   71.98 % de similitud\n",
            "8. Concilio. Concilio de Trento.:   70.04 % de similitud\n",
            "9. Anabaptista, iglesia:   70.01 % de similitud\n",
            "\n",
            "\n"
          ]
        }
      ]
    },
    {
      "cell_type": "markdown",
      "source": [
        "### No: Precursores de la reforma"
      ],
      "metadata": {
        "id": "DTAEnn-vQtsd"
      }
    },
    {
      "cell_type": "code",
      "source": [
        "# Precursores de la reforma\n",
        "diccionarioresponde()"
      ],
      "metadata": {
        "colab": {
          "base_uri": "https://localhost:8080/"
        },
        "id": "sFtHq9SiQMsW",
        "outputId": "0b09fa31-50a9-45a1-cb49-de6f79d1fc13"
      },
      "execution_count": null,
      "outputs": [
        {
          "output_type": "stream",
          "name": "stdout",
          "text": [
            "Si no recuerdas el término, pregúntame, o trata de escribir lo que recuerdes:\n",
            "(Nota: El diccionario cuenta con 70 términos. Trabajamos para que crezca)\n",
            "→ Precursores de la reforma\n",
            "\n",
            "Búsqueda en lista de lexemas. 10 coincidencias más cercanas:\n",
            "\n",
            "1. Institución de la Religión Cristiana.:   90.23 % de similitud\n",
            "2. Cautividad babilónica de la Iglesia, La:   88.03 % de similitud\n",
            "3. A la nobleza cristiana de la nación alemana.:   87.72 % de similitud\n",
            "4. Libro de la Concordia.:   87.29 % de similitud\n",
            "5. Protesta de Espira:   75.63 % de similitud\n",
            "6. De la libertad del cristiano.:   71.51 % de similitud\n",
            "7. Salterio de Ginebra.:   67.06 % de similitud\n",
            "8. Libro de oración común.:   66.75 % de similitud\n",
            "9. Sínodo de Dort.:   64.34 % de similitud\n",
            "10. Edicto de Nantes.:   63.82 % de similitud\n",
            "\n",
            "Búsqueda en lista de definiciones. 10 coincidencias más cercanas:\n",
            "\n",
            "1. Eucaristía. Consubstanciación.:  86.77 % de similitud\n",
            "2. Protesta de Espira:  85.74 % de similitud\n",
            "3. Libro de la Concordia.:  85.59 % de similitud\n",
            "4. Luteranismo.:  84.94 % de similitud\n",
            "5. Guerra de los ochenta años.:  84.12 % de similitud\n",
            "6. Consenso Tigurinus.:  83.97 % de similitud\n",
            "7. Concilio.:  83.6 % de similitud\n",
            "8. Cinco solas. Soli Deo Gloria.:  83.46 % de similitud\n",
            "9. Husita, grupo.:  83.37 % de similitud\n",
            "\n",
            "\n",
            "Búsqueda en lista de información extra. 10 coincidencias más cercanas:\n",
            "\n",
            "1. Cisma.:   86.92 % de similitud\n",
            "2. Calvinismo.:   85.38 % de similitud\n",
            "3. Cinco solas. Sola gratia.:   84.17 % de similitud\n",
            "4. Cinco solas. Sola Scriptura.:   83.09 % de similitud\n",
            "5. Gomarista.:   81.71 % de similitud\n",
            "6. Cinco solas. Sola fide.:   81.33 % de similitud\n",
            "7. Remonstrante.:   80.67 % de similitud\n",
            "8. Cinco puntos calvinistas.:   80.0 % de similitud\n",
            "9. Castillo fuerte es nuestro Dios.:   79.86 % de similitud\n",
            "\n",
            "\n"
          ]
        }
      ]
    },
    {
      "cell_type": "markdown",
      "source": [
        "## ¿Se puede prescindir la lista de lexemas del análisis?"
      ],
      "metadata": {
        "id": "E8HC-AxaRHGy"
      }
    },
    {
      "cell_type": "markdown",
      "source": [
        "Parece ser que mostrar similitudes con la lista de lexemas no tiene utilidad"
      ],
      "metadata": {
        "id": "2KH-hUCIC5bu"
      }
    },
    {
      "cell_type": "code",
      "source": [
        "verlexemas()"
      ],
      "metadata": {
        "colab": {
          "base_uri": "https://localhost:8080/",
          "height": 530
        },
        "id": "PYOCyiKlRWdh",
        "outputId": "843f5480-4ac1-49bb-acd0-4534293f2c33"
      },
      "execution_count": null,
      "outputs": [
        {
          "output_type": "execute_result",
          "data": {
            "text/html": [
              "<div>\n",
              "<style scoped>\n",
              "    .dataframe tbody tr th:only-of-type {\n",
              "        vertical-align: middle;\n",
              "    }\n",
              "\n",
              "    .dataframe tbody tr th {\n",
              "        vertical-align: top;\n",
              "    }\n",
              "\n",
              "    .dataframe thead th {\n",
              "        text-align: right;\n",
              "    }\n",
              "</style>\n",
              "<table border=\"1\" class=\"dataframe\">\n",
              "  <thead>\n",
              "    <tr style=\"text-align: right;\">\n",
              "      <th></th>\n",
              "      <th>lexema</th>\n",
              "    </tr>\n",
              "  </thead>\n",
              "  <tbody>\n",
              "    <tr>\n",
              "      <th>0</th>\n",
              "      <td>(A, la, nobleza, cristiana, de, la, nación, al...</td>\n",
              "    </tr>\n",
              "    <tr>\n",
              "      <th>1</th>\n",
              "      <td>(Agustino, .)</td>\n",
              "    </tr>\n",
              "    <tr>\n",
              "      <th>2</th>\n",
              "      <td>(Anabaptista, ,, iglesia)</td>\n",
              "    </tr>\n",
              "    <tr>\n",
              "      <th>3</th>\n",
              "      <td>(Anglicana, ,, Iglesia)</td>\n",
              "    </tr>\n",
              "    <tr>\n",
              "      <th>4</th>\n",
              "      <td>(Arminiano, .)</td>\n",
              "    </tr>\n",
              "    <tr>\n",
              "      <th>...</th>\n",
              "      <td>...</td>\n",
              "    </tr>\n",
              "    <tr>\n",
              "      <th>65</th>\n",
              "      <td>(Sacramento)</td>\n",
              "    </tr>\n",
              "    <tr>\n",
              "      <th>66</th>\n",
              "      <td>(Salterio, de, Ginebra, .)</td>\n",
              "    </tr>\n",
              "    <tr>\n",
              "      <th>67</th>\n",
              "      <td>(Sínodo, de, Dort, .)</td>\n",
              "    </tr>\n",
              "    <tr>\n",
              "      <th>68</th>\n",
              "      <td>(Sínodo, .)</td>\n",
              "    </tr>\n",
              "    <tr>\n",
              "      <th>69</th>\n",
              "      <td>(Valdense, ,, grupo, .)</td>\n",
              "    </tr>\n",
              "  </tbody>\n",
              "</table>\n",
              "<p>70 rows × 1 columns</p>\n",
              "</div>"
            ],
            "application/vnd.google.colaboratory.module+javascript": "\n      import \"https://ssl.gstatic.com/colaboratory/data_table/a8bd4d5e58f96183/data_table.js\";\n\n      window.createDataTable({\n        data: [[{\n            'v': 0,\n            'f': \"0\",\n        },\n\"A la nobleza cristiana de la naci\\u00f3n alemana.\"],\n [{\n            'v': 1,\n            'f': \"1\",\n        },\n\"Agustino.\"],\n [{\n            'v': 2,\n            'f': \"2\",\n        },\n\"Anabaptista, iglesia\"],\n [{\n            'v': 3,\n            'f': \"3\",\n        },\n\"Anglicana, Iglesia\"],\n [{\n            'v': 4,\n            'f': \"4\",\n        },\n\"Arminiano.\"],\n [{\n            'v': 5,\n            'f': \"5\",\n        },\n\"Barba.\"],\n [{\n            'v': 6,\n            'f': \"6\",\n        },\n\"Bula.\"],\n [{\n            'v': 7,\n            'f': \"7\",\n        },\n\"Calvinismo.\"],\n [{\n            'v': 8,\n            'f': \"8\",\n        },\n\"Canon.\"],\n [{\n            'v': 9,\n            'f': \"9\",\n        },\n\"Canon. Canon b\\u00edblico.\"],\n [{\n            'v': 10,\n            'f': \"10\",\n        },\n\"Castillo fuerte es nuestro Dios.\"],\n [{\n            'v': 11,\n            'f': \"11\",\n        },\n\"Cautividad babil\\u00f3nica de la Iglesia, La\"],\n [{\n            'v': 12,\n            'f': \"12\",\n        },\n\"Cinco puntos calvinistas.\"],\n [{\n            'v': 13,\n            'f': \"13\",\n        },\n\"Cinco puntos calvinistas. 1. Totalidad depravada.\"],\n [{\n            'v': 14,\n            'f': \"14\",\n        },\n\"Cinco puntos calvinistas. 2. Una elecci\\u00f3n incondicional.\"],\n [{\n            'v': 15,\n            'f': \"15\",\n        },\n\"Cinco puntos calvinistas. 3. Limitada expiaci\\u00f3n.\"],\n [{\n            'v': 16,\n            'f': \"16\",\n        },\n\"Cinco puntos calvinistas. 4. Irresistible gracia.\"],\n [{\n            'v': 17,\n            'f': \"17\",\n        },\n\"Cinco puntos calvinistas. 5. Perseverancia de los Santos.\"],\n [{\n            'v': 18,\n            'f': \"18\",\n        },\n\"Cinco Solas.\"],\n [{\n            'v': 19,\n            'f': \"19\",\n        },\n\"Cinco solas. Sola fide.\"],\n [{\n            'v': 20,\n            'f': \"20\",\n        },\n\"Cinco solas. Sola gratia.\"],\n [{\n            'v': 21,\n            'f': \"21\",\n        },\n\"Cinco solas. Sola Scriptura.\"],\n [{\n            'v': 22,\n            'f': \"22\",\n        },\n\"Cinco solas. Soli Deo Gloria.\"],\n [{\n            'v': 23,\n            'f': \"23\",\n        },\n\"Cinco solas. Solus Christus.\"],\n [{\n            'v': 24,\n            'f': \"24\",\n        },\n\"Cisma.\"],\n [{\n            'v': 25,\n            'f': \"25\",\n        },\n\"Concilio.\"],\n [{\n            'v': 26,\n            'f': \"26\",\n        },\n\"Concilio. Concilio de Trento.\"],\n [{\n            'v': 27,\n            'f': \"27\",\n        },\n\"Consenso Tigurinus.\"],\n [{\n            'v': 28,\n            'f': \"28\",\n        },\n\"Coral.\"],\n [{\n            'v': 29,\n            'f': \"29\",\n        },\n\"De la libertad del cristiano.\"],\n [{\n            'v': 30,\n            'f': \"30\",\n        },\n\"Decet romanum pontificem.\"],\n [{\n            'v': 31,\n            'f': \"31\",\n        },\n\"Dieta.\"],\n [{\n            'v': 32,\n            'f': \"32\",\n        },\n\"Dieta. Dieta de Augsburgo.\"],\n [{\n            'v': 33,\n            'f': \"33\",\n        },\n\"Dieta. Dieta de Worms.\"],\n [{\n            'v': 34,\n            'f': \"34\",\n        },\n\"Disputa de Leipzig.\"],\n [{\n            'v': 35,\n            'f': \"35\",\n        },\n\"Edicto de Nantes.\"],\n [{\n            'v': 36,\n            'f': \"36\",\n        },\n\"Eucarist\\u00eda.\"],\n [{\n            'v': 37,\n            'f': \"37\",\n        },\n\"Eucarist\\u00eda. Anamnesis.\"],\n [{\n            'v': 38,\n            'f': \"38\",\n        },\n\"Eucarist\\u00eda. Consubstanciaci\\u00f3n.\"],\n [{\n            'v': 39,\n            'f': \"39\",\n        },\n\"Eucarist\\u00eda. Espiritualizaci\\u00f3n.\"],\n [{\n            'v': 40,\n            'f': \"40\",\n        },\n\"Eucarist\\u00eda. Transubstanciaci\\u00f3n.\"],\n [{\n            'v': 41,\n            'f': \"41\",\n        },\n\"Excomuni\\u00f3n.\"],\n [{\n            'v': 42,\n            'f': \"42\",\n        },\n\"Exsurge Domine.\"],\n [{\n            'v': 43,\n            'f': \"43\",\n        },\n\"Gomarista.\"],\n [{\n            'v': 44,\n            'f': \"44\",\n        },\n\"Guerra de Esmalcalda.\"],\n [{\n            'v': 45,\n            'f': \"45\",\n        },\n\"Guerra de los ochenta a\\u00f1os.\"],\n [{\n            'v': 46,\n            'f': \"46\",\n        },\n\"Hugonote, grupo.\"],\n [{\n            'v': 47,\n            'f': \"47\",\n        },\n\"Husita, grupo.\"],\n [{\n            'v': 48,\n            'f': \"48\",\n        },\n\"Huterita, grupo.\"],\n [{\n            'v': 49,\n            'f': \"49\",\n        },\n\"Indulgencia.\"],\n [{\n            'v': 50,\n            'f': \"50\",\n        },\n\"Instituci\\u00f3n de la Religi\\u00f3n Cristiana.\"],\n [{\n            'v': 51,\n            'f': \"51\",\n        },\n\"Libre examen.\"],\n [{\n            'v': 52,\n            'f': \"52\",\n        },\n\"Libro de la Concordia.\"],\n [{\n            'v': 53,\n            'f': \"53\",\n        },\n\"Libro de oraci\\u00f3n com\\u00fan.\"],\n [{\n            'v': 54,\n            'f': \"54\",\n        },\n\"Lolarda, grupo.\"],\n [{\n            'v': 55,\n            'f': \"55\",\n        },\n\"Luteranismo.\"],\n [{\n            'v': 56,\n            'f': \"56\",\n        },\n\"Matanza de San Bartolom\\u00e9.\"],\n [{\n            'v': 57,\n            'f': \"57\",\n        },\n\"Noventa y cinco tesis.\"],\n [{\n            'v': 58,\n            'f': \"58\",\n        },\n\"Orden de San Agust\\u00edn.\"],\n [{\n            'v': 59,\n            'f': \"59\",\n        },\n\"Paz de Augsburgo.\"],\n [{\n            'v': 60,\n            'f': \"60\",\n        },\n\"Penitencia.\"],\n [{\n            'v': 61,\n            'f': \"61\",\n        },\n\"Presbiterianismo.\"],\n [{\n            'v': 62,\n            'f': \"62\",\n        },\n\"Protesta de Espira\"],\n [{\n            'v': 63,\n            'f': \"63\",\n        },\n\"Reforma Protestante.\"],\n [{\n            'v': 64,\n            'f': \"64\",\n        },\n\"Remonstrante.\"],\n [{\n            'v': 65,\n            'f': \"65\",\n        },\n\"Sacramento\"],\n [{\n            'v': 66,\n            'f': \"66\",\n        },\n\"Salterio de Ginebra.\"],\n [{\n            'v': 67,\n            'f': \"67\",\n        },\n\"S\\u00ednodo de Dort.\"],\n [{\n            'v': 68,\n            'f': \"68\",\n        },\n\"S\\u00ednodo.\"],\n [{\n            'v': 69,\n            'f': \"69\",\n        },\n\"Valdense, grupo.\"]],\n        columns: [[\"number\", \"index\"], [\"string\", \"lexema\"]],\n        columnOptions: [{\"width\": \"1px\", \"className\": \"index_column\"}],\n        rowsPerPage: 20,\n        helpUrl: \"https://colab.research.google.com/notebooks/data_table.ipynb\",\n        suppressOutputScrolling: true,\n        minimumWidth: undefined,\n      });\n    ",
            "text/plain": [
              "<google.colab.data_table.DataTable object>"
            ]
          },
          "metadata": {},
          "execution_count": 59
        }
      ]
    },
    {
      "cell_type": "markdown",
      "source": [
        "### Tipo de monje que era martín Lutero"
      ],
      "metadata": {
        "id": "-ttqX8aKWG4w"
      }
    },
    {
      "cell_type": "code",
      "source": [
        "# Tipo de monje que era martín Lutero\n",
        "diccionarioresponde()"
      ],
      "metadata": {
        "colab": {
          "base_uri": "https://localhost:8080/"
        },
        "id": "f2m3GtpVRYvl",
        "outputId": "c904b64c-5892-459f-fe25-19dddc5383bc"
      },
      "execution_count": null,
      "outputs": [
        {
          "output_type": "stream",
          "name": "stdout",
          "text": [
            "Si no recuerdas el término, pregúntame, o trata de escribir lo que recuerdes:\n",
            "(Nota: El diccionario cuenta con 70 términos. Trabajamos para que crezca)\n",
            "→ Tipo de monje que era martín Lutero\n",
            "\n",
            "Búsqueda en lista de lexemas. 10 coincidencias más cercanas:\n",
            "\n",
            "1. Libro de oración común.:   56.3 % de similitud\n",
            "2. Salterio de Ginebra.:   56.18 % de similitud\n",
            "3. Concilio. Concilio de Trento.:   55.2 % de similitud\n",
            "4. Sínodo de Dort.:   54.62 % de similitud\n",
            "5. Edicto de Nantes.:   53.69 % de similitud\n",
            "6. Guerra de Esmalcalda.:   53.32 % de similitud\n",
            "7. Protesta de Espira:   52.56 % de similitud\n",
            "8. Institución de la Religión Cristiana.:   52.13 % de similitud\n",
            "9. Anabaptista, iglesia:   52.04 % de similitud\n",
            "10. A la nobleza cristiana de la nación alemana.:   51.98 % de similitud\n",
            "\n",
            "Búsqueda en lista de definiciones. 10 coincidencias más cercanas:\n",
            "\n",
            "1. Institución de la Religión Cristiana.:  65.1 % de similitud\n",
            "2. Paz de Augsburgo.:  64.6 % de similitud\n",
            "3. Luteranismo.:  64.2 % de similitud\n",
            "4. Libro de la Concordia.:  64.15 % de similitud\n",
            "5. Cinco puntos calvinistas. 4. Irresistible gracia.:  63.31 % de similitud\n",
            "6. Excomunión.:  62.08 % de similitud\n",
            "7. Cautividad babilónica de la Iglesia, La:  61.92 % de similitud\n",
            "8. Cinco solas. Sola Scriptura.:  61.82 % de similitud\n",
            "9. Castillo fuerte es nuestro Dios.:  61.71 % de similitud\n",
            "\n",
            "\n",
            "Búsqueda en lista de información extra. 10 coincidencias más cercanas:\n",
            "\n",
            "1. Anglicana, Iglesia:   69.8 % de similitud\n",
            "2. Noventa y cinco tesis.:   68.57 % de similitud\n",
            "3. Cinco solas. Solus Christus.:   68.21 % de similitud\n",
            "4. Disputa de Leipzig.:   67.73 % de similitud\n",
            "5. Calvinismo.:   67.65 % de similitud\n",
            "6. Exsurge Domine.:   67.54 % de similitud\n",
            "7. Eucaristía. Transubstanciación.:   67.23 % de similitud\n",
            "8. Decet romanum pontificem.:   66.59 % de similitud\n",
            "9. Dieta. Dieta de Worms.:   66.14 % de similitud\n",
            "\n",
            "\n"
          ]
        }
      ]
    },
    {
      "cell_type": "markdown",
      "source": [
        "No mostró el lexema esperado"
      ],
      "metadata": {
        "id": "v0QJY7UdDaGS"
      }
    },
    {
      "cell_type": "code",
      "source": [
        "verunlexema(1)"
      ],
      "metadata": {
        "colab": {
          "base_uri": "https://localhost:8080/",
          "height": 153
        },
        "id": "_F4D_3gmDGSa",
        "outputId": "8c4db5ce-0e47-4a91-e9ae-3de243c38bdf"
      },
      "execution_count": null,
      "outputs": [
        {
          "output_type": "execute_result",
          "data": {
            "text/plain": [
              "                                                 diccionario\n",
              "Lexema                                         (Agustino, .)\n",
              "Definición  (Miembro, de, la, Orden, de,  , San, Agustín, .)\n",
              "Extra                    (., Órdenes, católicas, ., ., ., .)"
            ],
            "text/html": [
              "\n",
              "  <div id=\"df-f6ed4b4c-073c-4a4b-8c25-7c8350b94566\">\n",
              "    <div class=\"colab-df-container\">\n",
              "      <div>\n",
              "<style scoped>\n",
              "    .dataframe tbody tr th:only-of-type {\n",
              "        vertical-align: middle;\n",
              "    }\n",
              "\n",
              "    .dataframe tbody tr th {\n",
              "        vertical-align: top;\n",
              "    }\n",
              "\n",
              "    .dataframe thead th {\n",
              "        text-align: right;\n",
              "    }\n",
              "</style>\n",
              "<table border=\"1\" class=\"dataframe\">\n",
              "  <thead>\n",
              "    <tr style=\"text-align: right;\">\n",
              "      <th></th>\n",
              "      <th>diccionario</th>\n",
              "    </tr>\n",
              "  </thead>\n",
              "  <tbody>\n",
              "    <tr>\n",
              "      <th>Lexema</th>\n",
              "      <td>(Agustino, .)</td>\n",
              "    </tr>\n",
              "    <tr>\n",
              "      <th>Definición</th>\n",
              "      <td>(Miembro, de, la, Orden, de,  , San, Agustín, .)</td>\n",
              "    </tr>\n",
              "    <tr>\n",
              "      <th>Extra</th>\n",
              "      <td>(., Órdenes, católicas, ., ., ., .)</td>\n",
              "    </tr>\n",
              "  </tbody>\n",
              "</table>\n",
              "</div>\n",
              "      <button class=\"colab-df-convert\" onclick=\"convertToInteractive('df-f6ed4b4c-073c-4a4b-8c25-7c8350b94566')\"\n",
              "              title=\"Convert this dataframe to an interactive table.\"\n",
              "              style=\"display:none;\">\n",
              "        \n",
              "  <svg xmlns=\"http://www.w3.org/2000/svg\" height=\"24px\"viewBox=\"0 0 24 24\"\n",
              "       width=\"24px\">\n",
              "    <path d=\"M0 0h24v24H0V0z\" fill=\"none\"/>\n",
              "    <path d=\"M18.56 5.44l.94 2.06.94-2.06 2.06-.94-2.06-.94-.94-2.06-.94 2.06-2.06.94zm-11 1L8.5 8.5l.94-2.06 2.06-.94-2.06-.94L8.5 2.5l-.94 2.06-2.06.94zm10 10l.94 2.06.94-2.06 2.06-.94-2.06-.94-.94-2.06-.94 2.06-2.06.94z\"/><path d=\"M17.41 7.96l-1.37-1.37c-.4-.4-.92-.59-1.43-.59-.52 0-1.04.2-1.43.59L10.3 9.45l-7.72 7.72c-.78.78-.78 2.05 0 2.83L4 21.41c.39.39.9.59 1.41.59.51 0 1.02-.2 1.41-.59l7.78-7.78 2.81-2.81c.8-.78.8-2.07 0-2.86zM5.41 20L4 18.59l7.72-7.72 1.47 1.35L5.41 20z\"/>\n",
              "  </svg>\n",
              "      </button>\n",
              "      \n",
              "  <style>\n",
              "    .colab-df-container {\n",
              "      display:flex;\n",
              "      flex-wrap:wrap;\n",
              "      gap: 12px;\n",
              "    }\n",
              "\n",
              "    .colab-df-convert {\n",
              "      background-color: #E8F0FE;\n",
              "      border: none;\n",
              "      border-radius: 50%;\n",
              "      cursor: pointer;\n",
              "      display: none;\n",
              "      fill: #1967D2;\n",
              "      height: 32px;\n",
              "      padding: 0 0 0 0;\n",
              "      width: 32px;\n",
              "    }\n",
              "\n",
              "    .colab-df-convert:hover {\n",
              "      background-color: #E2EBFA;\n",
              "      box-shadow: 0px 1px 2px rgba(60, 64, 67, 0.3), 0px 1px 3px 1px rgba(60, 64, 67, 0.15);\n",
              "      fill: #174EA6;\n",
              "    }\n",
              "\n",
              "    [theme=dark] .colab-df-convert {\n",
              "      background-color: #3B4455;\n",
              "      fill: #D2E3FC;\n",
              "    }\n",
              "\n",
              "    [theme=dark] .colab-df-convert:hover {\n",
              "      background-color: #434B5C;\n",
              "      box-shadow: 0px 1px 3px 1px rgba(0, 0, 0, 0.15);\n",
              "      filter: drop-shadow(0px 1px 2px rgba(0, 0, 0, 0.3));\n",
              "      fill: #FFFFFF;\n",
              "    }\n",
              "  </style>\n",
              "\n",
              "      <script>\n",
              "        const buttonEl =\n",
              "          document.querySelector('#df-f6ed4b4c-073c-4a4b-8c25-7c8350b94566 button.colab-df-convert');\n",
              "        buttonEl.style.display =\n",
              "          google.colab.kernel.accessAllowed ? 'block' : 'none';\n",
              "\n",
              "        async function convertToInteractive(key) {\n",
              "          const element = document.querySelector('#df-f6ed4b4c-073c-4a4b-8c25-7c8350b94566');\n",
              "          const dataTable =\n",
              "            await google.colab.kernel.invokeFunction('convertToInteractive',\n",
              "                                                     [key], {});\n",
              "          if (!dataTable) return;\n",
              "\n",
              "          const docLinkHtml = 'Like what you see? Visit the ' +\n",
              "            '<a target=\"_blank\" href=https://colab.research.google.com/notebooks/data_table.ipynb>data table notebook</a>'\n",
              "            + ' to learn more about interactive tables.';\n",
              "          element.innerHTML = '';\n",
              "          dataTable['output_type'] = 'display_data';\n",
              "          await google.colab.output.renderOutput(dataTable, element);\n",
              "          const docLink = document.createElement('div');\n",
              "          docLink.innerHTML = docLinkHtml;\n",
              "          element.appendChild(docLink);\n",
              "        }\n",
              "      </script>\n",
              "    </div>\n",
              "  </div>\n",
              "  "
            ],
            "application/vnd.google.colaboratory.module+javascript": "\n      import \"https://ssl.gstatic.com/colaboratory/data_table/a8bd4d5e58f96183/data_table.js\";\n\n      window.createDataTable({\n        data: [[\"Lexema\",\n\"Agustino.\"],\n [\"Definici\\u00f3n\",\n\"Miembro de la Orden de  San Agust\\u00edn.\"],\n [\"Extra\",\n\". \\u00d3rdenes cat\\u00f3licas . . . .\"]],\n        columns: [[\"string\", \"index\"], [\"string\", \"diccionario\"]],\n        columnOptions: [{\"width\": \"1px\", \"className\": \"index_column\"}],\n        rowsPerPage: 25,\n        helpUrl: \"https://colab.research.google.com/notebooks/data_table.ipynb\",\n        suppressOutputScrolling: true,\n        minimumWidth: undefined,\n      });\n    "
          },
          "metadata": {},
          "execution_count": 242
        }
      ]
    },
    {
      "cell_type": "code",
      "source": [
        "verunlexema(58)"
      ],
      "metadata": {
        "colab": {
          "base_uri": "https://localhost:8080/",
          "height": 219
        },
        "id": "D2yA0N72DJTD",
        "outputId": "c2bcab01-3836-488a-98cb-c09c64b7d2df"
      },
      "execution_count": null,
      "outputs": [
        {
          "output_type": "execute_result",
          "data": {
            "text/plain": [
              "                                                  diccionario\n",
              "Lexema                           (Orden, de, San, Agustín, .)\n",
              "Definición  (Orden, regida, por, la, Regla, de, San, Agust...\n",
              "Extra       (Orden, de, Ermitaños, de, San, Agustín, ;, Or..."
            ],
            "text/html": [
              "\n",
              "  <div id=\"df-47b90612-6ae5-4551-a7b8-f2bdeb81bd78\">\n",
              "    <div class=\"colab-df-container\">\n",
              "      <div>\n",
              "<style scoped>\n",
              "    .dataframe tbody tr th:only-of-type {\n",
              "        vertical-align: middle;\n",
              "    }\n",
              "\n",
              "    .dataframe tbody tr th {\n",
              "        vertical-align: top;\n",
              "    }\n",
              "\n",
              "    .dataframe thead th {\n",
              "        text-align: right;\n",
              "    }\n",
              "</style>\n",
              "<table border=\"1\" class=\"dataframe\">\n",
              "  <thead>\n",
              "    <tr style=\"text-align: right;\">\n",
              "      <th></th>\n",
              "      <th>diccionario</th>\n",
              "    </tr>\n",
              "  </thead>\n",
              "  <tbody>\n",
              "    <tr>\n",
              "      <th>Lexema</th>\n",
              "      <td>(Orden, de, San, Agustín, .)</td>\n",
              "    </tr>\n",
              "    <tr>\n",
              "      <th>Definición</th>\n",
              "      <td>(Orden, regida, por, la, Regla, de, San, Agust...</td>\n",
              "    </tr>\n",
              "    <tr>\n",
              "      <th>Extra</th>\n",
              "      <td>(Orden, de, Ermitaños, de, San, Agustín, ;, Or...</td>\n",
              "    </tr>\n",
              "  </tbody>\n",
              "</table>\n",
              "</div>\n",
              "      <button class=\"colab-df-convert\" onclick=\"convertToInteractive('df-47b90612-6ae5-4551-a7b8-f2bdeb81bd78')\"\n",
              "              title=\"Convert this dataframe to an interactive table.\"\n",
              "              style=\"display:none;\">\n",
              "        \n",
              "  <svg xmlns=\"http://www.w3.org/2000/svg\" height=\"24px\"viewBox=\"0 0 24 24\"\n",
              "       width=\"24px\">\n",
              "    <path d=\"M0 0h24v24H0V0z\" fill=\"none\"/>\n",
              "    <path d=\"M18.56 5.44l.94 2.06.94-2.06 2.06-.94-2.06-.94-.94-2.06-.94 2.06-2.06.94zm-11 1L8.5 8.5l.94-2.06 2.06-.94-2.06-.94L8.5 2.5l-.94 2.06-2.06.94zm10 10l.94 2.06.94-2.06 2.06-.94-2.06-.94-.94-2.06-.94 2.06-2.06.94z\"/><path d=\"M17.41 7.96l-1.37-1.37c-.4-.4-.92-.59-1.43-.59-.52 0-1.04.2-1.43.59L10.3 9.45l-7.72 7.72c-.78.78-.78 2.05 0 2.83L4 21.41c.39.39.9.59 1.41.59.51 0 1.02-.2 1.41-.59l7.78-7.78 2.81-2.81c.8-.78.8-2.07 0-2.86zM5.41 20L4 18.59l7.72-7.72 1.47 1.35L5.41 20z\"/>\n",
              "  </svg>\n",
              "      </button>\n",
              "      \n",
              "  <style>\n",
              "    .colab-df-container {\n",
              "      display:flex;\n",
              "      flex-wrap:wrap;\n",
              "      gap: 12px;\n",
              "    }\n",
              "\n",
              "    .colab-df-convert {\n",
              "      background-color: #E8F0FE;\n",
              "      border: none;\n",
              "      border-radius: 50%;\n",
              "      cursor: pointer;\n",
              "      display: none;\n",
              "      fill: #1967D2;\n",
              "      height: 32px;\n",
              "      padding: 0 0 0 0;\n",
              "      width: 32px;\n",
              "    }\n",
              "\n",
              "    .colab-df-convert:hover {\n",
              "      background-color: #E2EBFA;\n",
              "      box-shadow: 0px 1px 2px rgba(60, 64, 67, 0.3), 0px 1px 3px 1px rgba(60, 64, 67, 0.15);\n",
              "      fill: #174EA6;\n",
              "    }\n",
              "\n",
              "    [theme=dark] .colab-df-convert {\n",
              "      background-color: #3B4455;\n",
              "      fill: #D2E3FC;\n",
              "    }\n",
              "\n",
              "    [theme=dark] .colab-df-convert:hover {\n",
              "      background-color: #434B5C;\n",
              "      box-shadow: 0px 1px 3px 1px rgba(0, 0, 0, 0.15);\n",
              "      filter: drop-shadow(0px 1px 2px rgba(0, 0, 0, 0.3));\n",
              "      fill: #FFFFFF;\n",
              "    }\n",
              "  </style>\n",
              "\n",
              "      <script>\n",
              "        const buttonEl =\n",
              "          document.querySelector('#df-47b90612-6ae5-4551-a7b8-f2bdeb81bd78 button.colab-df-convert');\n",
              "        buttonEl.style.display =\n",
              "          google.colab.kernel.accessAllowed ? 'block' : 'none';\n",
              "\n",
              "        async function convertToInteractive(key) {\n",
              "          const element = document.querySelector('#df-47b90612-6ae5-4551-a7b8-f2bdeb81bd78');\n",
              "          const dataTable =\n",
              "            await google.colab.kernel.invokeFunction('convertToInteractive',\n",
              "                                                     [key], {});\n",
              "          if (!dataTable) return;\n",
              "\n",
              "          const docLinkHtml = 'Like what you see? Visit the ' +\n",
              "            '<a target=\"_blank\" href=https://colab.research.google.com/notebooks/data_table.ipynb>data table notebook</a>'\n",
              "            + ' to learn more about interactive tables.';\n",
              "          element.innerHTML = '';\n",
              "          dataTable['output_type'] = 'display_data';\n",
              "          await google.colab.output.renderOutput(dataTable, element);\n",
              "          const docLink = document.createElement('div');\n",
              "          docLink.innerHTML = docLinkHtml;\n",
              "          element.appendChild(docLink);\n",
              "        }\n",
              "      </script>\n",
              "    </div>\n",
              "  </div>\n",
              "  "
            ],
            "application/vnd.google.colaboratory.module+javascript": "\n      import \"https://ssl.gstatic.com/colaboratory/data_table/a8bd4d5e58f96183/data_table.js\";\n\n      window.createDataTable({\n        data: [[\"Lexema\",\n\"Orden de San Agust\\u00edn.\"],\n [\"Definici\\u00f3n\",\n\"Orden regida por la Regla de San Agust\\u00edn, formada de varias comunidades de monjes. |\"],\n [\"Extra\",\n\"Orden de Ermita\\u00f1os de San Agust\\u00edn; Orden de los Agustinos  . . Eran comunitarios, austeros, r\\u00edgidos en salud, castidad y obediencia. | Estaban divididos en 4 provincias: Italia, Espa\\u00f1a, Francia y Alemania. Para la segunda mitad del siglo XV la orden estaba dividida en dos: Los que quer\\u00edan una reforma en la orden, llamados no observantes,  y los que se apegaban a su orden estricto, los observantes. La congregaci\\u00f3n de Erfurt se inclin\\u00f3 por la observancia entricta desde 1492. | Mart\\u00edn Lutero pertenec\\u00eda a \\u00e9sta \\u00faltima. Entre 1510 y 1511 fue enviado con otro monje a Roma para representar a todos los monasterios agustinos de Alemania para defender su posici\\u00f3n ante el papa Julio II, quien finalmente fusion\\u00f3 las \\u00f3rdenes observantes y no observantes. Es en este periodo cuando la moralidad y espiritualidad en Roma le causan una impresi\\u00f3n negativa |\"]],\n        columns: [[\"string\", \"index\"], [\"string\", \"diccionario\"]],\n        columnOptions: [{\"width\": \"1px\", \"className\": \"index_column\"}],\n        rowsPerPage: 25,\n        helpUrl: \"https://colab.research.google.com/notebooks/data_table.ipynb\",\n        suppressOutputScrolling: true,\n        minimumWidth: undefined,\n      });\n    "
          },
          "metadata": {},
          "execution_count": 243
        }
      ]
    },
    {
      "cell_type": "markdown",
      "source": [
        "### Documento donde se excomulga a Lutero"
      ],
      "metadata": {
        "id": "TNQzuQAAWLem"
      }
    },
    {
      "cell_type": "code",
      "source": [
        "# Documento donde se excomulga a Lutero\n",
        "diccionarioresponde()"
      ],
      "metadata": {
        "colab": {
          "base_uri": "https://localhost:8080/"
        },
        "id": "_ObHx0ECTQE7",
        "outputId": "ac7da958-c504-406e-a718-54f7446cc207"
      },
      "execution_count": null,
      "outputs": [
        {
          "output_type": "stream",
          "name": "stdout",
          "text": [
            "Si no recuerdas el término, pregúntame, o trata de escribir lo que recuerdes:\n",
            "(Nota: El diccionario cuenta con 70 términos. Trabajamos para que crezca)\n",
            "→ Documento donde se excomulga a Lutero\n",
            "\n",
            "Búsqueda en lista de lexemas. 10 coincidencias más cercanas:\n",
            "\n",
            "1. Sacramento:   41.91 % de similitud\n",
            "2. Anglicana, Iglesia:   37.25 % de similitud\n",
            "3. Anabaptista, iglesia:   34.28 % de similitud\n",
            "4. A la nobleza cristiana de la nación alemana.:   33.88 % de similitud\n",
            "5. Cautividad babilónica de la Iglesia, La:   22.1 % de similitud\n",
            "6. Institución de la Religión Cristiana.:   21.0 % de similitud\n",
            "7. Noventa y cinco tesis.:   18.26 % de similitud\n",
            "8. Guerra de los ochenta años.:   18.07 % de similitud\n",
            "9. Valdense, grupo.:   15.93 % de similitud\n",
            "10. De la libertad del cristiano.:   14.99 % de similitud\n",
            "\n",
            "Búsqueda en lista de definiciones. 10 coincidencias más cercanas:\n",
            "\n",
            "1. Valdense, grupo.:  69.61 % de similitud\n",
            "2. Husita, grupo.:  60.68 % de similitud\n",
            "3. Eucaristía.:  59.12 % de similitud\n",
            "4. Exsurge Domine.:  58.93 % de similitud\n",
            "5. Dieta. Dieta de Worms.:  54.03 % de similitud\n",
            "6. Edicto de Nantes.:  52.99 % de similitud\n",
            "7. De la libertad del cristiano.:  52.69 % de similitud\n",
            "8. Libre examen.:  52.36 % de similitud\n",
            "9. A la nobleza cristiana de la nación alemana.:  51.54 % de similitud\n",
            "\n",
            "\n",
            "Búsqueda en lista de información extra. 10 coincidencias más cercanas:\n",
            "\n",
            "1. Cautividad babilónica de la Iglesia, La:   64.86 % de similitud\n",
            "2. Decet romanum pontificem.:   56.87 % de similitud\n",
            "3. Noventa y cinco tesis.:   54.3 % de similitud\n",
            "4. Dieta. Dieta de Worms.:   54.27 % de similitud\n",
            "5. Orden de San Agustín.:   52.34 % de similitud\n",
            "6. Concilio. Concilio de Trento.:   51.62 % de similitud\n",
            "7. Exsurge Domine.:   50.71 % de similitud\n",
            "8. Sínodo de Dort.:   48.95 % de similitud\n",
            "9. Coral.:   47.76 % de similitud\n",
            "\n",
            "\n"
          ]
        }
      ]
    },
    {
      "cell_type": "markdown",
      "source": [
        "### Escrito más famoso de Martín Lutero"
      ],
      "metadata": {
        "id": "znW5s6g6WPkn"
      }
    },
    {
      "cell_type": "code",
      "source": [
        "# Escrito más famoso de Martín Lutero\n",
        "diccionarioresponde()"
      ],
      "metadata": {
        "colab": {
          "base_uri": "https://localhost:8080/"
        },
        "id": "cJ1xAucETkwU",
        "outputId": "3a97ced3-590c-421b-d63b-b9280e9babdb"
      },
      "execution_count": null,
      "outputs": [
        {
          "output_type": "stream",
          "name": "stdout",
          "text": [
            "Si no recuerdas el término, pregúntame, o trata de escribir lo que recuerdes:\n",
            "(Nota: El diccionario cuenta con 70 términos. Trabajamos para que crezca)\n",
            "→ Escrito más famoso de Martín Lutero\n",
            "\n",
            "Búsqueda en lista de lexemas. 10 coincidencias más cercanas:\n",
            "\n",
            "1. Protesta de Espira:   65.98 % de similitud\n",
            "2. Salterio de Ginebra.:   63.38 % de similitud\n",
            "3. Libro de oración común.:   62.09 % de similitud\n",
            "4. Guerra de Esmalcalda.:   60.45 % de similitud\n",
            "5. Edicto de Nantes.:   59.99 % de similitud\n",
            "6. Paz de Augsburgo.:   59.03 % de similitud\n",
            "7. Sínodo de Dort.:   58.57 % de similitud\n",
            "8. Disputa de Leipzig.:   58.51 % de similitud\n",
            "9. Guerra de los ochenta años.:   58.03 % de similitud\n",
            "10. Matanza de San Bartolomé.:   58.01 % de similitud\n",
            "\n",
            "Búsqueda en lista de definiciones. 10 coincidencias más cercanas:\n",
            "\n",
            "1. Anglicana, Iglesia:  67.15 % de similitud\n",
            "2. Noventa y cinco tesis.:  66.02 % de similitud\n",
            "3. Calvinismo.:  65.41 % de similitud\n",
            "4. Castillo fuerte es nuestro Dios.:  64.83 % de similitud\n",
            "5. Libro de la Concordia.:  63.68 % de similitud\n",
            "6. Salterio de Ginebra.:  63.48 % de similitud\n",
            "7. Hugonote, grupo.:  63.42 % de similitud\n",
            "8. Gomarista.:  63.23 % de similitud\n",
            "9. Cautividad babilónica de la Iglesia, La:  62.79 % de similitud\n",
            "\n",
            "\n",
            "Búsqueda en lista de información extra. 10 coincidencias más cercanas:\n",
            "\n",
            "1. Canon. Canon bíblico.:   67.04 % de similitud\n",
            "2. Anabaptista, iglesia:   66.2 % de similitud\n",
            "3. Concilio.:   64.58 % de similitud\n",
            "4. Castillo fuerte es nuestro Dios.:   64.54 % de similitud\n",
            "5. A la nobleza cristiana de la nación alemana.:   63.93 % de similitud\n",
            "6. Exsurge Domine.:   63.89 % de similitud\n",
            "7. Valdense, grupo.:   63.72 % de similitud\n",
            "8. Anglicana, Iglesia:   63.69 % de similitud\n",
            "9. Cinco solas. Solus Christus.:   63.53 % de similitud\n",
            "\n",
            "\n"
          ]
        }
      ]
    },
    {
      "cell_type": "markdown",
      "source": [
        "### Prescindir lexemas del análisis"
      ],
      "metadata": {
        "id": "7ozZ2DiuTy4b"
      }
    },
    {
      "cell_type": "markdown",
      "source": [
        "Faltaría un mayor análisis para confirmarlo, pero por el momento no hace falta."
      ],
      "metadata": {
        "id": "_crK2LS7T0r4"
      }
    },
    {
      "cell_type": "markdown",
      "source": [
        "### Documento que quemó Martín Lutero"
      ],
      "metadata": {
        "id": "wF2CRXm5Ee1p"
      }
    },
    {
      "cell_type": "code",
      "source": [
        " # Documento que quemó martín lutero\n",
        " diccionarioContesta()"
      ],
      "metadata": {
        "colab": {
          "base_uri": "https://localhost:8080/"
        },
        "id": "muKykTbrETEZ",
        "outputId": "49f8bbab-2f53-4883-f3e2-fc8451744cb3"
      },
      "execution_count": null,
      "outputs": [
        {
          "output_type": "stream",
          "name": "stdout",
          "text": [
            "Si no recuerdas el término, pregúntame, o trata de escribir lo que recuerdes:\n",
            "(Nota: El diccionario cuenta con 70 términos. Trabajamos para que crezca)\n",
            "→ Documento que quemó martín lutero\n",
            "\n",
            "Búsqueda en lista de definiciones. 10 coincidencias más cercanas:\n",
            "\n",
            "1. Cinco solas. Sola fide.:  57.43 % de similitud\n",
            "2. Valdense, grupo.:  50.08 % de similitud\n",
            "3. Anabaptista, iglesia:  49.12 % de similitud\n",
            "4. Exsurge Domine.:  46.98 % de similitud\n",
            "5. Cinco puntos calvinistas. 1. Totalidad depravada.:  46.05 % de similitud\n",
            "6. Excomunión.:  45.85 % de similitud\n",
            "7. Cinco solas. Sola Scriptura.:  43.17 % de similitud\n",
            "8. Husita, grupo.:  42.95 % de similitud\n",
            "9. Lolarda, grupo.:  42.94 % de similitud\n",
            "\n",
            "\n",
            "Búsqueda en lista de información extra. 10 coincidencias más cercanas:\n",
            "\n",
            "1. Cinco puntos calvinistas. 1. Totalidad depravada.:   48.04 % de similitud\n",
            "2. Noventa y cinco tesis.:   45.76 % de similitud\n",
            "3. Decet romanum pontificem.:   44.22 % de similitud\n",
            "4. Cinco puntos calvinistas. 2. Una elección incondicional.:   43.92 % de similitud\n",
            "5. Dieta. Dieta de Worms.:   43.17 % de similitud\n",
            "6. Anglicana, Iglesia:   42.94 % de similitud\n",
            "7. Cinco solas. Soli Deo Gloria.:   42.18 % de similitud\n",
            "8. Concilio. Concilio de Trento.:   41.34 % de similitud\n",
            "9. Cautividad babilónica de la Iglesia, La:   40.87 % de similitud\n",
            "\n",
            "\n"
          ]
        }
      ]
    },
    {
      "cell_type": "markdown",
      "source": [
        "# FUNCIONES. Compendio"
      ],
      "metadata": {
        "id": "IwhQrWWoU_af"
      }
    },
    {
      "cell_type": "markdown",
      "source": [
        "## Funciones base"
      ],
      "metadata": {
        "id": "IJj9ZDWFSf5E"
      }
    },
    {
      "cell_type": "code",
      "source": [
        "# Ver lexemas con índice\n",
        "def verlexemas():\n",
        "  data_table.enable_dataframe_formatter()\n",
        "  return data_table.DataTable(diccionarioPLN[['lexema']], include_index=True, num_rows_per_page=20)\n",
        "  data_table.disable_dataframe_formatter()"
      ],
      "metadata": {
        "id": "qfRJSE5bSfaY"
      },
      "execution_count": null,
      "outputs": []
    },
    {
      "cell_type": "code",
      "source": [
        "# FUNCIÓN\n",
        "# Consulta: 1 = 'lexema', 2 = 'definición'; 3 ='extra'\n",
        "# Columna: Número de columna en index\n",
        "\n",
        "def diccionario (consulta, columna):\n",
        "  if consulta == 1:\n",
        "    consulta = 'lexema'\n",
        "  elif consulta == 2:\n",
        "    consulta = 'definición'\n",
        "  elif consulta == 3:\n",
        "    consulta = 'extra'\n",
        "  return diccionarioPLN[consulta][columna]"
      ],
      "metadata": {
        "id": "O2LcuX9PSr-U"
      },
      "execution_count": null,
      "outputs": []
    },
    {
      "cell_type": "code",
      "source": [
        "def verunlexema (lexema):\n",
        "  entrada = pd.DataFrame.transpose(pd.DataFrame(columns=[diccionario(1,lexema), diccionario(2,lexema), diccionario(3,lexema)])).reset_index()\n",
        "  entrada = entrada.rename(columns={'level_0':'index', 'index': 'diccionario'}, index={0:'Lexema', 1:'Definición', 2:'Extra'})\n",
        "  return entrada"
      ],
      "metadata": {
        "id": "6muK_9pJBp3A"
      },
      "execution_count": null,
      "outputs": []
    },
    {
      "cell_type": "code",
      "source": [
        "# Función para recibir pregunta del usuario\n",
        "def pregunta():\n",
        "  global preguntaPLN\n",
        "  preguntaPLN = nlp(input('''Si no recuerdas el término, pregúntame, o trata de escribir lo que recuerdes:\n",
        "(Nota: El diccionario cuenta con 70 términos. Trabajamos para que crezca)\n",
        "→ '''))"
      ],
      "metadata": {
        "id": "NAnMB323TBdC"
      },
      "execution_count": null,
      "outputs": []
    },
    {
      "cell_type": "code",
      "source": [
        "# Función para comparar pregunta con el diccionario\n",
        "def compara():\n",
        "  global diccionarioPLN\n",
        "  global preguntaPLN\n",
        "  for i in diccionarioPLN: \n",
        "    diccionarioPLN['similitudLexema'] = diccionarioPLN['lexema'].apply(lambda x: x.similarity(preguntaPLN))\n",
        "  for i in diccionarioPLN:\n",
        "    diccionarioPLN['similitudDefinición'] = diccionarioPLN['definición'].apply(lambda x: x.similarity(preguntaPLN))\n",
        "  for i in diccionarioPLN:\n",
        "    diccionarioPLN['similitudExtra'] = diccionarioPLN['extra'].apply(lambda x: x.similarity(preguntaPLN))"
      ],
      "metadata": {
        "id": "wqSSfQ1iTC6T"
      },
      "execution_count": null,
      "outputs": []
    },
    {
      "cell_type": "markdown",
      "source": [
        "## Reduciendo función \"resultados\""
      ],
      "metadata": {
        "id": "HyZVchx7UPhu"
      }
    },
    {
      "cell_type": "code",
      "source": [
        "def resultados2():\n",
        "  definir = diccionarioPLN.sort_values(by='similitudDefinición', ascending=False).reset_index().drop(columns='index')\n",
        "  extra = diccionarioPLN.sort_values(by='similitudExtra', ascending=False).reset_index().drop(columns='index')\n",
        "\n",
        "  # Definiciones\n",
        "  print('\\nBúsqueda en lista de definiciones. 10 coincidencias más cercanas:\\n')\n",
        "  for d in range(0,9):\n",
        "    d += 0\n",
        "    print(f'''{d+1}. {definir.loc[d, 'lexema']}:  {round(definir.loc[d, 'similitudDefinición']*100, 2)} % de similitud''')\n",
        "  \n",
        "  # Extra\n",
        "  print('\\n\\nBúsqueda en lista de información extra. 10 coincidencias más cercanas:\\n')\n",
        "  for e in range(0,9):\n",
        "    e += 0\n",
        "    print(f'''{e+1}. {extra.loc[e, 'lexema']}:   {round(extra.loc[e, 'similitudExtra']*100, 2)} % de similitud''')\n",
        "  print('\\n')"
      ],
      "metadata": {
        "id": "NzELTHXLUA7z"
      },
      "execution_count": 339,
      "outputs": []
    },
    {
      "cell_type": "markdown",
      "source": [
        "- Se reduce un 33 % los resultados\n",
        "- Es más sencillo leer 20 resultados a 30\n",
        "- Los resultados ignorados es muy problabe que no sean necesarios"
      ],
      "metadata": {
        "id": "-wzcjEXJUqeJ"
      }
    },
    {
      "cell_type": "code",
      "source": [
        "# Función pregunta-respuesta 2\n",
        "def diccionarioContesta():\n",
        "  pregunta()\n",
        "  compara()\n",
        "  resultados2()"
      ],
      "metadata": {
        "id": "ifWDc48_UWOl"
      },
      "execution_count": 340,
      "outputs": []
    },
    {
      "cell_type": "markdown",
      "source": [
        "## Prueba"
      ],
      "metadata": {
        "id": "UbHbAPnGThu0"
      }
    },
    {
      "cell_type": "code",
      "source": [
        "# Cómo se llama cuando el pan y el vino se hacen el cuerpo de Cristo\n",
        "diccionarioContesta()"
      ],
      "metadata": {
        "colab": {
          "base_uri": "https://localhost:8080/"
        },
        "id": "9jg-VPaAc3tt",
        "outputId": "c401a0d1-844f-457b-9d78-c1253f3b9276"
      },
      "execution_count": null,
      "outputs": [
        {
          "output_type": "stream",
          "name": "stdout",
          "text": [
            "Si no recuerdas el término, pregúntame, o trata de escribir lo que recuerdes:\n",
            "(Nota: El diccionario cuenta con 70 términos. Trabajamos para que crezca)\n",
            "→ Cómo se llama cuando el pan y el vino se hacen el cuerpo de Cristo\n",
            "\n",
            "Búsqueda en lista de definiciones. 10 coincidencias más cercanas:\n",
            "\n",
            "1. Sacramento:  72.87 % de similitud\n",
            "2. Paz de Augsburgo.:  66.4 % de similitud\n",
            "3. Cinco solas. Sola fide.:  65.87 % de similitud\n",
            "4. Eucaristía. Transubstanciación.:  65.64 % de similitud\n",
            "5. Anabaptista, iglesia:  64.11 % de similitud\n",
            "6. Eucaristía.:  62.68 % de similitud\n",
            "7. Indulgencia.:  62.55 % de similitud\n",
            "8. Cinco puntos calvinistas. 1. Totalidad depravada.:  60.79 % de similitud\n",
            "9. Exsurge Domine.:  60.3 % de similitud\n",
            "\n",
            "\n",
            "Búsqueda en lista de información extra. 10 coincidencias más cercanas:\n",
            "\n",
            "1. Cautividad babilónica de la Iglesia, La:   74.63 % de similitud\n",
            "2. Coral.:   71.61 % de similitud\n",
            "3. Eucaristía.:   67.59 % de similitud\n",
            "4. Disputa de Leipzig.:   65.58 % de similitud\n",
            "5. Cinco solas. Soli Deo Gloria.:   63.42 % de similitud\n",
            "6. Decet romanum pontificem.:   62.5 % de similitud\n",
            "7. Noventa y cinco tesis.:   62.36 % de similitud\n",
            "8. Arminiano.:   60.42 % de similitud\n",
            "9. Husita, grupo.:   59.6 % de similitud\n",
            "\n",
            "\n"
          ]
        }
      ]
    },
    {
      "cell_type": "markdown",
      "source": [
        "# Segunda evaluación. Preguntas más complejas"
      ],
      "metadata": {
        "id": "GynIqDP2Swh7"
      }
    },
    {
      "cell_type": "markdown",
      "source": [
        "El diccionario no puede responder lo que no sabe. Si existe el lexema, pero no tiene mucha información, será muy difícil, o hasta imposible que lo responda. \n",
        "- Se harán 20 preguntas sobre lexemas que sí están en el diccionario y se contabilizará en cuántos se mostró el lexema esperado.\n",
        "- Las preguntas tendrán diferentes grados de complejidad\n",
        "\n",
        "- Aquí **no se mostrará la lista de palabras con porcentaje de similitud**, solamente se mostrará si sí encontró el modelo"
      ],
      "metadata": {
        "id": "LkuKewpOTyni"
      }
    },
    {
      "cell_type": "code",
      "source": [
        "verlexemas()"
      ],
      "metadata": {
        "colab": {
          "base_uri": "https://localhost:8080/",
          "height": 529
        },
        "id": "JSk2jIL4kM5m",
        "outputId": "6b073f76-7c4e-4bef-8e78-0293892e9045"
      },
      "execution_count": null,
      "outputs": [
        {
          "output_type": "execute_result",
          "data": {
            "text/html": [
              "<div>\n",
              "<style scoped>\n",
              "    .dataframe tbody tr th:only-of-type {\n",
              "        vertical-align: middle;\n",
              "    }\n",
              "\n",
              "    .dataframe tbody tr th {\n",
              "        vertical-align: top;\n",
              "    }\n",
              "\n",
              "    .dataframe thead th {\n",
              "        text-align: right;\n",
              "    }\n",
              "</style>\n",
              "<table border=\"1\" class=\"dataframe\">\n",
              "  <thead>\n",
              "    <tr style=\"text-align: right;\">\n",
              "      <th></th>\n",
              "      <th>lexema</th>\n",
              "    </tr>\n",
              "  </thead>\n",
              "  <tbody>\n",
              "    <tr>\n",
              "      <th>0</th>\n",
              "      <td>(A, la, nobleza, cristiana, de, la, nación, al...</td>\n",
              "    </tr>\n",
              "    <tr>\n",
              "      <th>1</th>\n",
              "      <td>(Agustino, .)</td>\n",
              "    </tr>\n",
              "    <tr>\n",
              "      <th>2</th>\n",
              "      <td>(Anabaptista, ,, iglesia)</td>\n",
              "    </tr>\n",
              "    <tr>\n",
              "      <th>3</th>\n",
              "      <td>(Anglicana, ,, Iglesia)</td>\n",
              "    </tr>\n",
              "    <tr>\n",
              "      <th>4</th>\n",
              "      <td>(Arminiano, .)</td>\n",
              "    </tr>\n",
              "    <tr>\n",
              "      <th>...</th>\n",
              "      <td>...</td>\n",
              "    </tr>\n",
              "    <tr>\n",
              "      <th>65</th>\n",
              "      <td>(Sacramento)</td>\n",
              "    </tr>\n",
              "    <tr>\n",
              "      <th>66</th>\n",
              "      <td>(Salterio, de, Ginebra, .)</td>\n",
              "    </tr>\n",
              "    <tr>\n",
              "      <th>67</th>\n",
              "      <td>(Sínodo, de, Dort, .)</td>\n",
              "    </tr>\n",
              "    <tr>\n",
              "      <th>68</th>\n",
              "      <td>(Sínodo, .)</td>\n",
              "    </tr>\n",
              "    <tr>\n",
              "      <th>69</th>\n",
              "      <td>(Valdense, ,, grupo, .)</td>\n",
              "    </tr>\n",
              "  </tbody>\n",
              "</table>\n",
              "<p>70 rows × 1 columns</p>\n",
              "</div>"
            ],
            "application/vnd.google.colaboratory.module+javascript": "\n      import \"https://ssl.gstatic.com/colaboratory/data_table/a8bd4d5e58f96183/data_table.js\";\n\n      window.createDataTable({\n        data: [[{\n            'v': 0,\n            'f': \"0\",\n        },\n\"A la nobleza cristiana de la naci\\u00f3n alemana.\"],\n [{\n            'v': 1,\n            'f': \"1\",\n        },\n\"Agustino.\"],\n [{\n            'v': 2,\n            'f': \"2\",\n        },\n\"Anabaptista, iglesia\"],\n [{\n            'v': 3,\n            'f': \"3\",\n        },\n\"Anglicana, Iglesia\"],\n [{\n            'v': 4,\n            'f': \"4\",\n        },\n\"Arminiano.\"],\n [{\n            'v': 5,\n            'f': \"5\",\n        },\n\"Barba.\"],\n [{\n            'v': 6,\n            'f': \"6\",\n        },\n\"Bula.\"],\n [{\n            'v': 7,\n            'f': \"7\",\n        },\n\"Calvinismo.\"],\n [{\n            'v': 8,\n            'f': \"8\",\n        },\n\"Canon.\"],\n [{\n            'v': 9,\n            'f': \"9\",\n        },\n\"Canon. Canon b\\u00edblico.\"],\n [{\n            'v': 10,\n            'f': \"10\",\n        },\n\"Castillo fuerte es nuestro Dios.\"],\n [{\n            'v': 11,\n            'f': \"11\",\n        },\n\"Cautividad babil\\u00f3nica de la Iglesia, La\"],\n [{\n            'v': 12,\n            'f': \"12\",\n        },\n\"Cinco puntos calvinistas.\"],\n [{\n            'v': 13,\n            'f': \"13\",\n        },\n\"Cinco puntos calvinistas. 1. Totalidad depravada.\"],\n [{\n            'v': 14,\n            'f': \"14\",\n        },\n\"Cinco puntos calvinistas. 2. Una elecci\\u00f3n incondicional.\"],\n [{\n            'v': 15,\n            'f': \"15\",\n        },\n\"Cinco puntos calvinistas. 3. Limitada expiaci\\u00f3n.\"],\n [{\n            'v': 16,\n            'f': \"16\",\n        },\n\"Cinco puntos calvinistas. 4. Irresistible gracia.\"],\n [{\n            'v': 17,\n            'f': \"17\",\n        },\n\"Cinco puntos calvinistas. 5. Perseverancia de los Santos.\"],\n [{\n            'v': 18,\n            'f': \"18\",\n        },\n\"Cinco Solas.\"],\n [{\n            'v': 19,\n            'f': \"19\",\n        },\n\"Cinco solas. Sola fide.\"],\n [{\n            'v': 20,\n            'f': \"20\",\n        },\n\"Cinco solas. Sola gratia.\"],\n [{\n            'v': 21,\n            'f': \"21\",\n        },\n\"Cinco solas. Sola Scriptura.\"],\n [{\n            'v': 22,\n            'f': \"22\",\n        },\n\"Cinco solas. Soli Deo Gloria.\"],\n [{\n            'v': 23,\n            'f': \"23\",\n        },\n\"Cinco solas. Solus Christus.\"],\n [{\n            'v': 24,\n            'f': \"24\",\n        },\n\"Cisma.\"],\n [{\n            'v': 25,\n            'f': \"25\",\n        },\n\"Concilio.\"],\n [{\n            'v': 26,\n            'f': \"26\",\n        },\n\"Concilio. Concilio de Trento.\"],\n [{\n            'v': 27,\n            'f': \"27\",\n        },\n\"Consenso Tigurinus.\"],\n [{\n            'v': 28,\n            'f': \"28\",\n        },\n\"Coral.\"],\n [{\n            'v': 29,\n            'f': \"29\",\n        },\n\"De la libertad del cristiano.\"],\n [{\n            'v': 30,\n            'f': \"30\",\n        },\n\"Decet romanum pontificem.\"],\n [{\n            'v': 31,\n            'f': \"31\",\n        },\n\"Dieta.\"],\n [{\n            'v': 32,\n            'f': \"32\",\n        },\n\"Dieta. Dieta de Augsburgo.\"],\n [{\n            'v': 33,\n            'f': \"33\",\n        },\n\"Dieta. Dieta de Worms.\"],\n [{\n            'v': 34,\n            'f': \"34\",\n        },\n\"Disputa de Leipzig.\"],\n [{\n            'v': 35,\n            'f': \"35\",\n        },\n\"Edicto de Nantes.\"],\n [{\n            'v': 36,\n            'f': \"36\",\n        },\n\"Eucarist\\u00eda.\"],\n [{\n            'v': 37,\n            'f': \"37\",\n        },\n\"Eucarist\\u00eda. Anamnesis.\"],\n [{\n            'v': 38,\n            'f': \"38\",\n        },\n\"Eucarist\\u00eda. Consubstanciaci\\u00f3n.\"],\n [{\n            'v': 39,\n            'f': \"39\",\n        },\n\"Eucarist\\u00eda. Espiritualizaci\\u00f3n.\"],\n [{\n            'v': 40,\n            'f': \"40\",\n        },\n\"Eucarist\\u00eda. Transubstanciaci\\u00f3n.\"],\n [{\n            'v': 41,\n            'f': \"41\",\n        },\n\"Excomuni\\u00f3n.\"],\n [{\n            'v': 42,\n            'f': \"42\",\n        },\n\"Exsurge Domine.\"],\n [{\n            'v': 43,\n            'f': \"43\",\n        },\n\"Gomarista.\"],\n [{\n            'v': 44,\n            'f': \"44\",\n        },\n\"Guerra de Esmalcalda.\"],\n [{\n            'v': 45,\n            'f': \"45\",\n        },\n\"Guerra de los ochenta a\\u00f1os.\"],\n [{\n            'v': 46,\n            'f': \"46\",\n        },\n\"Hugonote, grupo.\"],\n [{\n            'v': 47,\n            'f': \"47\",\n        },\n\"Husita, grupo.\"],\n [{\n            'v': 48,\n            'f': \"48\",\n        },\n\"Huterita, grupo.\"],\n [{\n            'v': 49,\n            'f': \"49\",\n        },\n\"Indulgencia.\"],\n [{\n            'v': 50,\n            'f': \"50\",\n        },\n\"Instituci\\u00f3n de la Religi\\u00f3n Cristiana.\"],\n [{\n            'v': 51,\n            'f': \"51\",\n        },\n\"Libre examen.\"],\n [{\n            'v': 52,\n            'f': \"52\",\n        },\n\"Libro de la Concordia.\"],\n [{\n            'v': 53,\n            'f': \"53\",\n        },\n\"Libro de oraci\\u00f3n com\\u00fan.\"],\n [{\n            'v': 54,\n            'f': \"54\",\n        },\n\"Lolarda, grupo.\"],\n [{\n            'v': 55,\n            'f': \"55\",\n        },\n\"Luteranismo.\"],\n [{\n            'v': 56,\n            'f': \"56\",\n        },\n\"Matanza de San Bartolom\\u00e9.\"],\n [{\n            'v': 57,\n            'f': \"57\",\n        },\n\"Noventa y cinco tesis.\"],\n [{\n            'v': 58,\n            'f': \"58\",\n        },\n\"Orden de San Agust\\u00edn.\"],\n [{\n            'v': 59,\n            'f': \"59\",\n        },\n\"Paz de Augsburgo.\"],\n [{\n            'v': 60,\n            'f': \"60\",\n        },\n\"Penitencia.\"],\n [{\n            'v': 61,\n            'f': \"61\",\n        },\n\"Presbiterianismo.\"],\n [{\n            'v': 62,\n            'f': \"62\",\n        },\n\"Protesta de Espira\"],\n [{\n            'v': 63,\n            'f': \"63\",\n        },\n\"Reforma Protestante.\"],\n [{\n            'v': 64,\n            'f': \"64\",\n        },\n\"Remonstrante.\"],\n [{\n            'v': 65,\n            'f': \"65\",\n        },\n\"Sacramento\"],\n [{\n            'v': 66,\n            'f': \"66\",\n        },\n\"Salterio de Ginebra.\"],\n [{\n            'v': 67,\n            'f': \"67\",\n        },\n\"S\\u00ednodo de Dort.\"],\n [{\n            'v': 68,\n            'f': \"68\",\n        },\n\"S\\u00ednodo.\"],\n [{\n            'v': 69,\n            'f': \"69\",\n        },\n\"Valdense, grupo.\"]],\n        columns: [[\"number\", \"index\"], [\"string\", \"lexema\"]],\n        columnOptions: [{\"width\": \"1px\", \"className\": \"index_column\"}],\n        rowsPerPage: 20,\n        helpUrl: \"https://colab.research.google.com/notebooks/data_table.ipynb\",\n        suppressOutputScrolling: true,\n        minimumWidth: undefined,\n      });\n    ",
            "text/plain": [
              "<google.colab.data_table.DataTable object>"
            ]
          },
          "metadata": {},
          "execution_count": 114
        }
      ]
    },
    {
      "cell_type": "markdown",
      "source": [
        "## Funciones"
      ],
      "metadata": {
        "id": "fnG1xeFal5NG"
      }
    },
    {
      "cell_type": "code",
      "source": [
        "# Función de evaluación\n",
        "# Hay que colocar el lexema a evaluar exactamente como está en el diccionario\n",
        "def evaluar (lexemaesperado):\n",
        "  pregunta()\n",
        "  compara()\n",
        "  lexemaesperado = nlp(lexemaesperado)\n",
        "\n",
        "  definir = diccionarioPLN.sort_values(by='similitudDefinición', ascending=False).reset_index().drop(columns='index')\n",
        "  extra = diccionarioPLN.sort_values(by='similitudExtra', ascending=False).reset_index().drop(columns='index')\n",
        "  # Evaluar en definiciones\n",
        "  print('\\n¿Encontrado en definiciones?')\n",
        "  for d in range(0,9):\n",
        "    d += 0\n",
        "    if lexemaesperado.similarity(definir.loc[d, 'lexema']) == 1.0:\n",
        "      print(f'''¡Sí! \n",
        "  - Posición {d+1},\n",
        "  - Similitud {round(definir.loc[d, \"similitudDefinición\"]*100, 2)} %''')\n",
        "      break\n",
        "  # Evaluar en información extra\n",
        "  print('¿Encontrado en información extra?')\n",
        "  for e in range(0,9):\n",
        "    e += 0\n",
        "    if lexemaesperado.similarity(extra.loc[e, 'lexema']) == 1.0:\n",
        "      print(f'''¡Sí! \n",
        "  - Posición {e+1},\n",
        "  - Similitud {round(extra.loc[e, \"similitudExtra\"]*100, 2)} %\n",
        "''')\n",
        "      break\n",
        "  print('(Nota: sin respuesta significa que no apareció el lexma)\\n')"
      ],
      "metadata": {
        "id": "JICM6UmEVO1q"
      },
      "execution_count": null,
      "outputs": []
    },
    {
      "cell_type": "code",
      "source": [
        "# Verificar con una pregunta hecha previamente\n",
        "evaluar(lexemaesperado='Exsurge Domine .')"
      ],
      "metadata": {
        "colab": {
          "base_uri": "https://localhost:8080/"
        },
        "id": "zNka_M31YPQD",
        "outputId": "3e522e59-8001-4a4a-e971-136c76eecf09"
      },
      "execution_count": null,
      "outputs": [
        {
          "output_type": "stream",
          "name": "stdout",
          "text": [
            "Si no recuerdas el término, pregúntame, o trata de escribir lo que recuerdes:\n",
            "(Nota: El diccionario cuenta con 70 términos. Trabajamos para que crezca)\n",
            "→ Documento que quemó martín lutero\n",
            "\n",
            "¿Encontrado en definiciones?\n",
            "¡Sí! \n",
            "  - Posición 4,\n",
            "  - Similitud 46.98 %\n",
            "¿Encontrado en información extra?\n",
            "(Nota: sin respuesta significa que no apareció el lexma)\n",
            "\n"
          ]
        }
      ]
    },
    {
      "cell_type": "markdown",
      "source": [
        "## Prueba 1. Fidelidad en preguntas complejas"
      ],
      "metadata": {
        "id": "wV_NfyTISFDE"
      }
    },
    {
      "cell_type": "markdown",
      "source": [
        "### Test1: Barba."
      ],
      "metadata": {
        "id": "0AfiZCrsUAH_"
      }
    },
    {
      "cell_type": "code",
      "source": [
        "pd.df({})"
      ],
      "metadata": {
        "id": "PSpYOK0mg9Wg"
      },
      "execution_count": null,
      "outputs": []
    },
    {
      "cell_type": "code",
      "source": [
        "verunlexema(5)"
      ],
      "metadata": {
        "colab": {
          "base_uri": "https://localhost:8080/",
          "height": 170
        },
        "id": "sP82iGwkEo45",
        "outputId": "5998ac0f-1b46-4a26-e277-c6d36cfe6d6a"
      },
      "execution_count": null,
      "outputs": [
        {
          "output_type": "execute_result",
          "data": {
            "text/plain": [
              "                                                  diccionario\n",
              "Lexema                                             (Barba, .)\n",
              "Definición        (Ministro, de, la, Iglesia, valdense, ., |)\n",
              "Extra       (., Iglesia, Valdense, ., Se, nominó, así, par..."
            ],
            "text/html": [
              "\n",
              "  <div id=\"df-f9eaade6-b3cb-4505-8093-78b9c87655cb\">\n",
              "    <div class=\"colab-df-container\">\n",
              "      <div>\n",
              "<style scoped>\n",
              "    .dataframe tbody tr th:only-of-type {\n",
              "        vertical-align: middle;\n",
              "    }\n",
              "\n",
              "    .dataframe tbody tr th {\n",
              "        vertical-align: top;\n",
              "    }\n",
              "\n",
              "    .dataframe thead th {\n",
              "        text-align: right;\n",
              "    }\n",
              "</style>\n",
              "<table border=\"1\" class=\"dataframe\">\n",
              "  <thead>\n",
              "    <tr style=\"text-align: right;\">\n",
              "      <th></th>\n",
              "      <th>diccionario</th>\n",
              "    </tr>\n",
              "  </thead>\n",
              "  <tbody>\n",
              "    <tr>\n",
              "      <th>Lexema</th>\n",
              "      <td>(Barba, .)</td>\n",
              "    </tr>\n",
              "    <tr>\n",
              "      <th>Definición</th>\n",
              "      <td>(Ministro, de, la, Iglesia, valdense, ., |)</td>\n",
              "    </tr>\n",
              "    <tr>\n",
              "      <th>Extra</th>\n",
              "      <td>(., Iglesia, Valdense, ., Se, nominó, así, par...</td>\n",
              "    </tr>\n",
              "  </tbody>\n",
              "</table>\n",
              "</div>\n",
              "      <button class=\"colab-df-convert\" onclick=\"convertToInteractive('df-f9eaade6-b3cb-4505-8093-78b9c87655cb')\"\n",
              "              title=\"Convert this dataframe to an interactive table.\"\n",
              "              style=\"display:none;\">\n",
              "        \n",
              "  <svg xmlns=\"http://www.w3.org/2000/svg\" height=\"24px\"viewBox=\"0 0 24 24\"\n",
              "       width=\"24px\">\n",
              "    <path d=\"M0 0h24v24H0V0z\" fill=\"none\"/>\n",
              "    <path d=\"M18.56 5.44l.94 2.06.94-2.06 2.06-.94-2.06-.94-.94-2.06-.94 2.06-2.06.94zm-11 1L8.5 8.5l.94-2.06 2.06-.94-2.06-.94L8.5 2.5l-.94 2.06-2.06.94zm10 10l.94 2.06.94-2.06 2.06-.94-2.06-.94-.94-2.06-.94 2.06-2.06.94z\"/><path d=\"M17.41 7.96l-1.37-1.37c-.4-.4-.92-.59-1.43-.59-.52 0-1.04.2-1.43.59L10.3 9.45l-7.72 7.72c-.78.78-.78 2.05 0 2.83L4 21.41c.39.39.9.59 1.41.59.51 0 1.02-.2 1.41-.59l7.78-7.78 2.81-2.81c.8-.78.8-2.07 0-2.86zM5.41 20L4 18.59l7.72-7.72 1.47 1.35L5.41 20z\"/>\n",
              "  </svg>\n",
              "      </button>\n",
              "      \n",
              "  <style>\n",
              "    .colab-df-container {\n",
              "      display:flex;\n",
              "      flex-wrap:wrap;\n",
              "      gap: 12px;\n",
              "    }\n",
              "\n",
              "    .colab-df-convert {\n",
              "      background-color: #E8F0FE;\n",
              "      border: none;\n",
              "      border-radius: 50%;\n",
              "      cursor: pointer;\n",
              "      display: none;\n",
              "      fill: #1967D2;\n",
              "      height: 32px;\n",
              "      padding: 0 0 0 0;\n",
              "      width: 32px;\n",
              "    }\n",
              "\n",
              "    .colab-df-convert:hover {\n",
              "      background-color: #E2EBFA;\n",
              "      box-shadow: 0px 1px 2px rgba(60, 64, 67, 0.3), 0px 1px 3px 1px rgba(60, 64, 67, 0.15);\n",
              "      fill: #174EA6;\n",
              "    }\n",
              "\n",
              "    [theme=dark] .colab-df-convert {\n",
              "      background-color: #3B4455;\n",
              "      fill: #D2E3FC;\n",
              "    }\n",
              "\n",
              "    [theme=dark] .colab-df-convert:hover {\n",
              "      background-color: #434B5C;\n",
              "      box-shadow: 0px 1px 3px 1px rgba(0, 0, 0, 0.15);\n",
              "      filter: drop-shadow(0px 1px 2px rgba(0, 0, 0, 0.3));\n",
              "      fill: #FFFFFF;\n",
              "    }\n",
              "  </style>\n",
              "\n",
              "      <script>\n",
              "        const buttonEl =\n",
              "          document.querySelector('#df-f9eaade6-b3cb-4505-8093-78b9c87655cb button.colab-df-convert');\n",
              "        buttonEl.style.display =\n",
              "          google.colab.kernel.accessAllowed ? 'block' : 'none';\n",
              "\n",
              "        async function convertToInteractive(key) {\n",
              "          const element = document.querySelector('#df-f9eaade6-b3cb-4505-8093-78b9c87655cb');\n",
              "          const dataTable =\n",
              "            await google.colab.kernel.invokeFunction('convertToInteractive',\n",
              "                                                     [key], {});\n",
              "          if (!dataTable) return;\n",
              "\n",
              "          const docLinkHtml = 'Like what you see? Visit the ' +\n",
              "            '<a target=\"_blank\" href=https://colab.research.google.com/notebooks/data_table.ipynb>data table notebook</a>'\n",
              "            + ' to learn more about interactive tables.';\n",
              "          element.innerHTML = '';\n",
              "          dataTable['output_type'] = 'display_data';\n",
              "          await google.colab.output.renderOutput(dataTable, element);\n",
              "          const docLink = document.createElement('div');\n",
              "          docLink.innerHTML = docLinkHtml;\n",
              "          element.appendChild(docLink);\n",
              "        }\n",
              "      </script>\n",
              "    </div>\n",
              "  </div>\n",
              "  "
            ],
            "application/vnd.google.colaboratory.module+javascript": "\n      import \"https://ssl.gstatic.com/colaboratory/data_table/a8bd4d5e58f96183/data_table.js\";\n\n      window.createDataTable({\n        data: [[\"Lexema\",\n\"Barba.\"],\n [\"Definici\\u00f3n\",\n\"Ministro de la Iglesia valdense. |\"],\n [\"Extra\",\n\". Iglesia Valdense . Se nomin\\u00f3 as\\u00ed para no decirle padre, de acuerdo con Mat. 13:9. Tambi\\u00e9n por el cari\\u00f1o y respeto hacia su persona y la persecuci\\u00f3n a los valdenses. | Cuatro barbas viajaron desde Italia a Suiza y Alemania para conocer las ideas de la Reforma. | Gonin, uno de ellos, difundi\\u00f3 los escritos de Lutero en el S\\u00ednodo de Laus. |\"]],\n        columns: [[\"string\", \"index\"], [\"string\", \"diccionario\"]],\n        columnOptions: [{\"width\": \"1px\", \"className\": \"index_column\"}],\n        rowsPerPage: 25,\n        helpUrl: \"https://colab.research.google.com/notebooks/data_table.ipynb\",\n        suppressOutputScrolling: true,\n        minimumWidth: undefined,\n      });\n    "
          },
          "metadata": {},
          "execution_count": 258
        }
      ]
    },
    {
      "cell_type": "code",
      "source": [
        "# pastor de la iglesia valdense\n",
        "evaluar(lexemaesperado='Barba.')"
      ],
      "metadata": {
        "colab": {
          "base_uri": "https://localhost:8080/"
        },
        "id": "ML943PXbkvmj",
        "outputId": "fe2a9cf2-39b8-45aa-f49b-941ae2645a7c"
      },
      "execution_count": null,
      "outputs": [
        {
          "output_type": "stream",
          "name": "stdout",
          "text": [
            "Si no recuerdas el término, pregúntame, o trata de escribir lo que recuerdes:\n",
            "(Nota: El diccionario cuenta con 70 términos. Trabajamos para que crezca)\n",
            "→ pastor de la iglesia valdense\n",
            "\n",
            "¿Encontrado en definiciones?\n",
            "¿Encontrado en información extra?\n",
            "(Nota: sin respuesta significa que no apareció el lexma)\n",
            "\n"
          ]
        }
      ]
    },
    {
      "cell_type": "markdown",
      "source": [
        "### Test2: Castillo fuerte es nuestro Dios."
      ],
      "metadata": {
        "id": "OZ6xeQtNUD-4"
      }
    },
    {
      "cell_type": "code",
      "source": [
        "verunlexema(10)"
      ],
      "metadata": {
        "colab": {
          "base_uri": "https://localhost:8080/",
          "height": 186
        },
        "id": "ytvEgUiUExCE",
        "outputId": "3aabba90-3fda-49db-cebb-eda539dc7102"
      },
      "execution_count": null,
      "outputs": [
        {
          "output_type": "execute_result",
          "data": {
            "text/plain": [
              "                                                  diccionario\n",
              "Lexema               (Castillo, fuerte, es, nuestro, Dios, .)\n",
              "Definición  (Himno, icónico, de, la, Reforma, compuesto, p...\n",
              "Extra       (Ein, feste, Burg, ist, unser, Gott, ;, Obras,..."
            ],
            "text/html": [
              "\n",
              "  <div id=\"df-5f985671-0bf6-4c89-b91d-da62c78de7f7\">\n",
              "    <div class=\"colab-df-container\">\n",
              "      <div>\n",
              "<style scoped>\n",
              "    .dataframe tbody tr th:only-of-type {\n",
              "        vertical-align: middle;\n",
              "    }\n",
              "\n",
              "    .dataframe tbody tr th {\n",
              "        vertical-align: top;\n",
              "    }\n",
              "\n",
              "    .dataframe thead th {\n",
              "        text-align: right;\n",
              "    }\n",
              "</style>\n",
              "<table border=\"1\" class=\"dataframe\">\n",
              "  <thead>\n",
              "    <tr style=\"text-align: right;\">\n",
              "      <th></th>\n",
              "      <th>diccionario</th>\n",
              "    </tr>\n",
              "  </thead>\n",
              "  <tbody>\n",
              "    <tr>\n",
              "      <th>Lexema</th>\n",
              "      <td>(Castillo, fuerte, es, nuestro, Dios, .)</td>\n",
              "    </tr>\n",
              "    <tr>\n",
              "      <th>Definición</th>\n",
              "      <td>(Himno, icónico, de, la, Reforma, compuesto, p...</td>\n",
              "    </tr>\n",
              "    <tr>\n",
              "      <th>Extra</th>\n",
              "      <td>(Ein, feste, Burg, ist, unser, Gott, ;, Obras,...</td>\n",
              "    </tr>\n",
              "  </tbody>\n",
              "</table>\n",
              "</div>\n",
              "      <button class=\"colab-df-convert\" onclick=\"convertToInteractive('df-5f985671-0bf6-4c89-b91d-da62c78de7f7')\"\n",
              "              title=\"Convert this dataframe to an interactive table.\"\n",
              "              style=\"display:none;\">\n",
              "        \n",
              "  <svg xmlns=\"http://www.w3.org/2000/svg\" height=\"24px\"viewBox=\"0 0 24 24\"\n",
              "       width=\"24px\">\n",
              "    <path d=\"M0 0h24v24H0V0z\" fill=\"none\"/>\n",
              "    <path d=\"M18.56 5.44l.94 2.06.94-2.06 2.06-.94-2.06-.94-.94-2.06-.94 2.06-2.06.94zm-11 1L8.5 8.5l.94-2.06 2.06-.94-2.06-.94L8.5 2.5l-.94 2.06-2.06.94zm10 10l.94 2.06.94-2.06 2.06-.94-2.06-.94-.94-2.06-.94 2.06-2.06.94z\"/><path d=\"M17.41 7.96l-1.37-1.37c-.4-.4-.92-.59-1.43-.59-.52 0-1.04.2-1.43.59L10.3 9.45l-7.72 7.72c-.78.78-.78 2.05 0 2.83L4 21.41c.39.39.9.59 1.41.59.51 0 1.02-.2 1.41-.59l7.78-7.78 2.81-2.81c.8-.78.8-2.07 0-2.86zM5.41 20L4 18.59l7.72-7.72 1.47 1.35L5.41 20z\"/>\n",
              "  </svg>\n",
              "      </button>\n",
              "      \n",
              "  <style>\n",
              "    .colab-df-container {\n",
              "      display:flex;\n",
              "      flex-wrap:wrap;\n",
              "      gap: 12px;\n",
              "    }\n",
              "\n",
              "    .colab-df-convert {\n",
              "      background-color: #E8F0FE;\n",
              "      border: none;\n",
              "      border-radius: 50%;\n",
              "      cursor: pointer;\n",
              "      display: none;\n",
              "      fill: #1967D2;\n",
              "      height: 32px;\n",
              "      padding: 0 0 0 0;\n",
              "      width: 32px;\n",
              "    }\n",
              "\n",
              "    .colab-df-convert:hover {\n",
              "      background-color: #E2EBFA;\n",
              "      box-shadow: 0px 1px 2px rgba(60, 64, 67, 0.3), 0px 1px 3px 1px rgba(60, 64, 67, 0.15);\n",
              "      fill: #174EA6;\n",
              "    }\n",
              "\n",
              "    [theme=dark] .colab-df-convert {\n",
              "      background-color: #3B4455;\n",
              "      fill: #D2E3FC;\n",
              "    }\n",
              "\n",
              "    [theme=dark] .colab-df-convert:hover {\n",
              "      background-color: #434B5C;\n",
              "      box-shadow: 0px 1px 3px 1px rgba(0, 0, 0, 0.15);\n",
              "      filter: drop-shadow(0px 1px 2px rgba(0, 0, 0, 0.3));\n",
              "      fill: #FFFFFF;\n",
              "    }\n",
              "  </style>\n",
              "\n",
              "      <script>\n",
              "        const buttonEl =\n",
              "          document.querySelector('#df-5f985671-0bf6-4c89-b91d-da62c78de7f7 button.colab-df-convert');\n",
              "        buttonEl.style.display =\n",
              "          google.colab.kernel.accessAllowed ? 'block' : 'none';\n",
              "\n",
              "        async function convertToInteractive(key) {\n",
              "          const element = document.querySelector('#df-5f985671-0bf6-4c89-b91d-da62c78de7f7');\n",
              "          const dataTable =\n",
              "            await google.colab.kernel.invokeFunction('convertToInteractive',\n",
              "                                                     [key], {});\n",
              "          if (!dataTable) return;\n",
              "\n",
              "          const docLinkHtml = 'Like what you see? Visit the ' +\n",
              "            '<a target=\"_blank\" href=https://colab.research.google.com/notebooks/data_table.ipynb>data table notebook</a>'\n",
              "            + ' to learn more about interactive tables.';\n",
              "          element.innerHTML = '';\n",
              "          dataTable['output_type'] = 'display_data';\n",
              "          await google.colab.output.renderOutput(dataTable, element);\n",
              "          const docLink = document.createElement('div');\n",
              "          docLink.innerHTML = docLinkHtml;\n",
              "          element.appendChild(docLink);\n",
              "        }\n",
              "      </script>\n",
              "    </div>\n",
              "  </div>\n",
              "  "
            ],
            "application/vnd.google.colaboratory.module+javascript": "\n      import \"https://ssl.gstatic.com/colaboratory/data_table/a8bd4d5e58f96183/data_table.js\";\n\n      window.createDataTable({\n        data: [[\"Lexema\",\n\"Castillo fuerte es nuestro Dios.\"],\n [\"Definici\\u00f3n\",\n\"Himno ic\\u00f3nico de la Reforma compuesto por Lutero, basado en el salmo 46.\"],\n [\"Extra\",\n\"Ein feste Burg ist unser Gott; Obras  M\\u00fasica Fue el himno de batalla en la Guerra de los Treinta A\\u00f1os. Tiene relaciones con melod\\u00edas Juan B. Cabrera lo tradujo al espa\\u00f1ol en el siglo XIX. | Su gestaci\\u00f3n y su melod\\u00eda est\\u00e1n sujetas a pol\\u00e9mica. La melod\\u00eda se pudo basar cantos populares, m\\u00fasica gregoriana y/o m\\u00fasica lit\\u00fargica. | . Las teor\\u00edas acerca de su origen tienen en com\\u00fan que fue cantado, por vez primera, como preludio ante una confrontaci\\u00f3n: ante la Dieta de Worms, la muerte de Leonardo Kaiser, la Dieta de Augsburgo, la Dieta de Speyer o enfrentamientos con los otomanos.\"]],\n        columns: [[\"string\", \"index\"], [\"string\", \"diccionario\"]],\n        columnOptions: [{\"width\": \"1px\", \"className\": \"index_column\"}],\n        rowsPerPage: 25,\n        helpUrl: \"https://colab.research.google.com/notebooks/data_table.ipynb\",\n        suppressOutputScrolling: true,\n        minimumWidth: undefined,\n      });\n    "
          },
          "metadata": {},
          "execution_count": 259
        }
      ]
    },
    {
      "cell_type": "code",
      "source": [
        "# himno de la reforma protestante\n",
        "evaluar('Castillo fuerte es nuestro Dios.')"
      ],
      "metadata": {
        "colab": {
          "base_uri": "https://localhost:8080/"
        },
        "id": "-mDdr7WllMPT",
        "outputId": "727c4c32-3c58-4cb9-d587-bf17d824d23a"
      },
      "execution_count": null,
      "outputs": [
        {
          "output_type": "stream",
          "name": "stdout",
          "text": [
            "Si no recuerdas el término, pregúntame, o trata de escribir lo que recuerdes:\n",
            "(Nota: El diccionario cuenta con 70 términos. Trabajamos para que crezca)\n",
            "→ himno de la reforma protestante\n",
            "\n",
            "¿Encontrado en definiciones?\n",
            "¿Encontrado en información extra?\n",
            "¡Sí! \n",
            "  - Posición 5,\n",
            "  - Similitud 80.95 %\n",
            "\n",
            "(Nota: sin respuesta significa que no apareció el lexma)\n",
            "\n"
          ]
        }
      ]
    },
    {
      "cell_type": "markdown",
      "source": [
        "### Test3: Cautividad babilónica de la Iglesia, La"
      ],
      "metadata": {
        "id": "QbvI_GLNUFpb"
      }
    },
    {
      "cell_type": "code",
      "source": [
        "verunlexema(11)"
      ],
      "metadata": {
        "colab": {
          "base_uri": "https://localhost:8080/",
          "height": 170
        },
        "id": "k-9Dj577mCSU",
        "outputId": "b99a789c-e130-49d7-d14e-e5b6ba505371"
      },
      "execution_count": null,
      "outputs": [
        {
          "output_type": "execute_result",
          "data": {
            "text/plain": [
              "                                                  diccionario\n",
              "Lexema       (Cautividad, babilónica, de, la, Iglesia, ,, La)\n",
              "Definición  (Escrito, de, Lutero, al, clero, y, humanistas...\n",
              "Extra       (Von, der, babylonischen, Gefangenschaft, der,..."
            ],
            "text/html": [
              "\n",
              "  <div id=\"df-3d42f4ec-8511-46d9-8578-c1e7f2340bb6\">\n",
              "    <div class=\"colab-df-container\">\n",
              "      <div>\n",
              "<style scoped>\n",
              "    .dataframe tbody tr th:only-of-type {\n",
              "        vertical-align: middle;\n",
              "    }\n",
              "\n",
              "    .dataframe tbody tr th {\n",
              "        vertical-align: top;\n",
              "    }\n",
              "\n",
              "    .dataframe thead th {\n",
              "        text-align: right;\n",
              "    }\n",
              "</style>\n",
              "<table border=\"1\" class=\"dataframe\">\n",
              "  <thead>\n",
              "    <tr style=\"text-align: right;\">\n",
              "      <th></th>\n",
              "      <th>diccionario</th>\n",
              "    </tr>\n",
              "  </thead>\n",
              "  <tbody>\n",
              "    <tr>\n",
              "      <th>Lexema</th>\n",
              "      <td>(Cautividad, babilónica, de, la, Iglesia, ,, La)</td>\n",
              "    </tr>\n",
              "    <tr>\n",
              "      <th>Definición</th>\n",
              "      <td>(Escrito, de, Lutero, al, clero, y, humanistas...</td>\n",
              "    </tr>\n",
              "    <tr>\n",
              "      <th>Extra</th>\n",
              "      <td>(Von, der, babylonischen, Gefangenschaft, der,...</td>\n",
              "    </tr>\n",
              "  </tbody>\n",
              "</table>\n",
              "</div>\n",
              "      <button class=\"colab-df-convert\" onclick=\"convertToInteractive('df-3d42f4ec-8511-46d9-8578-c1e7f2340bb6')\"\n",
              "              title=\"Convert this dataframe to an interactive table.\"\n",
              "              style=\"display:none;\">\n",
              "        \n",
              "  <svg xmlns=\"http://www.w3.org/2000/svg\" height=\"24px\"viewBox=\"0 0 24 24\"\n",
              "       width=\"24px\">\n",
              "    <path d=\"M0 0h24v24H0V0z\" fill=\"none\"/>\n",
              "    <path d=\"M18.56 5.44l.94 2.06.94-2.06 2.06-.94-2.06-.94-.94-2.06-.94 2.06-2.06.94zm-11 1L8.5 8.5l.94-2.06 2.06-.94-2.06-.94L8.5 2.5l-.94 2.06-2.06.94zm10 10l.94 2.06.94-2.06 2.06-.94-2.06-.94-.94-2.06-.94 2.06-2.06.94z\"/><path d=\"M17.41 7.96l-1.37-1.37c-.4-.4-.92-.59-1.43-.59-.52 0-1.04.2-1.43.59L10.3 9.45l-7.72 7.72c-.78.78-.78 2.05 0 2.83L4 21.41c.39.39.9.59 1.41.59.51 0 1.02-.2 1.41-.59l7.78-7.78 2.81-2.81c.8-.78.8-2.07 0-2.86zM5.41 20L4 18.59l7.72-7.72 1.47 1.35L5.41 20z\"/>\n",
              "  </svg>\n",
              "      </button>\n",
              "      \n",
              "  <style>\n",
              "    .colab-df-container {\n",
              "      display:flex;\n",
              "      flex-wrap:wrap;\n",
              "      gap: 12px;\n",
              "    }\n",
              "\n",
              "    .colab-df-convert {\n",
              "      background-color: #E8F0FE;\n",
              "      border: none;\n",
              "      border-radius: 50%;\n",
              "      cursor: pointer;\n",
              "      display: none;\n",
              "      fill: #1967D2;\n",
              "      height: 32px;\n",
              "      padding: 0 0 0 0;\n",
              "      width: 32px;\n",
              "    }\n",
              "\n",
              "    .colab-df-convert:hover {\n",
              "      background-color: #E2EBFA;\n",
              "      box-shadow: 0px 1px 2px rgba(60, 64, 67, 0.3), 0px 1px 3px 1px rgba(60, 64, 67, 0.15);\n",
              "      fill: #174EA6;\n",
              "    }\n",
              "\n",
              "    [theme=dark] .colab-df-convert {\n",
              "      background-color: #3B4455;\n",
              "      fill: #D2E3FC;\n",
              "    }\n",
              "\n",
              "    [theme=dark] .colab-df-convert:hover {\n",
              "      background-color: #434B5C;\n",
              "      box-shadow: 0px 1px 3px 1px rgba(0, 0, 0, 0.15);\n",
              "      filter: drop-shadow(0px 1px 2px rgba(0, 0, 0, 0.3));\n",
              "      fill: #FFFFFF;\n",
              "    }\n",
              "  </style>\n",
              "\n",
              "      <script>\n",
              "        const buttonEl =\n",
              "          document.querySelector('#df-3d42f4ec-8511-46d9-8578-c1e7f2340bb6 button.colab-df-convert');\n",
              "        buttonEl.style.display =\n",
              "          google.colab.kernel.accessAllowed ? 'block' : 'none';\n",
              "\n",
              "        async function convertToInteractive(key) {\n",
              "          const element = document.querySelector('#df-3d42f4ec-8511-46d9-8578-c1e7f2340bb6');\n",
              "          const dataTable =\n",
              "            await google.colab.kernel.invokeFunction('convertToInteractive',\n",
              "                                                     [key], {});\n",
              "          if (!dataTable) return;\n",
              "\n",
              "          const docLinkHtml = 'Like what you see? Visit the ' +\n",
              "            '<a target=\"_blank\" href=https://colab.research.google.com/notebooks/data_table.ipynb>data table notebook</a>'\n",
              "            + ' to learn more about interactive tables.';\n",
              "          element.innerHTML = '';\n",
              "          dataTable['output_type'] = 'display_data';\n",
              "          await google.colab.output.renderOutput(dataTable, element);\n",
              "          const docLink = document.createElement('div');\n",
              "          docLink.innerHTML = docLinkHtml;\n",
              "          element.appendChild(docLink);\n",
              "        }\n",
              "      </script>\n",
              "    </div>\n",
              "  </div>\n",
              "  "
            ],
            "application/vnd.google.colaboratory.module+javascript": "\n      import \"https://ssl.gstatic.com/colaboratory/data_table/a8bd4d5e58f96183/data_table.js\";\n\n      window.createDataTable({\n        data: [[\"Lexema\",\n\"Cautividad babil\\u00f3nica de la Iglesia, La\"],\n [\"Definici\\u00f3n\",\n\"Escrito de Lutero al clero y humanistas donde clama liberaci\\u00f3n del yugo de los sacramentos cat\\u00f3licos.\"],\n [\"Extra\",\n\"Von der babylonischen Gefangenschaft der Kirche: Literatura reformada . El t\\u00edtulo alude al periodo de Avi\\u00f1\\u00f3n, donde hasta 3 papas se disputaron el m\\u00e1ximo grado en la ICAR Se escribe en lat\\u00edn, por tanto, se dirige a c\\u00edrculos humanistas y clericales .\"]],\n        columns: [[\"string\", \"index\"], [\"string\", \"diccionario\"]],\n        columnOptions: [{\"width\": \"1px\", \"className\": \"index_column\"}],\n        rowsPerPage: 25,\n        helpUrl: \"https://colab.research.google.com/notebooks/data_table.ipynb\",\n        suppressOutputScrolling: true,\n        minimumWidth: undefined,\n      });\n    "
          },
          "metadata": {},
          "execution_count": 260
        }
      ]
    },
    {
      "cell_type": "code",
      "source": [
        "# documento que lutero escribió para los curas y sacerdotes católicos\n",
        "evaluar('Cautividad babilónica de la Iglesia, La')"
      ],
      "metadata": {
        "colab": {
          "base_uri": "https://localhost:8080/"
        },
        "id": "vnZ4M8XKmG6m",
        "outputId": "c0b452a4-7c0c-405e-933b-640415aaa4fb"
      },
      "execution_count": null,
      "outputs": [
        {
          "output_type": "stream",
          "name": "stdout",
          "text": [
            "Si no recuerdas el término, pregúntame, o trata de escribir lo que recuerdes:\n",
            "(Nota: El diccionario cuenta con 70 términos. Trabajamos para que crezca)\n",
            "→ documento que lutero escribió para los curas y sacerdotes católicos\n",
            "\n",
            "¿Encontrado en definiciones?\n",
            "¡Sí! \n",
            "  - Posición 8,\n",
            "  - Similitud 66.39 %\n",
            "¿Encontrado en información extra?\n",
            "(Nota: sin respuesta significa que no apareció el lexma)\n",
            "\n"
          ]
        }
      ]
    },
    {
      "cell_type": "markdown",
      "source": [
        "### Test4: Cinco Solas."
      ],
      "metadata": {
        "id": "WLwC2a7LUH9u"
      }
    },
    {
      "cell_type": "code",
      "source": [
        "verunlexema(18)"
      ],
      "metadata": {
        "colab": {
          "base_uri": "https://localhost:8080/",
          "height": 186
        },
        "id": "5MizAXgimqiV",
        "outputId": "80520fe0-4184-4a5b-e32f-f8df2dcf37a8"
      },
      "execution_count": null,
      "outputs": [
        {
          "output_type": "execute_result",
          "data": {
            "text/plain": [
              "                                                  diccionario\n",
              "Lexema                                      (Cinco, Solas, .)\n",
              "Definición  (Enunciados, en, Latín, que, muestran, en, for...\n",
              "Extra       (., Artículos, de, fe, Interpretación, bíblica..."
            ],
            "text/html": [
              "\n",
              "  <div id=\"df-f842ccbc-b3e6-42cf-b608-4d7ae240cabc\">\n",
              "    <div class=\"colab-df-container\">\n",
              "      <div>\n",
              "<style scoped>\n",
              "    .dataframe tbody tr th:only-of-type {\n",
              "        vertical-align: middle;\n",
              "    }\n",
              "\n",
              "    .dataframe tbody tr th {\n",
              "        vertical-align: top;\n",
              "    }\n",
              "\n",
              "    .dataframe thead th {\n",
              "        text-align: right;\n",
              "    }\n",
              "</style>\n",
              "<table border=\"1\" class=\"dataframe\">\n",
              "  <thead>\n",
              "    <tr style=\"text-align: right;\">\n",
              "      <th></th>\n",
              "      <th>diccionario</th>\n",
              "    </tr>\n",
              "  </thead>\n",
              "  <tbody>\n",
              "    <tr>\n",
              "      <th>Lexema</th>\n",
              "      <td>(Cinco, Solas, .)</td>\n",
              "    </tr>\n",
              "    <tr>\n",
              "      <th>Definición</th>\n",
              "      <td>(Enunciados, en, Latín, que, muestran, en, for...</td>\n",
              "    </tr>\n",
              "    <tr>\n",
              "      <th>Extra</th>\n",
              "      <td>(., Artículos, de, fe, Interpretación, bíblica...</td>\n",
              "    </tr>\n",
              "  </tbody>\n",
              "</table>\n",
              "</div>\n",
              "      <button class=\"colab-df-convert\" onclick=\"convertToInteractive('df-f842ccbc-b3e6-42cf-b608-4d7ae240cabc')\"\n",
              "              title=\"Convert this dataframe to an interactive table.\"\n",
              "              style=\"display:none;\">\n",
              "        \n",
              "  <svg xmlns=\"http://www.w3.org/2000/svg\" height=\"24px\"viewBox=\"0 0 24 24\"\n",
              "       width=\"24px\">\n",
              "    <path d=\"M0 0h24v24H0V0z\" fill=\"none\"/>\n",
              "    <path d=\"M18.56 5.44l.94 2.06.94-2.06 2.06-.94-2.06-.94-.94-2.06-.94 2.06-2.06.94zm-11 1L8.5 8.5l.94-2.06 2.06-.94-2.06-.94L8.5 2.5l-.94 2.06-2.06.94zm10 10l.94 2.06.94-2.06 2.06-.94-2.06-.94-.94-2.06-.94 2.06-2.06.94z\"/><path d=\"M17.41 7.96l-1.37-1.37c-.4-.4-.92-.59-1.43-.59-.52 0-1.04.2-1.43.59L10.3 9.45l-7.72 7.72c-.78.78-.78 2.05 0 2.83L4 21.41c.39.39.9.59 1.41.59.51 0 1.02-.2 1.41-.59l7.78-7.78 2.81-2.81c.8-.78.8-2.07 0-2.86zM5.41 20L4 18.59l7.72-7.72 1.47 1.35L5.41 20z\"/>\n",
              "  </svg>\n",
              "      </button>\n",
              "      \n",
              "  <style>\n",
              "    .colab-df-container {\n",
              "      display:flex;\n",
              "      flex-wrap:wrap;\n",
              "      gap: 12px;\n",
              "    }\n",
              "\n",
              "    .colab-df-convert {\n",
              "      background-color: #E8F0FE;\n",
              "      border: none;\n",
              "      border-radius: 50%;\n",
              "      cursor: pointer;\n",
              "      display: none;\n",
              "      fill: #1967D2;\n",
              "      height: 32px;\n",
              "      padding: 0 0 0 0;\n",
              "      width: 32px;\n",
              "    }\n",
              "\n",
              "    .colab-df-convert:hover {\n",
              "      background-color: #E2EBFA;\n",
              "      box-shadow: 0px 1px 2px rgba(60, 64, 67, 0.3), 0px 1px 3px 1px rgba(60, 64, 67, 0.15);\n",
              "      fill: #174EA6;\n",
              "    }\n",
              "\n",
              "    [theme=dark] .colab-df-convert {\n",
              "      background-color: #3B4455;\n",
              "      fill: #D2E3FC;\n",
              "    }\n",
              "\n",
              "    [theme=dark] .colab-df-convert:hover {\n",
              "      background-color: #434B5C;\n",
              "      box-shadow: 0px 1px 3px 1px rgba(0, 0, 0, 0.15);\n",
              "      filter: drop-shadow(0px 1px 2px rgba(0, 0, 0, 0.3));\n",
              "      fill: #FFFFFF;\n",
              "    }\n",
              "  </style>\n",
              "\n",
              "      <script>\n",
              "        const buttonEl =\n",
              "          document.querySelector('#df-f842ccbc-b3e6-42cf-b608-4d7ae240cabc button.colab-df-convert');\n",
              "        buttonEl.style.display =\n",
              "          google.colab.kernel.accessAllowed ? 'block' : 'none';\n",
              "\n",
              "        async function convertToInteractive(key) {\n",
              "          const element = document.querySelector('#df-f842ccbc-b3e6-42cf-b608-4d7ae240cabc');\n",
              "          const dataTable =\n",
              "            await google.colab.kernel.invokeFunction('convertToInteractive',\n",
              "                                                     [key], {});\n",
              "          if (!dataTable) return;\n",
              "\n",
              "          const docLinkHtml = 'Like what you see? Visit the ' +\n",
              "            '<a target=\"_blank\" href=https://colab.research.google.com/notebooks/data_table.ipynb>data table notebook</a>'\n",
              "            + ' to learn more about interactive tables.';\n",
              "          element.innerHTML = '';\n",
              "          dataTable['output_type'] = 'display_data';\n",
              "          await google.colab.output.renderOutput(dataTable, element);\n",
              "          const docLink = document.createElement('div');\n",
              "          docLink.innerHTML = docLinkHtml;\n",
              "          element.appendChild(docLink);\n",
              "        }\n",
              "      </script>\n",
              "    </div>\n",
              "  </div>\n",
              "  "
            ],
            "application/vnd.google.colaboratory.module+javascript": "\n      import \"https://ssl.gstatic.com/colaboratory/data_table/a8bd4d5e58f96183/data_table.js\";\n\n      window.createDataTable({\n        data: [[\"Lexema\",\n\"Cinco Solas.\"],\n [\"Definici\\u00f3n\",\n\"Enunciados en Lat\\u00edn que muestran en forma sint\\u00e9tica la Doctrina reformada. |\"],\n [\"Extra\",\n\". Art\\u00edculos de fe Interpretaci\\u00f3n b\\u00edblica Fueron expresadas de forma independiente por los primeros reformadores y enlistados como \\u201clas Cinco solas\\u201d en siglos posteriores. | Las cinco Solas fueron las brechas doctrinales que dividieron la Reforma de la ICAR y brindaron una identidad a todo el movimiento protestante. | La primera menci\\u00f3n a ellos, no textual, es por Lutero, quien en la Dieta de Worms expresa \\u201cSi, entonces, no soy convencido por pruebas de la Sagrada Escritura o raz\\u00f3n convincente\\u2026\\u201d. \"]],\n        columns: [[\"string\", \"index\"], [\"string\", \"diccionario\"]],\n        columnOptions: [{\"width\": \"1px\", \"className\": \"index_column\"}],\n        rowsPerPage: 25,\n        helpUrl: \"https://colab.research.google.com/notebooks/data_table.ipynb\",\n        suppressOutputScrolling: true,\n        minimumWidth: undefined,\n      });\n    "
          },
          "metadata": {},
          "execution_count": 261
        }
      ]
    },
    {
      "cell_type": "code",
      "source": [
        "# Principales postulados de la Reforma protestante\n",
        "evaluar('Cinco Solas.')"
      ],
      "metadata": {
        "colab": {
          "base_uri": "https://localhost:8080/"
        },
        "id": "FNiQMicimsSz",
        "outputId": "96fe5c67-ff71-455f-96ce-e3b68b507a50"
      },
      "execution_count": null,
      "outputs": [
        {
          "output_type": "stream",
          "name": "stdout",
          "text": [
            "Si no recuerdas el término, pregúntame, o trata de escribir lo que recuerdes:\n",
            "(Nota: El diccionario cuenta con 70 términos. Trabajamos para que crezca)\n",
            "→ Principales postulados de la Reforma protestante\n",
            "\n",
            "¿Encontrado en definiciones?\n",
            "¿Encontrado en información extra?\n",
            "(Nota: sin respuesta significa que no apareció el lexma)\n",
            "\n"
          ]
        }
      ]
    },
    {
      "cell_type": "markdown",
      "source": [
        "### Test5: Cinco puntos calvinistas. 1. Totalidad depravada."
      ],
      "metadata": {
        "id": "97_pJqIRUJPt"
      }
    },
    {
      "cell_type": "code",
      "source": [
        "verunlexema(13)"
      ],
      "metadata": {
        "colab": {
          "base_uri": "https://localhost:8080/",
          "height": 170
        },
        "id": "qCOYXKzyo92I",
        "outputId": "919e51f7-f0ce-4082-a169-c27c16b29a94"
      },
      "execution_count": null,
      "outputs": [
        {
          "output_type": "execute_result",
          "data": {
            "text/plain": [
              "                                                  diccionario\n",
              "Lexema      (Cinco, puntos, calvinistas, ., 1, ., Totalida...\n",
              "Definición  (Doctrina, donde, el, pecado, afecta, íntegram...\n",
              "Extra       (Depravación, total, ,, Total, depravity, ,, T..."
            ],
            "text/html": [
              "\n",
              "  <div id=\"df-4fb511c2-e5fe-49e6-9224-179cefb00132\">\n",
              "    <div class=\"colab-df-container\">\n",
              "      <div>\n",
              "<style scoped>\n",
              "    .dataframe tbody tr th:only-of-type {\n",
              "        vertical-align: middle;\n",
              "    }\n",
              "\n",
              "    .dataframe tbody tr th {\n",
              "        vertical-align: top;\n",
              "    }\n",
              "\n",
              "    .dataframe thead th {\n",
              "        text-align: right;\n",
              "    }\n",
              "</style>\n",
              "<table border=\"1\" class=\"dataframe\">\n",
              "  <thead>\n",
              "    <tr style=\"text-align: right;\">\n",
              "      <th></th>\n",
              "      <th>diccionario</th>\n",
              "    </tr>\n",
              "  </thead>\n",
              "  <tbody>\n",
              "    <tr>\n",
              "      <th>Lexema</th>\n",
              "      <td>(Cinco, puntos, calvinistas, ., 1, ., Totalida...</td>\n",
              "    </tr>\n",
              "    <tr>\n",
              "      <th>Definición</th>\n",
              "      <td>(Doctrina, donde, el, pecado, afecta, íntegram...</td>\n",
              "    </tr>\n",
              "    <tr>\n",
              "      <th>Extra</th>\n",
              "      <td>(Depravación, total, ,, Total, depravity, ,, T...</td>\n",
              "    </tr>\n",
              "  </tbody>\n",
              "</table>\n",
              "</div>\n",
              "      <button class=\"colab-df-convert\" onclick=\"convertToInteractive('df-4fb511c2-e5fe-49e6-9224-179cefb00132')\"\n",
              "              title=\"Convert this dataframe to an interactive table.\"\n",
              "              style=\"display:none;\">\n",
              "        \n",
              "  <svg xmlns=\"http://www.w3.org/2000/svg\" height=\"24px\"viewBox=\"0 0 24 24\"\n",
              "       width=\"24px\">\n",
              "    <path d=\"M0 0h24v24H0V0z\" fill=\"none\"/>\n",
              "    <path d=\"M18.56 5.44l.94 2.06.94-2.06 2.06-.94-2.06-.94-.94-2.06-.94 2.06-2.06.94zm-11 1L8.5 8.5l.94-2.06 2.06-.94-2.06-.94L8.5 2.5l-.94 2.06-2.06.94zm10 10l.94 2.06.94-2.06 2.06-.94-2.06-.94-.94-2.06-.94 2.06-2.06.94z\"/><path d=\"M17.41 7.96l-1.37-1.37c-.4-.4-.92-.59-1.43-.59-.52 0-1.04.2-1.43.59L10.3 9.45l-7.72 7.72c-.78.78-.78 2.05 0 2.83L4 21.41c.39.39.9.59 1.41.59.51 0 1.02-.2 1.41-.59l7.78-7.78 2.81-2.81c.8-.78.8-2.07 0-2.86zM5.41 20L4 18.59l7.72-7.72 1.47 1.35L5.41 20z\"/>\n",
              "  </svg>\n",
              "      </button>\n",
              "      \n",
              "  <style>\n",
              "    .colab-df-container {\n",
              "      display:flex;\n",
              "      flex-wrap:wrap;\n",
              "      gap: 12px;\n",
              "    }\n",
              "\n",
              "    .colab-df-convert {\n",
              "      background-color: #E8F0FE;\n",
              "      border: none;\n",
              "      border-radius: 50%;\n",
              "      cursor: pointer;\n",
              "      display: none;\n",
              "      fill: #1967D2;\n",
              "      height: 32px;\n",
              "      padding: 0 0 0 0;\n",
              "      width: 32px;\n",
              "    }\n",
              "\n",
              "    .colab-df-convert:hover {\n",
              "      background-color: #E2EBFA;\n",
              "      box-shadow: 0px 1px 2px rgba(60, 64, 67, 0.3), 0px 1px 3px 1px rgba(60, 64, 67, 0.15);\n",
              "      fill: #174EA6;\n",
              "    }\n",
              "\n",
              "    [theme=dark] .colab-df-convert {\n",
              "      background-color: #3B4455;\n",
              "      fill: #D2E3FC;\n",
              "    }\n",
              "\n",
              "    [theme=dark] .colab-df-convert:hover {\n",
              "      background-color: #434B5C;\n",
              "      box-shadow: 0px 1px 3px 1px rgba(0, 0, 0, 0.15);\n",
              "      filter: drop-shadow(0px 1px 2px rgba(0, 0, 0, 0.3));\n",
              "      fill: #FFFFFF;\n",
              "    }\n",
              "  </style>\n",
              "\n",
              "      <script>\n",
              "        const buttonEl =\n",
              "          document.querySelector('#df-4fb511c2-e5fe-49e6-9224-179cefb00132 button.colab-df-convert');\n",
              "        buttonEl.style.display =\n",
              "          google.colab.kernel.accessAllowed ? 'block' : 'none';\n",
              "\n",
              "        async function convertToInteractive(key) {\n",
              "          const element = document.querySelector('#df-4fb511c2-e5fe-49e6-9224-179cefb00132');\n",
              "          const dataTable =\n",
              "            await google.colab.kernel.invokeFunction('convertToInteractive',\n",
              "                                                     [key], {});\n",
              "          if (!dataTable) return;\n",
              "\n",
              "          const docLinkHtml = 'Like what you see? Visit the ' +\n",
              "            '<a target=\"_blank\" href=https://colab.research.google.com/notebooks/data_table.ipynb>data table notebook</a>'\n",
              "            + ' to learn more about interactive tables.';\n",
              "          element.innerHTML = '';\n",
              "          dataTable['output_type'] = 'display_data';\n",
              "          await google.colab.output.renderOutput(dataTable, element);\n",
              "          const docLink = document.createElement('div');\n",
              "          docLink.innerHTML = docLinkHtml;\n",
              "          element.appendChild(docLink);\n",
              "        }\n",
              "      </script>\n",
              "    </div>\n",
              "  </div>\n",
              "  "
            ],
            "application/vnd.google.colaboratory.module+javascript": "\n      import \"https://ssl.gstatic.com/colaboratory/data_table/a8bd4d5e58f96183/data_table.js\";\n\n      window.createDataTable({\n        data: [[\"Lexema\",\n\"Cinco puntos calvinistas. 1. Totalidad depravada.\"],\n [\"Definici\\u00f3n\",\n\"Doctrina donde el pecado afecta \\u00edntegramente al hombre sin que \\u00e9ste pueda hacer nada para sanarse ni salvarse. |\"],\n [\"Extra\",\n\"Depravaci\\u00f3n total, Total depravity, Total inhability and original sin. Art\\u00edculos de fe Interpretaci\\u00f3n b\\u00edblica No implica que el hombre no pueda hacer cosas buenas, sino que todo su ser es afectado por el pecado. | Los remonstrantes tambi\\u00e9n afirman la depravaci\\u00f3n total del hombre, pero es la fe que \\u00e9ste ejerce la que otorga la salvaci\\u00f3n. .\"]],\n        columns: [[\"string\", \"index\"], [\"string\", \"diccionario\"]],\n        columnOptions: [{\"width\": \"1px\", \"className\": \"index_column\"}],\n        rowsPerPage: 25,\n        helpUrl: \"https://colab.research.google.com/notebooks/data_table.ipynb\",\n        suppressOutputScrolling: true,\n        minimumWidth: undefined,\n      });\n    "
          },
          "metadata": {},
          "execution_count": 262
        }
      ]
    },
    {
      "cell_type": "code",
      "source": [
        "# cómo se llama cuando el pecado afecta totalmente al hombre\n",
        "evaluar('Cinco puntos calvinistas. 1. Totalidad depravada.')"
      ],
      "metadata": {
        "colab": {
          "base_uri": "https://localhost:8080/"
        },
        "id": "2_XQDBJhpH5p",
        "outputId": "72742ec6-9cf9-412b-b9bc-be6d8cd5d1cc"
      },
      "execution_count": null,
      "outputs": [
        {
          "output_type": "stream",
          "name": "stdout",
          "text": [
            "Si no recuerdas el término, pregúntame, o trata de escribir lo que recuerdes:\n",
            "(Nota: El diccionario cuenta con 70 términos. Trabajamos para que crezca)\n",
            "→ cómo se llama cuando el pecado afecta totalmente al hombre\n",
            "\n",
            "¿Encontrado en definiciones?\n",
            "¡Sí! \n",
            "  - Posición 2,\n",
            "  - Similitud 71.48 %\n",
            "¿Encontrado en información extra?\n",
            "¡Sí! \n",
            "  - Posición 4,\n",
            "  - Similitud 56.59 %\n",
            "\n",
            "(Nota: sin respuesta significa que no apareció el lexma)\n",
            "\n"
          ]
        }
      ]
    },
    {
      "cell_type": "markdown",
      "source": [
        "### Test6: Cinco solas. Sola Scriptura."
      ],
      "metadata": {
        "id": "FQAglqeJUNUV"
      }
    },
    {
      "cell_type": "code",
      "source": [
        "verunlexema(21)"
      ],
      "metadata": {
        "colab": {
          "base_uri": "https://localhost:8080/",
          "height": 170
        },
        "id": "TdE2NNwPzIRJ",
        "outputId": "260206dc-a4e8-4160-f7fd-f1045fcc7da9"
      },
      "execution_count": null,
      "outputs": [
        {
          "output_type": "execute_result",
          "data": {
            "text/plain": [
              "                                                  diccionario\n",
              "Lexema                  (Cinco, solas, ., Sola, Scriptura, .)\n",
              "Definición  (Doctrina, acerca, de, la, Biblia, como, única...\n",
              "Extra       (Sólo, la, Escritura, (, Biblia, ), ,, Artícul..."
            ],
            "text/html": [
              "\n",
              "  <div id=\"df-87dccb66-ee8d-449f-a538-a7ba6bf19a3a\">\n",
              "    <div class=\"colab-df-container\">\n",
              "      <div>\n",
              "<style scoped>\n",
              "    .dataframe tbody tr th:only-of-type {\n",
              "        vertical-align: middle;\n",
              "    }\n",
              "\n",
              "    .dataframe tbody tr th {\n",
              "        vertical-align: top;\n",
              "    }\n",
              "\n",
              "    .dataframe thead th {\n",
              "        text-align: right;\n",
              "    }\n",
              "</style>\n",
              "<table border=\"1\" class=\"dataframe\">\n",
              "  <thead>\n",
              "    <tr style=\"text-align: right;\">\n",
              "      <th></th>\n",
              "      <th>diccionario</th>\n",
              "    </tr>\n",
              "  </thead>\n",
              "  <tbody>\n",
              "    <tr>\n",
              "      <th>Lexema</th>\n",
              "      <td>(Cinco, solas, ., Sola, Scriptura, .)</td>\n",
              "    </tr>\n",
              "    <tr>\n",
              "      <th>Definición</th>\n",
              "      <td>(Doctrina, acerca, de, la, Biblia, como, única...</td>\n",
              "    </tr>\n",
              "    <tr>\n",
              "      <th>Extra</th>\n",
              "      <td>(Sólo, la, Escritura, (, Biblia, ), ,, Artícul...</td>\n",
              "    </tr>\n",
              "  </tbody>\n",
              "</table>\n",
              "</div>\n",
              "      <button class=\"colab-df-convert\" onclick=\"convertToInteractive('df-87dccb66-ee8d-449f-a538-a7ba6bf19a3a')\"\n",
              "              title=\"Convert this dataframe to an interactive table.\"\n",
              "              style=\"display:none;\">\n",
              "        \n",
              "  <svg xmlns=\"http://www.w3.org/2000/svg\" height=\"24px\"viewBox=\"0 0 24 24\"\n",
              "       width=\"24px\">\n",
              "    <path d=\"M0 0h24v24H0V0z\" fill=\"none\"/>\n",
              "    <path d=\"M18.56 5.44l.94 2.06.94-2.06 2.06-.94-2.06-.94-.94-2.06-.94 2.06-2.06.94zm-11 1L8.5 8.5l.94-2.06 2.06-.94-2.06-.94L8.5 2.5l-.94 2.06-2.06.94zm10 10l.94 2.06.94-2.06 2.06-.94-2.06-.94-.94-2.06-.94 2.06-2.06.94z\"/><path d=\"M17.41 7.96l-1.37-1.37c-.4-.4-.92-.59-1.43-.59-.52 0-1.04.2-1.43.59L10.3 9.45l-7.72 7.72c-.78.78-.78 2.05 0 2.83L4 21.41c.39.39.9.59 1.41.59.51 0 1.02-.2 1.41-.59l7.78-7.78 2.81-2.81c.8-.78.8-2.07 0-2.86zM5.41 20L4 18.59l7.72-7.72 1.47 1.35L5.41 20z\"/>\n",
              "  </svg>\n",
              "      </button>\n",
              "      \n",
              "  <style>\n",
              "    .colab-df-container {\n",
              "      display:flex;\n",
              "      flex-wrap:wrap;\n",
              "      gap: 12px;\n",
              "    }\n",
              "\n",
              "    .colab-df-convert {\n",
              "      background-color: #E8F0FE;\n",
              "      border: none;\n",
              "      border-radius: 50%;\n",
              "      cursor: pointer;\n",
              "      display: none;\n",
              "      fill: #1967D2;\n",
              "      height: 32px;\n",
              "      padding: 0 0 0 0;\n",
              "      width: 32px;\n",
              "    }\n",
              "\n",
              "    .colab-df-convert:hover {\n",
              "      background-color: #E2EBFA;\n",
              "      box-shadow: 0px 1px 2px rgba(60, 64, 67, 0.3), 0px 1px 3px 1px rgba(60, 64, 67, 0.15);\n",
              "      fill: #174EA6;\n",
              "    }\n",
              "\n",
              "    [theme=dark] .colab-df-convert {\n",
              "      background-color: #3B4455;\n",
              "      fill: #D2E3FC;\n",
              "    }\n",
              "\n",
              "    [theme=dark] .colab-df-convert:hover {\n",
              "      background-color: #434B5C;\n",
              "      box-shadow: 0px 1px 3px 1px rgba(0, 0, 0, 0.15);\n",
              "      filter: drop-shadow(0px 1px 2px rgba(0, 0, 0, 0.3));\n",
              "      fill: #FFFFFF;\n",
              "    }\n",
              "  </style>\n",
              "\n",
              "      <script>\n",
              "        const buttonEl =\n",
              "          document.querySelector('#df-87dccb66-ee8d-449f-a538-a7ba6bf19a3a button.colab-df-convert');\n",
              "        buttonEl.style.display =\n",
              "          google.colab.kernel.accessAllowed ? 'block' : 'none';\n",
              "\n",
              "        async function convertToInteractive(key) {\n",
              "          const element = document.querySelector('#df-87dccb66-ee8d-449f-a538-a7ba6bf19a3a');\n",
              "          const dataTable =\n",
              "            await google.colab.kernel.invokeFunction('convertToInteractive',\n",
              "                                                     [key], {});\n",
              "          if (!dataTable) return;\n",
              "\n",
              "          const docLinkHtml = 'Like what you see? Visit the ' +\n",
              "            '<a target=\"_blank\" href=https://colab.research.google.com/notebooks/data_table.ipynb>data table notebook</a>'\n",
              "            + ' to learn more about interactive tables.';\n",
              "          element.innerHTML = '';\n",
              "          dataTable['output_type'] = 'display_data';\n",
              "          await google.colab.output.renderOutput(dataTable, element);\n",
              "          const docLink = document.createElement('div');\n",
              "          docLink.innerHTML = docLinkHtml;\n",
              "          element.appendChild(docLink);\n",
              "        }\n",
              "      </script>\n",
              "    </div>\n",
              "  </div>\n",
              "  "
            ],
            "application/vnd.google.colaboratory.module+javascript": "\n      import \"https://ssl.gstatic.com/colaboratory/data_table/a8bd4d5e58f96183/data_table.js\";\n\n      window.createDataTable({\n        data: [[\"Lexema\",\n\"Cinco solas. Sola Scriptura.\"],\n [\"Definici\\u00f3n\",\n\"Doctrina acerca de la Biblia como \\u00fanica fuente de autoridad, en donde autoridad no excluye, pero s\\u00ed norma la revelaci\\u00f3n de otras fuentes. |\"],\n [\"Extra\",\n\"S\\u00f3lo la Escritura (Biblia), Art\\u00edculos de fe Interpretaci\\u00f3n b\\u00edblica . La ICAR, en el Concilio de Trento, consider\\u00f3 la Tradici\\u00f3n con el mismo nivel de revelaci\\u00f3n que la Biblia. | En la Disputa de Leipzig Lutero esgrimi\\u00f3 y gest\\u00f3 lo que ser\\u00eda Sola Scriptura.\"]],\n        columns: [[\"string\", \"index\"], [\"string\", \"diccionario\"]],\n        columnOptions: [{\"width\": \"1px\", \"className\": \"index_column\"}],\n        rowsPerPage: 25,\n        helpUrl: \"https://colab.research.google.com/notebooks/data_table.ipynb\",\n        suppressOutputScrolling: true,\n        minimumWidth: undefined,\n      });\n    "
          },
          "metadata": {},
          "execution_count": 199
        }
      ]
    },
    {
      "cell_type": "code",
      "source": [
        "# Quiénes son los que solo creen en la Biblia y nada más\n",
        "evaluar('Cinco solas. Sola Scriptura.')"
      ],
      "metadata": {
        "colab": {
          "base_uri": "https://localhost:8080/"
        },
        "id": "cEsfBoJxzJOs",
        "outputId": "ea56f5e5-29dd-43d1-cffb-6136d6ea2ae4"
      },
      "execution_count": null,
      "outputs": [
        {
          "output_type": "stream",
          "name": "stdout",
          "text": [
            "Si no recuerdas el término, pregúntame, o trata de escribir lo que recuerdes:\n",
            "(Nota: El diccionario cuenta con 70 términos. Trabajamos para que crezca)\n",
            "→ Quiénes son los que solo creen en la Biblia y nada más\n",
            "\n",
            "¿Encontrado en definiciones?\n",
            "¡Sí! \n",
            "  - Posición 1,\n",
            "  - Similitud 74.31 %\n",
            "¿Encontrado en información extra?\n",
            "(Nota: sin respuesta significa que no apareció el lexma)\n",
            "\n"
          ]
        }
      ]
    },
    {
      "cell_type": "markdown",
      "source": [
        "### Test7: Concilio. Concilio de Trento."
      ],
      "metadata": {
        "id": "o_m0obRdUOZ-"
      }
    },
    {
      "cell_type": "code",
      "source": [
        "verunlexema(26)"
      ],
      "metadata": {
        "colab": {
          "base_uri": "https://localhost:8080/",
          "height": 302
        },
        "id": "CYQRldRRHc-G",
        "outputId": "2dfe31a5-812b-41cd-ef19-32c675f2f435"
      },
      "execution_count": null,
      "outputs": [
        {
          "output_type": "execute_result",
          "data": {
            "text/plain": [
              "                                                  diccionario\n",
              "Lexema                 (Concilio, ., Concilio, de, Trento, .)\n",
              "Definición  (Concilio, general, número, XXI, o, XX, de, la...\n",
              "Extra       (., Asamblea, ., Luego, de, 25, sesiones, ,, s..."
            ],
            "text/html": [
              "\n",
              "  <div id=\"df-9aeccbce-37ce-426d-91d6-1722ef500b6f\">\n",
              "    <div class=\"colab-df-container\">\n",
              "      <div>\n",
              "<style scoped>\n",
              "    .dataframe tbody tr th:only-of-type {\n",
              "        vertical-align: middle;\n",
              "    }\n",
              "\n",
              "    .dataframe tbody tr th {\n",
              "        vertical-align: top;\n",
              "    }\n",
              "\n",
              "    .dataframe thead th {\n",
              "        text-align: right;\n",
              "    }\n",
              "</style>\n",
              "<table border=\"1\" class=\"dataframe\">\n",
              "  <thead>\n",
              "    <tr style=\"text-align: right;\">\n",
              "      <th></th>\n",
              "      <th>diccionario</th>\n",
              "    </tr>\n",
              "  </thead>\n",
              "  <tbody>\n",
              "    <tr>\n",
              "      <th>Lexema</th>\n",
              "      <td>(Concilio, ., Concilio, de, Trento, .)</td>\n",
              "    </tr>\n",
              "    <tr>\n",
              "      <th>Definición</th>\n",
              "      <td>(Concilio, general, número, XXI, o, XX, de, la...</td>\n",
              "    </tr>\n",
              "    <tr>\n",
              "      <th>Extra</th>\n",
              "      <td>(., Asamblea, ., Luego, de, 25, sesiones, ,, s...</td>\n",
              "    </tr>\n",
              "  </tbody>\n",
              "</table>\n",
              "</div>\n",
              "      <button class=\"colab-df-convert\" onclick=\"convertToInteractive('df-9aeccbce-37ce-426d-91d6-1722ef500b6f')\"\n",
              "              title=\"Convert this dataframe to an interactive table.\"\n",
              "              style=\"display:none;\">\n",
              "        \n",
              "  <svg xmlns=\"http://www.w3.org/2000/svg\" height=\"24px\"viewBox=\"0 0 24 24\"\n",
              "       width=\"24px\">\n",
              "    <path d=\"M0 0h24v24H0V0z\" fill=\"none\"/>\n",
              "    <path d=\"M18.56 5.44l.94 2.06.94-2.06 2.06-.94-2.06-.94-.94-2.06-.94 2.06-2.06.94zm-11 1L8.5 8.5l.94-2.06 2.06-.94-2.06-.94L8.5 2.5l-.94 2.06-2.06.94zm10 10l.94 2.06.94-2.06 2.06-.94-2.06-.94-.94-2.06-.94 2.06-2.06.94z\"/><path d=\"M17.41 7.96l-1.37-1.37c-.4-.4-.92-.59-1.43-.59-.52 0-1.04.2-1.43.59L10.3 9.45l-7.72 7.72c-.78.78-.78 2.05 0 2.83L4 21.41c.39.39.9.59 1.41.59.51 0 1.02-.2 1.41-.59l7.78-7.78 2.81-2.81c.8-.78.8-2.07 0-2.86zM5.41 20L4 18.59l7.72-7.72 1.47 1.35L5.41 20z\"/>\n",
              "  </svg>\n",
              "      </button>\n",
              "      \n",
              "  <style>\n",
              "    .colab-df-container {\n",
              "      display:flex;\n",
              "      flex-wrap:wrap;\n",
              "      gap: 12px;\n",
              "    }\n",
              "\n",
              "    .colab-df-convert {\n",
              "      background-color: #E8F0FE;\n",
              "      border: none;\n",
              "      border-radius: 50%;\n",
              "      cursor: pointer;\n",
              "      display: none;\n",
              "      fill: #1967D2;\n",
              "      height: 32px;\n",
              "      padding: 0 0 0 0;\n",
              "      width: 32px;\n",
              "    }\n",
              "\n",
              "    .colab-df-convert:hover {\n",
              "      background-color: #E2EBFA;\n",
              "      box-shadow: 0px 1px 2px rgba(60, 64, 67, 0.3), 0px 1px 3px 1px rgba(60, 64, 67, 0.15);\n",
              "      fill: #174EA6;\n",
              "    }\n",
              "\n",
              "    [theme=dark] .colab-df-convert {\n",
              "      background-color: #3B4455;\n",
              "      fill: #D2E3FC;\n",
              "    }\n",
              "\n",
              "    [theme=dark] .colab-df-convert:hover {\n",
              "      background-color: #434B5C;\n",
              "      box-shadow: 0px 1px 3px 1px rgba(0, 0, 0, 0.15);\n",
              "      filter: drop-shadow(0px 1px 2px rgba(0, 0, 0, 0.3));\n",
              "      fill: #FFFFFF;\n",
              "    }\n",
              "  </style>\n",
              "\n",
              "      <script>\n",
              "        const buttonEl =\n",
              "          document.querySelector('#df-9aeccbce-37ce-426d-91d6-1722ef500b6f button.colab-df-convert');\n",
              "        buttonEl.style.display =\n",
              "          google.colab.kernel.accessAllowed ? 'block' : 'none';\n",
              "\n",
              "        async function convertToInteractive(key) {\n",
              "          const element = document.querySelector('#df-9aeccbce-37ce-426d-91d6-1722ef500b6f');\n",
              "          const dataTable =\n",
              "            await google.colab.kernel.invokeFunction('convertToInteractive',\n",
              "                                                     [key], {});\n",
              "          if (!dataTable) return;\n",
              "\n",
              "          const docLinkHtml = 'Like what you see? Visit the ' +\n",
              "            '<a target=\"_blank\" href=https://colab.research.google.com/notebooks/data_table.ipynb>data table notebook</a>'\n",
              "            + ' to learn more about interactive tables.';\n",
              "          element.innerHTML = '';\n",
              "          dataTable['output_type'] = 'display_data';\n",
              "          await google.colab.output.renderOutput(dataTable, element);\n",
              "          const docLink = document.createElement('div');\n",
              "          docLink.innerHTML = docLinkHtml;\n",
              "          element.appendChild(docLink);\n",
              "        }\n",
              "      </script>\n",
              "    </div>\n",
              "  </div>\n",
              "  "
            ],
            "application/vnd.google.colaboratory.module+javascript": "\n      import \"https://ssl.gstatic.com/colaboratory/data_table/a8bd4d5e58f96183/data_table.js\";\n\n      window.createDataTable({\n        data: [[\"Lexema\",\n\"Concilio. Concilio de Trento.\"],\n [\"Definici\\u00f3n\",\n\"Concilio general n\\u00famero XXI o XX de la ICAR con el que dio inicio la Contrarreforma. |\"],\n [\"Extra\",\n\". Asamblea . Luego de 25 sesiones, se tomaron las siguientes resoluciones: I. Piedad y reformaci\\u00f3n: Cuidado y orden en las costumbres, cantidad de pastores, el cuidado pastoral, pureza de la misa, reverencia, temor y devoci\\u00f3n a Dios y buen testimonio de los eclesi\\u00e1sticos. Hay disciplina para los escandalosos, sospechosos, que no cuiden su reba\\u00f1o y para los que roben bienes de la iglesia. II. Derecho can\\u00f3nico: Se da m\\u00e1s poder al concilio general. se da libre pensamiento acerca de la residencia como Derecho Divino. Se pide no ordenar a alguien sin t\\u00edtulo y moderar el uso de censuras, como la excomuni\\u00f3n. Se recomienda no dar misas en lengua vulgar. Se abolen los demandantes en las indulgencias. Las \\u00f3rdenes, dimisorias, letras de certificaci\\u00f3n y los sacramentos son gratuitos. III. Doctrina: La Vulgata y a \\u00e9sta como fiel y aut\\u00e9ntica, pese a diferencias textuales, El Esp\\u00edritu Santo inspira al hombre sin que \\u00e9ste decida. Contrici\\u00f3n y atrici\\u00f3n son diferentes, pero en ambas se requiere el sacramento de la Penitencia. Confirmaci\\u00f3n del sacramento de la Extremaunci\\u00f3n y el de la Eucarist\\u00eda bajo una o dos especies. La iglesia puede alterar la dispensaci\\u00f3n de los sacramentos. La misa hace sacrificio de Cristo. IV. Doctrina dogm\\u00e1tica: Se nomina anatema, ofensivo, falso y/o se condenan a quien difiera de las traducciones de la ICAR, el canon de la Vulgata, la transubstanciaci\\u00f3n, los sacramentos de penitencia, ordenaci\\u00f3n y el sacrificio de Jes\\u00fas en la misa. V. Respuesta a Lutero: Decreto de Justificaci\\u00f3n: El pecador quiere ser justo, busca a Dios, quien le es propicio por Cristo y le da remisi\\u00f3n, santificaci\\u00f3n y renovaci\\u00f3n de acuerdo con la medida del Esp\\u00edritu y de su propia cooperaci\\u00f3n (su justificaci\\u00f3n se pierde por Pecado mortal); en respuesta, ama a Cristo, glorifica a Dios, obedece los mandamientos, odia al pecado, realiza los Sacramentos y ejercicios piadosos. | Los protestantes de Alemania no quisieron sujetarse al Concilio de Trento. .\"]],\n        columns: [[\"string\", \"index\"], [\"string\", \"diccionario\"]],\n        columnOptions: [{\"width\": \"1px\", \"className\": \"index_column\"}],\n        rowsPerPage: 25,\n        helpUrl: \"https://colab.research.google.com/notebooks/data_table.ipynb\",\n        suppressOutputScrolling: true,\n        minimumWidth: undefined,\n      });\n    "
          },
          "metadata": {},
          "execution_count": 264
        }
      ]
    },
    {
      "cell_type": "code",
      "source": [
        "# cómo se llama el concilio donde hablaron de Lutero\n",
        "evaluar('Concilio. Concilio de Trento.')"
      ],
      "metadata": {
        "colab": {
          "base_uri": "https://localhost:8080/"
        },
        "id": "MB7nXiCZHmZv",
        "outputId": "e686b9f6-dffe-455e-d10f-c2374a17a33a"
      },
      "execution_count": null,
      "outputs": [
        {
          "output_type": "stream",
          "name": "stdout",
          "text": [
            "Si no recuerdas el término, pregúntame, o trata de escribir lo que recuerdes:\n",
            "(Nota: El diccionario cuenta con 70 términos. Trabajamos para que crezca)\n",
            "→ cómo se llama el concilio donde hablaron de Lutero\n",
            "\n",
            "¿Encontrado en definiciones?\n",
            "¿Encontrado en información extra?\n",
            "(Nota: sin respuesta significa que no apareció el lexma)\n",
            "\n"
          ]
        }
      ]
    },
    {
      "cell_type": "markdown",
      "source": [
        "### Test8: Decet romanum pontificem."
      ],
      "metadata": {
        "id": "dIe_A3zjUQp8"
      }
    },
    {
      "cell_type": "code",
      "source": [
        "verunlexema(30)"
      ],
      "metadata": {
        "colab": {
          "base_uri": "https://localhost:8080/",
          "height": 203
        },
        "id": "gKCn18JUIL9V",
        "outputId": "d5a55067-4398-48a5-9ace-d9dcbe148a5f"
      },
      "execution_count": null,
      "outputs": [
        {
          "output_type": "execute_result",
          "data": {
            "text/plain": [
              "                                                  diccionario\n",
              "Lexema                        (Decet, romanum, pontificem, .)\n",
              "Definición  (Bula, disciplinaria, de, excomunión, y, embar...\n",
              "Extra       (Decet, Romanum, Pontificem, 1520, ,, Literatu..."
            ],
            "text/html": [
              "\n",
              "  <div id=\"df-156230a2-34f4-4584-bc2e-2aaf76abed1c\">\n",
              "    <div class=\"colab-df-container\">\n",
              "      <div>\n",
              "<style scoped>\n",
              "    .dataframe tbody tr th:only-of-type {\n",
              "        vertical-align: middle;\n",
              "    }\n",
              "\n",
              "    .dataframe tbody tr th {\n",
              "        vertical-align: top;\n",
              "    }\n",
              "\n",
              "    .dataframe thead th {\n",
              "        text-align: right;\n",
              "    }\n",
              "</style>\n",
              "<table border=\"1\" class=\"dataframe\">\n",
              "  <thead>\n",
              "    <tr style=\"text-align: right;\">\n",
              "      <th></th>\n",
              "      <th>diccionario</th>\n",
              "    </tr>\n",
              "  </thead>\n",
              "  <tbody>\n",
              "    <tr>\n",
              "      <th>Lexema</th>\n",
              "      <td>(Decet, romanum, pontificem, .)</td>\n",
              "    </tr>\n",
              "    <tr>\n",
              "      <th>Definición</th>\n",
              "      <td>(Bula, disciplinaria, de, excomunión, y, embar...</td>\n",
              "    </tr>\n",
              "    <tr>\n",
              "      <th>Extra</th>\n",
              "      <td>(Decet, Romanum, Pontificem, 1520, ,, Literatu...</td>\n",
              "    </tr>\n",
              "  </tbody>\n",
              "</table>\n",
              "</div>\n",
              "      <button class=\"colab-df-convert\" onclick=\"convertToInteractive('df-156230a2-34f4-4584-bc2e-2aaf76abed1c')\"\n",
              "              title=\"Convert this dataframe to an interactive table.\"\n",
              "              style=\"display:none;\">\n",
              "        \n",
              "  <svg xmlns=\"http://www.w3.org/2000/svg\" height=\"24px\"viewBox=\"0 0 24 24\"\n",
              "       width=\"24px\">\n",
              "    <path d=\"M0 0h24v24H0V0z\" fill=\"none\"/>\n",
              "    <path d=\"M18.56 5.44l.94 2.06.94-2.06 2.06-.94-2.06-.94-.94-2.06-.94 2.06-2.06.94zm-11 1L8.5 8.5l.94-2.06 2.06-.94-2.06-.94L8.5 2.5l-.94 2.06-2.06.94zm10 10l.94 2.06.94-2.06 2.06-.94-2.06-.94-.94-2.06-.94 2.06-2.06.94z\"/><path d=\"M17.41 7.96l-1.37-1.37c-.4-.4-.92-.59-1.43-.59-.52 0-1.04.2-1.43.59L10.3 9.45l-7.72 7.72c-.78.78-.78 2.05 0 2.83L4 21.41c.39.39.9.59 1.41.59.51 0 1.02-.2 1.41-.59l7.78-7.78 2.81-2.81c.8-.78.8-2.07 0-2.86zM5.41 20L4 18.59l7.72-7.72 1.47 1.35L5.41 20z\"/>\n",
              "  </svg>\n",
              "      </button>\n",
              "      \n",
              "  <style>\n",
              "    .colab-df-container {\n",
              "      display:flex;\n",
              "      flex-wrap:wrap;\n",
              "      gap: 12px;\n",
              "    }\n",
              "\n",
              "    .colab-df-convert {\n",
              "      background-color: #E8F0FE;\n",
              "      border: none;\n",
              "      border-radius: 50%;\n",
              "      cursor: pointer;\n",
              "      display: none;\n",
              "      fill: #1967D2;\n",
              "      height: 32px;\n",
              "      padding: 0 0 0 0;\n",
              "      width: 32px;\n",
              "    }\n",
              "\n",
              "    .colab-df-convert:hover {\n",
              "      background-color: #E2EBFA;\n",
              "      box-shadow: 0px 1px 2px rgba(60, 64, 67, 0.3), 0px 1px 3px 1px rgba(60, 64, 67, 0.15);\n",
              "      fill: #174EA6;\n",
              "    }\n",
              "\n",
              "    [theme=dark] .colab-df-convert {\n",
              "      background-color: #3B4455;\n",
              "      fill: #D2E3FC;\n",
              "    }\n",
              "\n",
              "    [theme=dark] .colab-df-convert:hover {\n",
              "      background-color: #434B5C;\n",
              "      box-shadow: 0px 1px 3px 1px rgba(0, 0, 0, 0.15);\n",
              "      filter: drop-shadow(0px 1px 2px rgba(0, 0, 0, 0.3));\n",
              "      fill: #FFFFFF;\n",
              "    }\n",
              "  </style>\n",
              "\n",
              "      <script>\n",
              "        const buttonEl =\n",
              "          document.querySelector('#df-156230a2-34f4-4584-bc2e-2aaf76abed1c button.colab-df-convert');\n",
              "        buttonEl.style.display =\n",
              "          google.colab.kernel.accessAllowed ? 'block' : 'none';\n",
              "\n",
              "        async function convertToInteractive(key) {\n",
              "          const element = document.querySelector('#df-156230a2-34f4-4584-bc2e-2aaf76abed1c');\n",
              "          const dataTable =\n",
              "            await google.colab.kernel.invokeFunction('convertToInteractive',\n",
              "                                                     [key], {});\n",
              "          if (!dataTable) return;\n",
              "\n",
              "          const docLinkHtml = 'Like what you see? Visit the ' +\n",
              "            '<a target=\"_blank\" href=https://colab.research.google.com/notebooks/data_table.ipynb>data table notebook</a>'\n",
              "            + ' to learn more about interactive tables.';\n",
              "          element.innerHTML = '';\n",
              "          dataTable['output_type'] = 'display_data';\n",
              "          await google.colab.output.renderOutput(dataTable, element);\n",
              "          const docLink = document.createElement('div');\n",
              "          docLink.innerHTML = docLinkHtml;\n",
              "          element.appendChild(docLink);\n",
              "        }\n",
              "      </script>\n",
              "    </div>\n",
              "  </div>\n",
              "  "
            ],
            "application/vnd.google.colaboratory.module+javascript": "\n      import \"https://ssl.gstatic.com/colaboratory/data_table/a8bd4d5e58f96183/data_table.js\";\n\n      window.createDataTable({\n        data: [[\"Lexema\",\n\"Decet romanum pontificem.\"],\n [\"Definici\\u00f3n\",\n\"Bula disciplinaria de excomuni\\u00f3n y embargamiento de bienes para Mart\\u00edn Lutero, sus adherentes y a todo aquel que los apoyara, nomin\\u00e1ndolos herejes y luteranos. |\"],\n [\"Extra\",\n\"Decet Romanum Pontificem 1520, Literatura cat\\u00f3lica . Tambi\\u00e9n fija un interdicto eclesi\\u00e1stico a todo lugar donde vivieron o fue visitado por los luteranos y se manda que todo religioso, en un plazo de tres d\\u00edas, anuncie la sentencia so pena tambi\\u00e9n de ser excomulgado. | El 27 de noviembre de 1520 se cumplieron los 60 d\\u00edas, desde que Lutero fuera notificado, para retractarse. Al mismo tiempo de la bula se env\\u00edan breves apost\\u00f3licos para el inquisidor de Alemania y dos nuncios para combatir la herej\\u00eda. |    Fue crucial la intervenci\\u00f3n de Federico III, elector de Sajonia, quien dio un contrapeso y escudo a los luteranos desde su posici\\u00f3n y abog\\u00f3 ante Carlos V para que escuchara a Lutero en la dieta de Worms, a iniciar en las pr\\u00f3ximas tres semanas. \"]],\n        columns: [[\"string\", \"index\"], [\"string\", \"diccionario\"]],\n        columnOptions: [{\"width\": \"1px\", \"className\": \"index_column\"}],\n        rowsPerPage: 25,\n        helpUrl: \"https://colab.research.google.com/notebooks/data_table.ipynb\",\n        suppressOutputScrolling: true,\n        minimumWidth: undefined,\n      });\n    "
          },
          "metadata": {},
          "execution_count": 266
        }
      ]
    },
    {
      "cell_type": "code",
      "source": [
        "# cuándo excomulgaron a Lutero\n",
        "evaluar('Decet romanum pontificem.')"
      ],
      "metadata": {
        "colab": {
          "base_uri": "https://localhost:8080/"
        },
        "id": "5OTTnhN3IOf3",
        "outputId": "074c8a21-b8f9-4450-e474-52f767dfc1e3"
      },
      "execution_count": null,
      "outputs": [
        {
          "output_type": "stream",
          "name": "stdout",
          "text": [
            "Si no recuerdas el término, pregúntame, o trata de escribir lo que recuerdes:\n",
            "(Nota: El diccionario cuenta con 70 términos. Trabajamos para que crezca)\n",
            "→ dónde excomulgan a Lutero\n",
            "\n",
            "¿Encontrado en definiciones?\n",
            "¡Sí! \n",
            "  - Posición 9,\n",
            "  - Similitud 43.16 %\n",
            "¿Encontrado en información extra?\n",
            "¡Sí! \n",
            "  - Posición 2,\n",
            "  - Similitud 41.24 %\n",
            "\n",
            "(Nota: sin respuesta significa que no apareció el lexma)\n",
            "\n"
          ]
        }
      ]
    },
    {
      "cell_type": "markdown",
      "source": [
        "### Test9: Eucaristía. Anamnesis."
      ],
      "metadata": {
        "id": "G45nrDeuUSDF"
      }
    },
    {
      "cell_type": "code",
      "source": [
        "verunlexema(37)"
      ],
      "metadata": {
        "colab": {
          "base_uri": "https://localhost:8080/",
          "height": 170
        },
        "id": "rWAv-8QpJL7B",
        "outputId": "46c33576-42cc-4752-c967-19ec0af5b5a0"
      },
      "execution_count": null,
      "outputs": [
        {
          "output_type": "execute_result",
          "data": {
            "text/plain": [
              "                                                  diccionario\n",
              "Lexema                          (Eucaristía, ., Anamnesis, .)\n",
              "Definición  (Doctrina, del, pan, y, vino, como, elementos,...\n",
              "Extra       (Memorialismo, ,, zwinglianismo, ;, Eucaristía..."
            ],
            "text/html": [
              "\n",
              "  <div id=\"df-ca27c57f-15ac-4ebf-aabb-14d5afac4bb2\">\n",
              "    <div class=\"colab-df-container\">\n",
              "      <div>\n",
              "<style scoped>\n",
              "    .dataframe tbody tr th:only-of-type {\n",
              "        vertical-align: middle;\n",
              "    }\n",
              "\n",
              "    .dataframe tbody tr th {\n",
              "        vertical-align: top;\n",
              "    }\n",
              "\n",
              "    .dataframe thead th {\n",
              "        text-align: right;\n",
              "    }\n",
              "</style>\n",
              "<table border=\"1\" class=\"dataframe\">\n",
              "  <thead>\n",
              "    <tr style=\"text-align: right;\">\n",
              "      <th></th>\n",
              "      <th>diccionario</th>\n",
              "    </tr>\n",
              "  </thead>\n",
              "  <tbody>\n",
              "    <tr>\n",
              "      <th>Lexema</th>\n",
              "      <td>(Eucaristía, ., Anamnesis, .)</td>\n",
              "    </tr>\n",
              "    <tr>\n",
              "      <th>Definición</th>\n",
              "      <td>(Doctrina, del, pan, y, vino, como, elementos,...</td>\n",
              "    </tr>\n",
              "    <tr>\n",
              "      <th>Extra</th>\n",
              "      <td>(Memorialismo, ,, zwinglianismo, ;, Eucaristía...</td>\n",
              "    </tr>\n",
              "  </tbody>\n",
              "</table>\n",
              "</div>\n",
              "      <button class=\"colab-df-convert\" onclick=\"convertToInteractive('df-ca27c57f-15ac-4ebf-aabb-14d5afac4bb2')\"\n",
              "              title=\"Convert this dataframe to an interactive table.\"\n",
              "              style=\"display:none;\">\n",
              "        \n",
              "  <svg xmlns=\"http://www.w3.org/2000/svg\" height=\"24px\"viewBox=\"0 0 24 24\"\n",
              "       width=\"24px\">\n",
              "    <path d=\"M0 0h24v24H0V0z\" fill=\"none\"/>\n",
              "    <path d=\"M18.56 5.44l.94 2.06.94-2.06 2.06-.94-2.06-.94-.94-2.06-.94 2.06-2.06.94zm-11 1L8.5 8.5l.94-2.06 2.06-.94-2.06-.94L8.5 2.5l-.94 2.06-2.06.94zm10 10l.94 2.06.94-2.06 2.06-.94-2.06-.94-.94-2.06-.94 2.06-2.06.94z\"/><path d=\"M17.41 7.96l-1.37-1.37c-.4-.4-.92-.59-1.43-.59-.52 0-1.04.2-1.43.59L10.3 9.45l-7.72 7.72c-.78.78-.78 2.05 0 2.83L4 21.41c.39.39.9.59 1.41.59.51 0 1.02-.2 1.41-.59l7.78-7.78 2.81-2.81c.8-.78.8-2.07 0-2.86zM5.41 20L4 18.59l7.72-7.72 1.47 1.35L5.41 20z\"/>\n",
              "  </svg>\n",
              "      </button>\n",
              "      \n",
              "  <style>\n",
              "    .colab-df-container {\n",
              "      display:flex;\n",
              "      flex-wrap:wrap;\n",
              "      gap: 12px;\n",
              "    }\n",
              "\n",
              "    .colab-df-convert {\n",
              "      background-color: #E8F0FE;\n",
              "      border: none;\n",
              "      border-radius: 50%;\n",
              "      cursor: pointer;\n",
              "      display: none;\n",
              "      fill: #1967D2;\n",
              "      height: 32px;\n",
              "      padding: 0 0 0 0;\n",
              "      width: 32px;\n",
              "    }\n",
              "\n",
              "    .colab-df-convert:hover {\n",
              "      background-color: #E2EBFA;\n",
              "      box-shadow: 0px 1px 2px rgba(60, 64, 67, 0.3), 0px 1px 3px 1px rgba(60, 64, 67, 0.15);\n",
              "      fill: #174EA6;\n",
              "    }\n",
              "\n",
              "    [theme=dark] .colab-df-convert {\n",
              "      background-color: #3B4455;\n",
              "      fill: #D2E3FC;\n",
              "    }\n",
              "\n",
              "    [theme=dark] .colab-df-convert:hover {\n",
              "      background-color: #434B5C;\n",
              "      box-shadow: 0px 1px 3px 1px rgba(0, 0, 0, 0.15);\n",
              "      filter: drop-shadow(0px 1px 2px rgba(0, 0, 0, 0.3));\n",
              "      fill: #FFFFFF;\n",
              "    }\n",
              "  </style>\n",
              "\n",
              "      <script>\n",
              "        const buttonEl =\n",
              "          document.querySelector('#df-ca27c57f-15ac-4ebf-aabb-14d5afac4bb2 button.colab-df-convert');\n",
              "        buttonEl.style.display =\n",
              "          google.colab.kernel.accessAllowed ? 'block' : 'none';\n",
              "\n",
              "        async function convertToInteractive(key) {\n",
              "          const element = document.querySelector('#df-ca27c57f-15ac-4ebf-aabb-14d5afac4bb2');\n",
              "          const dataTable =\n",
              "            await google.colab.kernel.invokeFunction('convertToInteractive',\n",
              "                                                     [key], {});\n",
              "          if (!dataTable) return;\n",
              "\n",
              "          const docLinkHtml = 'Like what you see? Visit the ' +\n",
              "            '<a target=\"_blank\" href=https://colab.research.google.com/notebooks/data_table.ipynb>data table notebook</a>'\n",
              "            + ' to learn more about interactive tables.';\n",
              "          element.innerHTML = '';\n",
              "          dataTable['output_type'] = 'display_data';\n",
              "          await google.colab.output.renderOutput(dataTable, element);\n",
              "          const docLink = document.createElement('div');\n",
              "          docLink.innerHTML = docLinkHtml;\n",
              "          element.appendChild(docLink);\n",
              "        }\n",
              "      </script>\n",
              "    </div>\n",
              "  </div>\n",
              "  "
            ],
            "application/vnd.google.colaboratory.module+javascript": "\n      import \"https://ssl.gstatic.com/colaboratory/data_table/a8bd4d5e58f96183/data_table.js\";\n\n      window.createDataTable({\n        data: [[\"Lexema\",\n\"Eucarist\\u00eda. Anamnesis.\"],\n [\"Definici\\u00f3n\",\n\"Doctrina del pan y vino como elementos meramente memoriales de la Cena y sacrificio de Jesucristo. |\"],\n [\"Extra\",\n\"Memorialismo, zwinglianismo; Eucarist\\u00eda . \\u00c9nfasis en: Haced esto todas las veces en memoria de m\\u00ed. Todas las veces que comiereis este pan, y bebiereis esta copa, la muerte del Se\\u00f1or anunci\\u00e1is hasta que \\u00e9l venga. (1\\u00aa Cor 11:26-27). | . .\"]],\n        columns: [[\"string\", \"index\"], [\"string\", \"diccionario\"]],\n        columnOptions: [{\"width\": \"1px\", \"className\": \"index_column\"}],\n        rowsPerPage: 25,\n        helpUrl: \"https://colab.research.google.com/notebooks/data_table.ipynb\",\n        suppressOutputScrolling: true,\n        minimumWidth: undefined,\n      });\n    "
          },
          "metadata": {},
          "execution_count": 270
        }
      ]
    },
    {
      "cell_type": "code",
      "source": [
        "# que sólo recordamos a Cristo y no que él está presente\n",
        "evaluar('Eucaristía. Anamnesis.')"
      ],
      "metadata": {
        "colab": {
          "base_uri": "https://localhost:8080/"
        },
        "id": "7_X0UJ0UJOKK",
        "outputId": "4e7fbc2b-3809-45fa-a924-cf5879f22e60"
      },
      "execution_count": null,
      "outputs": [
        {
          "output_type": "stream",
          "name": "stdout",
          "text": [
            "Si no recuerdas el término, pregúntame, o trata de escribir lo que recuerdes:\n",
            "(Nota: El diccionario cuenta con 70 términos. Trabajamos para que crezca)\n",
            "→ que sólo recordamos a Cristo y no que él está presente\n",
            "\n",
            "¿Encontrado en definiciones?\n",
            "¿Encontrado en información extra?\n",
            "(Nota: sin respuesta significa que no apareció el lexma)\n",
            "\n"
          ]
        }
      ]
    },
    {
      "cell_type": "markdown",
      "source": [
        "### Test10: De la libertad del cristiano."
      ],
      "metadata": {
        "id": "zo4KlbkdUpnK"
      }
    },
    {
      "cell_type": "code",
      "source": [
        "verunlexema(29)"
      ],
      "metadata": {
        "colab": {
          "base_uri": "https://localhost:8080/",
          "height": 153
        },
        "id": "Izit6BRqJfTT",
        "outputId": "002123fc-27d1-46fe-c2ae-bb8d05645b3a"
      },
      "execution_count": null,
      "outputs": [
        {
          "output_type": "execute_result",
          "data": {
            "text/plain": [
              "                                                  diccionario\n",
              "Lexema                  (De, la, libertad, del, cristiano, .)\n",
              "Definición  (Carta, de, Lutero, dedicada, a, León, X, como...\n",
              "Extra       (Von, der, Freyheith, eines, Christenmenschen,..."
            ],
            "text/html": [
              "\n",
              "  <div id=\"df-639ac8be-444f-41be-8ac3-491e737af5ba\">\n",
              "    <div class=\"colab-df-container\">\n",
              "      <div>\n",
              "<style scoped>\n",
              "    .dataframe tbody tr th:only-of-type {\n",
              "        vertical-align: middle;\n",
              "    }\n",
              "\n",
              "    .dataframe tbody tr th {\n",
              "        vertical-align: top;\n",
              "    }\n",
              "\n",
              "    .dataframe thead th {\n",
              "        text-align: right;\n",
              "    }\n",
              "</style>\n",
              "<table border=\"1\" class=\"dataframe\">\n",
              "  <thead>\n",
              "    <tr style=\"text-align: right;\">\n",
              "      <th></th>\n",
              "      <th>diccionario</th>\n",
              "    </tr>\n",
              "  </thead>\n",
              "  <tbody>\n",
              "    <tr>\n",
              "      <th>Lexema</th>\n",
              "      <td>(De, la, libertad, del, cristiano, .)</td>\n",
              "    </tr>\n",
              "    <tr>\n",
              "      <th>Definición</th>\n",
              "      <td>(Carta, de, Lutero, dedicada, a, León, X, como...</td>\n",
              "    </tr>\n",
              "    <tr>\n",
              "      <th>Extra</th>\n",
              "      <td>(Von, der, Freyheith, eines, Christenmenschen,...</td>\n",
              "    </tr>\n",
              "  </tbody>\n",
              "</table>\n",
              "</div>\n",
              "      <button class=\"colab-df-convert\" onclick=\"convertToInteractive('df-639ac8be-444f-41be-8ac3-491e737af5ba')\"\n",
              "              title=\"Convert this dataframe to an interactive table.\"\n",
              "              style=\"display:none;\">\n",
              "        \n",
              "  <svg xmlns=\"http://www.w3.org/2000/svg\" height=\"24px\"viewBox=\"0 0 24 24\"\n",
              "       width=\"24px\">\n",
              "    <path d=\"M0 0h24v24H0V0z\" fill=\"none\"/>\n",
              "    <path d=\"M18.56 5.44l.94 2.06.94-2.06 2.06-.94-2.06-.94-.94-2.06-.94 2.06-2.06.94zm-11 1L8.5 8.5l.94-2.06 2.06-.94-2.06-.94L8.5 2.5l-.94 2.06-2.06.94zm10 10l.94 2.06.94-2.06 2.06-.94-2.06-.94-.94-2.06-.94 2.06-2.06.94z\"/><path d=\"M17.41 7.96l-1.37-1.37c-.4-.4-.92-.59-1.43-.59-.52 0-1.04.2-1.43.59L10.3 9.45l-7.72 7.72c-.78.78-.78 2.05 0 2.83L4 21.41c.39.39.9.59 1.41.59.51 0 1.02-.2 1.41-.59l7.78-7.78 2.81-2.81c.8-.78.8-2.07 0-2.86zM5.41 20L4 18.59l7.72-7.72 1.47 1.35L5.41 20z\"/>\n",
              "  </svg>\n",
              "      </button>\n",
              "      \n",
              "  <style>\n",
              "    .colab-df-container {\n",
              "      display:flex;\n",
              "      flex-wrap:wrap;\n",
              "      gap: 12px;\n",
              "    }\n",
              "\n",
              "    .colab-df-convert {\n",
              "      background-color: #E8F0FE;\n",
              "      border: none;\n",
              "      border-radius: 50%;\n",
              "      cursor: pointer;\n",
              "      display: none;\n",
              "      fill: #1967D2;\n",
              "      height: 32px;\n",
              "      padding: 0 0 0 0;\n",
              "      width: 32px;\n",
              "    }\n",
              "\n",
              "    .colab-df-convert:hover {\n",
              "      background-color: #E2EBFA;\n",
              "      box-shadow: 0px 1px 2px rgba(60, 64, 67, 0.3), 0px 1px 3px 1px rgba(60, 64, 67, 0.15);\n",
              "      fill: #174EA6;\n",
              "    }\n",
              "\n",
              "    [theme=dark] .colab-df-convert {\n",
              "      background-color: #3B4455;\n",
              "      fill: #D2E3FC;\n",
              "    }\n",
              "\n",
              "    [theme=dark] .colab-df-convert:hover {\n",
              "      background-color: #434B5C;\n",
              "      box-shadow: 0px 1px 3px 1px rgba(0, 0, 0, 0.15);\n",
              "      filter: drop-shadow(0px 1px 2px rgba(0, 0, 0, 0.3));\n",
              "      fill: #FFFFFF;\n",
              "    }\n",
              "  </style>\n",
              "\n",
              "      <script>\n",
              "        const buttonEl =\n",
              "          document.querySelector('#df-639ac8be-444f-41be-8ac3-491e737af5ba button.colab-df-convert');\n",
              "        buttonEl.style.display =\n",
              "          google.colab.kernel.accessAllowed ? 'block' : 'none';\n",
              "\n",
              "        async function convertToInteractive(key) {\n",
              "          const element = document.querySelector('#df-639ac8be-444f-41be-8ac3-491e737af5ba');\n",
              "          const dataTable =\n",
              "            await google.colab.kernel.invokeFunction('convertToInteractive',\n",
              "                                                     [key], {});\n",
              "          if (!dataTable) return;\n",
              "\n",
              "          const docLinkHtml = 'Like what you see? Visit the ' +\n",
              "            '<a target=\"_blank\" href=https://colab.research.google.com/notebooks/data_table.ipynb>data table notebook</a>'\n",
              "            + ' to learn more about interactive tables.';\n",
              "          element.innerHTML = '';\n",
              "          dataTable['output_type'] = 'display_data';\n",
              "          await google.colab.output.renderOutput(dataTable, element);\n",
              "          const docLink = document.createElement('div');\n",
              "          docLink.innerHTML = docLinkHtml;\n",
              "          element.appendChild(docLink);\n",
              "        }\n",
              "      </script>\n",
              "    </div>\n",
              "  </div>\n",
              "  "
            ],
            "application/vnd.google.colaboratory.module+javascript": "\n      import \"https://ssl.gstatic.com/colaboratory/data_table/a8bd4d5e58f96183/data_table.js\";\n\n      window.createDataTable({\n        data: [[\"Lexema\",\n\"De la libertad del cristiano.\"],\n [\"Definici\\u00f3n\",\n\"Carta de Lutero dedicada a Le\\u00f3n X como respuesta a la bula Exsurge Domine.\"],\n [\"Extra\",\n\"Von der Freyheith eines Christenmenschen; Literatura reformada . . . .\"]],\n        columns: [[\"string\", \"index\"], [\"string\", \"diccionario\"]],\n        columnOptions: [{\"width\": \"1px\", \"className\": \"index_column\"}],\n        rowsPerPage: 25,\n        helpUrl: \"https://colab.research.google.com/notebooks/data_table.ipynb\",\n        suppressOutputScrolling: true,\n        minimumWidth: undefined,\n      });\n    "
          },
          "metadata": {},
          "execution_count": 272
        }
      ]
    },
    {
      "cell_type": "code",
      "source": [
        "# qué le escribió Martín Lutero al papa?\n",
        "evaluar('De la libertad del cristiano.')"
      ],
      "metadata": {
        "colab": {
          "base_uri": "https://localhost:8080/"
        },
        "id": "LDa_sG5TJiFf",
        "outputId": "181d8e79-dfad-4cb2-9e04-a379e142a2f1"
      },
      "execution_count": null,
      "outputs": [
        {
          "output_type": "stream",
          "name": "stdout",
          "text": [
            "Si no recuerdas el término, pregúntame, o trata de escribir lo que recuerdes:\n",
            "(Nota: El diccionario cuenta con 70 términos. Trabajamos para que crezca)\n",
            "→ qué le escribió Martín Lutero al papa?\n",
            "\n",
            "¿Encontrado en definiciones?\n",
            "¡Sí! \n",
            "  - Posición 8,\n",
            "  - Similitud 20.09 %\n",
            "¿Encontrado en información extra?\n",
            "(Nota: sin respuesta significa que no apareció el lexma)\n",
            "\n"
          ]
        }
      ]
    },
    {
      "cell_type": "markdown",
      "source": [
        "### Test11: Eucaristía. Transubstanciación."
      ],
      "metadata": {
        "id": "K9S3tROoUrHu"
      }
    },
    {
      "cell_type": "code",
      "source": [
        "verunlexema(40)"
      ],
      "metadata": {
        "colab": {
          "base_uri": "https://localhost:8080/",
          "height": 186
        },
        "id": "yEQy5qk7KD67",
        "outputId": "9939e3c6-08bd-4805-f484-1aefc4d80d07"
      },
      "execution_count": null,
      "outputs": [
        {
          "output_type": "execute_result",
          "data": {
            "text/plain": [
              "                                                  diccionario\n",
              "Lexema                 (Eucaristía, ., Transubstanciación, .)\n",
              "Definición  (Doctrina, del, pan, y, vino, donde, transform...\n",
              "Extra       (Encarnación, ,, Presencia, real, ;, Eucaristí..."
            ],
            "text/html": [
              "\n",
              "  <div id=\"df-c0e118e5-7463-4b54-b05c-cecdc385badb\">\n",
              "    <div class=\"colab-df-container\">\n",
              "      <div>\n",
              "<style scoped>\n",
              "    .dataframe tbody tr th:only-of-type {\n",
              "        vertical-align: middle;\n",
              "    }\n",
              "\n",
              "    .dataframe tbody tr th {\n",
              "        vertical-align: top;\n",
              "    }\n",
              "\n",
              "    .dataframe thead th {\n",
              "        text-align: right;\n",
              "    }\n",
              "</style>\n",
              "<table border=\"1\" class=\"dataframe\">\n",
              "  <thead>\n",
              "    <tr style=\"text-align: right;\">\n",
              "      <th></th>\n",
              "      <th>diccionario</th>\n",
              "    </tr>\n",
              "  </thead>\n",
              "  <tbody>\n",
              "    <tr>\n",
              "      <th>Lexema</th>\n",
              "      <td>(Eucaristía, ., Transubstanciación, .)</td>\n",
              "    </tr>\n",
              "    <tr>\n",
              "      <th>Definición</th>\n",
              "      <td>(Doctrina, del, pan, y, vino, donde, transform...</td>\n",
              "    </tr>\n",
              "    <tr>\n",
              "      <th>Extra</th>\n",
              "      <td>(Encarnación, ,, Presencia, real, ;, Eucaristí...</td>\n",
              "    </tr>\n",
              "  </tbody>\n",
              "</table>\n",
              "</div>\n",
              "      <button class=\"colab-df-convert\" onclick=\"convertToInteractive('df-c0e118e5-7463-4b54-b05c-cecdc385badb')\"\n",
              "              title=\"Convert this dataframe to an interactive table.\"\n",
              "              style=\"display:none;\">\n",
              "        \n",
              "  <svg xmlns=\"http://www.w3.org/2000/svg\" height=\"24px\"viewBox=\"0 0 24 24\"\n",
              "       width=\"24px\">\n",
              "    <path d=\"M0 0h24v24H0V0z\" fill=\"none\"/>\n",
              "    <path d=\"M18.56 5.44l.94 2.06.94-2.06 2.06-.94-2.06-.94-.94-2.06-.94 2.06-2.06.94zm-11 1L8.5 8.5l.94-2.06 2.06-.94-2.06-.94L8.5 2.5l-.94 2.06-2.06.94zm10 10l.94 2.06.94-2.06 2.06-.94-2.06-.94-.94-2.06-.94 2.06-2.06.94z\"/><path d=\"M17.41 7.96l-1.37-1.37c-.4-.4-.92-.59-1.43-.59-.52 0-1.04.2-1.43.59L10.3 9.45l-7.72 7.72c-.78.78-.78 2.05 0 2.83L4 21.41c.39.39.9.59 1.41.59.51 0 1.02-.2 1.41-.59l7.78-7.78 2.81-2.81c.8-.78.8-2.07 0-2.86zM5.41 20L4 18.59l7.72-7.72 1.47 1.35L5.41 20z\"/>\n",
              "  </svg>\n",
              "      </button>\n",
              "      \n",
              "  <style>\n",
              "    .colab-df-container {\n",
              "      display:flex;\n",
              "      flex-wrap:wrap;\n",
              "      gap: 12px;\n",
              "    }\n",
              "\n",
              "    .colab-df-convert {\n",
              "      background-color: #E8F0FE;\n",
              "      border: none;\n",
              "      border-radius: 50%;\n",
              "      cursor: pointer;\n",
              "      display: none;\n",
              "      fill: #1967D2;\n",
              "      height: 32px;\n",
              "      padding: 0 0 0 0;\n",
              "      width: 32px;\n",
              "    }\n",
              "\n",
              "    .colab-df-convert:hover {\n",
              "      background-color: #E2EBFA;\n",
              "      box-shadow: 0px 1px 2px rgba(60, 64, 67, 0.3), 0px 1px 3px 1px rgba(60, 64, 67, 0.15);\n",
              "      fill: #174EA6;\n",
              "    }\n",
              "\n",
              "    [theme=dark] .colab-df-convert {\n",
              "      background-color: #3B4455;\n",
              "      fill: #D2E3FC;\n",
              "    }\n",
              "\n",
              "    [theme=dark] .colab-df-convert:hover {\n",
              "      background-color: #434B5C;\n",
              "      box-shadow: 0px 1px 3px 1px rgba(0, 0, 0, 0.15);\n",
              "      filter: drop-shadow(0px 1px 2px rgba(0, 0, 0, 0.3));\n",
              "      fill: #FFFFFF;\n",
              "    }\n",
              "  </style>\n",
              "\n",
              "      <script>\n",
              "        const buttonEl =\n",
              "          document.querySelector('#df-c0e118e5-7463-4b54-b05c-cecdc385badb button.colab-df-convert');\n",
              "        buttonEl.style.display =\n",
              "          google.colab.kernel.accessAllowed ? 'block' : 'none';\n",
              "\n",
              "        async function convertToInteractive(key) {\n",
              "          const element = document.querySelector('#df-c0e118e5-7463-4b54-b05c-cecdc385badb');\n",
              "          const dataTable =\n",
              "            await google.colab.kernel.invokeFunction('convertToInteractive',\n",
              "                                                     [key], {});\n",
              "          if (!dataTable) return;\n",
              "\n",
              "          const docLinkHtml = 'Like what you see? Visit the ' +\n",
              "            '<a target=\"_blank\" href=https://colab.research.google.com/notebooks/data_table.ipynb>data table notebook</a>'\n",
              "            + ' to learn more about interactive tables.';\n",
              "          element.innerHTML = '';\n",
              "          dataTable['output_type'] = 'display_data';\n",
              "          await google.colab.output.renderOutput(dataTable, element);\n",
              "          const docLink = document.createElement('div');\n",
              "          docLink.innerHTML = docLinkHtml;\n",
              "          element.appendChild(docLink);\n",
              "        }\n",
              "      </script>\n",
              "    </div>\n",
              "  </div>\n",
              "  "
            ],
            "application/vnd.google.colaboratory.module+javascript": "\n      import \"https://ssl.gstatic.com/colaboratory/data_table/a8bd4d5e58f96183/data_table.js\";\n\n      window.createDataTable({\n        data: [[\"Lexema\",\n\"Eucarist\\u00eda. Transubstanciaci\\u00f3n.\"],\n [\"Definici\\u00f3n\",\n\"Doctrina del pan y vino donde transforman misteriosa y totalmente su sustancia en el cuerpo de Cristo durante la consagraci\\u00f3n y recrean el sacrificio y su beneficio en la impartici\\u00f3n. |\"],\n [\"Extra\",\n\"Encarnaci\\u00f3n, Presencia real; Eucarist\\u00eda . \\u00c9nfasis en: Tomad, comed; esto es mi cuerpo, y Bebed de ella todos; porque esto es mi sangre (Mat 26:26-28). | De corpore et sanguine Domini, de Pascasio Radberto, es la primera tesis desarrollada del tema. | Este dogma se gesta desde el siglo XI, como respuesta a Berenganius y es en el Concilio de Trento donde adquiere una consistencia definitiva por causa de Lutero.\"]],\n        columns: [[\"string\", \"index\"], [\"string\", \"diccionario\"]],\n        columnOptions: [{\"width\": \"1px\", \"className\": \"index_column\"}],\n        rowsPerPage: 25,\n        helpUrl: \"https://colab.research.google.com/notebooks/data_table.ipynb\",\n        suppressOutputScrolling: true,\n        minimumWidth: undefined,\n      });\n    "
          },
          "metadata": {},
          "execution_count": 275
        }
      ]
    },
    {
      "cell_type": "code",
      "source": [
        "# cómo se dice cuando Jesús se convierte en pan y vino\n",
        "evaluar('Eucaristía. Transubstanciación.')"
      ],
      "metadata": {
        "colab": {
          "base_uri": "https://localhost:8080/"
        },
        "id": "dyklahteKFJ7",
        "outputId": "0bcf9cb6-9b96-4828-d89b-2ba0b1137a43"
      },
      "execution_count": null,
      "outputs": [
        {
          "output_type": "stream",
          "name": "stdout",
          "text": [
            "Si no recuerdas el término, pregúntame, o trata de escribir lo que recuerdes:\n",
            "(Nota: El diccionario cuenta con 70 términos. Trabajamos para que crezca)\n",
            "→ cómo se dice cuando Jesús se convierte en pan y vino\n",
            "\n",
            "¿Encontrado en definiciones?\n",
            "¡Sí! \n",
            "  - Posición 6,\n",
            "  - Similitud 50.19 %\n",
            "¿Encontrado en información extra?\n",
            "(Nota: sin respuesta significa que no apareció el lexma)\n",
            "\n"
          ]
        }
      ]
    },
    {
      "cell_type": "markdown",
      "source": [
        "### Test12: Gomarista."
      ],
      "metadata": {
        "id": "M3BlDD-NUsXv"
      }
    },
    {
      "cell_type": "code",
      "source": [
        "verunlexema(43)"
      ],
      "metadata": {
        "colab": {
          "base_uri": "https://localhost:8080/",
          "height": 170
        },
        "id": "zMJhdIV4KaGD",
        "outputId": "491dd3b8-6ee8-4900-bef1-4807bfadaab4"
      },
      "execution_count": null,
      "outputs": [
        {
          "output_type": "execute_result",
          "data": {
            "text/plain": [
              "                                                  diccionario\n",
              "Lexema                                         (Gomarista, .)\n",
              "Definición  (Seguidores, neerlandeses, de, las, enseñanzas...\n",
              "Extra       (Contrarremonstrante, ,, supralapsariano, ;, ...."
            ],
            "text/html": [
              "\n",
              "  <div id=\"df-a0c36570-379c-471d-a1ab-ec40028367a5\">\n",
              "    <div class=\"colab-df-container\">\n",
              "      <div>\n",
              "<style scoped>\n",
              "    .dataframe tbody tr th:only-of-type {\n",
              "        vertical-align: middle;\n",
              "    }\n",
              "\n",
              "    .dataframe tbody tr th {\n",
              "        vertical-align: top;\n",
              "    }\n",
              "\n",
              "    .dataframe thead th {\n",
              "        text-align: right;\n",
              "    }\n",
              "</style>\n",
              "<table border=\"1\" class=\"dataframe\">\n",
              "  <thead>\n",
              "    <tr style=\"text-align: right;\">\n",
              "      <th></th>\n",
              "      <th>diccionario</th>\n",
              "    </tr>\n",
              "  </thead>\n",
              "  <tbody>\n",
              "    <tr>\n",
              "      <th>Lexema</th>\n",
              "      <td>(Gomarista, .)</td>\n",
              "    </tr>\n",
              "    <tr>\n",
              "      <th>Definición</th>\n",
              "      <td>(Seguidores, neerlandeses, de, las, enseñanzas...</td>\n",
              "    </tr>\n",
              "    <tr>\n",
              "      <th>Extra</th>\n",
              "      <td>(Contrarremonstrante, ,, supralapsariano, ;, ....</td>\n",
              "    </tr>\n",
              "  </tbody>\n",
              "</table>\n",
              "</div>\n",
              "      <button class=\"colab-df-convert\" onclick=\"convertToInteractive('df-a0c36570-379c-471d-a1ab-ec40028367a5')\"\n",
              "              title=\"Convert this dataframe to an interactive table.\"\n",
              "              style=\"display:none;\">\n",
              "        \n",
              "  <svg xmlns=\"http://www.w3.org/2000/svg\" height=\"24px\"viewBox=\"0 0 24 24\"\n",
              "       width=\"24px\">\n",
              "    <path d=\"M0 0h24v24H0V0z\" fill=\"none\"/>\n",
              "    <path d=\"M18.56 5.44l.94 2.06.94-2.06 2.06-.94-2.06-.94-.94-2.06-.94 2.06-2.06.94zm-11 1L8.5 8.5l.94-2.06 2.06-.94-2.06-.94L8.5 2.5l-.94 2.06-2.06.94zm10 10l.94 2.06.94-2.06 2.06-.94-2.06-.94-.94-2.06-.94 2.06-2.06.94z\"/><path d=\"M17.41 7.96l-1.37-1.37c-.4-.4-.92-.59-1.43-.59-.52 0-1.04.2-1.43.59L10.3 9.45l-7.72 7.72c-.78.78-.78 2.05 0 2.83L4 21.41c.39.39.9.59 1.41.59.51 0 1.02-.2 1.41-.59l7.78-7.78 2.81-2.81c.8-.78.8-2.07 0-2.86zM5.41 20L4 18.59l7.72-7.72 1.47 1.35L5.41 20z\"/>\n",
              "  </svg>\n",
              "      </button>\n",
              "      \n",
              "  <style>\n",
              "    .colab-df-container {\n",
              "      display:flex;\n",
              "      flex-wrap:wrap;\n",
              "      gap: 12px;\n",
              "    }\n",
              "\n",
              "    .colab-df-convert {\n",
              "      background-color: #E8F0FE;\n",
              "      border: none;\n",
              "      border-radius: 50%;\n",
              "      cursor: pointer;\n",
              "      display: none;\n",
              "      fill: #1967D2;\n",
              "      height: 32px;\n",
              "      padding: 0 0 0 0;\n",
              "      width: 32px;\n",
              "    }\n",
              "\n",
              "    .colab-df-convert:hover {\n",
              "      background-color: #E2EBFA;\n",
              "      box-shadow: 0px 1px 2px rgba(60, 64, 67, 0.3), 0px 1px 3px 1px rgba(60, 64, 67, 0.15);\n",
              "      fill: #174EA6;\n",
              "    }\n",
              "\n",
              "    [theme=dark] .colab-df-convert {\n",
              "      background-color: #3B4455;\n",
              "      fill: #D2E3FC;\n",
              "    }\n",
              "\n",
              "    [theme=dark] .colab-df-convert:hover {\n",
              "      background-color: #434B5C;\n",
              "      box-shadow: 0px 1px 3px 1px rgba(0, 0, 0, 0.15);\n",
              "      filter: drop-shadow(0px 1px 2px rgba(0, 0, 0, 0.3));\n",
              "      fill: #FFFFFF;\n",
              "    }\n",
              "  </style>\n",
              "\n",
              "      <script>\n",
              "        const buttonEl =\n",
              "          document.querySelector('#df-a0c36570-379c-471d-a1ab-ec40028367a5 button.colab-df-convert');\n",
              "        buttonEl.style.display =\n",
              "          google.colab.kernel.accessAllowed ? 'block' : 'none';\n",
              "\n",
              "        async function convertToInteractive(key) {\n",
              "          const element = document.querySelector('#df-a0c36570-379c-471d-a1ab-ec40028367a5');\n",
              "          const dataTable =\n",
              "            await google.colab.kernel.invokeFunction('convertToInteractive',\n",
              "                                                     [key], {});\n",
              "          if (!dataTable) return;\n",
              "\n",
              "          const docLinkHtml = 'Like what you see? Visit the ' +\n",
              "            '<a target=\"_blank\" href=https://colab.research.google.com/notebooks/data_table.ipynb>data table notebook</a>'\n",
              "            + ' to learn more about interactive tables.';\n",
              "          element.innerHTML = '';\n",
              "          dataTable['output_type'] = 'display_data';\n",
              "          await google.colab.output.renderOutput(dataTable, element);\n",
              "          const docLink = document.createElement('div');\n",
              "          docLink.innerHTML = docLinkHtml;\n",
              "          element.appendChild(docLink);\n",
              "        }\n",
              "      </script>\n",
              "    </div>\n",
              "  </div>\n",
              "  "
            ],
            "application/vnd.google.colaboratory.module+javascript": "\n      import \"https://ssl.gstatic.com/colaboratory/data_table/a8bd4d5e58f96183/data_table.js\";\n\n      window.createDataTable({\n        data: [[\"Lexema\",\n\"Gomarista.\"],\n [\"Definici\\u00f3n\",\n\"Seguidores neerlandeses de las ense\\u00f1anzas de Francisco Gomarus, r\\u00edgido calvinista. |\"],\n [\"Extra\",\n\"Contrarremonstrante, supralapsariano; . . Se consolidan como contrapeso ante la doctrina remonstrante. | Despu\\u00e9s del S\\u00ednodo de Dort y la expulsi\\u00f3n de los remonstrantes, tomaron el control de la iglesia reformada en los Pa\\u00edses Bajos. .\"]],\n        columns: [[\"string\", \"index\"], [\"string\", \"diccionario\"]],\n        columnOptions: [{\"width\": \"1px\", \"className\": \"index_column\"}],\n        rowsPerPage: 25,\n        helpUrl: \"https://colab.research.google.com/notebooks/data_table.ipynb\",\n        suppressOutputScrolling: true,\n        minimumWidth: undefined,\n      });\n    "
          },
          "metadata": {},
          "execution_count": 278
        }
      ]
    },
    {
      "cell_type": "code",
      "source": [
        "# calvinistas de los países bajos\n",
        "evaluar('Gomarista.')"
      ],
      "metadata": {
        "colab": {
          "base_uri": "https://localhost:8080/"
        },
        "id": "etNTr3I0K5a5",
        "outputId": "0387bbad-b768-49c2-de62-6c960aa87694"
      },
      "execution_count": null,
      "outputs": [
        {
          "output_type": "stream",
          "name": "stdout",
          "text": [
            "Si no recuerdas el término, pregúntame, o trata de escribir lo que recuerdes:\n",
            "(Nota: El diccionario cuenta con 70 términos. Trabajamos para que crezca)\n",
            "→ calvinistas de los países bajos\n",
            "\n",
            "¿Encontrado en definiciones?\n",
            "¿Encontrado en información extra?\n",
            "¡Sí! \n",
            "  - Posición 7,\n",
            "  - Similitud 68.44 %\n",
            "\n",
            "(Nota: sin respuesta significa que no apareció el lexma)\n",
            "\n"
          ]
        }
      ]
    },
    {
      "cell_type": "markdown",
      "source": [
        "### Test13: Guerra de Esmalcalda."
      ],
      "metadata": {
        "id": "Xv_W6FYgUt2x"
      }
    },
    {
      "cell_type": "code",
      "source": [
        "verunlexema(44)"
      ],
      "metadata": {
        "colab": {
          "base_uri": "https://localhost:8080/",
          "height": 153
        },
        "id": "TpakFsrNLPT8",
        "outputId": "bee6cd02-d04c-4cc6-f35d-dd61bb12fcd9"
      },
      "execution_count": null,
      "outputs": [
        {
          "output_type": "execute_result",
          "data": {
            "text/plain": [
              "                                                  diccionario\n",
              "Lexema                            (Guerra, de, Esmalcalda, .)\n",
              "Definición  (Enfrentamiento, militar, entre, la, Liga, de,...\n",
              "Extra                                      (., ., ., ., ., .)"
            ],
            "text/html": [
              "\n",
              "  <div id=\"df-4c13d356-3e98-489a-b365-250237a7b780\">\n",
              "    <div class=\"colab-df-container\">\n",
              "      <div>\n",
              "<style scoped>\n",
              "    .dataframe tbody tr th:only-of-type {\n",
              "        vertical-align: middle;\n",
              "    }\n",
              "\n",
              "    .dataframe tbody tr th {\n",
              "        vertical-align: top;\n",
              "    }\n",
              "\n",
              "    .dataframe thead th {\n",
              "        text-align: right;\n",
              "    }\n",
              "</style>\n",
              "<table border=\"1\" class=\"dataframe\">\n",
              "  <thead>\n",
              "    <tr style=\"text-align: right;\">\n",
              "      <th></th>\n",
              "      <th>diccionario</th>\n",
              "    </tr>\n",
              "  </thead>\n",
              "  <tbody>\n",
              "    <tr>\n",
              "      <th>Lexema</th>\n",
              "      <td>(Guerra, de, Esmalcalda, .)</td>\n",
              "    </tr>\n",
              "    <tr>\n",
              "      <th>Definición</th>\n",
              "      <td>(Enfrentamiento, militar, entre, la, Liga, de,...</td>\n",
              "    </tr>\n",
              "    <tr>\n",
              "      <th>Extra</th>\n",
              "      <td>(., ., ., ., ., .)</td>\n",
              "    </tr>\n",
              "  </tbody>\n",
              "</table>\n",
              "</div>\n",
              "      <button class=\"colab-df-convert\" onclick=\"convertToInteractive('df-4c13d356-3e98-489a-b365-250237a7b780')\"\n",
              "              title=\"Convert this dataframe to an interactive table.\"\n",
              "              style=\"display:none;\">\n",
              "        \n",
              "  <svg xmlns=\"http://www.w3.org/2000/svg\" height=\"24px\"viewBox=\"0 0 24 24\"\n",
              "       width=\"24px\">\n",
              "    <path d=\"M0 0h24v24H0V0z\" fill=\"none\"/>\n",
              "    <path d=\"M18.56 5.44l.94 2.06.94-2.06 2.06-.94-2.06-.94-.94-2.06-.94 2.06-2.06.94zm-11 1L8.5 8.5l.94-2.06 2.06-.94-2.06-.94L8.5 2.5l-.94 2.06-2.06.94zm10 10l.94 2.06.94-2.06 2.06-.94-2.06-.94-.94-2.06-.94 2.06-2.06.94z\"/><path d=\"M17.41 7.96l-1.37-1.37c-.4-.4-.92-.59-1.43-.59-.52 0-1.04.2-1.43.59L10.3 9.45l-7.72 7.72c-.78.78-.78 2.05 0 2.83L4 21.41c.39.39.9.59 1.41.59.51 0 1.02-.2 1.41-.59l7.78-7.78 2.81-2.81c.8-.78.8-2.07 0-2.86zM5.41 20L4 18.59l7.72-7.72 1.47 1.35L5.41 20z\"/>\n",
              "  </svg>\n",
              "      </button>\n",
              "      \n",
              "  <style>\n",
              "    .colab-df-container {\n",
              "      display:flex;\n",
              "      flex-wrap:wrap;\n",
              "      gap: 12px;\n",
              "    }\n",
              "\n",
              "    .colab-df-convert {\n",
              "      background-color: #E8F0FE;\n",
              "      border: none;\n",
              "      border-radius: 50%;\n",
              "      cursor: pointer;\n",
              "      display: none;\n",
              "      fill: #1967D2;\n",
              "      height: 32px;\n",
              "      padding: 0 0 0 0;\n",
              "      width: 32px;\n",
              "    }\n",
              "\n",
              "    .colab-df-convert:hover {\n",
              "      background-color: #E2EBFA;\n",
              "      box-shadow: 0px 1px 2px rgba(60, 64, 67, 0.3), 0px 1px 3px 1px rgba(60, 64, 67, 0.15);\n",
              "      fill: #174EA6;\n",
              "    }\n",
              "\n",
              "    [theme=dark] .colab-df-convert {\n",
              "      background-color: #3B4455;\n",
              "      fill: #D2E3FC;\n",
              "    }\n",
              "\n",
              "    [theme=dark] .colab-df-convert:hover {\n",
              "      background-color: #434B5C;\n",
              "      box-shadow: 0px 1px 3px 1px rgba(0, 0, 0, 0.15);\n",
              "      filter: drop-shadow(0px 1px 2px rgba(0, 0, 0, 0.3));\n",
              "      fill: #FFFFFF;\n",
              "    }\n",
              "  </style>\n",
              "\n",
              "      <script>\n",
              "        const buttonEl =\n",
              "          document.querySelector('#df-4c13d356-3e98-489a-b365-250237a7b780 button.colab-df-convert');\n",
              "        buttonEl.style.display =\n",
              "          google.colab.kernel.accessAllowed ? 'block' : 'none';\n",
              "\n",
              "        async function convertToInteractive(key) {\n",
              "          const element = document.querySelector('#df-4c13d356-3e98-489a-b365-250237a7b780');\n",
              "          const dataTable =\n",
              "            await google.colab.kernel.invokeFunction('convertToInteractive',\n",
              "                                                     [key], {});\n",
              "          if (!dataTable) return;\n",
              "\n",
              "          const docLinkHtml = 'Like what you see? Visit the ' +\n",
              "            '<a target=\"_blank\" href=https://colab.research.google.com/notebooks/data_table.ipynb>data table notebook</a>'\n",
              "            + ' to learn more about interactive tables.';\n",
              "          element.innerHTML = '';\n",
              "          dataTable['output_type'] = 'display_data';\n",
              "          await google.colab.output.renderOutput(dataTable, element);\n",
              "          const docLink = document.createElement('div');\n",
              "          docLink.innerHTML = docLinkHtml;\n",
              "          element.appendChild(docLink);\n",
              "        }\n",
              "      </script>\n",
              "    </div>\n",
              "  </div>\n",
              "  "
            ],
            "application/vnd.google.colaboratory.module+javascript": "\n      import \"https://ssl.gstatic.com/colaboratory/data_table/a8bd4d5e58f96183/data_table.js\";\n\n      window.createDataTable({\n        data: [[\"Lexema\",\n\"Guerra de Esmalcalda.\"],\n [\"Definici\\u00f3n\",\n\"Enfrentamiento militar entre la Liga de Esmalcada, de corte protestante, con la Liga Cat\\u00f3lica, liderada por el Emperador, estos \\u00faltimos fueron los vencedores.\"],\n [\"Extra\",\n\". . . . . .\"]],\n        columns: [[\"string\", \"index\"], [\"string\", \"diccionario\"]],\n        columnOptions: [{\"width\": \"1px\", \"className\": \"index_column\"}],\n        rowsPerPage: 25,\n        helpUrl: \"https://colab.research.google.com/notebooks/data_table.ipynb\",\n        suppressOutputScrolling: true,\n        minimumWidth: undefined,\n      });\n    "
          },
          "metadata": {},
          "execution_count": 280
        }
      ]
    },
    {
      "cell_type": "code",
      "source": [
        "# Guerra que perdieron los protestantes\n",
        "evaluar('Guerra de Esmalcalda.')"
      ],
      "metadata": {
        "colab": {
          "base_uri": "https://localhost:8080/"
        },
        "id": "J7kHHTzQLQy-",
        "outputId": "44a96534-bd7c-4eef-8a76-2c4039786682"
      },
      "execution_count": null,
      "outputs": [
        {
          "output_type": "stream",
          "name": "stdout",
          "text": [
            "Si no recuerdas el término, pregúntame, o trata de escribir lo que recuerdes:\n",
            "(Nota: El diccionario cuenta con 70 términos. Trabajamos para que crezca)\n",
            "→ Guerra que perdieron los protestantes\n",
            "\n",
            "¿Encontrado en definiciones?\n",
            "¡Sí! \n",
            "  - Posición 7,\n",
            "  - Similitud 61.71 %\n",
            "¿Encontrado en información extra?\n",
            "(Nota: sin respuesta significa que no apareció el lexma)\n",
            "\n"
          ]
        }
      ]
    },
    {
      "cell_type": "markdown",
      "source": [
        "### Test14: Hugonote, grupo."
      ],
      "metadata": {
        "id": "dkish7nPUwDZ"
      }
    },
    {
      "cell_type": "code",
      "source": [
        "verunlexema(46)"
      ],
      "metadata": {
        "colab": {
          "base_uri": "https://localhost:8080/",
          "height": 153
        },
        "id": "zzkcS1qHLyDS",
        "outputId": "2b2c244f-b156-4f6d-c815-a9a42a7d5bf6"
      },
      "execution_count": null,
      "outputs": [
        {
          "output_type": "execute_result",
          "data": {
            "text/plain": [
              "                                                  diccionario\n",
              "Lexema                                (Hugonote, ,, grupo, .)\n",
              "Definición  (Protestantes, franceses, calvinistas, ,, reco...\n",
              "Extra                                      (., ., ., ., ., .)"
            ],
            "text/html": [
              "\n",
              "  <div id=\"df-aec570c7-dd6a-4a51-b05a-9653313f072c\">\n",
              "    <div class=\"colab-df-container\">\n",
              "      <div>\n",
              "<style scoped>\n",
              "    .dataframe tbody tr th:only-of-type {\n",
              "        vertical-align: middle;\n",
              "    }\n",
              "\n",
              "    .dataframe tbody tr th {\n",
              "        vertical-align: top;\n",
              "    }\n",
              "\n",
              "    .dataframe thead th {\n",
              "        text-align: right;\n",
              "    }\n",
              "</style>\n",
              "<table border=\"1\" class=\"dataframe\">\n",
              "  <thead>\n",
              "    <tr style=\"text-align: right;\">\n",
              "      <th></th>\n",
              "      <th>diccionario</th>\n",
              "    </tr>\n",
              "  </thead>\n",
              "  <tbody>\n",
              "    <tr>\n",
              "      <th>Lexema</th>\n",
              "      <td>(Hugonote, ,, grupo, .)</td>\n",
              "    </tr>\n",
              "    <tr>\n",
              "      <th>Definición</th>\n",
              "      <td>(Protestantes, franceses, calvinistas, ,, reco...</td>\n",
              "    </tr>\n",
              "    <tr>\n",
              "      <th>Extra</th>\n",
              "      <td>(., ., ., ., ., .)</td>\n",
              "    </tr>\n",
              "  </tbody>\n",
              "</table>\n",
              "</div>\n",
              "      <button class=\"colab-df-convert\" onclick=\"convertToInteractive('df-aec570c7-dd6a-4a51-b05a-9653313f072c')\"\n",
              "              title=\"Convert this dataframe to an interactive table.\"\n",
              "              style=\"display:none;\">\n",
              "        \n",
              "  <svg xmlns=\"http://www.w3.org/2000/svg\" height=\"24px\"viewBox=\"0 0 24 24\"\n",
              "       width=\"24px\">\n",
              "    <path d=\"M0 0h24v24H0V0z\" fill=\"none\"/>\n",
              "    <path d=\"M18.56 5.44l.94 2.06.94-2.06 2.06-.94-2.06-.94-.94-2.06-.94 2.06-2.06.94zm-11 1L8.5 8.5l.94-2.06 2.06-.94-2.06-.94L8.5 2.5l-.94 2.06-2.06.94zm10 10l.94 2.06.94-2.06 2.06-.94-2.06-.94-.94-2.06-.94 2.06-2.06.94z\"/><path d=\"M17.41 7.96l-1.37-1.37c-.4-.4-.92-.59-1.43-.59-.52 0-1.04.2-1.43.59L10.3 9.45l-7.72 7.72c-.78.78-.78 2.05 0 2.83L4 21.41c.39.39.9.59 1.41.59.51 0 1.02-.2 1.41-.59l7.78-7.78 2.81-2.81c.8-.78.8-2.07 0-2.86zM5.41 20L4 18.59l7.72-7.72 1.47 1.35L5.41 20z\"/>\n",
              "  </svg>\n",
              "      </button>\n",
              "      \n",
              "  <style>\n",
              "    .colab-df-container {\n",
              "      display:flex;\n",
              "      flex-wrap:wrap;\n",
              "      gap: 12px;\n",
              "    }\n",
              "\n",
              "    .colab-df-convert {\n",
              "      background-color: #E8F0FE;\n",
              "      border: none;\n",
              "      border-radius: 50%;\n",
              "      cursor: pointer;\n",
              "      display: none;\n",
              "      fill: #1967D2;\n",
              "      height: 32px;\n",
              "      padding: 0 0 0 0;\n",
              "      width: 32px;\n",
              "    }\n",
              "\n",
              "    .colab-df-convert:hover {\n",
              "      background-color: #E2EBFA;\n",
              "      box-shadow: 0px 1px 2px rgba(60, 64, 67, 0.3), 0px 1px 3px 1px rgba(60, 64, 67, 0.15);\n",
              "      fill: #174EA6;\n",
              "    }\n",
              "\n",
              "    [theme=dark] .colab-df-convert {\n",
              "      background-color: #3B4455;\n",
              "      fill: #D2E3FC;\n",
              "    }\n",
              "\n",
              "    [theme=dark] .colab-df-convert:hover {\n",
              "      background-color: #434B5C;\n",
              "      box-shadow: 0px 1px 3px 1px rgba(0, 0, 0, 0.15);\n",
              "      filter: drop-shadow(0px 1px 2px rgba(0, 0, 0, 0.3));\n",
              "      fill: #FFFFFF;\n",
              "    }\n",
              "  </style>\n",
              "\n",
              "      <script>\n",
              "        const buttonEl =\n",
              "          document.querySelector('#df-aec570c7-dd6a-4a51-b05a-9653313f072c button.colab-df-convert');\n",
              "        buttonEl.style.display =\n",
              "          google.colab.kernel.accessAllowed ? 'block' : 'none';\n",
              "\n",
              "        async function convertToInteractive(key) {\n",
              "          const element = document.querySelector('#df-aec570c7-dd6a-4a51-b05a-9653313f072c');\n",
              "          const dataTable =\n",
              "            await google.colab.kernel.invokeFunction('convertToInteractive',\n",
              "                                                     [key], {});\n",
              "          if (!dataTable) return;\n",
              "\n",
              "          const docLinkHtml = 'Like what you see? Visit the ' +\n",
              "            '<a target=\"_blank\" href=https://colab.research.google.com/notebooks/data_table.ipynb>data table notebook</a>'\n",
              "            + ' to learn more about interactive tables.';\n",
              "          element.innerHTML = '';\n",
              "          dataTable['output_type'] = 'display_data';\n",
              "          await google.colab.output.renderOutput(dataTable, element);\n",
              "          const docLink = document.createElement('div');\n",
              "          docLink.innerHTML = docLinkHtml;\n",
              "          element.appendChild(docLink);\n",
              "        }\n",
              "      </script>\n",
              "    </div>\n",
              "  </div>\n",
              "  "
            ],
            "application/vnd.google.colaboratory.module+javascript": "\n      import \"https://ssl.gstatic.com/colaboratory/data_table/a8bd4d5e58f96183/data_table.js\";\n\n      window.createDataTable({\n        data: [[\"Lexema\",\n\"Hugonote, grupo.\"],\n [\"Definici\\u00f3n\",\n\"Protestantes franceses calvinistas, recordados por ser diezmados en la Matanza de San Bartolom\\u00e9.\"],\n [\"Extra\",\n\". . . . . .\"]],\n        columns: [[\"string\", \"index\"], [\"string\", \"diccionario\"]],\n        columnOptions: [{\"width\": \"1px\", \"className\": \"index_column\"}],\n        rowsPerPage: 25,\n        helpUrl: \"https://colab.research.google.com/notebooks/data_table.ipynb\",\n        suppressOutputScrolling: true,\n        minimumWidth: undefined,\n      });\n    "
          },
          "metadata": {},
          "execution_count": 282
        }
      ]
    },
    {
      "cell_type": "code",
      "source": [
        "# cómo se llama el grupo de protestantes que muchos fueron asesinados\n",
        "evaluar('Hugonote, grupo.')"
      ],
      "metadata": {
        "colab": {
          "base_uri": "https://localhost:8080/"
        },
        "id": "BoRDW4i2LzYh",
        "outputId": "cc389204-429e-4f16-89b6-c45c89ebe1c9"
      },
      "execution_count": null,
      "outputs": [
        {
          "output_type": "stream",
          "name": "stdout",
          "text": [
            "Si no recuerdas el término, pregúntame, o trata de escribir lo que recuerdes:\n",
            "(Nota: El diccionario cuenta con 70 términos. Trabajamos para que crezca)\n",
            "→ cómo se llama el grupo de protestantes que muchos fueron asesinados\n",
            "\n",
            "¿Encontrado en definiciones?\n",
            "¿Encontrado en información extra?\n",
            "(Nota: sin respuesta significa que no apareció el lexma)\n",
            "\n"
          ]
        }
      ]
    },
    {
      "cell_type": "markdown",
      "source": [
        "### Test15: Lolarda, grupo."
      ],
      "metadata": {
        "id": "ufOw10BGUx23"
      }
    },
    {
      "cell_type": "code",
      "source": [
        "verunlexema(54)"
      ],
      "metadata": {
        "colab": {
          "base_uri": "https://localhost:8080/",
          "height": 186
        },
        "id": "QAsREEwcMTyb",
        "outputId": "c8b3181e-4197-4bd4-ba77-7ea5ca47d05b"
      },
      "execution_count": null,
      "outputs": [
        {
          "output_type": "execute_result",
          "data": {
            "text/plain": [
              "                                                  diccionario\n",
              "Lexema                                 (Lolarda, ,, grupo, .)\n",
              "Definición  (Movimiento, pre-reformador, que, propagó, las...\n",
              "Extra       (Lollardo, ,, Wicliffistas, ;, ., ., Se, gesta..."
            ],
            "text/html": [
              "\n",
              "  <div id=\"df-783bfec4-f1a3-48dd-8d6e-83ff8579257a\">\n",
              "    <div class=\"colab-df-container\">\n",
              "      <div>\n",
              "<style scoped>\n",
              "    .dataframe tbody tr th:only-of-type {\n",
              "        vertical-align: middle;\n",
              "    }\n",
              "\n",
              "    .dataframe tbody tr th {\n",
              "        vertical-align: top;\n",
              "    }\n",
              "\n",
              "    .dataframe thead th {\n",
              "        text-align: right;\n",
              "    }\n",
              "</style>\n",
              "<table border=\"1\" class=\"dataframe\">\n",
              "  <thead>\n",
              "    <tr style=\"text-align: right;\">\n",
              "      <th></th>\n",
              "      <th>diccionario</th>\n",
              "    </tr>\n",
              "  </thead>\n",
              "  <tbody>\n",
              "    <tr>\n",
              "      <th>Lexema</th>\n",
              "      <td>(Lolarda, ,, grupo, .)</td>\n",
              "    </tr>\n",
              "    <tr>\n",
              "      <th>Definición</th>\n",
              "      <td>(Movimiento, pre-reformador, que, propagó, las...</td>\n",
              "    </tr>\n",
              "    <tr>\n",
              "      <th>Extra</th>\n",
              "      <td>(Lollardo, ,, Wicliffistas, ;, ., ., Se, gesta...</td>\n",
              "    </tr>\n",
              "  </tbody>\n",
              "</table>\n",
              "</div>\n",
              "      <button class=\"colab-df-convert\" onclick=\"convertToInteractive('df-783bfec4-f1a3-48dd-8d6e-83ff8579257a')\"\n",
              "              title=\"Convert this dataframe to an interactive table.\"\n",
              "              style=\"display:none;\">\n",
              "        \n",
              "  <svg xmlns=\"http://www.w3.org/2000/svg\" height=\"24px\"viewBox=\"0 0 24 24\"\n",
              "       width=\"24px\">\n",
              "    <path d=\"M0 0h24v24H0V0z\" fill=\"none\"/>\n",
              "    <path d=\"M18.56 5.44l.94 2.06.94-2.06 2.06-.94-2.06-.94-.94-2.06-.94 2.06-2.06.94zm-11 1L8.5 8.5l.94-2.06 2.06-.94-2.06-.94L8.5 2.5l-.94 2.06-2.06.94zm10 10l.94 2.06.94-2.06 2.06-.94-2.06-.94-.94-2.06-.94 2.06-2.06.94z\"/><path d=\"M17.41 7.96l-1.37-1.37c-.4-.4-.92-.59-1.43-.59-.52 0-1.04.2-1.43.59L10.3 9.45l-7.72 7.72c-.78.78-.78 2.05 0 2.83L4 21.41c.39.39.9.59 1.41.59.51 0 1.02-.2 1.41-.59l7.78-7.78 2.81-2.81c.8-.78.8-2.07 0-2.86zM5.41 20L4 18.59l7.72-7.72 1.47 1.35L5.41 20z\"/>\n",
              "  </svg>\n",
              "      </button>\n",
              "      \n",
              "  <style>\n",
              "    .colab-df-container {\n",
              "      display:flex;\n",
              "      flex-wrap:wrap;\n",
              "      gap: 12px;\n",
              "    }\n",
              "\n",
              "    .colab-df-convert {\n",
              "      background-color: #E8F0FE;\n",
              "      border: none;\n",
              "      border-radius: 50%;\n",
              "      cursor: pointer;\n",
              "      display: none;\n",
              "      fill: #1967D2;\n",
              "      height: 32px;\n",
              "      padding: 0 0 0 0;\n",
              "      width: 32px;\n",
              "    }\n",
              "\n",
              "    .colab-df-convert:hover {\n",
              "      background-color: #E2EBFA;\n",
              "      box-shadow: 0px 1px 2px rgba(60, 64, 67, 0.3), 0px 1px 3px 1px rgba(60, 64, 67, 0.15);\n",
              "      fill: #174EA6;\n",
              "    }\n",
              "\n",
              "    [theme=dark] .colab-df-convert {\n",
              "      background-color: #3B4455;\n",
              "      fill: #D2E3FC;\n",
              "    }\n",
              "\n",
              "    [theme=dark] .colab-df-convert:hover {\n",
              "      background-color: #434B5C;\n",
              "      box-shadow: 0px 1px 3px 1px rgba(0, 0, 0, 0.15);\n",
              "      filter: drop-shadow(0px 1px 2px rgba(0, 0, 0, 0.3));\n",
              "      fill: #FFFFFF;\n",
              "    }\n",
              "  </style>\n",
              "\n",
              "      <script>\n",
              "        const buttonEl =\n",
              "          document.querySelector('#df-783bfec4-f1a3-48dd-8d6e-83ff8579257a button.colab-df-convert');\n",
              "        buttonEl.style.display =\n",
              "          google.colab.kernel.accessAllowed ? 'block' : 'none';\n",
              "\n",
              "        async function convertToInteractive(key) {\n",
              "          const element = document.querySelector('#df-783bfec4-f1a3-48dd-8d6e-83ff8579257a');\n",
              "          const dataTable =\n",
              "            await google.colab.kernel.invokeFunction('convertToInteractive',\n",
              "                                                     [key], {});\n",
              "          if (!dataTable) return;\n",
              "\n",
              "          const docLinkHtml = 'Like what you see? Visit the ' +\n",
              "            '<a target=\"_blank\" href=https://colab.research.google.com/notebooks/data_table.ipynb>data table notebook</a>'\n",
              "            + ' to learn more about interactive tables.';\n",
              "          element.innerHTML = '';\n",
              "          dataTable['output_type'] = 'display_data';\n",
              "          await google.colab.output.renderOutput(dataTable, element);\n",
              "          const docLink = document.createElement('div');\n",
              "          docLink.innerHTML = docLinkHtml;\n",
              "          element.appendChild(docLink);\n",
              "        }\n",
              "      </script>\n",
              "    </div>\n",
              "  </div>\n",
              "  "
            ],
            "application/vnd.google.colaboratory.module+javascript": "\n      import \"https://ssl.gstatic.com/colaboratory/data_table/a8bd4d5e58f96183/data_table.js\";\n\n      window.createDataTable({\n        data: [[\"Lexema\",\n\"Lolarda, grupo.\"],\n [\"Definici\\u00f3n\",\n\"Movimiento pre-reformador que propag\\u00f3 las ense\\u00f1anzas de Juan Wycliffe.\"],\n [\"Extra\",\n\"Lollardo, Wicliffistas; . . Se gesta en la Universidad de Oxford, donde Wicliff era maestro de teolog\\u00eda. Luego de su muerte, redactaron su doctrina en las doce conclusiones, en donde criticaban a la iglesia, el sacerdocio, celibato, transubstanciaci\\u00f3n, exorcismo y hallowen, oficio secular de los cl\\u00e9rigos, oraci\\u00f3n a muertos, romer\\u00edas, la confesi\\u00f3n, las guerras y cruzadas, abortos clandestinos de mujeres en celibato y del exceso uso de artes. . .\"]],\n        columns: [[\"string\", \"index\"], [\"string\", \"diccionario\"]],\n        columnOptions: [{\"width\": \"1px\", \"className\": \"index_column\"}],\n        rowsPerPage: 25,\n        helpUrl: \"https://colab.research.google.com/notebooks/data_table.ipynb\",\n        suppressOutputScrolling: true,\n        minimumWidth: undefined,\n      });\n    "
          },
          "metadata": {},
          "execution_count": 289
        }
      ]
    },
    {
      "cell_type": "code",
      "source": [
        "# quiénes son los seguidores de Wyclif\n",
        "evaluar('Lolarda, grupo.')"
      ],
      "metadata": {
        "colab": {
          "base_uri": "https://localhost:8080/"
        },
        "id": "muwabt-JMVkt",
        "outputId": "9bb27ab6-6265-49be-e59d-ac90d323760f"
      },
      "execution_count": null,
      "outputs": [
        {
          "output_type": "stream",
          "name": "stdout",
          "text": [
            "Si no recuerdas el término, pregúntame, o trata de escribir lo que recuerdes:\n",
            "(Nota: El diccionario cuenta con 70 términos. Trabajamos para que crezca)\n",
            "→ quiénes son los seguidores de Wyclif\n",
            "\n",
            "¿Encontrado en definiciones?\n",
            "¿Encontrado en información extra?\n",
            "(Nota: sin respuesta significa que no apareció el lexma)\n",
            "\n"
          ]
        }
      ]
    },
    {
      "cell_type": "markdown",
      "source": [
        "### Test16: Paz de Augsburgo."
      ],
      "metadata": {
        "id": "eEEoia5CUzDa"
      }
    },
    {
      "cell_type": "code",
      "source": [
        "verunlexema(59)"
      ],
      "metadata": {
        "colab": {
          "base_uri": "https://localhost:8080/",
          "height": 153
        },
        "id": "Aia-ZiZWMa-m",
        "outputId": "a93bafe4-3d5e-4420-9689-6d966eb0f5f6"
      },
      "execution_count": null,
      "outputs": [
        {
          "output_type": "execute_result",
          "data": {
            "text/plain": [
              "                                                  diccionario\n",
              "Lexema                                (Paz, de, Augsburgo, .)\n",
              "Definición  (Edicto, imperial, que, permitió, el, libre, e...\n",
              "Extra                    (., Acuerdos, militares, ., ., ., .)"
            ],
            "text/html": [
              "\n",
              "  <div id=\"df-d30ae553-7553-41fe-b22d-2c113fda3b00\">\n",
              "    <div class=\"colab-df-container\">\n",
              "      <div>\n",
              "<style scoped>\n",
              "    .dataframe tbody tr th:only-of-type {\n",
              "        vertical-align: middle;\n",
              "    }\n",
              "\n",
              "    .dataframe tbody tr th {\n",
              "        vertical-align: top;\n",
              "    }\n",
              "\n",
              "    .dataframe thead th {\n",
              "        text-align: right;\n",
              "    }\n",
              "</style>\n",
              "<table border=\"1\" class=\"dataframe\">\n",
              "  <thead>\n",
              "    <tr style=\"text-align: right;\">\n",
              "      <th></th>\n",
              "      <th>diccionario</th>\n",
              "    </tr>\n",
              "  </thead>\n",
              "  <tbody>\n",
              "    <tr>\n",
              "      <th>Lexema</th>\n",
              "      <td>(Paz, de, Augsburgo, .)</td>\n",
              "    </tr>\n",
              "    <tr>\n",
              "      <th>Definición</th>\n",
              "      <td>(Edicto, imperial, que, permitió, el, libre, e...</td>\n",
              "    </tr>\n",
              "    <tr>\n",
              "      <th>Extra</th>\n",
              "      <td>(., Acuerdos, militares, ., ., ., .)</td>\n",
              "    </tr>\n",
              "  </tbody>\n",
              "</table>\n",
              "</div>\n",
              "      <button class=\"colab-df-convert\" onclick=\"convertToInteractive('df-d30ae553-7553-41fe-b22d-2c113fda3b00')\"\n",
              "              title=\"Convert this dataframe to an interactive table.\"\n",
              "              style=\"display:none;\">\n",
              "        \n",
              "  <svg xmlns=\"http://www.w3.org/2000/svg\" height=\"24px\"viewBox=\"0 0 24 24\"\n",
              "       width=\"24px\">\n",
              "    <path d=\"M0 0h24v24H0V0z\" fill=\"none\"/>\n",
              "    <path d=\"M18.56 5.44l.94 2.06.94-2.06 2.06-.94-2.06-.94-.94-2.06-.94 2.06-2.06.94zm-11 1L8.5 8.5l.94-2.06 2.06-.94-2.06-.94L8.5 2.5l-.94 2.06-2.06.94zm10 10l.94 2.06.94-2.06 2.06-.94-2.06-.94-.94-2.06-.94 2.06-2.06.94z\"/><path d=\"M17.41 7.96l-1.37-1.37c-.4-.4-.92-.59-1.43-.59-.52 0-1.04.2-1.43.59L10.3 9.45l-7.72 7.72c-.78.78-.78 2.05 0 2.83L4 21.41c.39.39.9.59 1.41.59.51 0 1.02-.2 1.41-.59l7.78-7.78 2.81-2.81c.8-.78.8-2.07 0-2.86zM5.41 20L4 18.59l7.72-7.72 1.47 1.35L5.41 20z\"/>\n",
              "  </svg>\n",
              "      </button>\n",
              "      \n",
              "  <style>\n",
              "    .colab-df-container {\n",
              "      display:flex;\n",
              "      flex-wrap:wrap;\n",
              "      gap: 12px;\n",
              "    }\n",
              "\n",
              "    .colab-df-convert {\n",
              "      background-color: #E8F0FE;\n",
              "      border: none;\n",
              "      border-radius: 50%;\n",
              "      cursor: pointer;\n",
              "      display: none;\n",
              "      fill: #1967D2;\n",
              "      height: 32px;\n",
              "      padding: 0 0 0 0;\n",
              "      width: 32px;\n",
              "    }\n",
              "\n",
              "    .colab-df-convert:hover {\n",
              "      background-color: #E2EBFA;\n",
              "      box-shadow: 0px 1px 2px rgba(60, 64, 67, 0.3), 0px 1px 3px 1px rgba(60, 64, 67, 0.15);\n",
              "      fill: #174EA6;\n",
              "    }\n",
              "\n",
              "    [theme=dark] .colab-df-convert {\n",
              "      background-color: #3B4455;\n",
              "      fill: #D2E3FC;\n",
              "    }\n",
              "\n",
              "    [theme=dark] .colab-df-convert:hover {\n",
              "      background-color: #434B5C;\n",
              "      box-shadow: 0px 1px 3px 1px rgba(0, 0, 0, 0.15);\n",
              "      filter: drop-shadow(0px 1px 2px rgba(0, 0, 0, 0.3));\n",
              "      fill: #FFFFFF;\n",
              "    }\n",
              "  </style>\n",
              "\n",
              "      <script>\n",
              "        const buttonEl =\n",
              "          document.querySelector('#df-d30ae553-7553-41fe-b22d-2c113fda3b00 button.colab-df-convert');\n",
              "        buttonEl.style.display =\n",
              "          google.colab.kernel.accessAllowed ? 'block' : 'none';\n",
              "\n",
              "        async function convertToInteractive(key) {\n",
              "          const element = document.querySelector('#df-d30ae553-7553-41fe-b22d-2c113fda3b00');\n",
              "          const dataTable =\n",
              "            await google.colab.kernel.invokeFunction('convertToInteractive',\n",
              "                                                     [key], {});\n",
              "          if (!dataTable) return;\n",
              "\n",
              "          const docLinkHtml = 'Like what you see? Visit the ' +\n",
              "            '<a target=\"_blank\" href=https://colab.research.google.com/notebooks/data_table.ipynb>data table notebook</a>'\n",
              "            + ' to learn more about interactive tables.';\n",
              "          element.innerHTML = '';\n",
              "          dataTable['output_type'] = 'display_data';\n",
              "          await google.colab.output.renderOutput(dataTable, element);\n",
              "          const docLink = document.createElement('div');\n",
              "          docLink.innerHTML = docLinkHtml;\n",
              "          element.appendChild(docLink);\n",
              "        }\n",
              "      </script>\n",
              "    </div>\n",
              "  </div>\n",
              "  "
            ],
            "application/vnd.google.colaboratory.module+javascript": "\n      import \"https://ssl.gstatic.com/colaboratory/data_table/a8bd4d5e58f96183/data_table.js\";\n\n      window.createDataTable({\n        data: [[\"Lexema\",\n\"Paz de Augsburgo.\"],\n [\"Definici\\u00f3n\",\n\"Edicto imperial que permiti\\u00f3 el libre ejercicio de religi\\u00f3n en Alemania por decisi\\u00f3n de cada pr\\u00edncipe, otorgando al Luteranismo un car\\u00e1cter de iglesia estatal.\"],\n [\"Extra\",\n\". Acuerdos militares . . . .\"]],\n        columns: [[\"string\", \"index\"], [\"string\", \"diccionario\"]],\n        columnOptions: [{\"width\": \"1px\", \"className\": \"index_column\"}],\n        rowsPerPage: 25,\n        helpUrl: \"https://colab.research.google.com/notebooks/data_table.ipynb\",\n        suppressOutputScrolling: true,\n        minimumWidth: undefined,\n      });\n    "
          },
          "metadata": {},
          "execution_count": 292
        }
      ]
    },
    {
      "cell_type": "code",
      "source": [
        "# cómo se llama el tratado que puso fin a la guerra de católicos y protestantes\n",
        "evaluar('Paz de Augsburgo.')"
      ],
      "metadata": {
        "colab": {
          "base_uri": "https://localhost:8080/"
        },
        "id": "iT7tHFofNUaW",
        "outputId": "dcb0dda8-d21d-4fe8-abc8-df500b95dfbe"
      },
      "execution_count": null,
      "outputs": [
        {
          "output_type": "stream",
          "name": "stdout",
          "text": [
            "Si no recuerdas el término, pregúntame, o trata de escribir lo que recuerdes:\n",
            "(Nota: El diccionario cuenta con 70 términos. Trabajamos para que crezca)\n",
            "→ cómo se llama el tratado que puso fin a la guerra de católicos y protestantes\n",
            "\n",
            "¿Encontrado en definiciones?\n",
            "¡Sí! \n",
            "  - Posición 9,\n",
            "  - Similitud 76.48 %\n",
            "¿Encontrado en información extra?\n",
            "(Nota: sin respuesta significa que no apareció el lexma)\n",
            "\n"
          ]
        }
      ]
    },
    {
      "cell_type": "markdown",
      "source": [
        "### Test17: Protesta de Espira"
      ],
      "metadata": {
        "id": "9-RIx3VvU0Qv"
      }
    },
    {
      "cell_type": "code",
      "source": [
        "verunlexema(62)"
      ],
      "metadata": {
        "colab": {
          "base_uri": "https://localhost:8080/",
          "height": 153
        },
        "id": "0yGmuoEvU5Ef",
        "outputId": "c1f8980b-bd4a-4fef-bddc-9d4bd31d94c2"
      },
      "execution_count": null,
      "outputs": [
        {
          "output_type": "execute_result",
          "data": {
            "text/plain": [
              "                                                  diccionario\n",
              "Lexema                                 (Protesta, de, Espira)\n",
              "Definición  (Escrito, firmada, por, 6, príncipes, y, 14, c...\n",
              "Extra       (Protesta, de, Speyer, ;, Literatura, reformad..."
            ],
            "text/html": [
              "\n",
              "  <div id=\"df-da0473e6-faa9-486a-894c-6816c448c5dc\">\n",
              "    <div class=\"colab-df-container\">\n",
              "      <div>\n",
              "<style scoped>\n",
              "    .dataframe tbody tr th:only-of-type {\n",
              "        vertical-align: middle;\n",
              "    }\n",
              "\n",
              "    .dataframe tbody tr th {\n",
              "        vertical-align: top;\n",
              "    }\n",
              "\n",
              "    .dataframe thead th {\n",
              "        text-align: right;\n",
              "    }\n",
              "</style>\n",
              "<table border=\"1\" class=\"dataframe\">\n",
              "  <thead>\n",
              "    <tr style=\"text-align: right;\">\n",
              "      <th></th>\n",
              "      <th>diccionario</th>\n",
              "    </tr>\n",
              "  </thead>\n",
              "  <tbody>\n",
              "    <tr>\n",
              "      <th>Lexema</th>\n",
              "      <td>(Protesta, de, Espira)</td>\n",
              "    </tr>\n",
              "    <tr>\n",
              "      <th>Definición</th>\n",
              "      <td>(Escrito, firmada, por, 6, príncipes, y, 14, c...</td>\n",
              "    </tr>\n",
              "    <tr>\n",
              "      <th>Extra</th>\n",
              "      <td>(Protesta, de, Speyer, ;, Literatura, reformad...</td>\n",
              "    </tr>\n",
              "  </tbody>\n",
              "</table>\n",
              "</div>\n",
              "      <button class=\"colab-df-convert\" onclick=\"convertToInteractive('df-da0473e6-faa9-486a-894c-6816c448c5dc')\"\n",
              "              title=\"Convert this dataframe to an interactive table.\"\n",
              "              style=\"display:none;\">\n",
              "        \n",
              "  <svg xmlns=\"http://www.w3.org/2000/svg\" height=\"24px\"viewBox=\"0 0 24 24\"\n",
              "       width=\"24px\">\n",
              "    <path d=\"M0 0h24v24H0V0z\" fill=\"none\"/>\n",
              "    <path d=\"M18.56 5.44l.94 2.06.94-2.06 2.06-.94-2.06-.94-.94-2.06-.94 2.06-2.06.94zm-11 1L8.5 8.5l.94-2.06 2.06-.94-2.06-.94L8.5 2.5l-.94 2.06-2.06.94zm10 10l.94 2.06.94-2.06 2.06-.94-2.06-.94-.94-2.06-.94 2.06-2.06.94z\"/><path d=\"M17.41 7.96l-1.37-1.37c-.4-.4-.92-.59-1.43-.59-.52 0-1.04.2-1.43.59L10.3 9.45l-7.72 7.72c-.78.78-.78 2.05 0 2.83L4 21.41c.39.39.9.59 1.41.59.51 0 1.02-.2 1.41-.59l7.78-7.78 2.81-2.81c.8-.78.8-2.07 0-2.86zM5.41 20L4 18.59l7.72-7.72 1.47 1.35L5.41 20z\"/>\n",
              "  </svg>\n",
              "      </button>\n",
              "      \n",
              "  <style>\n",
              "    .colab-df-container {\n",
              "      display:flex;\n",
              "      flex-wrap:wrap;\n",
              "      gap: 12px;\n",
              "    }\n",
              "\n",
              "    .colab-df-convert {\n",
              "      background-color: #E8F0FE;\n",
              "      border: none;\n",
              "      border-radius: 50%;\n",
              "      cursor: pointer;\n",
              "      display: none;\n",
              "      fill: #1967D2;\n",
              "      height: 32px;\n",
              "      padding: 0 0 0 0;\n",
              "      width: 32px;\n",
              "    }\n",
              "\n",
              "    .colab-df-convert:hover {\n",
              "      background-color: #E2EBFA;\n",
              "      box-shadow: 0px 1px 2px rgba(60, 64, 67, 0.3), 0px 1px 3px 1px rgba(60, 64, 67, 0.15);\n",
              "      fill: #174EA6;\n",
              "    }\n",
              "\n",
              "    [theme=dark] .colab-df-convert {\n",
              "      background-color: #3B4455;\n",
              "      fill: #D2E3FC;\n",
              "    }\n",
              "\n",
              "    [theme=dark] .colab-df-convert:hover {\n",
              "      background-color: #434B5C;\n",
              "      box-shadow: 0px 1px 3px 1px rgba(0, 0, 0, 0.15);\n",
              "      filter: drop-shadow(0px 1px 2px rgba(0, 0, 0, 0.3));\n",
              "      fill: #FFFFFF;\n",
              "    }\n",
              "  </style>\n",
              "\n",
              "      <script>\n",
              "        const buttonEl =\n",
              "          document.querySelector('#df-da0473e6-faa9-486a-894c-6816c448c5dc button.colab-df-convert');\n",
              "        buttonEl.style.display =\n",
              "          google.colab.kernel.accessAllowed ? 'block' : 'none';\n",
              "\n",
              "        async function convertToInteractive(key) {\n",
              "          const element = document.querySelector('#df-da0473e6-faa9-486a-894c-6816c448c5dc');\n",
              "          const dataTable =\n",
              "            await google.colab.kernel.invokeFunction('convertToInteractive',\n",
              "                                                     [key], {});\n",
              "          if (!dataTable) return;\n",
              "\n",
              "          const docLinkHtml = 'Like what you see? Visit the ' +\n",
              "            '<a target=\"_blank\" href=https://colab.research.google.com/notebooks/data_table.ipynb>data table notebook</a>'\n",
              "            + ' to learn more about interactive tables.';\n",
              "          element.innerHTML = '';\n",
              "          dataTable['output_type'] = 'display_data';\n",
              "          await google.colab.output.renderOutput(dataTable, element);\n",
              "          const docLink = document.createElement('div');\n",
              "          docLink.innerHTML = docLinkHtml;\n",
              "          element.appendChild(docLink);\n",
              "        }\n",
              "      </script>\n",
              "    </div>\n",
              "  </div>\n",
              "  "
            ],
            "application/vnd.google.colaboratory.module+javascript": "\n      import \"https://ssl.gstatic.com/colaboratory/data_table/a8bd4d5e58f96183/data_table.js\";\n\n      window.createDataTable({\n        data: [[\"Lexema\",\n\"Protesta de Espira\"],\n [\"Definici\\u00f3n\",\n\"Escrito firmada por 6 pr\\u00edncipes y 14 ciudades de Alemania contra los acuerdos de la Dieta de Espira que afectaban la Reforma Protestante.\"],\n [\"Extra\",\n\"Protesta de Speyer; Literatura reformada . . . .\"]],\n        columns: [[\"string\", \"index\"], [\"string\", \"diccionario\"]],\n        columnOptions: [{\"width\": \"1px\", \"className\": \"index_column\"}],\n        rowsPerPage: 25,\n        helpUrl: \"https://colab.research.google.com/notebooks/data_table.ipynb\",\n        suppressOutputScrolling: true,\n        minimumWidth: undefined,\n      });\n    "
          },
          "metadata": {},
          "execution_count": 298
        }
      ]
    },
    {
      "cell_type": "code",
      "source": [
        "# documento en el que los nobles alemanas defienden la reforma protestante en su país\n",
        "evaluar('Protesta de Espira')"
      ],
      "metadata": {
        "colab": {
          "base_uri": "https://localhost:8080/"
        },
        "id": "YB8PpuUCNvA-",
        "outputId": "21f3f548-cea9-4a7b-f84f-ea81d29e38ee"
      },
      "execution_count": null,
      "outputs": [
        {
          "output_type": "stream",
          "name": "stdout",
          "text": [
            "Si no recuerdas el término, pregúntame, o trata de escribir lo que recuerdes:\n",
            "(Nota: El diccionario cuenta con 70 términos. Trabajamos para que crezca)\n",
            "→ documento en el que los nobles alemanas defienden la reforma protestante en su país\n",
            "\n",
            "¿Encontrado en definiciones?\n",
            "¿Encontrado en información extra?\n",
            "(Nota: sin respuesta significa que no apareció el lexma)\n",
            "\n"
          ]
        }
      ]
    },
    {
      "cell_type": "markdown",
      "source": [
        "### Test18: Anabaptista, iglesia"
      ],
      "metadata": {
        "id": "LY1RoE0SU6m8"
      }
    },
    {
      "cell_type": "code",
      "source": [
        "verunlexema(2)"
      ],
      "metadata": {
        "colab": {
          "base_uri": "https://localhost:8080/",
          "height": 236
        },
        "id": "L2zuOzRfObSP",
        "outputId": "4782c562-5322-44d3-aeb3-b44227cfacad"
      },
      "execution_count": null,
      "outputs": [
        {
          "output_type": "execute_result",
          "data": {
            "text/plain": [
              "                                                  diccionario\n",
              "Lexema                              (Anabaptista, ,, iglesia)\n",
              "Definición  (Movimiento, reformado, que, pugnó, por, un, b...\n",
              "Extra       (Anabautista, ;, Iglesia, anabaptista, Interpr..."
            ],
            "text/html": [
              "\n",
              "  <div id=\"df-20aa4db5-9be1-4c0e-8faa-4bff519e8cc7\">\n",
              "    <div class=\"colab-df-container\">\n",
              "      <div>\n",
              "<style scoped>\n",
              "    .dataframe tbody tr th:only-of-type {\n",
              "        vertical-align: middle;\n",
              "    }\n",
              "\n",
              "    .dataframe tbody tr th {\n",
              "        vertical-align: top;\n",
              "    }\n",
              "\n",
              "    .dataframe thead th {\n",
              "        text-align: right;\n",
              "    }\n",
              "</style>\n",
              "<table border=\"1\" class=\"dataframe\">\n",
              "  <thead>\n",
              "    <tr style=\"text-align: right;\">\n",
              "      <th></th>\n",
              "      <th>diccionario</th>\n",
              "    </tr>\n",
              "  </thead>\n",
              "  <tbody>\n",
              "    <tr>\n",
              "      <th>Lexema</th>\n",
              "      <td>(Anabaptista, ,, iglesia)</td>\n",
              "    </tr>\n",
              "    <tr>\n",
              "      <th>Definición</th>\n",
              "      <td>(Movimiento, reformado, que, pugnó, por, un, b...</td>\n",
              "    </tr>\n",
              "    <tr>\n",
              "      <th>Extra</th>\n",
              "      <td>(Anabautista, ;, Iglesia, anabaptista, Interpr...</td>\n",
              "    </tr>\n",
              "  </tbody>\n",
              "</table>\n",
              "</div>\n",
              "      <button class=\"colab-df-convert\" onclick=\"convertToInteractive('df-20aa4db5-9be1-4c0e-8faa-4bff519e8cc7')\"\n",
              "              title=\"Convert this dataframe to an interactive table.\"\n",
              "              style=\"display:none;\">\n",
              "        \n",
              "  <svg xmlns=\"http://www.w3.org/2000/svg\" height=\"24px\"viewBox=\"0 0 24 24\"\n",
              "       width=\"24px\">\n",
              "    <path d=\"M0 0h24v24H0V0z\" fill=\"none\"/>\n",
              "    <path d=\"M18.56 5.44l.94 2.06.94-2.06 2.06-.94-2.06-.94-.94-2.06-.94 2.06-2.06.94zm-11 1L8.5 8.5l.94-2.06 2.06-.94-2.06-.94L8.5 2.5l-.94 2.06-2.06.94zm10 10l.94 2.06.94-2.06 2.06-.94-2.06-.94-.94-2.06-.94 2.06-2.06.94z\"/><path d=\"M17.41 7.96l-1.37-1.37c-.4-.4-.92-.59-1.43-.59-.52 0-1.04.2-1.43.59L10.3 9.45l-7.72 7.72c-.78.78-.78 2.05 0 2.83L4 21.41c.39.39.9.59 1.41.59.51 0 1.02-.2 1.41-.59l7.78-7.78 2.81-2.81c.8-.78.8-2.07 0-2.86zM5.41 20L4 18.59l7.72-7.72 1.47 1.35L5.41 20z\"/>\n",
              "  </svg>\n",
              "      </button>\n",
              "      \n",
              "  <style>\n",
              "    .colab-df-container {\n",
              "      display:flex;\n",
              "      flex-wrap:wrap;\n",
              "      gap: 12px;\n",
              "    }\n",
              "\n",
              "    .colab-df-convert {\n",
              "      background-color: #E8F0FE;\n",
              "      border: none;\n",
              "      border-radius: 50%;\n",
              "      cursor: pointer;\n",
              "      display: none;\n",
              "      fill: #1967D2;\n",
              "      height: 32px;\n",
              "      padding: 0 0 0 0;\n",
              "      width: 32px;\n",
              "    }\n",
              "\n",
              "    .colab-df-convert:hover {\n",
              "      background-color: #E2EBFA;\n",
              "      box-shadow: 0px 1px 2px rgba(60, 64, 67, 0.3), 0px 1px 3px 1px rgba(60, 64, 67, 0.15);\n",
              "      fill: #174EA6;\n",
              "    }\n",
              "\n",
              "    [theme=dark] .colab-df-convert {\n",
              "      background-color: #3B4455;\n",
              "      fill: #D2E3FC;\n",
              "    }\n",
              "\n",
              "    [theme=dark] .colab-df-convert:hover {\n",
              "      background-color: #434B5C;\n",
              "      box-shadow: 0px 1px 3px 1px rgba(0, 0, 0, 0.15);\n",
              "      filter: drop-shadow(0px 1px 2px rgba(0, 0, 0, 0.3));\n",
              "      fill: #FFFFFF;\n",
              "    }\n",
              "  </style>\n",
              "\n",
              "      <script>\n",
              "        const buttonEl =\n",
              "          document.querySelector('#df-20aa4db5-9be1-4c0e-8faa-4bff519e8cc7 button.colab-df-convert');\n",
              "        buttonEl.style.display =\n",
              "          google.colab.kernel.accessAllowed ? 'block' : 'none';\n",
              "\n",
              "        async function convertToInteractive(key) {\n",
              "          const element = document.querySelector('#df-20aa4db5-9be1-4c0e-8faa-4bff519e8cc7');\n",
              "          const dataTable =\n",
              "            await google.colab.kernel.invokeFunction('convertToInteractive',\n",
              "                                                     [key], {});\n",
              "          if (!dataTable) return;\n",
              "\n",
              "          const docLinkHtml = 'Like what you see? Visit the ' +\n",
              "            '<a target=\"_blank\" href=https://colab.research.google.com/notebooks/data_table.ipynb>data table notebook</a>'\n",
              "            + ' to learn more about interactive tables.';\n",
              "          element.innerHTML = '';\n",
              "          dataTable['output_type'] = 'display_data';\n",
              "          await google.colab.output.renderOutput(dataTable, element);\n",
              "          const docLink = document.createElement('div');\n",
              "          docLink.innerHTML = docLinkHtml;\n",
              "          element.appendChild(docLink);\n",
              "        }\n",
              "      </script>\n",
              "    </div>\n",
              "  </div>\n",
              "  "
            ],
            "application/vnd.google.colaboratory.module+javascript": "\n      import \"https://ssl.gstatic.com/colaboratory/data_table/a8bd4d5e58f96183/data_table.js\";\n\n      window.createDataTable({\n        data: [[\"Lexema\",\n\"Anabaptista, iglesia\"],\n [\"Definici\\u00f3n\",\n\"Movimiento reformado que pugn\\u00f3 por un bautizo con una fe consciente, contrario al bautismo infantil.\"],\n [\"Extra\",\n\"Anabautista; Iglesia anabaptista Interpretaci\\u00f3n b\\u00edblica Manifestaban un desacuerdo a hacer juramentos, la pena capital y el ejercicio magisterial. Tambi\\u00e9n profesaban s\\u00f3lidamente la John of Leiden Sola Scriptura. Rechazan la justificaci\\u00f3n s\\u00f3lo por fe. Desde el siglo XI-XII ya estaba en controversia la doctrina con Pedro de Bruys, Enrique de Lausana, Pedro de Valdo, los albigenses y los hermanos de bohemia. De esta corriente nacen los menonitas, huteritas, Sociedad Religiosa de los Amigos, bautistas, amish, entre otros. | Se gesta en tres lugares principales:  Primero en Suiza, con ex-disc\\u00edpulos de Zwinglio, Conrado Grebel, F\\u00e9lix Manz, Jorge Blaurock, y otros, son los primeron en rebautizarse, figuran tambi\\u00e9n  Juan Denk, Baltazar Hubmaier, entre otros;  Sajonia y Turingia, con Nicol\\u00e1s Storch, Tom\\u00e1s M\\u00fcntzer y los Profetas de Zwickau; en M\\u00fcnster, con Melchor Hoffman y sus disc\\u00edpulos. | Ser rebautizado era considerado traici\\u00f3n y se castigaba con fuertes penas de muerte. Fueron martirizados por cat\\u00f3licos y protestantes.\"]],\n        columns: [[\"string\", \"index\"], [\"string\", \"diccionario\"]],\n        columnOptions: [{\"width\": \"1px\", \"className\": \"index_column\"}],\n        rowsPerPage: 25,\n        helpUrl: \"https://colab.research.google.com/notebooks/data_table.ipynb\",\n        suppressOutputScrolling: true,\n        minimumWidth: undefined,\n      });\n    "
          },
          "metadata": {},
          "execution_count": 300
        }
      ]
    },
    {
      "cell_type": "code",
      "source": [
        "# cómo se llama la iglesia de los menonitas\n",
        "evaluar('Anabaptista, iglesia')"
      ],
      "metadata": {
        "colab": {
          "base_uri": "https://localhost:8080/"
        },
        "id": "NNuKFI9UOuO_",
        "outputId": "9baf2a6c-bd9f-40de-8234-a7cdd9a73829"
      },
      "execution_count": null,
      "outputs": [
        {
          "output_type": "stream",
          "name": "stdout",
          "text": [
            "Si no recuerdas el término, pregúntame, o trata de escribir lo que recuerdes:\n",
            "(Nota: El diccionario cuenta con 70 términos. Trabajamos para que crezca)\n",
            "→ cómo se llama la iglesia de los menonitas\n",
            "\n",
            "¿Encontrado en definiciones?\n",
            "¿Encontrado en información extra?\n",
            "(Nota: sin respuesta significa que no apareció el lexma)\n",
            "\n"
          ]
        }
      ]
    },
    {
      "cell_type": "markdown",
      "source": [
        "### Test19: Bula."
      ],
      "metadata": {
        "id": "-h3QL7vcU725"
      }
    },
    {
      "cell_type": "code",
      "source": [
        "verunlexema(6)"
      ],
      "metadata": {
        "colab": {
          "base_uri": "https://localhost:8080/",
          "height": 170
        },
        "id": "hfmsQAvbPV88",
        "outputId": "767918b4-1fdd-4cce-b0e0-66c77f5c3ff5"
      },
      "execution_count": null,
      "outputs": [
        {
          "output_type": "execute_result",
          "data": {
            "text/plain": [
              "                                                  diccionario\n",
              "Lexema                                              (Bula, .)\n",
              "Definición  (Documento, oficial, ,, solemne, ,, escrito, p...\n",
              "Extra       (Bula, papal, ;, Literatura, católica, ., Su, ..."
            ],
            "text/html": [
              "\n",
              "  <div id=\"df-89f36038-724f-4183-89e1-954b2206f906\">\n",
              "    <div class=\"colab-df-container\">\n",
              "      <div>\n",
              "<style scoped>\n",
              "    .dataframe tbody tr th:only-of-type {\n",
              "        vertical-align: middle;\n",
              "    }\n",
              "\n",
              "    .dataframe tbody tr th {\n",
              "        vertical-align: top;\n",
              "    }\n",
              "\n",
              "    .dataframe thead th {\n",
              "        text-align: right;\n",
              "    }\n",
              "</style>\n",
              "<table border=\"1\" class=\"dataframe\">\n",
              "  <thead>\n",
              "    <tr style=\"text-align: right;\">\n",
              "      <th></th>\n",
              "      <th>diccionario</th>\n",
              "    </tr>\n",
              "  </thead>\n",
              "  <tbody>\n",
              "    <tr>\n",
              "      <th>Lexema</th>\n",
              "      <td>(Bula, .)</td>\n",
              "    </tr>\n",
              "    <tr>\n",
              "      <th>Definición</th>\n",
              "      <td>(Documento, oficial, ,, solemne, ,, escrito, p...</td>\n",
              "    </tr>\n",
              "    <tr>\n",
              "      <th>Extra</th>\n",
              "      <td>(Bula, papal, ;, Literatura, católica, ., Su, ...</td>\n",
              "    </tr>\n",
              "  </tbody>\n",
              "</table>\n",
              "</div>\n",
              "      <button class=\"colab-df-convert\" onclick=\"convertToInteractive('df-89f36038-724f-4183-89e1-954b2206f906')\"\n",
              "              title=\"Convert this dataframe to an interactive table.\"\n",
              "              style=\"display:none;\">\n",
              "        \n",
              "  <svg xmlns=\"http://www.w3.org/2000/svg\" height=\"24px\"viewBox=\"0 0 24 24\"\n",
              "       width=\"24px\">\n",
              "    <path d=\"M0 0h24v24H0V0z\" fill=\"none\"/>\n",
              "    <path d=\"M18.56 5.44l.94 2.06.94-2.06 2.06-.94-2.06-.94-.94-2.06-.94 2.06-2.06.94zm-11 1L8.5 8.5l.94-2.06 2.06-.94-2.06-.94L8.5 2.5l-.94 2.06-2.06.94zm10 10l.94 2.06.94-2.06 2.06-.94-2.06-.94-.94-2.06-.94 2.06-2.06.94z\"/><path d=\"M17.41 7.96l-1.37-1.37c-.4-.4-.92-.59-1.43-.59-.52 0-1.04.2-1.43.59L10.3 9.45l-7.72 7.72c-.78.78-.78 2.05 0 2.83L4 21.41c.39.39.9.59 1.41.59.51 0 1.02-.2 1.41-.59l7.78-7.78 2.81-2.81c.8-.78.8-2.07 0-2.86zM5.41 20L4 18.59l7.72-7.72 1.47 1.35L5.41 20z\"/>\n",
              "  </svg>\n",
              "      </button>\n",
              "      \n",
              "  <style>\n",
              "    .colab-df-container {\n",
              "      display:flex;\n",
              "      flex-wrap:wrap;\n",
              "      gap: 12px;\n",
              "    }\n",
              "\n",
              "    .colab-df-convert {\n",
              "      background-color: #E8F0FE;\n",
              "      border: none;\n",
              "      border-radius: 50%;\n",
              "      cursor: pointer;\n",
              "      display: none;\n",
              "      fill: #1967D2;\n",
              "      height: 32px;\n",
              "      padding: 0 0 0 0;\n",
              "      width: 32px;\n",
              "    }\n",
              "\n",
              "    .colab-df-convert:hover {\n",
              "      background-color: #E2EBFA;\n",
              "      box-shadow: 0px 1px 2px rgba(60, 64, 67, 0.3), 0px 1px 3px 1px rgba(60, 64, 67, 0.15);\n",
              "      fill: #174EA6;\n",
              "    }\n",
              "\n",
              "    [theme=dark] .colab-df-convert {\n",
              "      background-color: #3B4455;\n",
              "      fill: #D2E3FC;\n",
              "    }\n",
              "\n",
              "    [theme=dark] .colab-df-convert:hover {\n",
              "      background-color: #434B5C;\n",
              "      box-shadow: 0px 1px 3px 1px rgba(0, 0, 0, 0.15);\n",
              "      filter: drop-shadow(0px 1px 2px rgba(0, 0, 0, 0.3));\n",
              "      fill: #FFFFFF;\n",
              "    }\n",
              "  </style>\n",
              "\n",
              "      <script>\n",
              "        const buttonEl =\n",
              "          document.querySelector('#df-89f36038-724f-4183-89e1-954b2206f906 button.colab-df-convert');\n",
              "        buttonEl.style.display =\n",
              "          google.colab.kernel.accessAllowed ? 'block' : 'none';\n",
              "\n",
              "        async function convertToInteractive(key) {\n",
              "          const element = document.querySelector('#df-89f36038-724f-4183-89e1-954b2206f906');\n",
              "          const dataTable =\n",
              "            await google.colab.kernel.invokeFunction('convertToInteractive',\n",
              "                                                     [key], {});\n",
              "          if (!dataTable) return;\n",
              "\n",
              "          const docLinkHtml = 'Like what you see? Visit the ' +\n",
              "            '<a target=\"_blank\" href=https://colab.research.google.com/notebooks/data_table.ipynb>data table notebook</a>'\n",
              "            + ' to learn more about interactive tables.';\n",
              "          element.innerHTML = '';\n",
              "          dataTable['output_type'] = 'display_data';\n",
              "          await google.colab.output.renderOutput(dataTable, element);\n",
              "          const docLink = document.createElement('div');\n",
              "          docLink.innerHTML = docLinkHtml;\n",
              "          element.appendChild(docLink);\n",
              "        }\n",
              "      </script>\n",
              "    </div>\n",
              "  </div>\n",
              "  "
            ],
            "application/vnd.google.colaboratory.module+javascript": "\n      import \"https://ssl.gstatic.com/colaboratory/data_table/a8bd4d5e58f96183/data_table.js\";\n\n      window.createDataTable({\n        data: [[\"Lexema\",\n\"Bula.\"],\n [\"Definici\\u00f3n\",\n\"Documento oficial, solemne, escrito por el Papa y cerrado con un sello de plomo y cordones. |\"],\n [\"Extra\",\n\"Bula papal; Literatura cat\\u00f3lica . Su contenido pod\\u00eda ser dogm\\u00e1tico, disciplinar o administrativo. | Se fue simplificando a trav\\u00e9s de los siglos. Con Eugenio IV se sustituy\\u00f3 el sello de plomo por el sello de cera del pescador. | La bula Exsurge Domine exhortaba a Lutero por su doctrina, por no retractarse, recibi\\u00f3 la excomuni\\u00f3n con la bula Decet Romanum Pontificem. |\"]],\n        columns: [[\"string\", \"index\"], [\"string\", \"diccionario\"]],\n        columnOptions: [{\"width\": \"1px\", \"className\": \"index_column\"}],\n        rowsPerPage: 25,\n        helpUrl: \"https://colab.research.google.com/notebooks/data_table.ipynb\",\n        suppressOutputScrolling: true,\n        minimumWidth: undefined,\n      });\n    "
          },
          "metadata": {},
          "execution_count": 307
        }
      ]
    },
    {
      "cell_type": "code",
      "source": [
        "# cuáles son los documentos más importantes de la iglesia católica\n",
        "evaluar('Bula.')"
      ],
      "metadata": {
        "colab": {
          "base_uri": "https://localhost:8080/"
        },
        "id": "2zyQnEgDPrKK",
        "outputId": "e3e0e023-2dc6-4293-9e8c-8b6a01265b18"
      },
      "execution_count": null,
      "outputs": [
        {
          "output_type": "stream",
          "name": "stdout",
          "text": [
            "Si no recuerdas el término, pregúntame, o trata de escribir lo que recuerdes:\n",
            "(Nota: El diccionario cuenta con 70 términos. Trabajamos para que crezca)\n",
            "→ cuáles son los documentos más importantes de la iglesia católica\n",
            "\n",
            "¿Encontrado en definiciones?\n",
            "¿Encontrado en información extra?\n",
            "(Nota: sin respuesta significa que no apareció el lexma)\n",
            "\n"
          ]
        }
      ]
    },
    {
      "cell_type": "markdown",
      "source": [
        "### Test20: \tCinco puntos calvinistas. 5. Perseverancia de los Santos."
      ],
      "metadata": {
        "id": "1b4pmsuCU9Aq"
      }
    },
    {
      "cell_type": "code",
      "source": [
        "verunlexema(17)"
      ],
      "metadata": {
        "colab": {
          "base_uri": "https://localhost:8080/",
          "height": 170
        },
        "id": "GxvH_ppSRG5N",
        "outputId": "7d4e18be-e83b-4329-b9ba-f22618ccec28"
      },
      "execution_count": null,
      "outputs": [
        {
          "output_type": "execute_result",
          "data": {
            "text/plain": [
              "                                                  diccionario\n",
              "Lexema      (Cinco, puntos, calvinistas, ., 5, ., Persever...\n",
              "Definición  (Doctrina, de, la, salvación, que, no, pierde,...\n",
              "Extra       (Perseverance, of, the, Saints, ., Artículos, ..."
            ],
            "text/html": [
              "\n",
              "  <div id=\"df-15eb5a36-dd2e-4dbf-9b51-d848a6001e1e\">\n",
              "    <div class=\"colab-df-container\">\n",
              "      <div>\n",
              "<style scoped>\n",
              "    .dataframe tbody tr th:only-of-type {\n",
              "        vertical-align: middle;\n",
              "    }\n",
              "\n",
              "    .dataframe tbody tr th {\n",
              "        vertical-align: top;\n",
              "    }\n",
              "\n",
              "    .dataframe thead th {\n",
              "        text-align: right;\n",
              "    }\n",
              "</style>\n",
              "<table border=\"1\" class=\"dataframe\">\n",
              "  <thead>\n",
              "    <tr style=\"text-align: right;\">\n",
              "      <th></th>\n",
              "      <th>diccionario</th>\n",
              "    </tr>\n",
              "  </thead>\n",
              "  <tbody>\n",
              "    <tr>\n",
              "      <th>Lexema</th>\n",
              "      <td>(Cinco, puntos, calvinistas, ., 5, ., Persever...</td>\n",
              "    </tr>\n",
              "    <tr>\n",
              "      <th>Definición</th>\n",
              "      <td>(Doctrina, de, la, salvación, que, no, pierde,...</td>\n",
              "    </tr>\n",
              "    <tr>\n",
              "      <th>Extra</th>\n",
              "      <td>(Perseverance, of, the, Saints, ., Artículos, ...</td>\n",
              "    </tr>\n",
              "  </tbody>\n",
              "</table>\n",
              "</div>\n",
              "      <button class=\"colab-df-convert\" onclick=\"convertToInteractive('df-15eb5a36-dd2e-4dbf-9b51-d848a6001e1e')\"\n",
              "              title=\"Convert this dataframe to an interactive table.\"\n",
              "              style=\"display:none;\">\n",
              "        \n",
              "  <svg xmlns=\"http://www.w3.org/2000/svg\" height=\"24px\"viewBox=\"0 0 24 24\"\n",
              "       width=\"24px\">\n",
              "    <path d=\"M0 0h24v24H0V0z\" fill=\"none\"/>\n",
              "    <path d=\"M18.56 5.44l.94 2.06.94-2.06 2.06-.94-2.06-.94-.94-2.06-.94 2.06-2.06.94zm-11 1L8.5 8.5l.94-2.06 2.06-.94-2.06-.94L8.5 2.5l-.94 2.06-2.06.94zm10 10l.94 2.06.94-2.06 2.06-.94-2.06-.94-.94-2.06-.94 2.06-2.06.94z\"/><path d=\"M17.41 7.96l-1.37-1.37c-.4-.4-.92-.59-1.43-.59-.52 0-1.04.2-1.43.59L10.3 9.45l-7.72 7.72c-.78.78-.78 2.05 0 2.83L4 21.41c.39.39.9.59 1.41.59.51 0 1.02-.2 1.41-.59l7.78-7.78 2.81-2.81c.8-.78.8-2.07 0-2.86zM5.41 20L4 18.59l7.72-7.72 1.47 1.35L5.41 20z\"/>\n",
              "  </svg>\n",
              "      </button>\n",
              "      \n",
              "  <style>\n",
              "    .colab-df-container {\n",
              "      display:flex;\n",
              "      flex-wrap:wrap;\n",
              "      gap: 12px;\n",
              "    }\n",
              "\n",
              "    .colab-df-convert {\n",
              "      background-color: #E8F0FE;\n",
              "      border: none;\n",
              "      border-radius: 50%;\n",
              "      cursor: pointer;\n",
              "      display: none;\n",
              "      fill: #1967D2;\n",
              "      height: 32px;\n",
              "      padding: 0 0 0 0;\n",
              "      width: 32px;\n",
              "    }\n",
              "\n",
              "    .colab-df-convert:hover {\n",
              "      background-color: #E2EBFA;\n",
              "      box-shadow: 0px 1px 2px rgba(60, 64, 67, 0.3), 0px 1px 3px 1px rgba(60, 64, 67, 0.15);\n",
              "      fill: #174EA6;\n",
              "    }\n",
              "\n",
              "    [theme=dark] .colab-df-convert {\n",
              "      background-color: #3B4455;\n",
              "      fill: #D2E3FC;\n",
              "    }\n",
              "\n",
              "    [theme=dark] .colab-df-convert:hover {\n",
              "      background-color: #434B5C;\n",
              "      box-shadow: 0px 1px 3px 1px rgba(0, 0, 0, 0.15);\n",
              "      filter: drop-shadow(0px 1px 2px rgba(0, 0, 0, 0.3));\n",
              "      fill: #FFFFFF;\n",
              "    }\n",
              "  </style>\n",
              "\n",
              "      <script>\n",
              "        const buttonEl =\n",
              "          document.querySelector('#df-15eb5a36-dd2e-4dbf-9b51-d848a6001e1e button.colab-df-convert');\n",
              "        buttonEl.style.display =\n",
              "          google.colab.kernel.accessAllowed ? 'block' : 'none';\n",
              "\n",
              "        async function convertToInteractive(key) {\n",
              "          const element = document.querySelector('#df-15eb5a36-dd2e-4dbf-9b51-d848a6001e1e');\n",
              "          const dataTable =\n",
              "            await google.colab.kernel.invokeFunction('convertToInteractive',\n",
              "                                                     [key], {});\n",
              "          if (!dataTable) return;\n",
              "\n",
              "          const docLinkHtml = 'Like what you see? Visit the ' +\n",
              "            '<a target=\"_blank\" href=https://colab.research.google.com/notebooks/data_table.ipynb>data table notebook</a>'\n",
              "            + ' to learn more about interactive tables.';\n",
              "          element.innerHTML = '';\n",
              "          dataTable['output_type'] = 'display_data';\n",
              "          await google.colab.output.renderOutput(dataTable, element);\n",
              "          const docLink = document.createElement('div');\n",
              "          docLink.innerHTML = docLinkHtml;\n",
              "          element.appendChild(docLink);\n",
              "        }\n",
              "      </script>\n",
              "    </div>\n",
              "  </div>\n",
              "  "
            ],
            "application/vnd.google.colaboratory.module+javascript": "\n      import \"https://ssl.gstatic.com/colaboratory/data_table/a8bd4d5e58f96183/data_table.js\";\n\n      window.createDataTable({\n        data: [[\"Lexema\",\n\"Cinco puntos calvinistas. 5. Perseverancia de los Santos.\"],\n [\"Definici\\u00f3n\",\n\"Doctrina de la salvaci\\u00f3n que no pierde el hombre por gracia e intermediaci\\u00f3n divina. |\"],\n [\"Extra\",\n\"Perseverance of the Saints. Art\\u00edculos de fe Interpretaci\\u00f3n b\\u00edblica Puede el ser humano flaquear, pero Dios siempre lo atraer\\u00e1 nuevamente a s\\u00ed. | Contra la capacidad de retornar al viejo hombre por negligencia, ense\\u00f1ado por los arminianos. .\"]],\n        columns: [[\"string\", \"index\"], [\"string\", \"diccionario\"]],\n        columnOptions: [{\"width\": \"1px\", \"className\": \"index_column\"}],\n        rowsPerPage: 25,\n        helpUrl: \"https://colab.research.google.com/notebooks/data_table.ipynb\",\n        suppressOutputScrolling: true,\n        minimumWidth: undefined,\n      });\n    "
          },
          "metadata": {},
          "execution_count": 309
        }
      ]
    },
    {
      "cell_type": "code",
      "source": [
        "# cuál es la enseñanza de Calvino que dice que la salvación no se pierde\n",
        "evaluar('Cinco puntos calvinistas. 5. Perseverancia de los Santos.')"
      ],
      "metadata": {
        "colab": {
          "base_uri": "https://localhost:8080/"
        },
        "id": "vkVyJpnqRL0o",
        "outputId": "f12d2c23-ef3b-4620-aa8b-7a5acc8179e7"
      },
      "execution_count": null,
      "outputs": [
        {
          "output_type": "stream",
          "name": "stdout",
          "text": [
            "Si no recuerdas el término, pregúntame, o trata de escribir lo que recuerdes:\n",
            "(Nota: El diccionario cuenta con 70 términos. Trabajamos para que crezca)\n",
            "→ cuál es la enseñanza de Calvino que dice que la salvación no se pierde\n",
            "\n",
            "¿Encontrado en definiciones?\n",
            "¡Sí! \n",
            "  - Posición 7,\n",
            "  - Similitud 71.95 %\n",
            "¿Encontrado en información extra?\n",
            "(Nota: sin respuesta significa que no apareció el lexma)\n",
            "\n"
          ]
        }
      ]
    },
    {
      "cell_type": "markdown",
      "source": [
        "## Prueba 2. Similutedes con lista de lexemas "
      ],
      "metadata": {
        "id": "cEZPhvVsR5bt"
      }
    },
    {
      "cell_type": "markdown",
      "source": [
        "En los test donde no hubo similitudes con el lexema esperado"
      ],
      "metadata": {
        "id": "vHzjkRBoTE_s"
      }
    },
    {
      "cell_type": "code",
      "source": [
        "# Función para comparar pregunta con el diccionario\n",
        "def comparalexema():\n",
        "  global diccionarioPLN\n",
        "  global preguntaPLN\n",
        "  for i in diccionarioPLN: \n",
        "    diccionarioPLN['similitudLexema'] = diccionarioPLN['lexema'].apply(lambda x: x.similarity(preguntaPLN))"
      ],
      "metadata": {
        "id": "xV2LGij6Trbm"
      },
      "execution_count": null,
      "outputs": []
    },
    {
      "cell_type": "code",
      "source": [
        "# Función de evaluación\n",
        "# Hay que colocar el lexema a evaluar exactamente como está en el diccionario\n",
        "def evaluarlexema (lexemaesperado):\n",
        "  pregunta()\n",
        "  comparalexema()\n",
        "  lexemaesperado = nlp(lexemaesperado)\n",
        "  lexema = diccionarioPLN.sort_values(by='similitudLexema', ascending=False).reset_index().drop(columns='index')\n",
        "  # Evaluar en definiciones\n",
        "  print('\\n¿Encontrado en lista de lexemas?')\n",
        "  for d in range(0,9):\n",
        "    d += 0\n",
        "    if lexemaesperado.similarity(lexema.loc[d, 'lexema']) == 1.0:\n",
        "      print(f'''¡Sí! \n",
        "  - Posición {d+1},\n",
        "  - Similitud {round(lexema.loc[d, \"similitudLexema\"]*100, 2)} %''')\n",
        "      break\n",
        "  print('(Nota: sin respuesta significa que no apareció el lexma)\\n')"
      ],
      "metadata": {
        "id": "WhmU3i9_TUvo"
      },
      "execution_count": null,
      "outputs": []
    },
    {
      "cell_type": "code",
      "source": [
        "# Probar modelo\n",
        "evaluarlexema('Eucaristía. Anamnesis.')"
      ],
      "metadata": {
        "colab": {
          "base_uri": "https://localhost:8080/"
        },
        "id": "69VLbtEZVoC5",
        "outputId": "753f4d0b-f36f-44cc-f1c9-d8445b3896f2"
      },
      "execution_count": null,
      "outputs": [
        {
          "output_type": "stream",
          "name": "stdout",
          "text": [
            "Si no recuerdas el término, pregúntame, o trata de escribir lo que recuerdes:\n",
            "(Nota: El diccionario cuenta con 70 términos. Trabajamos para que crezca)\n",
            "→ Eucaristía. Anamnesis.\n",
            "\n",
            "¿Encontrado en lista de lexemas?\n",
            "¡Sí! \n",
            "  - Posición 1,\n",
            "  - Similitud 100.0 %\n",
            "(Nota: sin respuesta significa que no apareció el lexma)\n",
            "\n"
          ]
        }
      ]
    },
    {
      "cell_type": "code",
      "source": [
        "# pastor de la iglesia valdense\n",
        "evaluarlexema('Barba.')"
      ],
      "metadata": {
        "colab": {
          "base_uri": "https://localhost:8080/"
        },
        "id": "0LU-Q9ikUlyb",
        "outputId": "e8dff954-4f6a-4456-d719-ef6ee7fbf37b"
      },
      "execution_count": null,
      "outputs": [
        {
          "output_type": "stream",
          "name": "stdout",
          "text": [
            "Si no recuerdas el término, pregúntame, o trata de escribir lo que recuerdes:\n",
            "(Nota: El diccionario cuenta con 70 términos. Trabajamos para que crezca)\n",
            "→ pastor de la iglesia valdense\n",
            "\n",
            "¿Encontrado en lista de lexemas?\n",
            "(Nota: sin respuesta significa que no apareció el lexma)\n",
            "\n"
          ]
        }
      ]
    },
    {
      "cell_type": "code",
      "source": [
        "# Principales postulados de la Reforma protestante\n",
        "evaluarlexema('Cinco Solas.')"
      ],
      "metadata": {
        "colab": {
          "base_uri": "https://localhost:8080/"
        },
        "id": "ZrBYMxxuU8Hn",
        "outputId": "cc61075c-5115-4688-cbd3-5c0b8d9372b1"
      },
      "execution_count": null,
      "outputs": [
        {
          "output_type": "stream",
          "name": "stdout",
          "text": [
            "Si no recuerdas el término, pregúntame, o trata de escribir lo que recuerdes:\n",
            "(Nota: El diccionario cuenta con 70 términos. Trabajamos para que crezca)\n",
            "→ Principales postulados de la Reforma protestante\n",
            "\n",
            "¿Encontrado en lista de lexemas?\n",
            "(Nota: sin respuesta significa que no apareció el lexma)\n",
            "\n"
          ]
        }
      ]
    },
    {
      "cell_type": "code",
      "source": [
        "# cómo se llama el concilio donde hablaron de Lutero\n",
        "evaluarlexema('Concilio. Concilio de Trento.')"
      ],
      "metadata": {
        "colab": {
          "base_uri": "https://localhost:8080/"
        },
        "id": "XrU77EDAVOd9",
        "outputId": "c853ecb1-b5bf-45aa-a8a3-1662144aa1f2"
      },
      "execution_count": null,
      "outputs": [
        {
          "output_type": "stream",
          "name": "stdout",
          "text": [
            "Si no recuerdas el término, pregúntame, o trata de escribir lo que recuerdes:\n",
            "(Nota: El diccionario cuenta con 70 términos. Trabajamos para que crezca)\n",
            "→ cómo se llama el concilio donde hablaron de Lutero\n",
            "\n",
            "¿Encontrado en lista de lexemas?\n",
            "(Nota: sin respuesta significa que no apareció el lexma)\n",
            "\n"
          ]
        }
      ]
    },
    {
      "cell_type": "code",
      "source": [
        "# que sólo recordamos a Cristo y no que él está presente\n",
        "evaluarlexema('Eucaristía. Anamnesis.')"
      ],
      "metadata": {
        "colab": {
          "base_uri": "https://localhost:8080/"
        },
        "id": "ixcNhDeqVanX",
        "outputId": "b7261122-0406-440a-e5d9-81cecc008ee8"
      },
      "execution_count": null,
      "outputs": [
        {
          "output_type": "stream",
          "name": "stdout",
          "text": [
            "Si no recuerdas el término, pregúntame, o trata de escribir lo que recuerdes:\n",
            "(Nota: El diccionario cuenta con 70 términos. Trabajamos para que crezca)\n",
            "→ que sólo recordamos a Cristo y no que él está presente\n",
            "\n",
            "¿Encontrado en lista de lexemas?\n",
            "(Nota: sin respuesta significa que no apareció el lexma)\n",
            "\n"
          ]
        }
      ]
    },
    {
      "cell_type": "code",
      "source": [
        "# cómo se llama el grupo de protestantes que muchos fueron asesinados\n",
        "evaluarlexema('Hugonote, grupo.')"
      ],
      "metadata": {
        "colab": {
          "base_uri": "https://localhost:8080/"
        },
        "id": "eQzUoiYbVaf_",
        "outputId": "c06fd7ef-4628-4546-ce81-7ae37270cd96"
      },
      "execution_count": null,
      "outputs": [
        {
          "output_type": "stream",
          "name": "stdout",
          "text": [
            "Si no recuerdas el término, pregúntame, o trata de escribir lo que recuerdes:\n",
            "(Nota: El diccionario cuenta con 70 términos. Trabajamos para que crezca)\n",
            "→ cómo se llama el grupo de protestantes que muchos fueron asesinados\n",
            "\n",
            "¿Encontrado en lista de lexemas?\n",
            "¡Sí! \n",
            "  - Posición 9,\n",
            "  - Similitud 39.53 %\n",
            "(Nota: sin respuesta significa que no apareció el lexma)\n",
            "\n"
          ]
        }
      ]
    },
    {
      "cell_type": "code",
      "source": [
        "# quiénes son los seguidores de Wyclif\n",
        "evaluarlexema('Lolarda, grupo.')"
      ],
      "metadata": {
        "colab": {
          "base_uri": "https://localhost:8080/"
        },
        "id": "VPlAGcXsVaVN",
        "outputId": "fb30ba84-b836-4413-877c-e38df8a26b1e"
      },
      "execution_count": null,
      "outputs": [
        {
          "output_type": "stream",
          "name": "stdout",
          "text": [
            "Si no recuerdas el término, pregúntame, o trata de escribir lo que recuerdes:\n",
            "(Nota: El diccionario cuenta con 70 términos. Trabajamos para que crezca)\n",
            "→ quiénes son los seguidores de Wyclif\n",
            "\n",
            "¿Encontrado en lista de lexemas?\n",
            "(Nota: sin respuesta significa que no apareció el lexma)\n",
            "\n"
          ]
        }
      ]
    },
    {
      "cell_type": "code",
      "source": [
        "# cómo se llama el tratado que puso fin a la guerra de católicos y protestantes\n",
        "evaluarlexema('Paz de Augsburgo.')"
      ],
      "metadata": {
        "colab": {
          "base_uri": "https://localhost:8080/"
        },
        "id": "4PADfvs4exah",
        "outputId": "7e076589-9046-4b76-bc84-47eef7f11eb7"
      },
      "execution_count": null,
      "outputs": [
        {
          "output_type": "stream",
          "name": "stdout",
          "text": [
            "Si no recuerdas el término, pregúntame, o trata de escribir lo que recuerdes:\n",
            "(Nota: El diccionario cuenta con 70 términos. Trabajamos para que crezca)\n",
            "→ cómo se llama el tratado que puso fin a la guerra de católicos y protestantes\n",
            "\n",
            "¿Encontrado en lista de lexemas?\n",
            "(Nota: sin respuesta significa que no apareció el lexma)\n",
            "\n"
          ]
        }
      ]
    },
    {
      "cell_type": "code",
      "source": [
        "# documento en el que los nobles alemanas defienden la reforma protestante en su país\n",
        "evaluarlexema('Protesta de Espira')"
      ],
      "metadata": {
        "colab": {
          "base_uri": "https://localhost:8080/"
        },
        "id": "AvGeXSQ7VaFm",
        "outputId": "d6c81e2b-b9ec-47ca-a5dc-4c5854823edf"
      },
      "execution_count": null,
      "outputs": [
        {
          "output_type": "stream",
          "name": "stdout",
          "text": [
            "Si no recuerdas el término, pregúntame, o trata de escribir lo que recuerdes:\n",
            "(Nota: El diccionario cuenta con 70 términos. Trabajamos para que crezca)\n",
            "→ documento en el que los nobles alemanas defienden la reforma protestante en su país\n",
            "\n",
            "¿Encontrado en lista de lexemas?\n",
            "(Nota: sin respuesta significa que no apareció el lexma)\n",
            "\n"
          ]
        }
      ]
    },
    {
      "cell_type": "code",
      "source": [
        "# cómo se llama la iglesia de los menonitas\n",
        "evaluarlexema('Anabaptista, iglesia')"
      ],
      "metadata": {
        "colab": {
          "base_uri": "https://localhost:8080/"
        },
        "id": "8VBnVEscXzHe",
        "outputId": "9f8c229e-59fc-433a-b887-a2facd204b88"
      },
      "execution_count": null,
      "outputs": [
        {
          "output_type": "stream",
          "name": "stdout",
          "text": [
            "Si no recuerdas el término, pregúntame, o trata de escribir lo que recuerdes:\n",
            "(Nota: El diccionario cuenta con 70 términos. Trabajamos para que crezca)\n",
            "→ cómo se llama la iglesia de los menonitas\n",
            "\n",
            "¿Encontrado en lista de lexemas?\n",
            "(Nota: sin respuesta significa que no apareció el lexma)\n",
            "\n"
          ]
        }
      ]
    },
    {
      "cell_type": "code",
      "source": [
        "# cuáles son los documentos más importantes de la iglesia católica\n",
        "evaluarlexema('Bula.')"
      ],
      "metadata": {
        "colab": {
          "base_uri": "https://localhost:8080/"
        },
        "id": "Y_qxOY3JX4oH",
        "outputId": "a8100423-5a2e-475e-8123-b7ae78217284"
      },
      "execution_count": null,
      "outputs": [
        {
          "output_type": "stream",
          "name": "stdout",
          "text": [
            "Si no recuerdas el término, pregúntame, o trata de escribir lo que recuerdes:\n",
            "(Nota: El diccionario cuenta con 70 términos. Trabajamos para que crezca)\n",
            "→ cuáles son los documentos más importantes de la iglesia católica\n",
            "\n",
            "¿Encontrado en lista de lexemas?\n",
            "(Nota: sin respuesta significa que no apareció el lexma)\n",
            "\n"
          ]
        }
      ]
    },
    {
      "cell_type": "markdown",
      "source": [
        "# Conclusiones"
      ],
      "metadata": {
        "id": "AMYBWYdAVHje"
      }
    },
    {
      "cell_type": "markdown",
      "source": [
        "## Primera evaluación del modelo"
      ],
      "metadata": {
        "id": "BG9WtRacYI8g"
      }
    },
    {
      "cell_type": "markdown",
      "source": [
        "|**Búsquedas exitosas:**|**Búsquedas fallidas**|\n",
        "|---|---|\n",
        "**Documento que quemó Martín Lutero** | **Tipo de monje que era martín Lutero**\n",
        "*- \"Exsurge Domine\"* |*- Se esperaba \"Orden de San Agustín\"*\n",
        "**Batallas entre católicos y protestantes**\n",
        "*- \"Guerra de los ochenta años\". No mostró \"Guerra de Esmalcalda\"*\n",
        "**¿Dónde se enfrentó Lutero a Carlos quinto?**\n",
        "*- \"Dieta de Worms\"*\n",
        "**Escrito de martín lutero a los principales alemanes**\n",
        "*- \"A la nobleza cristiana de la nación alemana\"*\n",
        "**Precursores de la reforma (parcial)**\n",
        "*- \"Husita\", \"Remonstrante\", \"Gomarista\". Faltó \"Valdense\"*\n",
        "**Documento donde se excomulga a Lutero**\n",
        "*- \"Decet Romanum Pontificem\"*\n",
        "**Escrito más famoso de Martín Lutero**\n",
        "*- \"95 tesis\"*\n",
        "**- Cómo se llama cuando el pan y el vino se hacen el cuerpo de Cristo**\n",
        "*- \"Eucaristía. Transubstanciación\"*"
      ],
      "metadata": {
        "id": "FUkxNihoY8Oi"
      }
    },
    {
      "cell_type": "markdown",
      "source": [
        "## Segunda evaluación del modelo"
      ],
      "metadata": {
        "id": "nIoEewvhYlHz"
      }
    },
    {
      "cell_type": "markdown",
      "source": [
        "Test|Pregunta|Lexema|¿Acertó?|¿Lexema acertó?\n",
        ":---|:---|:---|:---|:---\n",
        "t1|pastor de la iglesia valdense|Barba.|No|-|\n",
        "t2|himno de la reforma protestante|Castillo fuerte es nuestro Dios.|Sí|-|\n",
        "t3|documento que lutero escribió para los curas y sacerdotes católicos|Cautividad babilónica de la Iglesia, La|Sí|-|\n",
        "t4|Principales postulados de la Reforma protestante|Cinco Solas.|No|-|\n",
        "t5|cómo se llama cuando el pecado afecta totalmente al hombre|Cinco puntos calvinistas. 1. Totalidad depravada.|Sí|-|\n",
        "t6|Quiénes son los que solo creen en la Biblia y nada más|Cinco solas. Sola Scriptura.|Sí|-|\n",
        "t7|cómo se llama el concilio donde hablaron de Lutero|Concilio. Concilio de Trento.|No|-|\n",
        "t8|cuándo excomulgaron a Lutero|Decet romanum pontificem.|Sí|-|\n",
        "t9|que sólo recordamos a Cristo y no que él está presente|Eucaristía. Anamnesis.|No|-|\n",
        "t10|qué le escribió Martín Lutero al papa?|De la libertad del cristiano.|Sí|-|\n",
        "t11|cómo se dice cuando Jesús se convierte en pan y vino|Eucaristía. Transubstanciación.|Sí|-|\n",
        "t12|calvinistas de los países bajos|Gomarista.|Sí|-|\n",
        "t13|Guerra que perdieron los protestantes|Guerra de Esmalcalda.|Sí||\n",
        "t14|cómo se llama el grupo de protestantes que muchos fueron asesinados|Hugonote, grupo.|No|Sí|\n",
        "t15| quiénes son los seguidores de Wyclif|Lolarda, grupo.|No|-|\n",
        "t16|cómo se llama el tratado que puso fin a la guerra de católicos y protestantes|Paz de Augsburgo.|No|-|\n",
        "t17|documento en el que los nobles alemanas defienden la reforma protestante en su país|Protesta de Espira|No|-|\n",
        "t18|cómo se llama la iglesia de los menonitas|Anabaptista, iglesia|No|-|\n",
        "t19|cuáles son los documentos más importantes de la iglesia católica|Bula.|No|-|\n",
        "t20|cuál es la enseñanza de Calvino que dice que la salvación no se pierde|Cinco puntos calvinistas. 5. Perseverancia de los Santos.|Sí|-|"
      ],
      "metadata": {
        "id": "SLRGzFxRYmPT"
      }
    }
  ]
}